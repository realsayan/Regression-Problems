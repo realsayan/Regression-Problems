{
  "nbformat": 4,
  "nbformat_minor": 0,
  "metadata": {
    "colab": {
      "name": "House Prices.ipynb",
      "provenance": [],
      "collapsed_sections": []
    },
    "kernelspec": {
      "name": "python3",
      "display_name": "Python 3"
    },
    "language_info": {
      "name": "python"
    }
  },
  "cells": [
    {
      "cell_type": "code",
      "metadata": {
        "id": "6XvoBgeqREqt"
      },
      "source": [
        "# Importing various packages\n",
        "import numpy as np\n",
        "import pandas as pd\n",
        "\n",
        "from sklearn.model_selection import GridSearchCV\n",
        "from sklearn.model_selection import KFold, cross_val_score\n",
        "from sklearn.metrics import mean_squared_error, r2_score\n",
        "\n",
        "from sklearn.linear_model import LinearRegression, Lasso, Ridge, RidgeCV\n",
        "from sklearn.tree import DecisionTreeRegressor\n",
        "from sklearn.ensemble import RandomForestRegressor, GradientBoostingRegressor\n",
        "from xgboost import XGBRegressor\n",
        "from sklearn.neighbors import KNeighborsRegressor\n",
        "from sklearn.svm import SVR\n",
        "from mlxtend.regressor import StackingCVRegressor"
      ],
      "execution_count": 318,
      "outputs": []
    },
    {
      "cell_type": "code",
      "metadata": {
        "id": "HDwDBYZFjgiH"
      },
      "source": [
        "import matplotlib.pyplot as plt\n",
        "%matplotlib inline\n",
        "\n",
        "import seaborn as sns\n",
        "sns.set(style='whitegrid', font_scale=1.3, color_codes=True)"
      ],
      "execution_count": 319,
      "outputs": []
    },
    {
      "cell_type": "markdown",
      "metadata": {
        "id": "lbwngdzUecV7"
      },
      "source": [
        "Define common user defined functions to be used"
      ]
    },
    {
      "cell_type": "code",
      "metadata": {
        "id": "KwCjHZOTnK2g"
      },
      "source": [
        "def display_box_plot(in_df):\n",
        "    import seaborn as sns\n",
        "    sns.boxplot(data=in_df, orient=\"h\", palette=\"Set2\")\n",
        "    return None "
      ],
      "execution_count": 320,
      "outputs": []
    },
    {
      "cell_type": "code",
      "metadata": {
        "id": "38n5NjubpEfC"
      },
      "source": [
        "def remove_extreme_outliers(in_df):\n",
        "    import pandas as pd\n",
        "    # Calculate Q1 value using quantile(0.05)\n",
        "    Q1 = in_df.quantile(q=0.05)\n",
        "    # Calculate Q3 value using quantile value (0.95)\n",
        "    Q3 = in_df.quantile(q=0.95)\n",
        "    # Calculate Inter Quartile Range\n",
        "    IQR = Q3 - Q1\n",
        "    #print(IQR)\n",
        "    #print(Q1 - IQR)\n",
        "    #print(Q3 + IQR)\n",
        "    #print(in_df[(in_df < (Q1 - 3*IQR)).any(axis=1)])\n",
        "    #print(in_df[(in_df > (Q3 + 3*IQR)).any(axis=1)])\n",
        "    #print(in_df[((in_df < (Q1 - 3*IQR))|(in_df > (Q3 + 3*IQR))).any(axis=1)])\n",
        "    out_df = in_df[~((in_df < (Q1 - 3*IQR))|(in_df > (Q3 + 3*IQR))).any(axis=1)]\n",
        "    return out_df"
      ],
      "execution_count": 321,
      "outputs": []
    },
    {
      "cell_type": "code",
      "metadata": {
        "id": "lU37pLVBqVPW"
      },
      "source": [
        "def apply_standard_scalar(X_df):\n",
        "    from sklearn.preprocessing import StandardScaler\n",
        "    X_df = pd.DataFrame(StandardScaler().fit_transform(X_df), columns=X_df.columns)\n",
        "    return X_df"
      ],
      "execution_count": 322,
      "outputs": []
    },
    {
      "cell_type": "code",
      "metadata": {
        "id": "4yaT2ogSJMt3"
      },
      "source": [
        "# Setup cross validation folds\n",
        "kf = KFold(n_splits=12, random_state=42, shuffle=True)\n",
        "\n",
        "# Initialize dictionary to store error metrics for different models\n",
        "scores = {}"
      ],
      "execution_count": 323,
      "outputs": []
    },
    {
      "cell_type": "code",
      "metadata": {
        "id": "g8xMyOeTJNzu"
      },
      "source": [
        "# Define error metrics\n",
        "def rmsle(y, y_pred):\n",
        "    return np.sqrt(mean_squared_error(y, y_pred))\n",
        "\n",
        "def cv_rmse(model, X):\n",
        "    rmse = np.sqrt(-cross_val_score(model, X, y, scoring=\"neg_mean_squared_error\", cv=kf))\n",
        "    return (rmse)"
      ],
      "execution_count": 324,
      "outputs": []
    },
    {
      "cell_type": "markdown",
      "metadata": {
        "id": "09weSziIBvj3"
      },
      "source": [
        "__Points to Consider__ </br>\n",
        "There should be a metadata datastructure (written to a file for persistance), covering the permitted range or set of values for each feature column. </br>\n",
        "However, since we do not have a lot of train data, the data given for prediction has a size of the same order and there are quite a few columns for which MAR (Missing value may be imputed based on the value present in some other column) situation is present, hence we do not create generalized methods for missing value imputation at this initial point in the life cycle. </br>\n",
        "During training phase, we do the train and test split only after the basic missing value imputation because of the same reasons as the above point. </br>\n",
        "We create methods and include them to a pre-processing pipeline for steps like column transformation, feature engineering, encoding and scaling. </br>\n",
        "Once the metadata is in place, for any new data that comes in for prediction, we will be removing all entries with column values out of range or set of known values and then sending it to our model for prediction. </br>\n",
        "On similar lines, if some known value is missing, we will create a dummy (empty) column for that before sending the data to our model. </br>\n",
        "Future scope is creating a dashboard to track all these changes coming in for new data (on which prediction is to be made) over a period of time. This will help us take an informed decision on when the model has to be re-trained and what data."
      ]
    },
    {
      "cell_type": "markdown",
      "metadata": {
        "id": "MId6Vs41uwNN"
      },
      "source": [
        "____\n",
        "__EDA, Pre Processing & Training the Model__\n",
        "--\n",
        "____"
      ]
    },
    {
      "cell_type": "code",
      "metadata": {
        "colab": {
          "base_uri": "https://localhost:8080/",
          "height": 247
        },
        "id": "wtlYyCsHRJgj",
        "outputId": "ce2f4b8c-5927-4373-ca44-68bf05f6b808"
      },
      "source": [
        "train_df = pd.read_csv('https://raw.githubusercontent.com/realsayan/Simple-Datasets/master/HousePricesTrain.csv')\n",
        "train_df.head()"
      ],
      "execution_count": 325,
      "outputs": [
        {
          "output_type": "execute_result",
          "data": {
            "text/html": [
              "<div>\n",
              "<style scoped>\n",
              "    .dataframe tbody tr th:only-of-type {\n",
              "        vertical-align: middle;\n",
              "    }\n",
              "\n",
              "    .dataframe tbody tr th {\n",
              "        vertical-align: top;\n",
              "    }\n",
              "\n",
              "    .dataframe thead th {\n",
              "        text-align: right;\n",
              "    }\n",
              "</style>\n",
              "<table border=\"1\" class=\"dataframe\">\n",
              "  <thead>\n",
              "    <tr style=\"text-align: right;\">\n",
              "      <th></th>\n",
              "      <th>Id</th>\n",
              "      <th>MSSubClass</th>\n",
              "      <th>MSZoning</th>\n",
              "      <th>LotFrontage</th>\n",
              "      <th>LotArea</th>\n",
              "      <th>Street</th>\n",
              "      <th>Alley</th>\n",
              "      <th>LotShape</th>\n",
              "      <th>LandContour</th>\n",
              "      <th>Utilities</th>\n",
              "      <th>LotConfig</th>\n",
              "      <th>LandSlope</th>\n",
              "      <th>Neighborhood</th>\n",
              "      <th>Condition1</th>\n",
              "      <th>Condition2</th>\n",
              "      <th>BldgType</th>\n",
              "      <th>HouseStyle</th>\n",
              "      <th>OverallQual</th>\n",
              "      <th>OverallCond</th>\n",
              "      <th>YearBuilt</th>\n",
              "      <th>YearRemodAdd</th>\n",
              "      <th>RoofStyle</th>\n",
              "      <th>RoofMatl</th>\n",
              "      <th>Exterior1st</th>\n",
              "      <th>Exterior2nd</th>\n",
              "      <th>MasVnrType</th>\n",
              "      <th>MasVnrArea</th>\n",
              "      <th>ExterQual</th>\n",
              "      <th>ExterCond</th>\n",
              "      <th>Foundation</th>\n",
              "      <th>BsmtQual</th>\n",
              "      <th>BsmtCond</th>\n",
              "      <th>BsmtExposure</th>\n",
              "      <th>BsmtFinType1</th>\n",
              "      <th>BsmtFinSF1</th>\n",
              "      <th>BsmtFinType2</th>\n",
              "      <th>BsmtFinSF2</th>\n",
              "      <th>BsmtUnfSF</th>\n",
              "      <th>TotalBsmtSF</th>\n",
              "      <th>Heating</th>\n",
              "      <th>...</th>\n",
              "      <th>CentralAir</th>\n",
              "      <th>Electrical</th>\n",
              "      <th>1stFlrSF</th>\n",
              "      <th>2ndFlrSF</th>\n",
              "      <th>LowQualFinSF</th>\n",
              "      <th>GrLivArea</th>\n",
              "      <th>BsmtFullBath</th>\n",
              "      <th>BsmtHalfBath</th>\n",
              "      <th>FullBath</th>\n",
              "      <th>HalfBath</th>\n",
              "      <th>BedroomAbvGr</th>\n",
              "      <th>KitchenAbvGr</th>\n",
              "      <th>KitchenQual</th>\n",
              "      <th>TotRmsAbvGrd</th>\n",
              "      <th>Functional</th>\n",
              "      <th>Fireplaces</th>\n",
              "      <th>FireplaceQu</th>\n",
              "      <th>GarageType</th>\n",
              "      <th>GarageYrBlt</th>\n",
              "      <th>GarageFinish</th>\n",
              "      <th>GarageCars</th>\n",
              "      <th>GarageArea</th>\n",
              "      <th>GarageQual</th>\n",
              "      <th>GarageCond</th>\n",
              "      <th>PavedDrive</th>\n",
              "      <th>WoodDeckSF</th>\n",
              "      <th>OpenPorchSF</th>\n",
              "      <th>EnclosedPorch</th>\n",
              "      <th>3SsnPorch</th>\n",
              "      <th>ScreenPorch</th>\n",
              "      <th>PoolArea</th>\n",
              "      <th>PoolQC</th>\n",
              "      <th>Fence</th>\n",
              "      <th>MiscFeature</th>\n",
              "      <th>MiscVal</th>\n",
              "      <th>MoSold</th>\n",
              "      <th>YrSold</th>\n",
              "      <th>SaleType</th>\n",
              "      <th>SaleCondition</th>\n",
              "      <th>SalePrice</th>\n",
              "    </tr>\n",
              "  </thead>\n",
              "  <tbody>\n",
              "    <tr>\n",
              "      <th>0</th>\n",
              "      <td>1</td>\n",
              "      <td>60</td>\n",
              "      <td>RL</td>\n",
              "      <td>65.0</td>\n",
              "      <td>8450</td>\n",
              "      <td>Pave</td>\n",
              "      <td>NaN</td>\n",
              "      <td>Reg</td>\n",
              "      <td>Lvl</td>\n",
              "      <td>AllPub</td>\n",
              "      <td>Inside</td>\n",
              "      <td>Gtl</td>\n",
              "      <td>CollgCr</td>\n",
              "      <td>Norm</td>\n",
              "      <td>Norm</td>\n",
              "      <td>1Fam</td>\n",
              "      <td>2Story</td>\n",
              "      <td>7</td>\n",
              "      <td>5</td>\n",
              "      <td>2003</td>\n",
              "      <td>2003</td>\n",
              "      <td>Gable</td>\n",
              "      <td>CompShg</td>\n",
              "      <td>VinylSd</td>\n",
              "      <td>VinylSd</td>\n",
              "      <td>BrkFace</td>\n",
              "      <td>196.0</td>\n",
              "      <td>Gd</td>\n",
              "      <td>TA</td>\n",
              "      <td>PConc</td>\n",
              "      <td>Gd</td>\n",
              "      <td>TA</td>\n",
              "      <td>No</td>\n",
              "      <td>GLQ</td>\n",
              "      <td>706</td>\n",
              "      <td>Unf</td>\n",
              "      <td>0</td>\n",
              "      <td>150</td>\n",
              "      <td>856</td>\n",
              "      <td>GasA</td>\n",
              "      <td>...</td>\n",
              "      <td>Y</td>\n",
              "      <td>SBrkr</td>\n",
              "      <td>856</td>\n",
              "      <td>854</td>\n",
              "      <td>0</td>\n",
              "      <td>1710</td>\n",
              "      <td>1</td>\n",
              "      <td>0</td>\n",
              "      <td>2</td>\n",
              "      <td>1</td>\n",
              "      <td>3</td>\n",
              "      <td>1</td>\n",
              "      <td>Gd</td>\n",
              "      <td>8</td>\n",
              "      <td>Typ</td>\n",
              "      <td>0</td>\n",
              "      <td>NaN</td>\n",
              "      <td>Attchd</td>\n",
              "      <td>2003.0</td>\n",
              "      <td>RFn</td>\n",
              "      <td>2</td>\n",
              "      <td>548</td>\n",
              "      <td>TA</td>\n",
              "      <td>TA</td>\n",
              "      <td>Y</td>\n",
              "      <td>0</td>\n",
              "      <td>61</td>\n",
              "      <td>0</td>\n",
              "      <td>0</td>\n",
              "      <td>0</td>\n",
              "      <td>0</td>\n",
              "      <td>NaN</td>\n",
              "      <td>NaN</td>\n",
              "      <td>NaN</td>\n",
              "      <td>0</td>\n",
              "      <td>2</td>\n",
              "      <td>2008</td>\n",
              "      <td>WD</td>\n",
              "      <td>Normal</td>\n",
              "      <td>208500</td>\n",
              "    </tr>\n",
              "    <tr>\n",
              "      <th>1</th>\n",
              "      <td>2</td>\n",
              "      <td>20</td>\n",
              "      <td>RL</td>\n",
              "      <td>80.0</td>\n",
              "      <td>9600</td>\n",
              "      <td>Pave</td>\n",
              "      <td>NaN</td>\n",
              "      <td>Reg</td>\n",
              "      <td>Lvl</td>\n",
              "      <td>AllPub</td>\n",
              "      <td>FR2</td>\n",
              "      <td>Gtl</td>\n",
              "      <td>Veenker</td>\n",
              "      <td>Feedr</td>\n",
              "      <td>Norm</td>\n",
              "      <td>1Fam</td>\n",
              "      <td>1Story</td>\n",
              "      <td>6</td>\n",
              "      <td>8</td>\n",
              "      <td>1976</td>\n",
              "      <td>1976</td>\n",
              "      <td>Gable</td>\n",
              "      <td>CompShg</td>\n",
              "      <td>MetalSd</td>\n",
              "      <td>MetalSd</td>\n",
              "      <td>None</td>\n",
              "      <td>0.0</td>\n",
              "      <td>TA</td>\n",
              "      <td>TA</td>\n",
              "      <td>CBlock</td>\n",
              "      <td>Gd</td>\n",
              "      <td>TA</td>\n",
              "      <td>Gd</td>\n",
              "      <td>ALQ</td>\n",
              "      <td>978</td>\n",
              "      <td>Unf</td>\n",
              "      <td>0</td>\n",
              "      <td>284</td>\n",
              "      <td>1262</td>\n",
              "      <td>GasA</td>\n",
              "      <td>...</td>\n",
              "      <td>Y</td>\n",
              "      <td>SBrkr</td>\n",
              "      <td>1262</td>\n",
              "      <td>0</td>\n",
              "      <td>0</td>\n",
              "      <td>1262</td>\n",
              "      <td>0</td>\n",
              "      <td>1</td>\n",
              "      <td>2</td>\n",
              "      <td>0</td>\n",
              "      <td>3</td>\n",
              "      <td>1</td>\n",
              "      <td>TA</td>\n",
              "      <td>6</td>\n",
              "      <td>Typ</td>\n",
              "      <td>1</td>\n",
              "      <td>TA</td>\n",
              "      <td>Attchd</td>\n",
              "      <td>1976.0</td>\n",
              "      <td>RFn</td>\n",
              "      <td>2</td>\n",
              "      <td>460</td>\n",
              "      <td>TA</td>\n",
              "      <td>TA</td>\n",
              "      <td>Y</td>\n",
              "      <td>298</td>\n",
              "      <td>0</td>\n",
              "      <td>0</td>\n",
              "      <td>0</td>\n",
              "      <td>0</td>\n",
              "      <td>0</td>\n",
              "      <td>NaN</td>\n",
              "      <td>NaN</td>\n",
              "      <td>NaN</td>\n",
              "      <td>0</td>\n",
              "      <td>5</td>\n",
              "      <td>2007</td>\n",
              "      <td>WD</td>\n",
              "      <td>Normal</td>\n",
              "      <td>181500</td>\n",
              "    </tr>\n",
              "    <tr>\n",
              "      <th>2</th>\n",
              "      <td>3</td>\n",
              "      <td>60</td>\n",
              "      <td>RL</td>\n",
              "      <td>68.0</td>\n",
              "      <td>11250</td>\n",
              "      <td>Pave</td>\n",
              "      <td>NaN</td>\n",
              "      <td>IR1</td>\n",
              "      <td>Lvl</td>\n",
              "      <td>AllPub</td>\n",
              "      <td>Inside</td>\n",
              "      <td>Gtl</td>\n",
              "      <td>CollgCr</td>\n",
              "      <td>Norm</td>\n",
              "      <td>Norm</td>\n",
              "      <td>1Fam</td>\n",
              "      <td>2Story</td>\n",
              "      <td>7</td>\n",
              "      <td>5</td>\n",
              "      <td>2001</td>\n",
              "      <td>2002</td>\n",
              "      <td>Gable</td>\n",
              "      <td>CompShg</td>\n",
              "      <td>VinylSd</td>\n",
              "      <td>VinylSd</td>\n",
              "      <td>BrkFace</td>\n",
              "      <td>162.0</td>\n",
              "      <td>Gd</td>\n",
              "      <td>TA</td>\n",
              "      <td>PConc</td>\n",
              "      <td>Gd</td>\n",
              "      <td>TA</td>\n",
              "      <td>Mn</td>\n",
              "      <td>GLQ</td>\n",
              "      <td>486</td>\n",
              "      <td>Unf</td>\n",
              "      <td>0</td>\n",
              "      <td>434</td>\n",
              "      <td>920</td>\n",
              "      <td>GasA</td>\n",
              "      <td>...</td>\n",
              "      <td>Y</td>\n",
              "      <td>SBrkr</td>\n",
              "      <td>920</td>\n",
              "      <td>866</td>\n",
              "      <td>0</td>\n",
              "      <td>1786</td>\n",
              "      <td>1</td>\n",
              "      <td>0</td>\n",
              "      <td>2</td>\n",
              "      <td>1</td>\n",
              "      <td>3</td>\n",
              "      <td>1</td>\n",
              "      <td>Gd</td>\n",
              "      <td>6</td>\n",
              "      <td>Typ</td>\n",
              "      <td>1</td>\n",
              "      <td>TA</td>\n",
              "      <td>Attchd</td>\n",
              "      <td>2001.0</td>\n",
              "      <td>RFn</td>\n",
              "      <td>2</td>\n",
              "      <td>608</td>\n",
              "      <td>TA</td>\n",
              "      <td>TA</td>\n",
              "      <td>Y</td>\n",
              "      <td>0</td>\n",
              "      <td>42</td>\n",
              "      <td>0</td>\n",
              "      <td>0</td>\n",
              "      <td>0</td>\n",
              "      <td>0</td>\n",
              "      <td>NaN</td>\n",
              "      <td>NaN</td>\n",
              "      <td>NaN</td>\n",
              "      <td>0</td>\n",
              "      <td>9</td>\n",
              "      <td>2008</td>\n",
              "      <td>WD</td>\n",
              "      <td>Normal</td>\n",
              "      <td>223500</td>\n",
              "    </tr>\n",
              "    <tr>\n",
              "      <th>3</th>\n",
              "      <td>4</td>\n",
              "      <td>70</td>\n",
              "      <td>RL</td>\n",
              "      <td>60.0</td>\n",
              "      <td>9550</td>\n",
              "      <td>Pave</td>\n",
              "      <td>NaN</td>\n",
              "      <td>IR1</td>\n",
              "      <td>Lvl</td>\n",
              "      <td>AllPub</td>\n",
              "      <td>Corner</td>\n",
              "      <td>Gtl</td>\n",
              "      <td>Crawfor</td>\n",
              "      <td>Norm</td>\n",
              "      <td>Norm</td>\n",
              "      <td>1Fam</td>\n",
              "      <td>2Story</td>\n",
              "      <td>7</td>\n",
              "      <td>5</td>\n",
              "      <td>1915</td>\n",
              "      <td>1970</td>\n",
              "      <td>Gable</td>\n",
              "      <td>CompShg</td>\n",
              "      <td>Wd Sdng</td>\n",
              "      <td>Wd Shng</td>\n",
              "      <td>None</td>\n",
              "      <td>0.0</td>\n",
              "      <td>TA</td>\n",
              "      <td>TA</td>\n",
              "      <td>BrkTil</td>\n",
              "      <td>TA</td>\n",
              "      <td>Gd</td>\n",
              "      <td>No</td>\n",
              "      <td>ALQ</td>\n",
              "      <td>216</td>\n",
              "      <td>Unf</td>\n",
              "      <td>0</td>\n",
              "      <td>540</td>\n",
              "      <td>756</td>\n",
              "      <td>GasA</td>\n",
              "      <td>...</td>\n",
              "      <td>Y</td>\n",
              "      <td>SBrkr</td>\n",
              "      <td>961</td>\n",
              "      <td>756</td>\n",
              "      <td>0</td>\n",
              "      <td>1717</td>\n",
              "      <td>1</td>\n",
              "      <td>0</td>\n",
              "      <td>1</td>\n",
              "      <td>0</td>\n",
              "      <td>3</td>\n",
              "      <td>1</td>\n",
              "      <td>Gd</td>\n",
              "      <td>7</td>\n",
              "      <td>Typ</td>\n",
              "      <td>1</td>\n",
              "      <td>Gd</td>\n",
              "      <td>Detchd</td>\n",
              "      <td>1998.0</td>\n",
              "      <td>Unf</td>\n",
              "      <td>3</td>\n",
              "      <td>642</td>\n",
              "      <td>TA</td>\n",
              "      <td>TA</td>\n",
              "      <td>Y</td>\n",
              "      <td>0</td>\n",
              "      <td>35</td>\n",
              "      <td>272</td>\n",
              "      <td>0</td>\n",
              "      <td>0</td>\n",
              "      <td>0</td>\n",
              "      <td>NaN</td>\n",
              "      <td>NaN</td>\n",
              "      <td>NaN</td>\n",
              "      <td>0</td>\n",
              "      <td>2</td>\n",
              "      <td>2006</td>\n",
              "      <td>WD</td>\n",
              "      <td>Abnorml</td>\n",
              "      <td>140000</td>\n",
              "    </tr>\n",
              "    <tr>\n",
              "      <th>4</th>\n",
              "      <td>5</td>\n",
              "      <td>60</td>\n",
              "      <td>RL</td>\n",
              "      <td>84.0</td>\n",
              "      <td>14260</td>\n",
              "      <td>Pave</td>\n",
              "      <td>NaN</td>\n",
              "      <td>IR1</td>\n",
              "      <td>Lvl</td>\n",
              "      <td>AllPub</td>\n",
              "      <td>FR2</td>\n",
              "      <td>Gtl</td>\n",
              "      <td>NoRidge</td>\n",
              "      <td>Norm</td>\n",
              "      <td>Norm</td>\n",
              "      <td>1Fam</td>\n",
              "      <td>2Story</td>\n",
              "      <td>8</td>\n",
              "      <td>5</td>\n",
              "      <td>2000</td>\n",
              "      <td>2000</td>\n",
              "      <td>Gable</td>\n",
              "      <td>CompShg</td>\n",
              "      <td>VinylSd</td>\n",
              "      <td>VinylSd</td>\n",
              "      <td>BrkFace</td>\n",
              "      <td>350.0</td>\n",
              "      <td>Gd</td>\n",
              "      <td>TA</td>\n",
              "      <td>PConc</td>\n",
              "      <td>Gd</td>\n",
              "      <td>TA</td>\n",
              "      <td>Av</td>\n",
              "      <td>GLQ</td>\n",
              "      <td>655</td>\n",
              "      <td>Unf</td>\n",
              "      <td>0</td>\n",
              "      <td>490</td>\n",
              "      <td>1145</td>\n",
              "      <td>GasA</td>\n",
              "      <td>...</td>\n",
              "      <td>Y</td>\n",
              "      <td>SBrkr</td>\n",
              "      <td>1145</td>\n",
              "      <td>1053</td>\n",
              "      <td>0</td>\n",
              "      <td>2198</td>\n",
              "      <td>1</td>\n",
              "      <td>0</td>\n",
              "      <td>2</td>\n",
              "      <td>1</td>\n",
              "      <td>4</td>\n",
              "      <td>1</td>\n",
              "      <td>Gd</td>\n",
              "      <td>9</td>\n",
              "      <td>Typ</td>\n",
              "      <td>1</td>\n",
              "      <td>TA</td>\n",
              "      <td>Attchd</td>\n",
              "      <td>2000.0</td>\n",
              "      <td>RFn</td>\n",
              "      <td>3</td>\n",
              "      <td>836</td>\n",
              "      <td>TA</td>\n",
              "      <td>TA</td>\n",
              "      <td>Y</td>\n",
              "      <td>192</td>\n",
              "      <td>84</td>\n",
              "      <td>0</td>\n",
              "      <td>0</td>\n",
              "      <td>0</td>\n",
              "      <td>0</td>\n",
              "      <td>NaN</td>\n",
              "      <td>NaN</td>\n",
              "      <td>NaN</td>\n",
              "      <td>0</td>\n",
              "      <td>12</td>\n",
              "      <td>2008</td>\n",
              "      <td>WD</td>\n",
              "      <td>Normal</td>\n",
              "      <td>250000</td>\n",
              "    </tr>\n",
              "  </tbody>\n",
              "</table>\n",
              "<p>5 rows × 81 columns</p>\n",
              "</div>"
            ],
            "text/plain": [
              "   Id  MSSubClass MSZoning  ...  SaleType  SaleCondition SalePrice\n",
              "0   1          60       RL  ...        WD         Normal    208500\n",
              "1   2          20       RL  ...        WD         Normal    181500\n",
              "2   3          60       RL  ...        WD         Normal    223500\n",
              "3   4          70       RL  ...        WD        Abnorml    140000\n",
              "4   5          60       RL  ...        WD         Normal    250000\n",
              "\n",
              "[5 rows x 81 columns]"
            ]
          },
          "metadata": {
            "tags": []
          },
          "execution_count": 325
        }
      ]
    },
    {
      "cell_type": "code",
      "metadata": {
        "id": "uN-Ws3ubyYfX"
      },
      "source": [
        "!pip install pandas-profiling --upgrade"
      ],
      "execution_count": null,
      "outputs": []
    },
    {
      "cell_type": "code",
      "metadata": {
        "id": "JcPqXzFYyu0Z"
      },
      "source": [
        "import pandas_profiling \n",
        "from google.colab import files\n",
        "# To output pandas profiling report to an external html file.\n",
        "# Saving the output as profiling_before_preprocessing.html\n",
        "\n",
        "profile = train_df.profile_report(title='Pandas Profiling before Data Preprocessing')\n",
        "profile.to_file(\"/tmp/profiling_before_preprocessing.html\")\n",
        "\n",
        "files.download('/tmp/profiling_before_preprocessing.html')\n",
        "\n",
        "# To output the pandas profiling report on the notebook.\n",
        "\n",
        "# train_df.profile_report(title='Pandas Profiling before Data Preprocessing')"
      ],
      "execution_count": null,
      "outputs": []
    },
    {
      "cell_type": "code",
      "metadata": {
        "id": "0DlTtHMs-wfw"
      },
      "source": [
        "train_df.info()"
      ],
      "execution_count": null,
      "outputs": []
    },
    {
      "cell_type": "code",
      "metadata": {
        "id": "gCcISgbk_Wyo"
      },
      "source": [
        "train_df.MSSubClass.unique()"
      ],
      "execution_count": null,
      "outputs": []
    },
    {
      "cell_type": "code",
      "metadata": {
        "id": "rseu8Lq9Bzyx"
      },
      "source": [
        "train_df.MSZoning.unique()"
      ],
      "execution_count": null,
      "outputs": []
    },
    {
      "cell_type": "markdown",
      "metadata": {
        "id": "D4j_fQ77KSuL"
      },
      "source": [
        "__Missing Value Impuatation for LotFrontage__"
      ]
    },
    {
      "cell_type": "code",
      "metadata": {
        "colab": {
          "base_uri": "https://localhost:8080/",
          "height": 108
        },
        "id": "zCE39vpbDKLX",
        "outputId": "eef0851a-ae5d-417b-c011-596e659c56c3"
      },
      "source": [
        "train_df[train_df['LotFrontage'].notnull()][['LotFrontage','LotArea']].corr()"
      ],
      "execution_count": 326,
      "outputs": [
        {
          "output_type": "execute_result",
          "data": {
            "text/html": [
              "<div>\n",
              "<style scoped>\n",
              "    .dataframe tbody tr th:only-of-type {\n",
              "        vertical-align: middle;\n",
              "    }\n",
              "\n",
              "    .dataframe tbody tr th {\n",
              "        vertical-align: top;\n",
              "    }\n",
              "\n",
              "    .dataframe thead th {\n",
              "        text-align: right;\n",
              "    }\n",
              "</style>\n",
              "<table border=\"1\" class=\"dataframe\">\n",
              "  <thead>\n",
              "    <tr style=\"text-align: right;\">\n",
              "      <th></th>\n",
              "      <th>LotFrontage</th>\n",
              "      <th>LotArea</th>\n",
              "    </tr>\n",
              "  </thead>\n",
              "  <tbody>\n",
              "    <tr>\n",
              "      <th>LotFrontage</th>\n",
              "      <td>1.000000</td>\n",
              "      <td>0.426095</td>\n",
              "    </tr>\n",
              "    <tr>\n",
              "      <th>LotArea</th>\n",
              "      <td>0.426095</td>\n",
              "      <td>1.000000</td>\n",
              "    </tr>\n",
              "  </tbody>\n",
              "</table>\n",
              "</div>"
            ],
            "text/plain": [
              "             LotFrontage   LotArea\n",
              "LotFrontage     1.000000  0.426095\n",
              "LotArea         0.426095  1.000000"
            ]
          },
          "metadata": {
            "tags": []
          },
          "execution_count": 326
        }
      ]
    },
    {
      "cell_type": "markdown",
      "metadata": {
        "id": "edH7c6Skb6H8"
      },
      "source": [
        "Correlation between the columns _LotFrontage_ and _LotArea_ is insignificant."
      ]
    },
    {
      "cell_type": "markdown",
      "metadata": {
        "id": "o04JgFQNLp-7"
      },
      "source": [
        "We will try out the following hypothesis:- </br>\n",
        "- Use the column _Neighborhood_ to derive the missing values. For each type of _Neighborhood_ we take the mean to fill up the _LotFrontage_ column.\n",
        "- Use KNN Imputer to predict the missing values - this is future scope"
      ]
    },
    {
      "cell_type": "code",
      "metadata": {
        "id": "UAfDIlrTMFwy"
      },
      "source": [
        "initial_df = train_df.copy()"
      ],
      "execution_count": 327,
      "outputs": []
    },
    {
      "cell_type": "code",
      "metadata": {
        "colab": {
          "base_uri": "https://localhost:8080/"
        },
        "id": "X2OtBpIibAHR",
        "outputId": "a73c1874-6a4c-4792-c499-c5ed8bbd4e13"
      },
      "source": [
        "mean_df = pd.DataFrame(train_df.groupby('Neighborhood')['LotFrontage'].mean().round()).reset_index()\n",
        "mean_df\n",
        "left_df = pd.DataFrame(initial_df.loc[initial_df['LotFrontage'].isnull(),'Neighborhood']).reset_index()\n",
        "left_df\n",
        "merged_df = pd.merge(left=left_df, right=mean_df, how='left', on='Neighborhood').set_index('index')['LotFrontage']\n",
        "merged_df"
      ],
      "execution_count": 328,
      "outputs": [
        {
          "output_type": "execute_result",
          "data": {
            "text/plain": [
              "index\n",
              "7       81.0\n",
              "12      74.0\n",
              "14      76.0\n",
              "16      76.0\n",
              "24      74.0\n",
              "        ... \n",
              "1429    81.0\n",
              "1431    32.0\n",
              "1441    72.0\n",
              "1443    58.0\n",
              "1446    70.0\n",
              "Name: LotFrontage, Length: 259, dtype: float64"
            ]
          },
          "metadata": {
            "tags": []
          },
          "execution_count": 328
        }
      ]
    },
    {
      "cell_type": "code",
      "metadata": {
        "id": "RxoFYDcUSgYN"
      },
      "source": [
        "initial_df.loc[initial_df['LotFrontage'].isnull(),'LotFrontage'] = merged_df"
      ],
      "execution_count": 329,
      "outputs": []
    },
    {
      "cell_type": "code",
      "metadata": {
        "colab": {
          "base_uri": "https://localhost:8080/"
        },
        "id": "n79N_SheeiDl",
        "outputId": "17977060-1f56-49c4-8bd5-dec57143cf5f"
      },
      "source": [
        "initial_df['LotFrontage'].isnull().sum()"
      ],
      "execution_count": 330,
      "outputs": [
        {
          "output_type": "execute_result",
          "data": {
            "text/plain": [
              "0"
            ]
          },
          "metadata": {
            "tags": []
          },
          "execution_count": 330
        }
      ]
    },
    {
      "cell_type": "markdown",
      "metadata": {
        "id": "vDYOxVINdK0R"
      },
      "source": [
        "__Missing Value Imputation for Alley__"
      ]
    },
    {
      "cell_type": "code",
      "metadata": {
        "colab": {
          "base_uri": "https://localhost:8080/"
        },
        "id": "MEfl234klXaS",
        "outputId": "260bf347-53ad-4df3-d024-819c4aa39ba0"
      },
      "source": [
        "print('Percentage Not Null values in column Alley: ',(initial_df['Alley'].count()/initial_df['Id'].count())*100)"
      ],
      "execution_count": 331,
      "outputs": [
        {
          "output_type": "stream",
          "text": [
            "Percentage Not Null values in column Alley:  6.232876712328768\n"
          ],
          "name": "stdout"
        }
      ]
    },
    {
      "cell_type": "markdown",
      "metadata": {
        "id": "uYF1mvYwl5ee"
      },
      "source": [
        "Column _Alley_ has only 6% of not null values. However, presence of alley is rare. Hence null values actually mean there is no alley for that house. We fill up the null values with the string \"NA\"."
      ]
    },
    {
      "cell_type": "code",
      "metadata": {
        "id": "doZt4B0FpKgD"
      },
      "source": [
        "initial_df.fillna({'Alley':'NA'},inplace=True)"
      ],
      "execution_count": 332,
      "outputs": []
    },
    {
      "cell_type": "code",
      "metadata": {
        "colab": {
          "base_uri": "https://localhost:8080/"
        },
        "id": "H-Yj2UU2quLU",
        "outputId": "19da67bb-9ad5-43f8-9b54-0c22a0b53cff"
      },
      "source": [
        "initial_df['Alley'].value_counts()"
      ],
      "execution_count": 333,
      "outputs": [
        {
          "output_type": "execute_result",
          "data": {
            "text/plain": [
              "NA      1369\n",
              "Grvl      50\n",
              "Pave      41\n",
              "Name: Alley, dtype: int64"
            ]
          },
          "metadata": {
            "tags": []
          },
          "execution_count": 333
        }
      ]
    },
    {
      "cell_type": "markdown",
      "metadata": {
        "id": "dPixS8EFfEy9"
      },
      "source": [
        "__Missing Value Imputation for MasVnrType and MasVnrArea__"
      ]
    },
    {
      "cell_type": "code",
      "metadata": {
        "colab": {
          "base_uri": "https://localhost:8080/"
        },
        "id": "250bRd0LtEJa",
        "outputId": "498c644d-9617-4b0f-8c64-71da0343fc72"
      },
      "source": [
        "initial_df['MasVnrType'].value_counts()"
      ],
      "execution_count": 334,
      "outputs": [
        {
          "output_type": "execute_result",
          "data": {
            "text/plain": [
              "None       864\n",
              "BrkFace    445\n",
              "Stone      128\n",
              "BrkCmn      15\n",
              "Name: MasVnrType, dtype: int64"
            ]
          },
          "metadata": {
            "tags": []
          },
          "execution_count": 334
        }
      ]
    },
    {
      "cell_type": "code",
      "metadata": {
        "colab": {
          "base_uri": "https://localhost:8080/"
        },
        "id": "GYUnICpwtUii",
        "outputId": "260d754e-5fb7-4d7d-f6dc-351019708c78"
      },
      "source": [
        "initial_df['MasVnrArea'].value_counts()"
      ],
      "execution_count": 335,
      "outputs": [
        {
          "output_type": "execute_result",
          "data": {
            "text/plain": [
              "0.0      861\n",
              "72.0       8\n",
              "180.0      8\n",
              "108.0      8\n",
              "120.0      7\n",
              "        ... \n",
              "651.0      1\n",
              "337.0      1\n",
              "415.0      1\n",
              "293.0      1\n",
              "621.0      1\n",
              "Name: MasVnrArea, Length: 327, dtype: int64"
            ]
          },
          "metadata": {
            "tags": []
          },
          "execution_count": 335
        }
      ]
    },
    {
      "cell_type": "code",
      "metadata": {
        "id": "Hpu7s6iMt-QV"
      },
      "source": [
        "initial_df.fillna({'MasVnrType':'None', 'MasVnrArea':0.0},inplace=True)"
      ],
      "execution_count": 336,
      "outputs": []
    },
    {
      "cell_type": "markdown",
      "metadata": {
        "id": "u4rQqqt_uQkY"
      },
      "source": [
        "The small number of records that are Null for columns _MasVnrType_ and _MasVnrArea_ are replaced by the respective mode values. </br>'None' is the most common type with 864 occurances and out of them 861 have area value as 0.0."
      ]
    },
    {
      "cell_type": "markdown",
      "metadata": {
        "id": "7F-hziUcQ_6k"
      },
      "source": [
        "__Missing Value Imputation for Basement related columns__"
      ]
    },
    {
      "cell_type": "code",
      "metadata": {
        "colab": {
          "base_uri": "https://localhost:8080/"
        },
        "id": "HbuHeuDR957X",
        "outputId": "5dc90dc7-422b-4df8-ddaa-4061ba4f862d"
      },
      "source": [
        "initial_df.BsmtQual.value_counts()"
      ],
      "execution_count": 337,
      "outputs": [
        {
          "output_type": "execute_result",
          "data": {
            "text/plain": [
              "TA    649\n",
              "Gd    618\n",
              "Ex    121\n",
              "Fa     35\n",
              "Name: BsmtQual, dtype: int64"
            ]
          },
          "metadata": {
            "tags": []
          },
          "execution_count": 337
        }
      ]
    },
    {
      "cell_type": "code",
      "metadata": {
        "colab": {
          "base_uri": "https://localhost:8080/"
        },
        "id": "9tsDwbHwCjFy",
        "outputId": "0a995d5a-7bc4-44b8-e25a-303147f18e4b"
      },
      "source": [
        "initial_df.BsmtCond.value_counts()"
      ],
      "execution_count": 338,
      "outputs": [
        {
          "output_type": "execute_result",
          "data": {
            "text/plain": [
              "TA    1311\n",
              "Gd      65\n",
              "Fa      45\n",
              "Po       2\n",
              "Name: BsmtCond, dtype: int64"
            ]
          },
          "metadata": {
            "tags": []
          },
          "execution_count": 338
        }
      ]
    },
    {
      "cell_type": "code",
      "metadata": {
        "colab": {
          "base_uri": "https://localhost:8080/"
        },
        "id": "TQ9PPMq1DZsV",
        "outputId": "0a668d15-ed7c-4fa5-9cc2-b2b1edd413f0"
      },
      "source": [
        "initial_df.BsmtExposure.value_counts()"
      ],
      "execution_count": 339,
      "outputs": [
        {
          "output_type": "execute_result",
          "data": {
            "text/plain": [
              "No    953\n",
              "Av    221\n",
              "Gd    134\n",
              "Mn    114\n",
              "Name: BsmtExposure, dtype: int64"
            ]
          },
          "metadata": {
            "tags": []
          },
          "execution_count": 339
        }
      ]
    },
    {
      "cell_type": "code",
      "metadata": {
        "colab": {
          "base_uri": "https://localhost:8080/",
          "height": 78
        },
        "id": "PAu8VgvTdHWg",
        "outputId": "77f2936d-5635-4783-d8c2-e984c2f9346e"
      },
      "source": [
        "initial_df[initial_df.BsmtExposure.isnull() & initial_df.BsmtQual.notnull()][['BsmtQual','BsmtCond','BsmtExposure','BsmtFinType1','BsmtFinSF1','BsmtFinType2','BsmtFinSF2','BsmtUnfSF','TotalBsmtSF']]"
      ],
      "execution_count": 340,
      "outputs": [
        {
          "output_type": "execute_result",
          "data": {
            "text/html": [
              "<div>\n",
              "<style scoped>\n",
              "    .dataframe tbody tr th:only-of-type {\n",
              "        vertical-align: middle;\n",
              "    }\n",
              "\n",
              "    .dataframe tbody tr th {\n",
              "        vertical-align: top;\n",
              "    }\n",
              "\n",
              "    .dataframe thead th {\n",
              "        text-align: right;\n",
              "    }\n",
              "</style>\n",
              "<table border=\"1\" class=\"dataframe\">\n",
              "  <thead>\n",
              "    <tr style=\"text-align: right;\">\n",
              "      <th></th>\n",
              "      <th>BsmtQual</th>\n",
              "      <th>BsmtCond</th>\n",
              "      <th>BsmtExposure</th>\n",
              "      <th>BsmtFinType1</th>\n",
              "      <th>BsmtFinSF1</th>\n",
              "      <th>BsmtFinType2</th>\n",
              "      <th>BsmtFinSF2</th>\n",
              "      <th>BsmtUnfSF</th>\n",
              "      <th>TotalBsmtSF</th>\n",
              "    </tr>\n",
              "  </thead>\n",
              "  <tbody>\n",
              "    <tr>\n",
              "      <th>948</th>\n",
              "      <td>Gd</td>\n",
              "      <td>TA</td>\n",
              "      <td>NaN</td>\n",
              "      <td>Unf</td>\n",
              "      <td>0</td>\n",
              "      <td>Unf</td>\n",
              "      <td>0</td>\n",
              "      <td>936</td>\n",
              "      <td>936</td>\n",
              "    </tr>\n",
              "  </tbody>\n",
              "</table>\n",
              "</div>"
            ],
            "text/plain": [
              "    BsmtQual BsmtCond BsmtExposure  ... BsmtFinSF2  BsmtUnfSF TotalBsmtSF\n",
              "948       Gd       TA          NaN  ...          0        936         936\n",
              "\n",
              "[1 rows x 9 columns]"
            ]
          },
          "metadata": {
            "tags": []
          },
          "execution_count": 340
        }
      ]
    },
    {
      "cell_type": "code",
      "metadata": {
        "colab": {
          "base_uri": "https://localhost:8080/"
        },
        "id": "rA3zNEUhEFhH",
        "outputId": "68a94d15-c640-4459-9f02-c9ef1a73363c"
      },
      "source": [
        "initial_df.BsmtFinType1.value_counts()"
      ],
      "execution_count": 341,
      "outputs": [
        {
          "output_type": "execute_result",
          "data": {
            "text/plain": [
              "Unf    430\n",
              "GLQ    418\n",
              "ALQ    220\n",
              "BLQ    148\n",
              "Rec    133\n",
              "LwQ     74\n",
              "Name: BsmtFinType1, dtype: int64"
            ]
          },
          "metadata": {
            "tags": []
          },
          "execution_count": 341
        }
      ]
    },
    {
      "cell_type": "code",
      "metadata": {
        "colab": {
          "base_uri": "https://localhost:8080/"
        },
        "id": "DZK0__7wEgKv",
        "outputId": "edb0c2e9-ae28-4d2a-9be0-896f2f0ac72f"
      },
      "source": [
        "initial_df[initial_df.BsmtFinType1.isnull()]['BsmtFinSF1'].value_counts()"
      ],
      "execution_count": 342,
      "outputs": [
        {
          "output_type": "execute_result",
          "data": {
            "text/plain": [
              "0    37\n",
              "Name: BsmtFinSF1, dtype: int64"
            ]
          },
          "metadata": {
            "tags": []
          },
          "execution_count": 342
        }
      ]
    },
    {
      "cell_type": "code",
      "metadata": {
        "colab": {
          "base_uri": "https://localhost:8080/"
        },
        "id": "6NYX_KhaFHWh",
        "outputId": "8fc1b7e1-3feb-4fb0-9ad5-a585e3cc2b5e"
      },
      "source": [
        "initial_df[(initial_df.BsmtFinType1.notnull()) & (initial_df.BsmtFinSF1==0)].BsmtFinType1.value_counts()"
      ],
      "execution_count": 343,
      "outputs": [
        {
          "output_type": "execute_result",
          "data": {
            "text/plain": [
              "Unf    430\n",
              "Name: BsmtFinType1, dtype: int64"
            ]
          },
          "metadata": {
            "tags": []
          },
          "execution_count": 343
        }
      ]
    },
    {
      "cell_type": "code",
      "metadata": {
        "colab": {
          "base_uri": "https://localhost:8080/"
        },
        "id": "oGh5_i7SG6ay",
        "outputId": "0bb32828-3cc9-412a-892f-d3f9b75d977f"
      },
      "source": [
        "initial_df.BsmtFinType2.value_counts()"
      ],
      "execution_count": 344,
      "outputs": [
        {
          "output_type": "execute_result",
          "data": {
            "text/plain": [
              "Unf    1256\n",
              "Rec      54\n",
              "LwQ      46\n",
              "BLQ      33\n",
              "ALQ      19\n",
              "GLQ      14\n",
              "Name: BsmtFinType2, dtype: int64"
            ]
          },
          "metadata": {
            "tags": []
          },
          "execution_count": 344
        }
      ]
    },
    {
      "cell_type": "code",
      "metadata": {
        "colab": {
          "base_uri": "https://localhost:8080/",
          "height": 78
        },
        "id": "yI1SSwYEhFOi",
        "outputId": "d7faef90-8ac1-4759-b7d1-4076e48cb90f"
      },
      "source": [
        "initial_df[initial_df.BsmtFinType2.isnull() & initial_df.BsmtQual.notnull()][['BsmtQual','BsmtCond','BsmtExposure','BsmtFinType1','BsmtFinSF1','BsmtFinType2','BsmtFinSF2','BsmtUnfSF','TotalBsmtSF']]"
      ],
      "execution_count": 345,
      "outputs": [
        {
          "output_type": "execute_result",
          "data": {
            "text/html": [
              "<div>\n",
              "<style scoped>\n",
              "    .dataframe tbody tr th:only-of-type {\n",
              "        vertical-align: middle;\n",
              "    }\n",
              "\n",
              "    .dataframe tbody tr th {\n",
              "        vertical-align: top;\n",
              "    }\n",
              "\n",
              "    .dataframe thead th {\n",
              "        text-align: right;\n",
              "    }\n",
              "</style>\n",
              "<table border=\"1\" class=\"dataframe\">\n",
              "  <thead>\n",
              "    <tr style=\"text-align: right;\">\n",
              "      <th></th>\n",
              "      <th>BsmtQual</th>\n",
              "      <th>BsmtCond</th>\n",
              "      <th>BsmtExposure</th>\n",
              "      <th>BsmtFinType1</th>\n",
              "      <th>BsmtFinSF1</th>\n",
              "      <th>BsmtFinType2</th>\n",
              "      <th>BsmtFinSF2</th>\n",
              "      <th>BsmtUnfSF</th>\n",
              "      <th>TotalBsmtSF</th>\n",
              "    </tr>\n",
              "  </thead>\n",
              "  <tbody>\n",
              "    <tr>\n",
              "      <th>332</th>\n",
              "      <td>Gd</td>\n",
              "      <td>TA</td>\n",
              "      <td>No</td>\n",
              "      <td>GLQ</td>\n",
              "      <td>1124</td>\n",
              "      <td>NaN</td>\n",
              "      <td>479</td>\n",
              "      <td>1603</td>\n",
              "      <td>3206</td>\n",
              "    </tr>\n",
              "  </tbody>\n",
              "</table>\n",
              "</div>"
            ],
            "text/plain": [
              "    BsmtQual BsmtCond BsmtExposure  ... BsmtFinSF2  BsmtUnfSF TotalBsmtSF\n",
              "332       Gd       TA           No  ...        479       1603        3206\n",
              "\n",
              "[1 rows x 9 columns]"
            ]
          },
          "metadata": {
            "tags": []
          },
          "execution_count": 345
        }
      ]
    },
    {
      "cell_type": "code",
      "metadata": {
        "colab": {
          "base_uri": "https://localhost:8080/"
        },
        "id": "t7_3X7SNHl2P",
        "outputId": "c89e1245-f2f9-44a4-9715-969ea3175d67"
      },
      "source": [
        "initial_df[initial_df.BsmtFinType2.isnull()]['BsmtFinSF2'].value_counts()"
      ],
      "execution_count": 346,
      "outputs": [
        {
          "output_type": "execute_result",
          "data": {
            "text/plain": [
              "0      37\n",
              "479     1\n",
              "Name: BsmtFinSF2, dtype: int64"
            ]
          },
          "metadata": {
            "tags": []
          },
          "execution_count": 346
        }
      ]
    },
    {
      "cell_type": "code",
      "metadata": {
        "colab": {
          "base_uri": "https://localhost:8080/"
        },
        "id": "BCOj52FwIhdz",
        "outputId": "4cafcf8d-5612-4755-84d0-fb4c0b37b8c3"
      },
      "source": [
        "initial_df[(initial_df.BsmtFinType2.notnull()) & (initial_df.BsmtFinSF2==0)].BsmtFinType2.value_counts()"
      ],
      "execution_count": 347,
      "outputs": [
        {
          "output_type": "execute_result",
          "data": {
            "text/plain": [
              "Unf    1256\n",
              "Name: BsmtFinType2, dtype: int64"
            ]
          },
          "metadata": {
            "tags": []
          },
          "execution_count": 347
        }
      ]
    },
    {
      "cell_type": "code",
      "metadata": {
        "colab": {
          "base_uri": "https://localhost:8080/",
          "height": 622
        },
        "id": "SBf1jx6DKj_U",
        "outputId": "439d7156-6b26-43cb-8111-81fe354fb8f7"
      },
      "source": [
        "initial_df[initial_df.BsmtUnfSF==0][['BsmtFinType1','BsmtFinType2']].drop_duplicates()"
      ],
      "execution_count": 348,
      "outputs": [
        {
          "output_type": "execute_result",
          "data": {
            "text/html": [
              "<div>\n",
              "<style scoped>\n",
              "    .dataframe tbody tr th:only-of-type {\n",
              "        vertical-align: middle;\n",
              "    }\n",
              "\n",
              "    .dataframe tbody tr th {\n",
              "        vertical-align: top;\n",
              "    }\n",
              "\n",
              "    .dataframe thead th {\n",
              "        text-align: right;\n",
              "    }\n",
              "</style>\n",
              "<table border=\"1\" class=\"dataframe\">\n",
              "  <thead>\n",
              "    <tr style=\"text-align: right;\">\n",
              "      <th></th>\n",
              "      <th>BsmtFinType1</th>\n",
              "      <th>BsmtFinType2</th>\n",
              "    </tr>\n",
              "  </thead>\n",
              "  <tbody>\n",
              "    <tr>\n",
              "      <th>17</th>\n",
              "      <td>NaN</td>\n",
              "      <td>NaN</td>\n",
              "    </tr>\n",
              "    <tr>\n",
              "      <th>42</th>\n",
              "      <td>ALQ</td>\n",
              "      <td>LwQ</td>\n",
              "    </tr>\n",
              "    <tr>\n",
              "      <th>52</th>\n",
              "      <td>LwQ</td>\n",
              "      <td>GLQ</td>\n",
              "    </tr>\n",
              "    <tr>\n",
              "      <th>54</th>\n",
              "      <td>ALQ</td>\n",
              "      <td>Unf</td>\n",
              "    </tr>\n",
              "    <tr>\n",
              "      <th>75</th>\n",
              "      <td>GLQ</td>\n",
              "      <td>Unf</td>\n",
              "    </tr>\n",
              "    <tr>\n",
              "      <th>202</th>\n",
              "      <td>LwQ</td>\n",
              "      <td>Unf</td>\n",
              "    </tr>\n",
              "    <tr>\n",
              "      <th>233</th>\n",
              "      <td>LwQ</td>\n",
              "      <td>ALQ</td>\n",
              "    </tr>\n",
              "    <tr>\n",
              "      <th>260</th>\n",
              "      <td>Rec</td>\n",
              "      <td>ALQ</td>\n",
              "    </tr>\n",
              "    <tr>\n",
              "      <th>273</th>\n",
              "      <td>Rec</td>\n",
              "      <td>LwQ</td>\n",
              "    </tr>\n",
              "    <tr>\n",
              "      <th>352</th>\n",
              "      <td>LwQ</td>\n",
              "      <td>Rec</td>\n",
              "    </tr>\n",
              "    <tr>\n",
              "      <th>373</th>\n",
              "      <td>BLQ</td>\n",
              "      <td>LwQ</td>\n",
              "    </tr>\n",
              "    <tr>\n",
              "      <th>411</th>\n",
              "      <td>Rec</td>\n",
              "      <td>Unf</td>\n",
              "    </tr>\n",
              "    <tr>\n",
              "      <th>461</th>\n",
              "      <td>ALQ</td>\n",
              "      <td>BLQ</td>\n",
              "    </tr>\n",
              "    <tr>\n",
              "      <th>462</th>\n",
              "      <td>Rec</td>\n",
              "      <td>BLQ</td>\n",
              "    </tr>\n",
              "    <tr>\n",
              "      <th>470</th>\n",
              "      <td>GLQ</td>\n",
              "      <td>BLQ</td>\n",
              "    </tr>\n",
              "    <tr>\n",
              "      <th>543</th>\n",
              "      <td>GLQ</td>\n",
              "      <td>LwQ</td>\n",
              "    </tr>\n",
              "    <tr>\n",
              "      <th>649</th>\n",
              "      <td>BLQ</td>\n",
              "      <td>GLQ</td>\n",
              "    </tr>\n",
              "    <tr>\n",
              "      <th>863</th>\n",
              "      <td>BLQ</td>\n",
              "      <td>Unf</td>\n",
              "    </tr>\n",
              "    <tr>\n",
              "      <th>1458</th>\n",
              "      <td>GLQ</td>\n",
              "      <td>Rec</td>\n",
              "    </tr>\n",
              "  </tbody>\n",
              "</table>\n",
              "</div>"
            ],
            "text/plain": [
              "     BsmtFinType1 BsmtFinType2\n",
              "17            NaN          NaN\n",
              "42            ALQ          LwQ\n",
              "52            LwQ          GLQ\n",
              "54            ALQ          Unf\n",
              "75            GLQ          Unf\n",
              "202           LwQ          Unf\n",
              "233           LwQ          ALQ\n",
              "260           Rec          ALQ\n",
              "273           Rec          LwQ\n",
              "352           LwQ          Rec\n",
              "373           BLQ          LwQ\n",
              "411           Rec          Unf\n",
              "461           ALQ          BLQ\n",
              "462           Rec          BLQ\n",
              "470           GLQ          BLQ\n",
              "543           GLQ          LwQ\n",
              "649           BLQ          GLQ\n",
              "863           BLQ          Unf\n",
              "1458          GLQ          Rec"
            ]
          },
          "metadata": {
            "tags": []
          },
          "execution_count": 348
        }
      ]
    },
    {
      "cell_type": "code",
      "metadata": {
        "colab": {
          "base_uri": "https://localhost:8080/"
        },
        "id": "ZgW1TSg0NVBU",
        "outputId": "82e97bc0-23b6-4597-8579-31396955c89c"
      },
      "source": [
        "initial_df[(initial_df.TotalBsmtSF)!=(initial_df.BsmtFinSF1 + initial_df.BsmtFinSF2 + initial_df.BsmtUnfSF)]['Id'].count()"
      ],
      "execution_count": 349,
      "outputs": [
        {
          "output_type": "execute_result",
          "data": {
            "text/plain": [
              "0"
            ]
          },
          "metadata": {
            "tags": []
          },
          "execution_count": 349
        }
      ]
    },
    {
      "cell_type": "markdown",
      "metadata": {
        "id": "e9IY8IzZbbaE"
      },
      "source": [
        "All the Basement related textual columns have at least 37 null values. This indicates that no basement information was available for them. Even the Basement related metrics like _BsmtFinSF1_ and _BsmtFinSF2_ have 0 values for these entries. We conclude that there are no Basement information available for them.</br>\n",
        "- Columns _BsmtQual_, _BsmtCond_, _BsmtExposure_, _BsmtFinType1_ and _BsmtFinType2_ are imputed by the value 'NA' for the 37 rows.\n",
        "- One extra null entry in column _BsmtExposure_ is replaced by 'No' (No Exposure) because we find from other column values that Basement is available.\n",
        "- One extra null entry in column _BsmtFinType2_ is replaced by 'Rec' (Average Rec Room) - the mode value of the column excluding 'Unf'. Since for this row, we have valid value in the column _BsmtFinSF2_ we can not state that the corresponding type column, which is _BsmtFinType2_, is Unfinished ('Unf')\n",
        "- We find that for the complete dataset the value in column _TotalBsmtSF_ is always equal to the sum of the value in columns _BsmtFinSF1_, _BsmtFinSF2 and _BsmtUnfSF_. Hence the information contained in the column is redundant and we should drop the column."
      ]
    },
    {
      "cell_type": "code",
      "metadata": {
        "id": "hu9Tir6BkLdF"
      },
      "source": [
        "initial_df.loc[initial_df.BsmtQual.isnull(),['BsmtQual','BsmtCond','BsmtExposure','BsmtFinType1','BsmtFinType2']] = 'NA'"
      ],
      "execution_count": 350,
      "outputs": []
    },
    {
      "cell_type": "code",
      "metadata": {
        "id": "RJ8Nnh9sl8wL",
        "colab": {
          "base_uri": "https://localhost:8080/",
          "height": 78
        },
        "outputId": "d864f21d-3f16-48bb-b70d-8996eb7921ac"
      },
      "source": [
        "initial_df[initial_df.BsmtQual=='NA'][['BsmtQual','BsmtCond','BsmtExposure','BsmtFinType1','BsmtFinType2']].drop_duplicates()"
      ],
      "execution_count": 351,
      "outputs": [
        {
          "output_type": "execute_result",
          "data": {
            "text/html": [
              "<div>\n",
              "<style scoped>\n",
              "    .dataframe tbody tr th:only-of-type {\n",
              "        vertical-align: middle;\n",
              "    }\n",
              "\n",
              "    .dataframe tbody tr th {\n",
              "        vertical-align: top;\n",
              "    }\n",
              "\n",
              "    .dataframe thead th {\n",
              "        text-align: right;\n",
              "    }\n",
              "</style>\n",
              "<table border=\"1\" class=\"dataframe\">\n",
              "  <thead>\n",
              "    <tr style=\"text-align: right;\">\n",
              "      <th></th>\n",
              "      <th>BsmtQual</th>\n",
              "      <th>BsmtCond</th>\n",
              "      <th>BsmtExposure</th>\n",
              "      <th>BsmtFinType1</th>\n",
              "      <th>BsmtFinType2</th>\n",
              "    </tr>\n",
              "  </thead>\n",
              "  <tbody>\n",
              "    <tr>\n",
              "      <th>17</th>\n",
              "      <td>NA</td>\n",
              "      <td>NA</td>\n",
              "      <td>NA</td>\n",
              "      <td>NA</td>\n",
              "      <td>NA</td>\n",
              "    </tr>\n",
              "  </tbody>\n",
              "</table>\n",
              "</div>"
            ],
            "text/plain": [
              "   BsmtQual BsmtCond BsmtExposure BsmtFinType1 BsmtFinType2\n",
              "17       NA       NA           NA           NA           NA"
            ]
          },
          "metadata": {
            "tags": []
          },
          "execution_count": 351
        }
      ]
    },
    {
      "cell_type": "code",
      "metadata": {
        "id": "xmme5_Ccme5X"
      },
      "source": [
        "initial_df.loc[initial_df.BsmtExposure.isnull(),'BsmtExposure'] = 'No'"
      ],
      "execution_count": 352,
      "outputs": []
    },
    {
      "cell_type": "code",
      "metadata": {
        "colab": {
          "base_uri": "https://localhost:8080/"
        },
        "id": "gx1fo7wanC3T",
        "outputId": "42cfc541-aa87-4db6-bbe2-44d8ae85e15e"
      },
      "source": [
        "initial_df.BsmtExposure.value_counts()"
      ],
      "execution_count": 353,
      "outputs": [
        {
          "output_type": "execute_result",
          "data": {
            "text/plain": [
              "No    954\n",
              "Av    221\n",
              "Gd    134\n",
              "Mn    114\n",
              "NA     37\n",
              "Name: BsmtExposure, dtype: int64"
            ]
          },
          "metadata": {
            "tags": []
          },
          "execution_count": 353
        }
      ]
    },
    {
      "cell_type": "code",
      "metadata": {
        "id": "H327kRvbnP6X"
      },
      "source": [
        "initial_df.loc[initial_df.BsmtFinType2.isnull(),'BsmtFinType2'] = 'Rec'"
      ],
      "execution_count": 354,
      "outputs": []
    },
    {
      "cell_type": "code",
      "metadata": {
        "colab": {
          "base_uri": "https://localhost:8080/"
        },
        "id": "ztDKlyAvo7Bp",
        "outputId": "ff056a93-9c34-498c-eb34-859d08430864"
      },
      "source": [
        "initial_df.BsmtFinType2.value_counts()"
      ],
      "execution_count": 355,
      "outputs": [
        {
          "output_type": "execute_result",
          "data": {
            "text/plain": [
              "Unf    1256\n",
              "Rec      55\n",
              "LwQ      46\n",
              "NA       37\n",
              "BLQ      33\n",
              "ALQ      19\n",
              "GLQ      14\n",
              "Name: BsmtFinType2, dtype: int64"
            ]
          },
          "metadata": {
            "tags": []
          },
          "execution_count": 355
        }
      ]
    },
    {
      "cell_type": "code",
      "metadata": {
        "id": "CXcbmFccpEEb"
      },
      "source": [
        "initial_df.drop('TotalBsmtSF', axis=1, inplace=True)"
      ],
      "execution_count": 356,
      "outputs": []
    },
    {
      "cell_type": "markdown",
      "metadata": {
        "id": "_xCgG8Jlpzhy"
      },
      "source": [
        "__Missing Value Imputation for Electrical__"
      ]
    },
    {
      "cell_type": "code",
      "metadata": {
        "colab": {
          "base_uri": "https://localhost:8080/"
        },
        "id": "LUz16Fgxp6gT",
        "outputId": "289ed665-31f8-4bc8-d9ad-fa130182b1cd"
      },
      "source": [
        "initial_df.Electrical.value_counts()"
      ],
      "execution_count": 357,
      "outputs": [
        {
          "output_type": "execute_result",
          "data": {
            "text/plain": [
              "SBrkr    1334\n",
              "FuseA      94\n",
              "FuseF      27\n",
              "FuseP       3\n",
              "Mix         1\n",
              "Name: Electrical, dtype: int64"
            ]
          },
          "metadata": {
            "tags": []
          },
          "execution_count": 357
        }
      ]
    },
    {
      "cell_type": "markdown",
      "metadata": {
        "id": "02zi2Ogvp-vd"
      },
      "source": [
        "Column _Electrical_ has the value 'SBrkr' as mode. Hence we impute the row with missing value with 'SBrkr'"
      ]
    },
    {
      "cell_type": "code",
      "metadata": {
        "colab": {
          "base_uri": "https://localhost:8080/"
        },
        "id": "hecj88H7qeXA",
        "outputId": "a0c70e01-ee54-46d3-b8e2-8248b36cf364"
      },
      "source": [
        "initial_df.Electrical.mode()"
      ],
      "execution_count": 358,
      "outputs": [
        {
          "output_type": "execute_result",
          "data": {
            "text/plain": [
              "0    SBrkr\n",
              "dtype: object"
            ]
          },
          "metadata": {
            "tags": []
          },
          "execution_count": 358
        }
      ]
    },
    {
      "cell_type": "code",
      "metadata": {
        "id": "ibBVX4yvqSZd"
      },
      "source": [
        "initial_df.fillna({'Electrical':'SBrkr'}, inplace=True)"
      ],
      "execution_count": 359,
      "outputs": []
    },
    {
      "cell_type": "markdown",
      "metadata": {
        "id": "CxcnBlBUh8E6"
      },
      "source": [
        "__Missing Value Imputatipn for FireplaceQu__"
      ]
    },
    {
      "cell_type": "code",
      "metadata": {
        "colab": {
          "base_uri": "https://localhost:8080/"
        },
        "id": "14fDJ76crxra",
        "outputId": "0259e1c1-3216-4758-c47c-165fb8d21589"
      },
      "source": [
        "initial_df.FireplaceQu.value_counts()"
      ],
      "execution_count": 360,
      "outputs": [
        {
          "output_type": "execute_result",
          "data": {
            "text/plain": [
              "Gd    380\n",
              "TA    313\n",
              "Fa     33\n",
              "Ex     24\n",
              "Po     20\n",
              "Name: FireplaceQu, dtype: int64"
            ]
          },
          "metadata": {
            "tags": []
          },
          "execution_count": 360
        }
      ]
    },
    {
      "cell_type": "code",
      "metadata": {
        "colab": {
          "base_uri": "https://localhost:8080/"
        },
        "id": "4H-BGhIcr8dD",
        "outputId": "d9faab17-1db6-4d30-848e-cdd9eb9ac271"
      },
      "source": [
        "initial_df[initial_df.FireplaceQu.isnull()].Fireplaces.value_counts()"
      ],
      "execution_count": 361,
      "outputs": [
        {
          "output_type": "execute_result",
          "data": {
            "text/plain": [
              "0    690\n",
              "Name: Fireplaces, dtype: int64"
            ]
          },
          "metadata": {
            "tags": []
          },
          "execution_count": 361
        }
      ]
    },
    {
      "cell_type": "code",
      "metadata": {
        "colab": {
          "base_uri": "https://localhost:8080/"
        },
        "id": "NRHisvEzsXfs",
        "outputId": "f99408c3-a5db-4745-c134-f57b3c679e12"
      },
      "source": [
        "initial_df[(initial_df.FireplaceQu.isnull()) & (initial_df.Fireplaces==0)]['Id'].count()"
      ],
      "execution_count": 362,
      "outputs": [
        {
          "output_type": "execute_result",
          "data": {
            "text/plain": [
              "690"
            ]
          },
          "metadata": {
            "tags": []
          },
          "execution_count": 362
        }
      ]
    },
    {
      "cell_type": "markdown",
      "metadata": {
        "id": "P43lrtXFs_RL"
      },
      "source": [
        "Column _FireplacesQu_ has 690 rows with null value. </br>\n",
        "These 690 rows also have count of Fireplace as 0 (column _Fireplaces_ is 0).</br> This confirms that, these 690 rows actually represent houses which do not have Fireplace. Hence we impute them with the value 'NA'."
      ]
    },
    {
      "cell_type": "code",
      "metadata": {
        "id": "QjpPLtjIuFk0"
      },
      "source": [
        "initial_df.fillna({'FireplaceQu':'NA'}, inplace=True)"
      ],
      "execution_count": 363,
      "outputs": []
    },
    {
      "cell_type": "code",
      "metadata": {
        "colab": {
          "base_uri": "https://localhost:8080/"
        },
        "id": "ZHUJUpb8uZj5",
        "outputId": "df23287a-f868-4b85-ffd9-16cb2946eb3d"
      },
      "source": [
        "initial_df.FireplaceQu.value_counts()"
      ],
      "execution_count": 364,
      "outputs": [
        {
          "output_type": "execute_result",
          "data": {
            "text/plain": [
              "NA    690\n",
              "Gd    380\n",
              "TA    313\n",
              "Fa     33\n",
              "Ex     24\n",
              "Po     20\n",
              "Name: FireplaceQu, dtype: int64"
            ]
          },
          "metadata": {
            "tags": []
          },
          "execution_count": 364
        }
      ]
    },
    {
      "cell_type": "markdown",
      "metadata": {
        "id": "G-S0YUQq5idG"
      },
      "source": [
        "__Missing Value Imputation for Garage related columns__"
      ]
    },
    {
      "cell_type": "code",
      "metadata": {
        "colab": {
          "base_uri": "https://localhost:8080/"
        },
        "id": "taIcN_XK6RKx",
        "outputId": "76d28031-9159-4542-ec41-147a96bcd9f0"
      },
      "source": [
        "initial_df.GarageType.value_counts()"
      ],
      "execution_count": 365,
      "outputs": [
        {
          "output_type": "execute_result",
          "data": {
            "text/plain": [
              "Attchd     870\n",
              "Detchd     387\n",
              "BuiltIn     88\n",
              "Basment     19\n",
              "CarPort      9\n",
              "2Types       6\n",
              "Name: GarageType, dtype: int64"
            ]
          },
          "metadata": {
            "tags": []
          },
          "execution_count": 365
        }
      ]
    },
    {
      "cell_type": "code",
      "metadata": {
        "colab": {
          "base_uri": "https://localhost:8080/"
        },
        "id": "Q1kY4iFT7VhD",
        "outputId": "0decd27a-4854-46ec-8b5a-55957cba9abe"
      },
      "source": [
        "initial_df.GarageType.isnull().sum()"
      ],
      "execution_count": 366,
      "outputs": [
        {
          "output_type": "execute_result",
          "data": {
            "text/plain": [
              "81"
            ]
          },
          "metadata": {
            "tags": []
          },
          "execution_count": 366
        }
      ]
    },
    {
      "cell_type": "code",
      "metadata": {
        "colab": {
          "base_uri": "https://localhost:8080/"
        },
        "id": "dr9NBt-o64s5",
        "outputId": "dc54561b-e755-4ccc-c1c6-c2f5f5d9892d"
      },
      "source": [
        "initial_df[initial_df.GarageType.isnull()].GarageYrBlt.unique()"
      ],
      "execution_count": 367,
      "outputs": [
        {
          "output_type": "execute_result",
          "data": {
            "text/plain": [
              "array([nan])"
            ]
          },
          "metadata": {
            "tags": []
          },
          "execution_count": 367
        }
      ]
    },
    {
      "cell_type": "code",
      "metadata": {
        "colab": {
          "base_uri": "https://localhost:8080/"
        },
        "id": "GAyZq_kX8qA8",
        "outputId": "1f7525e4-cba7-4759-ca12-1296dcde4304"
      },
      "source": [
        "initial_df[initial_df.GarageYrBlt==0].GarageYrBlt.count()"
      ],
      "execution_count": 368,
      "outputs": [
        {
          "output_type": "execute_result",
          "data": {
            "text/plain": [
              "0"
            ]
          },
          "metadata": {
            "tags": []
          },
          "execution_count": 368
        }
      ]
    },
    {
      "cell_type": "code",
      "metadata": {
        "colab": {
          "base_uri": "https://localhost:8080/"
        },
        "id": "RWvZgjrD_W9R",
        "outputId": "e75898da-ff6f-41e7-c806-bb0e8e5937ad"
      },
      "source": [
        "initial_df.GarageYrBlt.unique()"
      ],
      "execution_count": 369,
      "outputs": [
        {
          "output_type": "execute_result",
          "data": {
            "text/plain": [
              "array([2003., 1976., 2001., 1998., 2000., 1993., 2004., 1973., 1931.,\n",
              "       1939., 1965., 2005., 1962., 2006., 1960., 1991., 1970., 1967.,\n",
              "       1958., 1930., 2002., 1968., 2007., 2008., 1957., 1920., 1966.,\n",
              "       1959., 1995., 1954., 1953.,   nan, 1983., 1977., 1997., 1985.,\n",
              "       1963., 1981., 1964., 1999., 1935., 1990., 1945., 1987., 1989.,\n",
              "       1915., 1956., 1948., 1974., 2009., 1950., 1961., 1921., 1900.,\n",
              "       1979., 1951., 1969., 1936., 1975., 1971., 1923., 1984., 1926.,\n",
              "       1955., 1986., 1988., 1916., 1932., 1972., 1918., 1980., 1924.,\n",
              "       1996., 1940., 1949., 1994., 1910., 1978., 1982., 1992., 1925.,\n",
              "       1941., 2010., 1927., 1947., 1937., 1942., 1938., 1952., 1928.,\n",
              "       1922., 1934., 1906., 1914., 1946., 1908., 1929., 1933.])"
            ]
          },
          "metadata": {
            "tags": []
          },
          "execution_count": 369
        }
      ]
    },
    {
      "cell_type": "code",
      "metadata": {
        "id": "1SO0Oe3o_3Xg"
      },
      "source": [
        "initial_df.fillna({'GarageYrBlt':0}, inplace=True)"
      ],
      "execution_count": 370,
      "outputs": []
    },
    {
      "cell_type": "code",
      "metadata": {
        "id": "uQRaQrq-99uP"
      },
      "source": [
        "initial_df.GarageYrBlt = initial_df.GarageYrBlt.astype(int)"
      ],
      "execution_count": 371,
      "outputs": []
    },
    {
      "cell_type": "code",
      "metadata": {
        "colab": {
          "base_uri": "https://localhost:8080/"
        },
        "id": "OSWcSz8bClpd",
        "outputId": "6edea200-d66d-4015-f726-81a87d01e630"
      },
      "source": [
        "initial_df.GarageFinish.value_counts()"
      ],
      "execution_count": 372,
      "outputs": [
        {
          "output_type": "execute_result",
          "data": {
            "text/plain": [
              "Unf    605\n",
              "RFn    422\n",
              "Fin    352\n",
              "Name: GarageFinish, dtype: int64"
            ]
          },
          "metadata": {
            "tags": []
          },
          "execution_count": 372
        }
      ]
    },
    {
      "cell_type": "code",
      "metadata": {
        "colab": {
          "base_uri": "https://localhost:8080/"
        },
        "id": "IA7BX4ayC2as",
        "outputId": "a5f396ab-ca90-4e30-8fc4-0c0797fcc4ef"
      },
      "source": [
        "initial_df[initial_df.GarageType.isnull()].GarageCars.unique()"
      ],
      "execution_count": 373,
      "outputs": [
        {
          "output_type": "execute_result",
          "data": {
            "text/plain": [
              "array([0])"
            ]
          },
          "metadata": {
            "tags": []
          },
          "execution_count": 373
        }
      ]
    },
    {
      "cell_type": "code",
      "metadata": {
        "colab": {
          "base_uri": "https://localhost:8080/"
        },
        "id": "29d1kdiMDFr5",
        "outputId": "5863d612-afef-468f-a510-61d341b37fb0"
      },
      "source": [
        "initial_df[initial_df.GarageCars==0].GarageType.unique()"
      ],
      "execution_count": 374,
      "outputs": [
        {
          "output_type": "execute_result",
          "data": {
            "text/plain": [
              "array([nan], dtype=object)"
            ]
          },
          "metadata": {
            "tags": []
          },
          "execution_count": 374
        }
      ]
    },
    {
      "cell_type": "code",
      "metadata": {
        "colab": {
          "base_uri": "https://localhost:8080/"
        },
        "id": "Ar5mZ2LhDBtu",
        "outputId": "785902ff-6f6e-4476-9705-3b1303149db3"
      },
      "source": [
        "initial_df[initial_df.GarageType.isnull()].GarageArea.unique()"
      ],
      "execution_count": 375,
      "outputs": [
        {
          "output_type": "execute_result",
          "data": {
            "text/plain": [
              "array([0])"
            ]
          },
          "metadata": {
            "tags": []
          },
          "execution_count": 375
        }
      ]
    },
    {
      "cell_type": "code",
      "metadata": {
        "colab": {
          "base_uri": "https://localhost:8080/"
        },
        "id": "H8BA8b41DYsv",
        "outputId": "b87427bf-150d-4920-f8a2-b8a1aff3df41"
      },
      "source": [
        "initial_df[initial_df.GarageArea==0].GarageType.unique()"
      ],
      "execution_count": 376,
      "outputs": [
        {
          "output_type": "execute_result",
          "data": {
            "text/plain": [
              "array([nan], dtype=object)"
            ]
          },
          "metadata": {
            "tags": []
          },
          "execution_count": 376
        }
      ]
    },
    {
      "cell_type": "code",
      "metadata": {
        "colab": {
          "base_uri": "https://localhost:8080/"
        },
        "id": "xx_N93a9GGFy",
        "outputId": "0cfd2ab2-3624-4b06-835a-d5ed7e3b8ccf"
      },
      "source": [
        "initial_df.GarageQual.value_counts()"
      ],
      "execution_count": 377,
      "outputs": [
        {
          "output_type": "execute_result",
          "data": {
            "text/plain": [
              "TA    1311\n",
              "Fa      48\n",
              "Gd      14\n",
              "Po       3\n",
              "Ex       3\n",
              "Name: GarageQual, dtype: int64"
            ]
          },
          "metadata": {
            "tags": []
          },
          "execution_count": 377
        }
      ]
    },
    {
      "cell_type": "code",
      "metadata": {
        "colab": {
          "base_uri": "https://localhost:8080/"
        },
        "id": "jwnPjbxgGqNI",
        "outputId": "8ec3ddfe-e819-48e4-a8a4-6b4b71cc5309"
      },
      "source": [
        "initial_df.GarageCond.value_counts()"
      ],
      "execution_count": 378,
      "outputs": [
        {
          "output_type": "execute_result",
          "data": {
            "text/plain": [
              "TA    1326\n",
              "Fa      35\n",
              "Gd       9\n",
              "Po       7\n",
              "Ex       2\n",
              "Name: GarageCond, dtype: int64"
            ]
          },
          "metadata": {
            "tags": []
          },
          "execution_count": 378
        }
      ]
    },
    {
      "cell_type": "markdown",
      "metadata": {
        "id": "AgGBbLyvHdeQ"
      },
      "source": [
        "All the garage related textual columns have 81 null values. This indicates that no garage information was available for them. Even the garage related numeric columns like _GarageCars_ and _GarageArea_ have 0 values for these entries. We conclude that there are no garage information available for them. </br>\n",
        "- Columns _GarageType_, _GarageFinish_, _GarageQual_ and _GarageCond_ are imputed by the value 'NA' for the 81 rows."
      ]
    },
    {
      "cell_type": "code",
      "metadata": {
        "id": "teIwCPJJLYKa"
      },
      "source": [
        "initial_df.loc[initial_df.GarageType.isnull(),['GarageType','GarageFinish','GarageQual','GarageCond']] = 'NA'"
      ],
      "execution_count": 379,
      "outputs": []
    },
    {
      "cell_type": "markdown",
      "metadata": {
        "id": "b7WveVZJMArq"
      },
      "source": [
        "__Missing Value Imputation for PoolQC__"
      ]
    },
    {
      "cell_type": "code",
      "metadata": {
        "colab": {
          "base_uri": "https://localhost:8080/"
        },
        "id": "DK0aCvw5MGDq",
        "outputId": "bcbbc977-8176-413c-cc84-87f2880ca125"
      },
      "source": [
        "initial_df.PoolQC.value_counts()"
      ],
      "execution_count": 380,
      "outputs": [
        {
          "output_type": "execute_result",
          "data": {
            "text/plain": [
              "Gd    3\n",
              "Fa    2\n",
              "Ex    2\n",
              "Name: PoolQC, dtype: int64"
            ]
          },
          "metadata": {
            "tags": []
          },
          "execution_count": 380
        }
      ]
    },
    {
      "cell_type": "code",
      "metadata": {
        "colab": {
          "base_uri": "https://localhost:8080/",
          "height": 68
        },
        "id": "9XVafUiSMRRT",
        "outputId": "faaf7c78-d7fd-440e-83f5-9f91cba4aa58"
      },
      "source": [
        "initial_df[(initial_df.PoolQC.notnull()) & (initial_df.PoolArea==0)]"
      ],
      "execution_count": 381,
      "outputs": [
        {
          "output_type": "execute_result",
          "data": {
            "text/html": [
              "<div>\n",
              "<style scoped>\n",
              "    .dataframe tbody tr th:only-of-type {\n",
              "        vertical-align: middle;\n",
              "    }\n",
              "\n",
              "    .dataframe tbody tr th {\n",
              "        vertical-align: top;\n",
              "    }\n",
              "\n",
              "    .dataframe thead th {\n",
              "        text-align: right;\n",
              "    }\n",
              "</style>\n",
              "<table border=\"1\" class=\"dataframe\">\n",
              "  <thead>\n",
              "    <tr style=\"text-align: right;\">\n",
              "      <th></th>\n",
              "      <th>Id</th>\n",
              "      <th>MSSubClass</th>\n",
              "      <th>MSZoning</th>\n",
              "      <th>LotFrontage</th>\n",
              "      <th>LotArea</th>\n",
              "      <th>Street</th>\n",
              "      <th>Alley</th>\n",
              "      <th>LotShape</th>\n",
              "      <th>LandContour</th>\n",
              "      <th>Utilities</th>\n",
              "      <th>LotConfig</th>\n",
              "      <th>LandSlope</th>\n",
              "      <th>Neighborhood</th>\n",
              "      <th>Condition1</th>\n",
              "      <th>Condition2</th>\n",
              "      <th>BldgType</th>\n",
              "      <th>HouseStyle</th>\n",
              "      <th>OverallQual</th>\n",
              "      <th>OverallCond</th>\n",
              "      <th>YearBuilt</th>\n",
              "      <th>YearRemodAdd</th>\n",
              "      <th>RoofStyle</th>\n",
              "      <th>RoofMatl</th>\n",
              "      <th>Exterior1st</th>\n",
              "      <th>Exterior2nd</th>\n",
              "      <th>MasVnrType</th>\n",
              "      <th>MasVnrArea</th>\n",
              "      <th>ExterQual</th>\n",
              "      <th>ExterCond</th>\n",
              "      <th>Foundation</th>\n",
              "      <th>BsmtQual</th>\n",
              "      <th>BsmtCond</th>\n",
              "      <th>BsmtExposure</th>\n",
              "      <th>BsmtFinType1</th>\n",
              "      <th>BsmtFinSF1</th>\n",
              "      <th>BsmtFinType2</th>\n",
              "      <th>BsmtFinSF2</th>\n",
              "      <th>BsmtUnfSF</th>\n",
              "      <th>Heating</th>\n",
              "      <th>HeatingQC</th>\n",
              "      <th>CentralAir</th>\n",
              "      <th>Electrical</th>\n",
              "      <th>1stFlrSF</th>\n",
              "      <th>2ndFlrSF</th>\n",
              "      <th>LowQualFinSF</th>\n",
              "      <th>GrLivArea</th>\n",
              "      <th>BsmtFullBath</th>\n",
              "      <th>BsmtHalfBath</th>\n",
              "      <th>FullBath</th>\n",
              "      <th>HalfBath</th>\n",
              "      <th>BedroomAbvGr</th>\n",
              "      <th>KitchenAbvGr</th>\n",
              "      <th>KitchenQual</th>\n",
              "      <th>TotRmsAbvGrd</th>\n",
              "      <th>Functional</th>\n",
              "      <th>Fireplaces</th>\n",
              "      <th>FireplaceQu</th>\n",
              "      <th>GarageType</th>\n",
              "      <th>GarageYrBlt</th>\n",
              "      <th>GarageFinish</th>\n",
              "      <th>GarageCars</th>\n",
              "      <th>GarageArea</th>\n",
              "      <th>GarageQual</th>\n",
              "      <th>GarageCond</th>\n",
              "      <th>PavedDrive</th>\n",
              "      <th>WoodDeckSF</th>\n",
              "      <th>OpenPorchSF</th>\n",
              "      <th>EnclosedPorch</th>\n",
              "      <th>3SsnPorch</th>\n",
              "      <th>ScreenPorch</th>\n",
              "      <th>PoolArea</th>\n",
              "      <th>PoolQC</th>\n",
              "      <th>Fence</th>\n",
              "      <th>MiscFeature</th>\n",
              "      <th>MiscVal</th>\n",
              "      <th>MoSold</th>\n",
              "      <th>YrSold</th>\n",
              "      <th>SaleType</th>\n",
              "      <th>SaleCondition</th>\n",
              "      <th>SalePrice</th>\n",
              "    </tr>\n",
              "  </thead>\n",
              "  <tbody>\n",
              "  </tbody>\n",
              "</table>\n",
              "</div>"
            ],
            "text/plain": [
              "Empty DataFrame\n",
              "Columns: [Id, MSSubClass, MSZoning, LotFrontage, LotArea, Street, Alley, LotShape, LandContour, Utilities, LotConfig, LandSlope, Neighborhood, Condition1, Condition2, BldgType, HouseStyle, OverallQual, OverallCond, YearBuilt, YearRemodAdd, RoofStyle, RoofMatl, Exterior1st, Exterior2nd, MasVnrType, MasVnrArea, ExterQual, ExterCond, Foundation, BsmtQual, BsmtCond, BsmtExposure, BsmtFinType1, BsmtFinSF1, BsmtFinType2, BsmtFinSF2, BsmtUnfSF, Heating, HeatingQC, CentralAir, Electrical, 1stFlrSF, 2ndFlrSF, LowQualFinSF, GrLivArea, BsmtFullBath, BsmtHalfBath, FullBath, HalfBath, BedroomAbvGr, KitchenAbvGr, KitchenQual, TotRmsAbvGrd, Functional, Fireplaces, FireplaceQu, GarageType, GarageYrBlt, GarageFinish, GarageCars, GarageArea, GarageQual, GarageCond, PavedDrive, WoodDeckSF, OpenPorchSF, EnclosedPorch, 3SsnPorch, ScreenPorch, PoolArea, PoolQC, Fence, MiscFeature, MiscVal, MoSold, YrSold, SaleType, SaleCondition, SalePrice]\n",
              "Index: []"
            ]
          },
          "metadata": {
            "tags": []
          },
          "execution_count": 381
        }
      ]
    },
    {
      "cell_type": "code",
      "metadata": {
        "colab": {
          "base_uri": "https://localhost:8080/"
        },
        "id": "OjahlfViWJlM",
        "outputId": "78e20573-f9cf-4555-c33a-0b4666c7fe9c"
      },
      "source": [
        "initial_df[(initial_df.PoolQC.isnull()) & (initial_df.PoolArea==0)]['PoolArea'].count()"
      ],
      "execution_count": 382,
      "outputs": [
        {
          "output_type": "execute_result",
          "data": {
            "text/plain": [
              "1453"
            ]
          },
          "metadata": {
            "tags": []
          },
          "execution_count": 382
        }
      ]
    },
    {
      "cell_type": "code",
      "metadata": {
        "colab": {
          "base_uri": "https://localhost:8080/"
        },
        "id": "cyAkg405UXNo",
        "outputId": "c05ca095-1a90-41fe-b746-8efbd694fd1c"
      },
      "source": [
        "print(\"Percentage of not null records of PoolQC : \",(initial_df.PoolQC.notnull().sum()*100/len(initial_df.PoolQC)))"
      ],
      "execution_count": 383,
      "outputs": [
        {
          "output_type": "stream",
          "text": [
            "Percentage of not null records of PoolQC :  0.4794520547945205\n"
          ],
          "name": "stdout"
        }
      ]
    },
    {
      "cell_type": "markdown",
      "metadata": {
        "id": "m18tnAdEV31Q"
      },
      "source": [
        "Column _PoolQC_ has valid value for only 7 rows.</br> For every other row (remaining 1453), the column _PoolArea_ has 0 value.</br> This means that only 7 houses have swimming pools.</br>\n",
        "Hence only 0.479 % of the total records have valid value of _PoolQC_ which is insignificant for any learning.</br>\n",
        "So instead of any imputation, we remove _PoolQC_ and consequently also _PoolArea_."
      ]
    },
    {
      "cell_type": "code",
      "metadata": {
        "id": "V4KsC7ynXfO7"
      },
      "source": [
        "#initial_df.fillna({'PoolQC':'NA'}, inplace=True) #Decided against this as all 7 valid values were getting removed during extreme outlier removal"
      ],
      "execution_count": 384,
      "outputs": []
    },
    {
      "cell_type": "code",
      "metadata": {
        "id": "5LDNiOfw8oas"
      },
      "source": [
        "initial_df.drop(['PoolQC','PoolArea'], axis=1, inplace=True)"
      ],
      "execution_count": 385,
      "outputs": []
    },
    {
      "cell_type": "markdown",
      "metadata": {
        "id": "FB-1bBP4mCti"
      },
      "source": [
        "__Missing Value Imputation for Fence__"
      ]
    },
    {
      "cell_type": "code",
      "metadata": {
        "colab": {
          "base_uri": "https://localhost:8080/"
        },
        "id": "YxkwDZf0X4oz",
        "outputId": "ce2a7192-5723-4b1a-dc9f-27044f317fff"
      },
      "source": [
        "initial_df.Fence.value_counts()"
      ],
      "execution_count": 386,
      "outputs": [
        {
          "output_type": "execute_result",
          "data": {
            "text/plain": [
              "MnPrv    157\n",
              "GdPrv     59\n",
              "GdWo      54\n",
              "MnWw      11\n",
              "Name: Fence, dtype: int64"
            ]
          },
          "metadata": {
            "tags": []
          },
          "execution_count": 386
        }
      ]
    },
    {
      "cell_type": "code",
      "metadata": {
        "colab": {
          "base_uri": "https://localhost:8080/"
        },
        "id": "vK5iVvjqYuE6",
        "outputId": "f0607e4a-c97a-44a8-a60e-c820467940de"
      },
      "source": [
        "initial_df.Fence.isnull().sum()"
      ],
      "execution_count": 387,
      "outputs": [
        {
          "output_type": "execute_result",
          "data": {
            "text/plain": [
              "1179"
            ]
          },
          "metadata": {
            "tags": []
          },
          "execution_count": 387
        }
      ]
    },
    {
      "cell_type": "markdown",
      "metadata": {
        "id": "Muv2HAetYy7d"
      },
      "source": [
        "Column _Fence_ has majority (1179) rows as null. This sounds logical because houses having fence are not that common. The data description also mentions a category 'NA' for such cases. Hence we will impute the column with 'NA'."
      ]
    },
    {
      "cell_type": "code",
      "metadata": {
        "id": "AjD4Y0LqZM7u"
      },
      "source": [
        "initial_df.fillna({'Fence':'NA'}, inplace=True)"
      ],
      "execution_count": 388,
      "outputs": []
    },
    {
      "cell_type": "markdown",
      "metadata": {
        "id": "QA00J_ComJ2U"
      },
      "source": [
        "__Missing Value Imputation of MiscFeature__"
      ]
    },
    {
      "cell_type": "code",
      "metadata": {
        "colab": {
          "base_uri": "https://localhost:8080/"
        },
        "id": "UmJ1xggdZgN7",
        "outputId": "df3174c7-2e2c-4456-b06b-d2175549e31b"
      },
      "source": [
        "initial_df.MiscFeature.value_counts()"
      ],
      "execution_count": 389,
      "outputs": [
        {
          "output_type": "execute_result",
          "data": {
            "text/plain": [
              "Shed    49\n",
              "Othr     2\n",
              "Gar2     2\n",
              "TenC     1\n",
              "Name: MiscFeature, dtype: int64"
            ]
          },
          "metadata": {
            "tags": []
          },
          "execution_count": 389
        }
      ]
    },
    {
      "cell_type": "code",
      "metadata": {
        "colab": {
          "base_uri": "https://localhost:8080/",
          "height": 128
        },
        "id": "BwLVja4vaml7",
        "outputId": "b05fbbe6-dbcd-4d51-96cd-737985fdbfbb"
      },
      "source": [
        "initial_df[(initial_df.MiscFeature.notnull()) & (initial_df.MiscVal==0)]"
      ],
      "execution_count": 390,
      "outputs": [
        {
          "output_type": "execute_result",
          "data": {
            "text/html": [
              "<div>\n",
              "<style scoped>\n",
              "    .dataframe tbody tr th:only-of-type {\n",
              "        vertical-align: middle;\n",
              "    }\n",
              "\n",
              "    .dataframe tbody tr th {\n",
              "        vertical-align: top;\n",
              "    }\n",
              "\n",
              "    .dataframe thead th {\n",
              "        text-align: right;\n",
              "    }\n",
              "</style>\n",
              "<table border=\"1\" class=\"dataframe\">\n",
              "  <thead>\n",
              "    <tr style=\"text-align: right;\">\n",
              "      <th></th>\n",
              "      <th>Id</th>\n",
              "      <th>MSSubClass</th>\n",
              "      <th>MSZoning</th>\n",
              "      <th>LotFrontage</th>\n",
              "      <th>LotArea</th>\n",
              "      <th>Street</th>\n",
              "      <th>Alley</th>\n",
              "      <th>LotShape</th>\n",
              "      <th>LandContour</th>\n",
              "      <th>Utilities</th>\n",
              "      <th>LotConfig</th>\n",
              "      <th>LandSlope</th>\n",
              "      <th>Neighborhood</th>\n",
              "      <th>Condition1</th>\n",
              "      <th>Condition2</th>\n",
              "      <th>BldgType</th>\n",
              "      <th>HouseStyle</th>\n",
              "      <th>OverallQual</th>\n",
              "      <th>OverallCond</th>\n",
              "      <th>YearBuilt</th>\n",
              "      <th>YearRemodAdd</th>\n",
              "      <th>RoofStyle</th>\n",
              "      <th>RoofMatl</th>\n",
              "      <th>Exterior1st</th>\n",
              "      <th>Exterior2nd</th>\n",
              "      <th>MasVnrType</th>\n",
              "      <th>MasVnrArea</th>\n",
              "      <th>ExterQual</th>\n",
              "      <th>ExterCond</th>\n",
              "      <th>Foundation</th>\n",
              "      <th>BsmtQual</th>\n",
              "      <th>BsmtCond</th>\n",
              "      <th>BsmtExposure</th>\n",
              "      <th>BsmtFinType1</th>\n",
              "      <th>BsmtFinSF1</th>\n",
              "      <th>BsmtFinType2</th>\n",
              "      <th>BsmtFinSF2</th>\n",
              "      <th>BsmtUnfSF</th>\n",
              "      <th>Heating</th>\n",
              "      <th>HeatingQC</th>\n",
              "      <th>CentralAir</th>\n",
              "      <th>Electrical</th>\n",
              "      <th>1stFlrSF</th>\n",
              "      <th>2ndFlrSF</th>\n",
              "      <th>LowQualFinSF</th>\n",
              "      <th>GrLivArea</th>\n",
              "      <th>BsmtFullBath</th>\n",
              "      <th>BsmtHalfBath</th>\n",
              "      <th>FullBath</th>\n",
              "      <th>HalfBath</th>\n",
              "      <th>BedroomAbvGr</th>\n",
              "      <th>KitchenAbvGr</th>\n",
              "      <th>KitchenQual</th>\n",
              "      <th>TotRmsAbvGrd</th>\n",
              "      <th>Functional</th>\n",
              "      <th>Fireplaces</th>\n",
              "      <th>FireplaceQu</th>\n",
              "      <th>GarageType</th>\n",
              "      <th>GarageYrBlt</th>\n",
              "      <th>GarageFinish</th>\n",
              "      <th>GarageCars</th>\n",
              "      <th>GarageArea</th>\n",
              "      <th>GarageQual</th>\n",
              "      <th>GarageCond</th>\n",
              "      <th>PavedDrive</th>\n",
              "      <th>WoodDeckSF</th>\n",
              "      <th>OpenPorchSF</th>\n",
              "      <th>EnclosedPorch</th>\n",
              "      <th>3SsnPorch</th>\n",
              "      <th>ScreenPorch</th>\n",
              "      <th>Fence</th>\n",
              "      <th>MiscFeature</th>\n",
              "      <th>MiscVal</th>\n",
              "      <th>MoSold</th>\n",
              "      <th>YrSold</th>\n",
              "      <th>SaleType</th>\n",
              "      <th>SaleCondition</th>\n",
              "      <th>SalePrice</th>\n",
              "    </tr>\n",
              "  </thead>\n",
              "  <tbody>\n",
              "    <tr>\n",
              "      <th>873</th>\n",
              "      <td>874</td>\n",
              "      <td>40</td>\n",
              "      <td>RL</td>\n",
              "      <td>60.0</td>\n",
              "      <td>12144</td>\n",
              "      <td>Pave</td>\n",
              "      <td>NA</td>\n",
              "      <td>Reg</td>\n",
              "      <td>Lvl</td>\n",
              "      <td>AllPub</td>\n",
              "      <td>Inside</td>\n",
              "      <td>Gtl</td>\n",
              "      <td>NAmes</td>\n",
              "      <td>Norm</td>\n",
              "      <td>Norm</td>\n",
              "      <td>1Fam</td>\n",
              "      <td>1Story</td>\n",
              "      <td>5</td>\n",
              "      <td>7</td>\n",
              "      <td>1949</td>\n",
              "      <td>1950</td>\n",
              "      <td>Gable</td>\n",
              "      <td>CompShg</td>\n",
              "      <td>HdBoard</td>\n",
              "      <td>HdBoard</td>\n",
              "      <td>None</td>\n",
              "      <td>0.0</td>\n",
              "      <td>Gd</td>\n",
              "      <td>TA</td>\n",
              "      <td>CBlock</td>\n",
              "      <td>TA</td>\n",
              "      <td>TA</td>\n",
              "      <td>No</td>\n",
              "      <td>Rec</td>\n",
              "      <td>375</td>\n",
              "      <td>Unf</td>\n",
              "      <td>0</td>\n",
              "      <td>457</td>\n",
              "      <td>GasA</td>\n",
              "      <td>Gd</td>\n",
              "      <td>Y</td>\n",
              "      <td>SBrkr</td>\n",
              "      <td>1036</td>\n",
              "      <td>0</td>\n",
              "      <td>232</td>\n",
              "      <td>1268</td>\n",
              "      <td>0</td>\n",
              "      <td>0</td>\n",
              "      <td>1</td>\n",
              "      <td>0</td>\n",
              "      <td>3</td>\n",
              "      <td>1</td>\n",
              "      <td>TA</td>\n",
              "      <td>6</td>\n",
              "      <td>Typ</td>\n",
              "      <td>1</td>\n",
              "      <td>Gd</td>\n",
              "      <td>Attchd</td>\n",
              "      <td>1949</td>\n",
              "      <td>Unf</td>\n",
              "      <td>1</td>\n",
              "      <td>288</td>\n",
              "      <td>TA</td>\n",
              "      <td>TA</td>\n",
              "      <td>Y</td>\n",
              "      <td>0</td>\n",
              "      <td>28</td>\n",
              "      <td>0</td>\n",
              "      <td>0</td>\n",
              "      <td>0</td>\n",
              "      <td>NA</td>\n",
              "      <td>Othr</td>\n",
              "      <td>0</td>\n",
              "      <td>9</td>\n",
              "      <td>2009</td>\n",
              "      <td>WD</td>\n",
              "      <td>Normal</td>\n",
              "      <td>133000</td>\n",
              "    </tr>\n",
              "    <tr>\n",
              "      <th>1200</th>\n",
              "      <td>1201</td>\n",
              "      <td>20</td>\n",
              "      <td>RL</td>\n",
              "      <td>71.0</td>\n",
              "      <td>9353</td>\n",
              "      <td>Pave</td>\n",
              "      <td>NA</td>\n",
              "      <td>Reg</td>\n",
              "      <td>Lvl</td>\n",
              "      <td>AllPub</td>\n",
              "      <td>Inside</td>\n",
              "      <td>Gtl</td>\n",
              "      <td>NAmes</td>\n",
              "      <td>Norm</td>\n",
              "      <td>Norm</td>\n",
              "      <td>1Fam</td>\n",
              "      <td>1Story</td>\n",
              "      <td>4</td>\n",
              "      <td>5</td>\n",
              "      <td>1970</td>\n",
              "      <td>1970</td>\n",
              "      <td>Gable</td>\n",
              "      <td>CompShg</td>\n",
              "      <td>MetalSd</td>\n",
              "      <td>MetalSd</td>\n",
              "      <td>None</td>\n",
              "      <td>0.0</td>\n",
              "      <td>TA</td>\n",
              "      <td>TA</td>\n",
              "      <td>CBlock</td>\n",
              "      <td>TA</td>\n",
              "      <td>TA</td>\n",
              "      <td>No</td>\n",
              "      <td>Unf</td>\n",
              "      <td>0</td>\n",
              "      <td>Unf</td>\n",
              "      <td>0</td>\n",
              "      <td>864</td>\n",
              "      <td>GasA</td>\n",
              "      <td>Gd</td>\n",
              "      <td>Y</td>\n",
              "      <td>SBrkr</td>\n",
              "      <td>864</td>\n",
              "      <td>0</td>\n",
              "      <td>0</td>\n",
              "      <td>864</td>\n",
              "      <td>0</td>\n",
              "      <td>0</td>\n",
              "      <td>1</td>\n",
              "      <td>0</td>\n",
              "      <td>3</td>\n",
              "      <td>1</td>\n",
              "      <td>TA</td>\n",
              "      <td>5</td>\n",
              "      <td>Typ</td>\n",
              "      <td>0</td>\n",
              "      <td>NA</td>\n",
              "      <td>Attchd</td>\n",
              "      <td>1972</td>\n",
              "      <td>Unf</td>\n",
              "      <td>1</td>\n",
              "      <td>280</td>\n",
              "      <td>TA</td>\n",
              "      <td>TA</td>\n",
              "      <td>Y</td>\n",
              "      <td>0</td>\n",
              "      <td>0</td>\n",
              "      <td>0</td>\n",
              "      <td>0</td>\n",
              "      <td>0</td>\n",
              "      <td>NA</td>\n",
              "      <td>Shed</td>\n",
              "      <td>0</td>\n",
              "      <td>7</td>\n",
              "      <td>2006</td>\n",
              "      <td>Oth</td>\n",
              "      <td>Abnorml</td>\n",
              "      <td>116050</td>\n",
              "    </tr>\n",
              "  </tbody>\n",
              "</table>\n",
              "</div>"
            ],
            "text/plain": [
              "        Id  MSSubClass MSZoning  ...  SaleType  SaleCondition SalePrice\n",
              "873    874          40       RL  ...        WD         Normal    133000\n",
              "1200  1201          20       RL  ...       Oth        Abnorml    116050\n",
              "\n",
              "[2 rows x 78 columns]"
            ]
          },
          "metadata": {
            "tags": []
          },
          "execution_count": 390
        }
      ]
    },
    {
      "cell_type": "code",
      "metadata": {
        "colab": {
          "base_uri": "https://localhost:8080/"
        },
        "id": "WgAlPplxaCAz",
        "outputId": "7c7462b9-b4d3-4531-918e-e511538d0d18"
      },
      "source": [
        "initial_df[(initial_df.MiscFeature.isnull()) & (initial_df.MiscVal==0)]['MiscVal'].count()"
      ],
      "execution_count": 391,
      "outputs": [
        {
          "output_type": "execute_result",
          "data": {
            "text/plain": [
              "1406"
            ]
          },
          "metadata": {
            "tags": []
          },
          "execution_count": 391
        }
      ]
    },
    {
      "cell_type": "markdown",
      "metadata": {
        "id": "aRydqH3Fed19"
      },
      "source": [
        "Column _MiscFeature_ has majority (1406) rows as null. This sounds logical because houses having miscellaneous features are not that common. The data description also mentions a category 'NA' for such cases. Hence we will impute the column with 'NA'."
      ]
    },
    {
      "cell_type": "code",
      "metadata": {
        "id": "YBInCb0Ef1eJ"
      },
      "source": [
        "initial_df.fillna({'MiscFeature':'NA'}, inplace=True)"
      ],
      "execution_count": 392,
      "outputs": []
    },
    {
      "cell_type": "markdown",
      "metadata": {
        "id": "89EVD4u1mc8V"
      },
      "source": [
        "__Check not null record distribution for all columns after Missing Value Treatment__"
      ]
    },
    {
      "cell_type": "code",
      "metadata": {
        "colab": {
          "base_uri": "https://localhost:8080/"
        },
        "id": "S6cq4HM8gAer",
        "outputId": "c07e65cf-5594-4a96-d4e5-396e7587d51d"
      },
      "source": [
        "initial_df.info()"
      ],
      "execution_count": 393,
      "outputs": [
        {
          "output_type": "stream",
          "text": [
            "<class 'pandas.core.frame.DataFrame'>\n",
            "RangeIndex: 1460 entries, 0 to 1459\n",
            "Data columns (total 78 columns):\n",
            " #   Column         Non-Null Count  Dtype  \n",
            "---  ------         --------------  -----  \n",
            " 0   Id             1460 non-null   int64  \n",
            " 1   MSSubClass     1460 non-null   int64  \n",
            " 2   MSZoning       1460 non-null   object \n",
            " 3   LotFrontage    1460 non-null   float64\n",
            " 4   LotArea        1460 non-null   int64  \n",
            " 5   Street         1460 non-null   object \n",
            " 6   Alley          1460 non-null   object \n",
            " 7   LotShape       1460 non-null   object \n",
            " 8   LandContour    1460 non-null   object \n",
            " 9   Utilities      1460 non-null   object \n",
            " 10  LotConfig      1460 non-null   object \n",
            " 11  LandSlope      1460 non-null   object \n",
            " 12  Neighborhood   1460 non-null   object \n",
            " 13  Condition1     1460 non-null   object \n",
            " 14  Condition2     1460 non-null   object \n",
            " 15  BldgType       1460 non-null   object \n",
            " 16  HouseStyle     1460 non-null   object \n",
            " 17  OverallQual    1460 non-null   int64  \n",
            " 18  OverallCond    1460 non-null   int64  \n",
            " 19  YearBuilt      1460 non-null   int64  \n",
            " 20  YearRemodAdd   1460 non-null   int64  \n",
            " 21  RoofStyle      1460 non-null   object \n",
            " 22  RoofMatl       1460 non-null   object \n",
            " 23  Exterior1st    1460 non-null   object \n",
            " 24  Exterior2nd    1460 non-null   object \n",
            " 25  MasVnrType     1460 non-null   object \n",
            " 26  MasVnrArea     1460 non-null   float64\n",
            " 27  ExterQual      1460 non-null   object \n",
            " 28  ExterCond      1460 non-null   object \n",
            " 29  Foundation     1460 non-null   object \n",
            " 30  BsmtQual       1460 non-null   object \n",
            " 31  BsmtCond       1460 non-null   object \n",
            " 32  BsmtExposure   1460 non-null   object \n",
            " 33  BsmtFinType1   1460 non-null   object \n",
            " 34  BsmtFinSF1     1460 non-null   int64  \n",
            " 35  BsmtFinType2   1460 non-null   object \n",
            " 36  BsmtFinSF2     1460 non-null   int64  \n",
            " 37  BsmtUnfSF      1460 non-null   int64  \n",
            " 38  Heating        1460 non-null   object \n",
            " 39  HeatingQC      1460 non-null   object \n",
            " 40  CentralAir     1460 non-null   object \n",
            " 41  Electrical     1460 non-null   object \n",
            " 42  1stFlrSF       1460 non-null   int64  \n",
            " 43  2ndFlrSF       1460 non-null   int64  \n",
            " 44  LowQualFinSF   1460 non-null   int64  \n",
            " 45  GrLivArea      1460 non-null   int64  \n",
            " 46  BsmtFullBath   1460 non-null   int64  \n",
            " 47  BsmtHalfBath   1460 non-null   int64  \n",
            " 48  FullBath       1460 non-null   int64  \n",
            " 49  HalfBath       1460 non-null   int64  \n",
            " 50  BedroomAbvGr   1460 non-null   int64  \n",
            " 51  KitchenAbvGr   1460 non-null   int64  \n",
            " 52  KitchenQual    1460 non-null   object \n",
            " 53  TotRmsAbvGrd   1460 non-null   int64  \n",
            " 54  Functional     1460 non-null   object \n",
            " 55  Fireplaces     1460 non-null   int64  \n",
            " 56  FireplaceQu    1460 non-null   object \n",
            " 57  GarageType     1460 non-null   object \n",
            " 58  GarageYrBlt    1460 non-null   int64  \n",
            " 59  GarageFinish   1460 non-null   object \n",
            " 60  GarageCars     1460 non-null   int64  \n",
            " 61  GarageArea     1460 non-null   int64  \n",
            " 62  GarageQual     1460 non-null   object \n",
            " 63  GarageCond     1460 non-null   object \n",
            " 64  PavedDrive     1460 non-null   object \n",
            " 65  WoodDeckSF     1460 non-null   int64  \n",
            " 66  OpenPorchSF    1460 non-null   int64  \n",
            " 67  EnclosedPorch  1460 non-null   int64  \n",
            " 68  3SsnPorch      1460 non-null   int64  \n",
            " 69  ScreenPorch    1460 non-null   int64  \n",
            " 70  Fence          1460 non-null   object \n",
            " 71  MiscFeature    1460 non-null   object \n",
            " 72  MiscVal        1460 non-null   int64  \n",
            " 73  MoSold         1460 non-null   int64  \n",
            " 74  YrSold         1460 non-null   int64  \n",
            " 75  SaleType       1460 non-null   object \n",
            " 76  SaleCondition  1460 non-null   object \n",
            " 77  SalePrice      1460 non-null   int64  \n",
            "dtypes: float64(2), int64(34), object(42)\n",
            "memory usage: 889.8+ KB\n"
          ],
          "name": "stdout"
        }
      ]
    },
    {
      "cell_type": "markdown",
      "metadata": {
        "id": "RciMm9zjBcgm"
      },
      "source": [
        "__Check Distribution of Y column \"SalePrice\"__"
      ]
    },
    {
      "cell_type": "code",
      "metadata": {
        "colab": {
          "base_uri": "https://localhost:8080/",
          "height": 68
        },
        "id": "DMKtmomACQVc",
        "outputId": "4a66a26a-6957-45d0-d94f-1a62d8b680df"
      },
      "source": [
        "initial_df[initial_df['SalePrice']==0]"
      ],
      "execution_count": 394,
      "outputs": [
        {
          "output_type": "execute_result",
          "data": {
            "text/html": [
              "<div>\n",
              "<style scoped>\n",
              "    .dataframe tbody tr th:only-of-type {\n",
              "        vertical-align: middle;\n",
              "    }\n",
              "\n",
              "    .dataframe tbody tr th {\n",
              "        vertical-align: top;\n",
              "    }\n",
              "\n",
              "    .dataframe thead th {\n",
              "        text-align: right;\n",
              "    }\n",
              "</style>\n",
              "<table border=\"1\" class=\"dataframe\">\n",
              "  <thead>\n",
              "    <tr style=\"text-align: right;\">\n",
              "      <th></th>\n",
              "      <th>Id</th>\n",
              "      <th>MSSubClass</th>\n",
              "      <th>MSZoning</th>\n",
              "      <th>LotFrontage</th>\n",
              "      <th>LotArea</th>\n",
              "      <th>Street</th>\n",
              "      <th>Alley</th>\n",
              "      <th>LotShape</th>\n",
              "      <th>LandContour</th>\n",
              "      <th>Utilities</th>\n",
              "      <th>LotConfig</th>\n",
              "      <th>LandSlope</th>\n",
              "      <th>Neighborhood</th>\n",
              "      <th>Condition1</th>\n",
              "      <th>Condition2</th>\n",
              "      <th>BldgType</th>\n",
              "      <th>HouseStyle</th>\n",
              "      <th>OverallQual</th>\n",
              "      <th>OverallCond</th>\n",
              "      <th>YearBuilt</th>\n",
              "      <th>YearRemodAdd</th>\n",
              "      <th>RoofStyle</th>\n",
              "      <th>RoofMatl</th>\n",
              "      <th>Exterior1st</th>\n",
              "      <th>Exterior2nd</th>\n",
              "      <th>MasVnrType</th>\n",
              "      <th>MasVnrArea</th>\n",
              "      <th>ExterQual</th>\n",
              "      <th>ExterCond</th>\n",
              "      <th>Foundation</th>\n",
              "      <th>BsmtQual</th>\n",
              "      <th>BsmtCond</th>\n",
              "      <th>BsmtExposure</th>\n",
              "      <th>BsmtFinType1</th>\n",
              "      <th>BsmtFinSF1</th>\n",
              "      <th>BsmtFinType2</th>\n",
              "      <th>BsmtFinSF2</th>\n",
              "      <th>BsmtUnfSF</th>\n",
              "      <th>Heating</th>\n",
              "      <th>HeatingQC</th>\n",
              "      <th>CentralAir</th>\n",
              "      <th>Electrical</th>\n",
              "      <th>1stFlrSF</th>\n",
              "      <th>2ndFlrSF</th>\n",
              "      <th>LowQualFinSF</th>\n",
              "      <th>GrLivArea</th>\n",
              "      <th>BsmtFullBath</th>\n",
              "      <th>BsmtHalfBath</th>\n",
              "      <th>FullBath</th>\n",
              "      <th>HalfBath</th>\n",
              "      <th>BedroomAbvGr</th>\n",
              "      <th>KitchenAbvGr</th>\n",
              "      <th>KitchenQual</th>\n",
              "      <th>TotRmsAbvGrd</th>\n",
              "      <th>Functional</th>\n",
              "      <th>Fireplaces</th>\n",
              "      <th>FireplaceQu</th>\n",
              "      <th>GarageType</th>\n",
              "      <th>GarageYrBlt</th>\n",
              "      <th>GarageFinish</th>\n",
              "      <th>GarageCars</th>\n",
              "      <th>GarageArea</th>\n",
              "      <th>GarageQual</th>\n",
              "      <th>GarageCond</th>\n",
              "      <th>PavedDrive</th>\n",
              "      <th>WoodDeckSF</th>\n",
              "      <th>OpenPorchSF</th>\n",
              "      <th>EnclosedPorch</th>\n",
              "      <th>3SsnPorch</th>\n",
              "      <th>ScreenPorch</th>\n",
              "      <th>Fence</th>\n",
              "      <th>MiscFeature</th>\n",
              "      <th>MiscVal</th>\n",
              "      <th>MoSold</th>\n",
              "      <th>YrSold</th>\n",
              "      <th>SaleType</th>\n",
              "      <th>SaleCondition</th>\n",
              "      <th>SalePrice</th>\n",
              "    </tr>\n",
              "  </thead>\n",
              "  <tbody>\n",
              "  </tbody>\n",
              "</table>\n",
              "</div>"
            ],
            "text/plain": [
              "Empty DataFrame\n",
              "Columns: [Id, MSSubClass, MSZoning, LotFrontage, LotArea, Street, Alley, LotShape, LandContour, Utilities, LotConfig, LandSlope, Neighborhood, Condition1, Condition2, BldgType, HouseStyle, OverallQual, OverallCond, YearBuilt, YearRemodAdd, RoofStyle, RoofMatl, Exterior1st, Exterior2nd, MasVnrType, MasVnrArea, ExterQual, ExterCond, Foundation, BsmtQual, BsmtCond, BsmtExposure, BsmtFinType1, BsmtFinSF1, BsmtFinType2, BsmtFinSF2, BsmtUnfSF, Heating, HeatingQC, CentralAir, Electrical, 1stFlrSF, 2ndFlrSF, LowQualFinSF, GrLivArea, BsmtFullBath, BsmtHalfBath, FullBath, HalfBath, BedroomAbvGr, KitchenAbvGr, KitchenQual, TotRmsAbvGrd, Functional, Fireplaces, FireplaceQu, GarageType, GarageYrBlt, GarageFinish, GarageCars, GarageArea, GarageQual, GarageCond, PavedDrive, WoodDeckSF, OpenPorchSF, EnclosedPorch, 3SsnPorch, ScreenPorch, Fence, MiscFeature, MiscVal, MoSold, YrSold, SaleType, SaleCondition, SalePrice]\n",
              "Index: []"
            ]
          },
          "metadata": {
            "tags": []
          },
          "execution_count": 394
        }
      ]
    },
    {
      "cell_type": "code",
      "metadata": {
        "colab": {
          "base_uri": "https://localhost:8080/",
          "height": 373
        },
        "id": "-2-PDwMHBb5L",
        "outputId": "bd16c4aa-cfbc-46c8-dc22-8af007a0fd30"
      },
      "source": [
        "sns.displot(initial_df, x='SalePrice', kind='kde') #the KDE clearly indicates that there are outliers on the higher end of 'SalePrice' scale."
      ],
      "execution_count": 395,
      "outputs": [
        {
          "output_type": "execute_result",
          "data": {
            "text/plain": [
              "<seaborn.axisgrid.FacetGrid at 0x7f77d2d23d50>"
            ]
          },
          "metadata": {
            "tags": []
          },
          "execution_count": 395
        },
        {
          "output_type": "display_data",
          "data": {
            "image/png": "[encoded data removed]",
            "text/plain": [
              "<Figure size 360x360 with 1 Axes>"
            ]
          },
          "metadata": {
            "tags": []
          }
        }
      ]
    },
    {
      "cell_type": "code",
      "metadata": {
        "colab": {
          "base_uri": "https://localhost:8080/"
        },
        "id": "SDimHI_iFFXH",
        "outputId": "3f647e6c-42e7-49e4-a94f-c59b31e09e11"
      },
      "source": [
        "initial_df['SalePrice'].skew() #skew is beyond acceptible range of [-1,1]"
      ],
      "execution_count": 396,
      "outputs": [
        {
          "output_type": "execute_result",
          "data": {
            "text/plain": [
              "1.8828757597682129"
            ]
          },
          "metadata": {
            "tags": []
          },
          "execution_count": 396
        }
      ]
    },
    {
      "cell_type": "code",
      "metadata": {
        "colab": {
          "base_uri": "https://localhost:8080/"
        },
        "id": "nJXiarHcGKiT",
        "outputId": "b26c3fbf-8fd4-40e6-a340-a9241680f71a"
      },
      "source": [
        "initial_df['SalePrice'].kurt() #kurtosis is beyond acceptible range of [-5,5]"
      ],
      "execution_count": 397,
      "outputs": [
        {
          "output_type": "execute_result",
          "data": {
            "text/plain": [
              "6.536281860064529"
            ]
          },
          "metadata": {
            "tags": []
          },
          "execution_count": 397
        }
      ]
    },
    {
      "cell_type": "code",
      "metadata": {
        "colab": {
          "base_uri": "https://localhost:8080/"
        },
        "id": "05jFfYPqGpF7",
        "outputId": "5f875d3f-d593-4a4d-8687-4d0381cbef4a"
      },
      "source": [
        "np.log1p(initial_df['SalePrice']).skew()"
      ],
      "execution_count": 398,
      "outputs": [
        {
          "output_type": "execute_result",
          "data": {
            "text/plain": [
              "0.12134661989685333"
            ]
          },
          "metadata": {
            "tags": []
          },
          "execution_count": 398
        }
      ]
    },
    {
      "cell_type": "code",
      "metadata": {
        "colab": {
          "base_uri": "https://localhost:8080/"
        },
        "id": "7JxyjHTVGxfI",
        "outputId": "6fab52a1-74b3-4f6e-c33d-8edf0f0012af"
      },
      "source": [
        "np.log1p(initial_df['SalePrice']).kurt()"
      ],
      "execution_count": 399,
      "outputs": [
        {
          "output_type": "execute_result",
          "data": {
            "text/plain": [
              "0.809519155707878"
            ]
          },
          "metadata": {
            "tags": []
          },
          "execution_count": 399
        }
      ]
    },
    {
      "cell_type": "code",
      "metadata": {
        "colab": {
          "base_uri": "https://localhost:8080/",
          "height": 373
        },
        "id": "PBeeN-N9HNuq",
        "outputId": "aaa84e1b-9a45-49dd-be60-c381ea2f2c3a"
      },
      "source": [
        "sns.displot(np.log1p(initial_df['SalePrice']), kind='kde')"
      ],
      "execution_count": 400,
      "outputs": [
        {
          "output_type": "execute_result",
          "data": {
            "text/plain": [
              "<seaborn.axisgrid.FacetGrid at 0x7f77d2de7ed0>"
            ]
          },
          "metadata": {
            "tags": []
          },
          "execution_count": 400
        },
        {
          "output_type": "display_data",
          "data": {
            "image/png": "[encoded data removed]",
            "text/plain": [
              "<Figure size 360x360 with 1 Axes>"
            ]
          },
          "metadata": {
            "tags": []
          }
        }
      ]
    },
    {
      "cell_type": "code",
      "metadata": {
        "colab": {
          "base_uri": "https://localhost:8080/"
        },
        "id": "liV96cflHzy7",
        "outputId": "cc207ce4-8e9f-4a50-bf80-f23e019f0673"
      },
      "source": [
        "initial_df['SalePrice'][:10]"
      ],
      "execution_count": 401,
      "outputs": [
        {
          "output_type": "execute_result",
          "data": {
            "text/plain": [
              "0    208500\n",
              "1    181500\n",
              "2    223500\n",
              "3    140000\n",
              "4    250000\n",
              "5    143000\n",
              "6    307000\n",
              "7    200000\n",
              "8    129900\n",
              "9    118000\n",
              "Name: SalePrice, dtype: int64"
            ]
          },
          "metadata": {
            "tags": []
          },
          "execution_count": 401
        }
      ]
    },
    {
      "cell_type": "code",
      "metadata": {
        "id": "9-3sKN0THpZe"
      },
      "source": [
        "initial_df['SalePrice'] = initial_df['SalePrice'].apply(np.log1p)"
      ],
      "execution_count": 402,
      "outputs": []
    },
    {
      "cell_type": "code",
      "metadata": {
        "colab": {
          "base_uri": "https://localhost:8080/"
        },
        "id": "pP_q_-t-H8W1",
        "outputId": "3e5fdf7d-768b-4ca1-ae94-8536ee475b8f"
      },
      "source": [
        "initial_df['SalePrice'][:10]"
      ],
      "execution_count": 403,
      "outputs": [
        {
          "output_type": "execute_result",
          "data": {
            "text/plain": [
              "0    12.247699\n",
              "1    12.109016\n",
              "2    12.317171\n",
              "3    11.849405\n",
              "4    12.429220\n",
              "5    11.870607\n",
              "6    12.634606\n",
              "7    12.206078\n",
              "8    11.774528\n",
              "9    11.678448\n",
              "Name: SalePrice, dtype: float64"
            ]
          },
          "metadata": {
            "tags": []
          },
          "execution_count": 403
        }
      ]
    },
    {
      "cell_type": "markdown",
      "metadata": {
        "id": "SWgJq7wLqMZJ"
      },
      "source": [
        "__Feature Engineering, Transformations, Outlier Detection & Encoding__"
      ]
    },
    {
      "cell_type": "code",
      "metadata": {
        "colab": {
          "base_uri": "https://localhost:8080/"
        },
        "id": "6adw5xXcwzFQ",
        "outputId": "62e5e7d0-b4ab-4ad7-9a54-1e64d92c019c"
      },
      "source": [
        "initial_df.MSSubClass.unique()"
      ],
      "execution_count": 404,
      "outputs": [
        {
          "output_type": "execute_result",
          "data": {
            "text/plain": [
              "array([ 60,  20,  70,  50, 190,  45,  90, 120,  30,  85,  80, 160,  75,\n",
              "       180,  40])"
            ]
          },
          "metadata": {
            "tags": []
          },
          "execution_count": 404
        }
      ]
    },
    {
      "cell_type": "code",
      "metadata": {
        "id": "nlnXT87zU9nQ"
      },
      "source": [
        "initial_df.MSSubClass = initial_df.MSSubClass.astype(str)"
      ],
      "execution_count": 405,
      "outputs": []
    },
    {
      "cell_type": "markdown",
      "metadata": {
        "id": "vEzB8b92p4t4"
      },
      "source": [
        "Feature Engineering"
      ]
    },
    {
      "cell_type": "code",
      "metadata": {
        "id": "Qz-QaiGdp32u"
      },
      "source": [
        "# Let us drop the column 'Id' that has no significance from prediction perspective\n",
        "initial_df.drop(['Id'], axis=1, inplace=True)"
      ],
      "execution_count": 406,
      "outputs": []
    },
    {
      "cell_type": "code",
      "metadata": {
        "colab": {
          "base_uri": "https://localhost:8080/",
          "height": 108
        },
        "id": "lWffIEy3q28X",
        "outputId": "9de77d8a-b704-4e47-b66e-55ba1757dee5"
      },
      "source": [
        "initial_df[['YearBuilt','YearRemodAdd']].corr()"
      ],
      "execution_count": 407,
      "outputs": [
        {
          "output_type": "execute_result",
          "data": {
            "text/html": [
              "<div>\n",
              "<style scoped>\n",
              "    .dataframe tbody tr th:only-of-type {\n",
              "        vertical-align: middle;\n",
              "    }\n",
              "\n",
              "    .dataframe tbody tr th {\n",
              "        vertical-align: top;\n",
              "    }\n",
              "\n",
              "    .dataframe thead th {\n",
              "        text-align: right;\n",
              "    }\n",
              "</style>\n",
              "<table border=\"1\" class=\"dataframe\">\n",
              "  <thead>\n",
              "    <tr style=\"text-align: right;\">\n",
              "      <th></th>\n",
              "      <th>YearBuilt</th>\n",
              "      <th>YearRemodAdd</th>\n",
              "    </tr>\n",
              "  </thead>\n",
              "  <tbody>\n",
              "    <tr>\n",
              "      <th>YearBuilt</th>\n",
              "      <td>1.000000</td>\n",
              "      <td>0.592855</td>\n",
              "    </tr>\n",
              "    <tr>\n",
              "      <th>YearRemodAdd</th>\n",
              "      <td>0.592855</td>\n",
              "      <td>1.000000</td>\n",
              "    </tr>\n",
              "  </tbody>\n",
              "</table>\n",
              "</div>"
            ],
            "text/plain": [
              "              YearBuilt  YearRemodAdd\n",
              "YearBuilt      1.000000      0.592855\n",
              "YearRemodAdd   0.592855      1.000000"
            ]
          },
          "metadata": {
            "tags": []
          },
          "execution_count": 407
        }
      ]
    },
    {
      "cell_type": "markdown",
      "metadata": {
        "id": "OFSNGj0GsmW4"
      },
      "source": [
        "The correlation between Year of Built and Year of Remodel is not high enough to be marked as redundant information. So we keep both the columns."
      ]
    },
    {
      "cell_type": "code",
      "metadata": {
        "colab": {
          "base_uri": "https://localhost:8080/",
          "height": 108
        },
        "id": "IrNABHR0tFql",
        "outputId": "62c02713-5650-452b-c84f-a394a7e0ffab"
      },
      "source": [
        "initial_df[['YearBuilt','YrSold']].corr()"
      ],
      "execution_count": 408,
      "outputs": [
        {
          "output_type": "execute_result",
          "data": {
            "text/html": [
              "<div>\n",
              "<style scoped>\n",
              "    .dataframe tbody tr th:only-of-type {\n",
              "        vertical-align: middle;\n",
              "    }\n",
              "\n",
              "    .dataframe tbody tr th {\n",
              "        vertical-align: top;\n",
              "    }\n",
              "\n",
              "    .dataframe thead th {\n",
              "        text-align: right;\n",
              "    }\n",
              "</style>\n",
              "<table border=\"1\" class=\"dataframe\">\n",
              "  <thead>\n",
              "    <tr style=\"text-align: right;\">\n",
              "      <th></th>\n",
              "      <th>YearBuilt</th>\n",
              "      <th>YrSold</th>\n",
              "    </tr>\n",
              "  </thead>\n",
              "  <tbody>\n",
              "    <tr>\n",
              "      <th>YearBuilt</th>\n",
              "      <td>1.000000</td>\n",
              "      <td>-0.013618</td>\n",
              "    </tr>\n",
              "    <tr>\n",
              "      <th>YrSold</th>\n",
              "      <td>-0.013618</td>\n",
              "      <td>1.000000</td>\n",
              "    </tr>\n",
              "  </tbody>\n",
              "</table>\n",
              "</div>"
            ],
            "text/plain": [
              "           YearBuilt    YrSold\n",
              "YearBuilt   1.000000 -0.013618\n",
              "YrSold     -0.013618  1.000000"
            ]
          },
          "metadata": {
            "tags": []
          },
          "execution_count": 408
        }
      ]
    },
    {
      "cell_type": "markdown",
      "metadata": {
        "id": "0Up2-EUVtXYA"
      },
      "source": [
        "There is no correlation between Year of Built and Year of Sale. Later we may experiment by keeping only the difference between the columns instead of both columns."
      ]
    },
    {
      "cell_type": "markdown",
      "metadata": {
        "id": "zdn9TLhVcPrM"
      },
      "source": [
        "Check for outliers using Box Plot"
      ]
    },
    {
      "cell_type": "code",
      "metadata": {
        "colab": {
          "base_uri": "https://localhost:8080/",
          "height": 272
        },
        "id": "NrfUJEmqcO3g",
        "outputId": "26d9ad52-f9bd-41ec-e4f8-63050fe8cb12"
      },
      "source": [
        "display_box_plot(initial_df[['SalePrice']])"
      ],
      "execution_count": 409,
      "outputs": [
        {
          "output_type": "display_data",
          "data": {
            "image/png": "[encoded data removed]",
            "text/plain": [
              "<Figure size 432x288 with 1 Axes>"
            ]
          },
          "metadata": {
            "tags": []
          }
        }
      ]
    },
    {
      "cell_type": "code",
      "metadata": {
        "colab": {
          "base_uri": "https://localhost:8080/",
          "height": 272
        },
        "id": "t-wftvTweCY8",
        "outputId": "fade8500-b8cc-4ab5-e984-572fdc298491"
      },
      "source": [
        "display_box_plot(initial_df[['SalePrice']].apply(np.expm1)) #just checking outlier distribution if we had not taken log1p of column 'SalePrice'"
      ],
      "execution_count": 410,
      "outputs": [
        {
          "output_type": "display_data",
          "data": {
            "image/png": "[encoded data removed]",
            "text/plain": [
              "<Figure size 432x288 with 1 Axes>"
            ]
          },
          "metadata": {
            "tags": []
          }
        }
      ]
    },
    {
      "cell_type": "code",
      "metadata": {
        "colab": {
          "base_uri": "https://localhost:8080/",
          "height": 272
        },
        "id": "1k5mVFbygUyS",
        "outputId": "dad32f62-127f-4d42-c335-0a39fe2525c5"
      },
      "source": [
        "display_box_plot(initial_df[['LotArea']]) #checking outlier distribution of column 'LotArea'"
      ],
      "execution_count": 411,
      "outputs": [
        {
          "output_type": "display_data",
          "data": {
            "image/png": "[encoded data removed]",
            "text/plain": [
              "<Figure size 432x288 with 1 Axes>"
            ]
          },
          "metadata": {
            "tags": []
          }
        }
      ]
    },
    {
      "cell_type": "code",
      "metadata": {
        "colab": {
          "base_uri": "https://localhost:8080/",
          "height": 272
        },
        "id": "jJaIJgAyfDry",
        "outputId": "9bad31a7-f840-4c2c-f51e-10bca1d184f2"
      },
      "source": [
        "display_box_plot(initial_df[['LotFrontage','YearBuilt','YearRemodAdd','MasVnrArea','BsmtFinSF1']]) #checking outlier distribution of columns 'LotFrontage','YearBuilt','YearRemodAdd','MasVnrArea','BsmtFinSF1'"
      ],
      "execution_count": 412,
      "outputs": [
        {
          "output_type": "display_data",
          "data": {
            "image/png": "[encoded data removed]",
            "text/plain": [
              "<Figure size 432x288 with 1 Axes>"
            ]
          },
          "metadata": {
            "tags": []
          }
        }
      ]
    },
    {
      "cell_type": "markdown",
      "metadata": {
        "id": "vXRT5h5RbN3C"
      },
      "source": [
        "Identify and remove extreme outliers (less than Q1-3IQR or greater than Q3+3IQR)"
      ]
    },
    {
      "cell_type": "code",
      "metadata": {
        "colab": {
          "base_uri": "https://localhost:8080/"
        },
        "id": "4_8RayxTjiT7",
        "outputId": "42e862a5-28cf-436a-b5eb-d9dee0b92014"
      },
      "source": [
        "out_df = remove_extreme_outliers(initial_df)\n",
        "print (out_df)"
      ],
      "execution_count": 413,
      "outputs": [
        {
          "output_type": "stream",
          "text": [
            "     MSSubClass MSZoning  LotFrontage  ...  SaleType SaleCondition  SalePrice\n",
            "0            60       RL         65.0  ...        WD        Normal  12.247699\n",
            "1            20       RL         80.0  ...        WD        Normal  12.109016\n",
            "2            60       RL         68.0  ...        WD        Normal  12.317171\n",
            "3            70       RL         60.0  ...        WD       Abnorml  11.849405\n",
            "4            60       RL         84.0  ...        WD        Normal  12.429220\n",
            "...         ...      ...          ...  ...       ...           ...        ...\n",
            "1454         20       FV         62.0  ...        WD        Normal  12.128117\n",
            "1455         60       RL         62.0  ...        WD        Normal  12.072547\n",
            "1456         20       RL         85.0  ...        WD        Normal  12.254868\n",
            "1458         20       RL         68.0  ...        WD        Normal  11.864469\n",
            "1459         20       RL         75.0  ...        WD        Normal  11.901590\n",
            "\n",
            "[1294 rows x 77 columns]\n"
          ],
          "name": "stdout"
        }
      ]
    },
    {
      "cell_type": "markdown",
      "metadata": {
        "id": "Of6yoNuCMI2l"
      },
      "source": [
        "__Collect Metadata__"
      ]
    },
    {
      "cell_type": "code",
      "metadata": {
        "colab": {
          "base_uri": "https://localhost:8080/"
        },
        "id": "Y2Z7JR2nMZhI",
        "outputId": "7731ae01-4438-4849-a187-da91647ea648"
      },
      "source": [
        "out_df['MSSubClass'].unique()"
      ],
      "execution_count": 414,
      "outputs": [
        {
          "output_type": "execute_result",
          "data": {
            "text/plain": [
              "array(['60', '20', '70', '45', '120', '30', '85', '50', '90', '80', '160',\n",
              "       '75', '180', '40', '190'], dtype=object)"
            ]
          },
          "metadata": {
            "tags": []
          },
          "execution_count": 414
        }
      ]
    },
    {
      "cell_type": "code",
      "metadata": {
        "id": "YQTrJPvjQhRG"
      },
      "source": [
        "metadata_dict = {}\n",
        "max_length = 0"
      ],
      "execution_count": 415,
      "outputs": []
    },
    {
      "cell_type": "code",
      "metadata": {
        "colab": {
          "base_uri": "https://localhost:8080/"
        },
        "id": "7lkAtm8zRkXx",
        "outputId": "e7e89ca2-1010-48dd-d30a-f727bce23f67"
      },
      "source": [
        "for i in out_df.columns:\n",
        "  if out_df[i].dtype=='O':\n",
        "    metadata_dict[i] = list(out_df[i].unique())\n",
        "    print(metadata_dict[i])\n",
        "    if len(metadata_dict[i]) > max_length:\n",
        "      max_length = len(metadata_dict[i])"
      ],
      "execution_count": 416,
      "outputs": [
        {
          "output_type": "stream",
          "text": [
            "['60', '20', '70', '45', '120', '30', '85', '50', '90', '80', '160', '75', '180', '40', '190']\n",
            "['RL', 'RM', 'C (all)', 'FV', 'RH']\n",
            "['Pave', 'Grvl']\n",
            "['NA', 'Grvl', 'Pave']\n",
            "['Reg', 'IR1', 'IR2', 'IR3']\n",
            "['Lvl', 'Bnk', 'Low', 'HLS']\n",
            "['AllPub', 'NoSeWa']\n",
            "['Inside', 'FR2', 'Corner', 'CulDSac', 'FR3']\n",
            "['Gtl', 'Mod', 'Sev']\n",
            "['CollgCr', 'Veenker', 'Crawfor', 'NoRidge', 'Somerst', 'Sawyer', 'NridgHt', 'NAmes', 'BrkSide', 'SawyerW', 'IDOTRR', 'MeadowV', 'Timber', 'Mitchel', 'Gilbert', 'StoneBr', 'OldTown', 'ClearCr', 'Edwards', 'NWAmes', 'NPkVill', 'Blmngtn', 'BrDale', 'SWISU', 'Blueste']\n",
            "['Norm', 'Feedr', 'RRAe', 'RRNn', 'RRAn', 'PosA', 'Artery', 'PosN', 'RRNe']\n",
            "['Norm', 'RRNn', 'Feedr', 'PosN', 'PosA']\n",
            "['1Fam', 'TwnhsE', 'Duplex', 'Twnhs', '2fmCon']\n",
            "['2Story', '1Story', '1.5Unf', 'SFoyer', '1.5Fin', 'SLvl', '2.5Unf', '2.5Fin']\n",
            "['Gable', 'Hip', 'Gambrel', 'Flat', 'Mansard', 'Shed']\n",
            "['CompShg', 'WdShngl', 'WdShake', 'Membran', 'Tar&Grv']\n",
            "['VinylSd', 'MetalSd', 'Wd Sdng', 'HdBoard', 'WdShing', 'BrkFace', 'CemntBd', 'Plywood', 'Stucco', 'AsbShng', 'BrkComm', 'Stone', 'ImStucc', 'CBlock']\n",
            "['VinylSd', 'MetalSd', 'Wd Shng', 'HdBoard', 'Plywood', 'Wd Sdng', 'CmentBd', 'BrkFace', 'Stucco', 'AsbShng', 'Brk Cmn', 'ImStucc', 'AsphShn', 'Other', 'Stone', 'CBlock']\n",
            "['BrkFace', 'None', 'Stone', 'BrkCmn']\n",
            "['Gd', 'TA', 'Ex', 'Fa']\n",
            "['TA', 'Gd', 'Fa', 'Ex']\n",
            "['PConc', 'CBlock', 'BrkTil', 'Slab', 'Stone', 'Wood']\n",
            "['Gd', 'TA', 'Ex', 'NA', 'Fa']\n",
            "['TA', 'Gd', 'Fa', 'NA', 'Po']\n",
            "['No', 'Gd', 'Mn', 'Av', 'NA']\n",
            "['GLQ', 'ALQ', 'Rec', 'Unf', 'BLQ', 'LwQ', 'NA']\n",
            "['Unf', 'ALQ', 'Rec', 'LwQ', 'BLQ', 'GLQ', 'NA']\n",
            "['GasA', 'GasW', 'Grav', 'Wall', 'OthW', 'Floor']\n",
            "['Ex', 'Gd', 'TA', 'Fa', 'Po']\n",
            "['Y', 'N']\n",
            "['SBrkr', 'FuseA', 'FuseF', 'FuseP', 'Mix']\n",
            "['Gd', 'TA', 'Ex', 'Fa']\n",
            "['Typ', 'Min1', 'Maj1', 'Min2', 'Mod', 'Maj2', 'Sev']\n",
            "['NA', 'TA', 'Gd', 'Fa', 'Ex', 'Po']\n",
            "['Attchd', 'Detchd', 'BuiltIn', 'CarPort', 'NA', 'Basment', '2Types']\n",
            "['RFn', 'Unf', 'Fin', 'NA']\n",
            "['TA', 'Fa', 'NA', 'Gd', 'Ex', 'Po']\n",
            "['TA', 'Fa', 'Gd', 'NA', 'Ex', 'Po']\n",
            "['Y', 'N', 'P']\n",
            "['NA', 'GdWo', 'GdPrv', 'MnPrv', 'MnWw']\n",
            "['NA', 'Shed']\n",
            "['WD', 'New', 'COD', 'ConLI', 'CWD', 'ConLw', 'Con', 'ConLD', 'Oth']\n",
            "['Normal', 'Abnorml', 'Partial', 'Family', 'AdjLand', 'Alloca']\n"
          ],
          "name": "stdout"
        }
      ]
    },
    {
      "cell_type": "code",
      "metadata": {
        "id": "mKcXjkW04yz2"
      },
      "source": [
        "for i in metadata_dict.keys():\n",
        "  padding = ['Absent' for j in range(max_length-len(metadata_dict[i]))]\n",
        "  metadata_dict[i].extend(padding)\n",
        "\n",
        "#metadata_dict"
      ],
      "execution_count": 417,
      "outputs": []
    },
    {
      "cell_type": "code",
      "metadata": {
        "id": "99fyPaKazTM_"
      },
      "source": [
        "metadata_df = pd.DataFrame(data=metadata_dict)"
      ],
      "execution_count": 418,
      "outputs": []
    },
    {
      "cell_type": "code",
      "metadata": {
        "colab": {
          "base_uri": "https://localhost:8080/",
          "height": 220
        },
        "id": "u6RPiByQP5vQ",
        "outputId": "ff4fb518-156c-4f8e-eee9-aee04ae43342"
      },
      "source": [
        "metadata_df.head()"
      ],
      "execution_count": 419,
      "outputs": [
        {
          "output_type": "execute_result",
          "data": {
            "text/html": [
              "<div>\n",
              "<style scoped>\n",
              "    .dataframe tbody tr th:only-of-type {\n",
              "        vertical-align: middle;\n",
              "    }\n",
              "\n",
              "    .dataframe tbody tr th {\n",
              "        vertical-align: top;\n",
              "    }\n",
              "\n",
              "    .dataframe thead th {\n",
              "        text-align: right;\n",
              "    }\n",
              "</style>\n",
              "<table border=\"1\" class=\"dataframe\">\n",
              "  <thead>\n",
              "    <tr style=\"text-align: right;\">\n",
              "      <th></th>\n",
              "      <th>MSSubClass</th>\n",
              "      <th>MSZoning</th>\n",
              "      <th>Street</th>\n",
              "      <th>Alley</th>\n",
              "      <th>LotShape</th>\n",
              "      <th>LandContour</th>\n",
              "      <th>Utilities</th>\n",
              "      <th>LotConfig</th>\n",
              "      <th>LandSlope</th>\n",
              "      <th>Neighborhood</th>\n",
              "      <th>Condition1</th>\n",
              "      <th>Condition2</th>\n",
              "      <th>BldgType</th>\n",
              "      <th>HouseStyle</th>\n",
              "      <th>RoofStyle</th>\n",
              "      <th>RoofMatl</th>\n",
              "      <th>Exterior1st</th>\n",
              "      <th>Exterior2nd</th>\n",
              "      <th>MasVnrType</th>\n",
              "      <th>ExterQual</th>\n",
              "      <th>ExterCond</th>\n",
              "      <th>Foundation</th>\n",
              "      <th>BsmtQual</th>\n",
              "      <th>BsmtCond</th>\n",
              "      <th>BsmtExposure</th>\n",
              "      <th>BsmtFinType1</th>\n",
              "      <th>BsmtFinType2</th>\n",
              "      <th>Heating</th>\n",
              "      <th>HeatingQC</th>\n",
              "      <th>CentralAir</th>\n",
              "      <th>Electrical</th>\n",
              "      <th>KitchenQual</th>\n",
              "      <th>Functional</th>\n",
              "      <th>FireplaceQu</th>\n",
              "      <th>GarageType</th>\n",
              "      <th>GarageFinish</th>\n",
              "      <th>GarageQual</th>\n",
              "      <th>GarageCond</th>\n",
              "      <th>PavedDrive</th>\n",
              "      <th>Fence</th>\n",
              "      <th>MiscFeature</th>\n",
              "      <th>SaleType</th>\n",
              "      <th>SaleCondition</th>\n",
              "    </tr>\n",
              "  </thead>\n",
              "  <tbody>\n",
              "    <tr>\n",
              "      <th>0</th>\n",
              "      <td>60</td>\n",
              "      <td>RL</td>\n",
              "      <td>Pave</td>\n",
              "      <td>NA</td>\n",
              "      <td>Reg</td>\n",
              "      <td>Lvl</td>\n",
              "      <td>AllPub</td>\n",
              "      <td>Inside</td>\n",
              "      <td>Gtl</td>\n",
              "      <td>CollgCr</td>\n",
              "      <td>Norm</td>\n",
              "      <td>Norm</td>\n",
              "      <td>1Fam</td>\n",
              "      <td>2Story</td>\n",
              "      <td>Gable</td>\n",
              "      <td>CompShg</td>\n",
              "      <td>VinylSd</td>\n",
              "      <td>VinylSd</td>\n",
              "      <td>BrkFace</td>\n",
              "      <td>Gd</td>\n",
              "      <td>TA</td>\n",
              "      <td>PConc</td>\n",
              "      <td>Gd</td>\n",
              "      <td>TA</td>\n",
              "      <td>No</td>\n",
              "      <td>GLQ</td>\n",
              "      <td>Unf</td>\n",
              "      <td>GasA</td>\n",
              "      <td>Ex</td>\n",
              "      <td>Y</td>\n",
              "      <td>SBrkr</td>\n",
              "      <td>Gd</td>\n",
              "      <td>Typ</td>\n",
              "      <td>NA</td>\n",
              "      <td>Attchd</td>\n",
              "      <td>RFn</td>\n",
              "      <td>TA</td>\n",
              "      <td>TA</td>\n",
              "      <td>Y</td>\n",
              "      <td>NA</td>\n",
              "      <td>NA</td>\n",
              "      <td>WD</td>\n",
              "      <td>Normal</td>\n",
              "    </tr>\n",
              "    <tr>\n",
              "      <th>1</th>\n",
              "      <td>20</td>\n",
              "      <td>RM</td>\n",
              "      <td>Grvl</td>\n",
              "      <td>Grvl</td>\n",
              "      <td>IR1</td>\n",
              "      <td>Bnk</td>\n",
              "      <td>NoSeWa</td>\n",
              "      <td>FR2</td>\n",
              "      <td>Mod</td>\n",
              "      <td>Veenker</td>\n",
              "      <td>Feedr</td>\n",
              "      <td>RRNn</td>\n",
              "      <td>TwnhsE</td>\n",
              "      <td>1Story</td>\n",
              "      <td>Hip</td>\n",
              "      <td>WdShngl</td>\n",
              "      <td>MetalSd</td>\n",
              "      <td>MetalSd</td>\n",
              "      <td>None</td>\n",
              "      <td>TA</td>\n",
              "      <td>Gd</td>\n",
              "      <td>CBlock</td>\n",
              "      <td>TA</td>\n",
              "      <td>Gd</td>\n",
              "      <td>Gd</td>\n",
              "      <td>ALQ</td>\n",
              "      <td>ALQ</td>\n",
              "      <td>GasW</td>\n",
              "      <td>Gd</td>\n",
              "      <td>N</td>\n",
              "      <td>FuseA</td>\n",
              "      <td>TA</td>\n",
              "      <td>Min1</td>\n",
              "      <td>TA</td>\n",
              "      <td>Detchd</td>\n",
              "      <td>Unf</td>\n",
              "      <td>Fa</td>\n",
              "      <td>Fa</td>\n",
              "      <td>N</td>\n",
              "      <td>GdWo</td>\n",
              "      <td>Shed</td>\n",
              "      <td>New</td>\n",
              "      <td>Abnorml</td>\n",
              "    </tr>\n",
              "    <tr>\n",
              "      <th>2</th>\n",
              "      <td>70</td>\n",
              "      <td>C (all)</td>\n",
              "      <td>Absent</td>\n",
              "      <td>Pave</td>\n",
              "      <td>IR2</td>\n",
              "      <td>Low</td>\n",
              "      <td>Absent</td>\n",
              "      <td>Corner</td>\n",
              "      <td>Sev</td>\n",
              "      <td>Crawfor</td>\n",
              "      <td>RRAe</td>\n",
              "      <td>Feedr</td>\n",
              "      <td>Duplex</td>\n",
              "      <td>1.5Unf</td>\n",
              "      <td>Gambrel</td>\n",
              "      <td>WdShake</td>\n",
              "      <td>Wd Sdng</td>\n",
              "      <td>Wd Shng</td>\n",
              "      <td>Stone</td>\n",
              "      <td>Ex</td>\n",
              "      <td>Fa</td>\n",
              "      <td>BrkTil</td>\n",
              "      <td>Ex</td>\n",
              "      <td>Fa</td>\n",
              "      <td>Mn</td>\n",
              "      <td>Rec</td>\n",
              "      <td>Rec</td>\n",
              "      <td>Grav</td>\n",
              "      <td>TA</td>\n",
              "      <td>Absent</td>\n",
              "      <td>FuseF</td>\n",
              "      <td>Ex</td>\n",
              "      <td>Maj1</td>\n",
              "      <td>Gd</td>\n",
              "      <td>BuiltIn</td>\n",
              "      <td>Fin</td>\n",
              "      <td>NA</td>\n",
              "      <td>Gd</td>\n",
              "      <td>P</td>\n",
              "      <td>GdPrv</td>\n",
              "      <td>Absent</td>\n",
              "      <td>COD</td>\n",
              "      <td>Partial</td>\n",
              "    </tr>\n",
              "    <tr>\n",
              "      <th>3</th>\n",
              "      <td>45</td>\n",
              "      <td>FV</td>\n",
              "      <td>Absent</td>\n",
              "      <td>Absent</td>\n",
              "      <td>IR3</td>\n",
              "      <td>HLS</td>\n",
              "      <td>Absent</td>\n",
              "      <td>CulDSac</td>\n",
              "      <td>Absent</td>\n",
              "      <td>NoRidge</td>\n",
              "      <td>RRNn</td>\n",
              "      <td>PosN</td>\n",
              "      <td>Twnhs</td>\n",
              "      <td>SFoyer</td>\n",
              "      <td>Flat</td>\n",
              "      <td>Membran</td>\n",
              "      <td>HdBoard</td>\n",
              "      <td>HdBoard</td>\n",
              "      <td>BrkCmn</td>\n",
              "      <td>Fa</td>\n",
              "      <td>Ex</td>\n",
              "      <td>Slab</td>\n",
              "      <td>NA</td>\n",
              "      <td>NA</td>\n",
              "      <td>Av</td>\n",
              "      <td>Unf</td>\n",
              "      <td>LwQ</td>\n",
              "      <td>Wall</td>\n",
              "      <td>Fa</td>\n",
              "      <td>Absent</td>\n",
              "      <td>FuseP</td>\n",
              "      <td>Fa</td>\n",
              "      <td>Min2</td>\n",
              "      <td>Fa</td>\n",
              "      <td>CarPort</td>\n",
              "      <td>NA</td>\n",
              "      <td>Gd</td>\n",
              "      <td>NA</td>\n",
              "      <td>Absent</td>\n",
              "      <td>MnPrv</td>\n",
              "      <td>Absent</td>\n",
              "      <td>ConLI</td>\n",
              "      <td>Family</td>\n",
              "    </tr>\n",
              "    <tr>\n",
              "      <th>4</th>\n",
              "      <td>120</td>\n",
              "      <td>RH</td>\n",
              "      <td>Absent</td>\n",
              "      <td>Absent</td>\n",
              "      <td>Absent</td>\n",
              "      <td>Absent</td>\n",
              "      <td>Absent</td>\n",
              "      <td>FR3</td>\n",
              "      <td>Absent</td>\n",
              "      <td>Somerst</td>\n",
              "      <td>RRAn</td>\n",
              "      <td>PosA</td>\n",
              "      <td>2fmCon</td>\n",
              "      <td>1.5Fin</td>\n",
              "      <td>Mansard</td>\n",
              "      <td>Tar&amp;Grv</td>\n",
              "      <td>WdShing</td>\n",
              "      <td>Plywood</td>\n",
              "      <td>Absent</td>\n",
              "      <td>Absent</td>\n",
              "      <td>Absent</td>\n",
              "      <td>Stone</td>\n",
              "      <td>Fa</td>\n",
              "      <td>Po</td>\n",
              "      <td>NA</td>\n",
              "      <td>BLQ</td>\n",
              "      <td>BLQ</td>\n",
              "      <td>OthW</td>\n",
              "      <td>Po</td>\n",
              "      <td>Absent</td>\n",
              "      <td>Mix</td>\n",
              "      <td>Absent</td>\n",
              "      <td>Mod</td>\n",
              "      <td>Ex</td>\n",
              "      <td>NA</td>\n",
              "      <td>Absent</td>\n",
              "      <td>Ex</td>\n",
              "      <td>Ex</td>\n",
              "      <td>Absent</td>\n",
              "      <td>MnWw</td>\n",
              "      <td>Absent</td>\n",
              "      <td>CWD</td>\n",
              "      <td>AdjLand</td>\n",
              "    </tr>\n",
              "  </tbody>\n",
              "</table>\n",
              "</div>"
            ],
            "text/plain": [
              "  MSSubClass MSZoning  Street   Alley  ...  Fence MiscFeature SaleType SaleCondition\n",
              "0         60       RL    Pave      NA  ...     NA          NA       WD        Normal\n",
              "1         20       RM    Grvl    Grvl  ...   GdWo        Shed      New       Abnorml\n",
              "2         70  C (all)  Absent    Pave  ...  GdPrv      Absent      COD       Partial\n",
              "3         45       FV  Absent  Absent  ...  MnPrv      Absent    ConLI        Family\n",
              "4        120       RH  Absent  Absent  ...   MnWw      Absent      CWD       AdjLand\n",
              "\n",
              "[5 rows x 43 columns]"
            ]
          },
          "metadata": {
            "tags": []
          },
          "execution_count": 419
        }
      ]
    },
    {
      "cell_type": "markdown",
      "metadata": {
        "id": "QfyUjkXJyzMt"
      },
      "source": [
        "Next step is applying OHE to convert text columns into numerical representation"
      ]
    },
    {
      "cell_type": "code",
      "metadata": {
        "id": "NWs76DrBy93L"
      },
      "source": [
        "data_df = pd.get_dummies(out_df, drop_first=True)"
      ],
      "execution_count": 420,
      "outputs": []
    },
    {
      "cell_type": "code",
      "metadata": {
        "colab": {
          "base_uri": "https://localhost:8080/"
        },
        "id": "Tqkk1F-eiHhI",
        "outputId": "fcb2a2eb-06c5-4176-c8c4-a317ffbac358"
      },
      "source": [
        "X = data_df.drop(['SalePrice'], axis=1)\n",
        "y = data_df['SalePrice']\n",
        "print(X.shape)\n",
        "print(y.shape)\n"
      ],
      "execution_count": 421,
      "outputs": [
        {
          "output_type": "stream",
          "text": [
            "(1294, 256)\n",
            "(1294,)\n"
          ],
          "name": "stdout"
        }
      ]
    },
    {
      "cell_type": "code",
      "metadata": {
        "colab": {
          "base_uri": "https://localhost:8080/",
          "height": 247
        },
        "id": "URfWKx6lnLNI",
        "outputId": "c524a1c6-b3db-4692-efc2-e8cfe5b2ea19"
      },
      "source": [
        "X.head()"
      ],
      "execution_count": 422,
      "outputs": [
        {
          "output_type": "execute_result",
          "data": {
            "text/html": [
              "<div>\n",
              "<style scoped>\n",
              "    .dataframe tbody tr th:only-of-type {\n",
              "        vertical-align: middle;\n",
              "    }\n",
              "\n",
              "    .dataframe tbody tr th {\n",
              "        vertical-align: top;\n",
              "    }\n",
              "\n",
              "    .dataframe thead th {\n",
              "        text-align: right;\n",
              "    }\n",
              "</style>\n",
              "<table border=\"1\" class=\"dataframe\">\n",
              "  <thead>\n",
              "    <tr style=\"text-align: right;\">\n",
              "      <th></th>\n",
              "      <th>LotFrontage</th>\n",
              "      <th>LotArea</th>\n",
              "      <th>OverallQual</th>\n",
              "      <th>OverallCond</th>\n",
              "      <th>YearBuilt</th>\n",
              "      <th>YearRemodAdd</th>\n",
              "      <th>MasVnrArea</th>\n",
              "      <th>BsmtFinSF1</th>\n",
              "      <th>BsmtFinSF2</th>\n",
              "      <th>BsmtUnfSF</th>\n",
              "      <th>1stFlrSF</th>\n",
              "      <th>2ndFlrSF</th>\n",
              "      <th>LowQualFinSF</th>\n",
              "      <th>GrLivArea</th>\n",
              "      <th>BsmtFullBath</th>\n",
              "      <th>BsmtHalfBath</th>\n",
              "      <th>FullBath</th>\n",
              "      <th>HalfBath</th>\n",
              "      <th>BedroomAbvGr</th>\n",
              "      <th>KitchenAbvGr</th>\n",
              "      <th>TotRmsAbvGrd</th>\n",
              "      <th>Fireplaces</th>\n",
              "      <th>GarageYrBlt</th>\n",
              "      <th>GarageCars</th>\n",
              "      <th>GarageArea</th>\n",
              "      <th>WoodDeckSF</th>\n",
              "      <th>OpenPorchSF</th>\n",
              "      <th>EnclosedPorch</th>\n",
              "      <th>3SsnPorch</th>\n",
              "      <th>ScreenPorch</th>\n",
              "      <th>MiscVal</th>\n",
              "      <th>MoSold</th>\n",
              "      <th>YrSold</th>\n",
              "      <th>MSSubClass_160</th>\n",
              "      <th>MSSubClass_180</th>\n",
              "      <th>MSSubClass_190</th>\n",
              "      <th>MSSubClass_20</th>\n",
              "      <th>MSSubClass_30</th>\n",
              "      <th>MSSubClass_40</th>\n",
              "      <th>MSSubClass_45</th>\n",
              "      <th>...</th>\n",
              "      <th>FireplaceQu_TA</th>\n",
              "      <th>GarageType_Attchd</th>\n",
              "      <th>GarageType_Basment</th>\n",
              "      <th>GarageType_BuiltIn</th>\n",
              "      <th>GarageType_CarPort</th>\n",
              "      <th>GarageType_Detchd</th>\n",
              "      <th>GarageType_NA</th>\n",
              "      <th>GarageFinish_NA</th>\n",
              "      <th>GarageFinish_RFn</th>\n",
              "      <th>GarageFinish_Unf</th>\n",
              "      <th>GarageQual_Fa</th>\n",
              "      <th>GarageQual_Gd</th>\n",
              "      <th>GarageQual_NA</th>\n",
              "      <th>GarageQual_Po</th>\n",
              "      <th>GarageQual_TA</th>\n",
              "      <th>GarageCond_Fa</th>\n",
              "      <th>GarageCond_Gd</th>\n",
              "      <th>GarageCond_NA</th>\n",
              "      <th>GarageCond_Po</th>\n",
              "      <th>GarageCond_TA</th>\n",
              "      <th>PavedDrive_P</th>\n",
              "      <th>PavedDrive_Y</th>\n",
              "      <th>Fence_GdWo</th>\n",
              "      <th>Fence_MnPrv</th>\n",
              "      <th>Fence_MnWw</th>\n",
              "      <th>Fence_NA</th>\n",
              "      <th>MiscFeature_Shed</th>\n",
              "      <th>SaleType_CWD</th>\n",
              "      <th>SaleType_Con</th>\n",
              "      <th>SaleType_ConLD</th>\n",
              "      <th>SaleType_ConLI</th>\n",
              "      <th>SaleType_ConLw</th>\n",
              "      <th>SaleType_New</th>\n",
              "      <th>SaleType_Oth</th>\n",
              "      <th>SaleType_WD</th>\n",
              "      <th>SaleCondition_AdjLand</th>\n",
              "      <th>SaleCondition_Alloca</th>\n",
              "      <th>SaleCondition_Family</th>\n",
              "      <th>SaleCondition_Normal</th>\n",
              "      <th>SaleCondition_Partial</th>\n",
              "    </tr>\n",
              "  </thead>\n",
              "  <tbody>\n",
              "    <tr>\n",
              "      <th>0</th>\n",
              "      <td>65.0</td>\n",
              "      <td>8450</td>\n",
              "      <td>7</td>\n",
              "      <td>5</td>\n",
              "      <td>2003</td>\n",
              "      <td>2003</td>\n",
              "      <td>196.0</td>\n",
              "      <td>706</td>\n",
              "      <td>0</td>\n",
              "      <td>150</td>\n",
              "      <td>856</td>\n",
              "      <td>854</td>\n",
              "      <td>0</td>\n",
              "      <td>1710</td>\n",
              "      <td>1</td>\n",
              "      <td>0</td>\n",
              "      <td>2</td>\n",
              "      <td>1</td>\n",
              "      <td>3</td>\n",
              "      <td>1</td>\n",
              "      <td>8</td>\n",
              "      <td>0</td>\n",
              "      <td>2003</td>\n",
              "      <td>2</td>\n",
              "      <td>548</td>\n",
              "      <td>0</td>\n",
              "      <td>61</td>\n",
              "      <td>0</td>\n",
              "      <td>0</td>\n",
              "      <td>0</td>\n",
              "      <td>0</td>\n",
              "      <td>2</td>\n",
              "      <td>2008</td>\n",
              "      <td>0</td>\n",
              "      <td>0</td>\n",
              "      <td>0</td>\n",
              "      <td>0</td>\n",
              "      <td>0</td>\n",
              "      <td>0</td>\n",
              "      <td>0</td>\n",
              "      <td>...</td>\n",
              "      <td>0</td>\n",
              "      <td>1</td>\n",
              "      <td>0</td>\n",
              "      <td>0</td>\n",
              "      <td>0</td>\n",
              "      <td>0</td>\n",
              "      <td>0</td>\n",
              "      <td>0</td>\n",
              "      <td>1</td>\n",
              "      <td>0</td>\n",
              "      <td>0</td>\n",
              "      <td>0</td>\n",
              "      <td>0</td>\n",
              "      <td>0</td>\n",
              "      <td>1</td>\n",
              "      <td>0</td>\n",
              "      <td>0</td>\n",
              "      <td>0</td>\n",
              "      <td>0</td>\n",
              "      <td>1</td>\n",
              "      <td>0</td>\n",
              "      <td>1</td>\n",
              "      <td>0</td>\n",
              "      <td>0</td>\n",
              "      <td>0</td>\n",
              "      <td>1</td>\n",
              "      <td>0</td>\n",
              "      <td>0</td>\n",
              "      <td>0</td>\n",
              "      <td>0</td>\n",
              "      <td>0</td>\n",
              "      <td>0</td>\n",
              "      <td>0</td>\n",
              "      <td>0</td>\n",
              "      <td>1</td>\n",
              "      <td>0</td>\n",
              "      <td>0</td>\n",
              "      <td>0</td>\n",
              "      <td>1</td>\n",
              "      <td>0</td>\n",
              "    </tr>\n",
              "    <tr>\n",
              "      <th>1</th>\n",
              "      <td>80.0</td>\n",
              "      <td>9600</td>\n",
              "      <td>6</td>\n",
              "      <td>8</td>\n",
              "      <td>1976</td>\n",
              "      <td>1976</td>\n",
              "      <td>0.0</td>\n",
              "      <td>978</td>\n",
              "      <td>0</td>\n",
              "      <td>284</td>\n",
              "      <td>1262</td>\n",
              "      <td>0</td>\n",
              "      <td>0</td>\n",
              "      <td>1262</td>\n",
              "      <td>0</td>\n",
              "      <td>1</td>\n",
              "      <td>2</td>\n",
              "      <td>0</td>\n",
              "      <td>3</td>\n",
              "      <td>1</td>\n",
              "      <td>6</td>\n",
              "      <td>1</td>\n",
              "      <td>1976</td>\n",
              "      <td>2</td>\n",
              "      <td>460</td>\n",
              "      <td>298</td>\n",
              "      <td>0</td>\n",
              "      <td>0</td>\n",
              "      <td>0</td>\n",
              "      <td>0</td>\n",
              "      <td>0</td>\n",
              "      <td>5</td>\n",
              "      <td>2007</td>\n",
              "      <td>0</td>\n",
              "      <td>0</td>\n",
              "      <td>0</td>\n",
              "      <td>1</td>\n",
              "      <td>0</td>\n",
              "      <td>0</td>\n",
              "      <td>0</td>\n",
              "      <td>...</td>\n",
              "      <td>1</td>\n",
              "      <td>1</td>\n",
              "      <td>0</td>\n",
              "      <td>0</td>\n",
              "      <td>0</td>\n",
              "      <td>0</td>\n",
              "      <td>0</td>\n",
              "      <td>0</td>\n",
              "      <td>1</td>\n",
              "      <td>0</td>\n",
              "      <td>0</td>\n",
              "      <td>0</td>\n",
              "      <td>0</td>\n",
              "      <td>0</td>\n",
              "      <td>1</td>\n",
              "      <td>0</td>\n",
              "      <td>0</td>\n",
              "      <td>0</td>\n",
              "      <td>0</td>\n",
              "      <td>1</td>\n",
              "      <td>0</td>\n",
              "      <td>1</td>\n",
              "      <td>0</td>\n",
              "      <td>0</td>\n",
              "      <td>0</td>\n",
              "      <td>1</td>\n",
              "      <td>0</td>\n",
              "      <td>0</td>\n",
              "      <td>0</td>\n",
              "      <td>0</td>\n",
              "      <td>0</td>\n",
              "      <td>0</td>\n",
              "      <td>0</td>\n",
              "      <td>0</td>\n",
              "      <td>1</td>\n",
              "      <td>0</td>\n",
              "      <td>0</td>\n",
              "      <td>0</td>\n",
              "      <td>1</td>\n",
              "      <td>0</td>\n",
              "    </tr>\n",
              "    <tr>\n",
              "      <th>2</th>\n",
              "      <td>68.0</td>\n",
              "      <td>11250</td>\n",
              "      <td>7</td>\n",
              "      <td>5</td>\n",
              "      <td>2001</td>\n",
              "      <td>2002</td>\n",
              "      <td>162.0</td>\n",
              "      <td>486</td>\n",
              "      <td>0</td>\n",
              "      <td>434</td>\n",
              "      <td>920</td>\n",
              "      <td>866</td>\n",
              "      <td>0</td>\n",
              "      <td>1786</td>\n",
              "      <td>1</td>\n",
              "      <td>0</td>\n",
              "      <td>2</td>\n",
              "      <td>1</td>\n",
              "      <td>3</td>\n",
              "      <td>1</td>\n",
              "      <td>6</td>\n",
              "      <td>1</td>\n",
              "      <td>2001</td>\n",
              "      <td>2</td>\n",
              "      <td>608</td>\n",
              "      <td>0</td>\n",
              "      <td>42</td>\n",
              "      <td>0</td>\n",
              "      <td>0</td>\n",
              "      <td>0</td>\n",
              "      <td>0</td>\n",
              "      <td>9</td>\n",
              "      <td>2008</td>\n",
              "      <td>0</td>\n",
              "      <td>0</td>\n",
              "      <td>0</td>\n",
              "      <td>0</td>\n",
              "      <td>0</td>\n",
              "      <td>0</td>\n",
              "      <td>0</td>\n",
              "      <td>...</td>\n",
              "      <td>1</td>\n",
              "      <td>1</td>\n",
              "      <td>0</td>\n",
              "      <td>0</td>\n",
              "      <td>0</td>\n",
              "      <td>0</td>\n",
              "      <td>0</td>\n",
              "      <td>0</td>\n",
              "      <td>1</td>\n",
              "      <td>0</td>\n",
              "      <td>0</td>\n",
              "      <td>0</td>\n",
              "      <td>0</td>\n",
              "      <td>0</td>\n",
              "      <td>1</td>\n",
              "      <td>0</td>\n",
              "      <td>0</td>\n",
              "      <td>0</td>\n",
              "      <td>0</td>\n",
              "      <td>1</td>\n",
              "      <td>0</td>\n",
              "      <td>1</td>\n",
              "      <td>0</td>\n",
              "      <td>0</td>\n",
              "      <td>0</td>\n",
              "      <td>1</td>\n",
              "      <td>0</td>\n",
              "      <td>0</td>\n",
              "      <td>0</td>\n",
              "      <td>0</td>\n",
              "      <td>0</td>\n",
              "      <td>0</td>\n",
              "      <td>0</td>\n",
              "      <td>0</td>\n",
              "      <td>1</td>\n",
              "      <td>0</td>\n",
              "      <td>0</td>\n",
              "      <td>0</td>\n",
              "      <td>1</td>\n",
              "      <td>0</td>\n",
              "    </tr>\n",
              "    <tr>\n",
              "      <th>3</th>\n",
              "      <td>60.0</td>\n",
              "      <td>9550</td>\n",
              "      <td>7</td>\n",
              "      <td>5</td>\n",
              "      <td>1915</td>\n",
              "      <td>1970</td>\n",
              "      <td>0.0</td>\n",
              "      <td>216</td>\n",
              "      <td>0</td>\n",
              "      <td>540</td>\n",
              "      <td>961</td>\n",
              "      <td>756</td>\n",
              "      <td>0</td>\n",
              "      <td>1717</td>\n",
              "      <td>1</td>\n",
              "      <td>0</td>\n",
              "      <td>1</td>\n",
              "      <td>0</td>\n",
              "      <td>3</td>\n",
              "      <td>1</td>\n",
              "      <td>7</td>\n",
              "      <td>1</td>\n",
              "      <td>1998</td>\n",
              "      <td>3</td>\n",
              "      <td>642</td>\n",
              "      <td>0</td>\n",
              "      <td>35</td>\n",
              "      <td>272</td>\n",
              "      <td>0</td>\n",
              "      <td>0</td>\n",
              "      <td>0</td>\n",
              "      <td>2</td>\n",
              "      <td>2006</td>\n",
              "      <td>0</td>\n",
              "      <td>0</td>\n",
              "      <td>0</td>\n",
              "      <td>0</td>\n",
              "      <td>0</td>\n",
              "      <td>0</td>\n",
              "      <td>0</td>\n",
              "      <td>...</td>\n",
              "      <td>0</td>\n",
              "      <td>0</td>\n",
              "      <td>0</td>\n",
              "      <td>0</td>\n",
              "      <td>0</td>\n",
              "      <td>1</td>\n",
              "      <td>0</td>\n",
              "      <td>0</td>\n",
              "      <td>0</td>\n",
              "      <td>1</td>\n",
              "      <td>0</td>\n",
              "      <td>0</td>\n",
              "      <td>0</td>\n",
              "      <td>0</td>\n",
              "      <td>1</td>\n",
              "      <td>0</td>\n",
              "      <td>0</td>\n",
              "      <td>0</td>\n",
              "      <td>0</td>\n",
              "      <td>1</td>\n",
              "      <td>0</td>\n",
              "      <td>1</td>\n",
              "      <td>0</td>\n",
              "      <td>0</td>\n",
              "      <td>0</td>\n",
              "      <td>1</td>\n",
              "      <td>0</td>\n",
              "      <td>0</td>\n",
              "      <td>0</td>\n",
              "      <td>0</td>\n",
              "      <td>0</td>\n",
              "      <td>0</td>\n",
              "      <td>0</td>\n",
              "      <td>0</td>\n",
              "      <td>1</td>\n",
              "      <td>0</td>\n",
              "      <td>0</td>\n",
              "      <td>0</td>\n",
              "      <td>0</td>\n",
              "      <td>0</td>\n",
              "    </tr>\n",
              "    <tr>\n",
              "      <th>4</th>\n",
              "      <td>84.0</td>\n",
              "      <td>14260</td>\n",
              "      <td>8</td>\n",
              "      <td>5</td>\n",
              "      <td>2000</td>\n",
              "      <td>2000</td>\n",
              "      <td>350.0</td>\n",
              "      <td>655</td>\n",
              "      <td>0</td>\n",
              "      <td>490</td>\n",
              "      <td>1145</td>\n",
              "      <td>1053</td>\n",
              "      <td>0</td>\n",
              "      <td>2198</td>\n",
              "      <td>1</td>\n",
              "      <td>0</td>\n",
              "      <td>2</td>\n",
              "      <td>1</td>\n",
              "      <td>4</td>\n",
              "      <td>1</td>\n",
              "      <td>9</td>\n",
              "      <td>1</td>\n",
              "      <td>2000</td>\n",
              "      <td>3</td>\n",
              "      <td>836</td>\n",
              "      <td>192</td>\n",
              "      <td>84</td>\n",
              "      <td>0</td>\n",
              "      <td>0</td>\n",
              "      <td>0</td>\n",
              "      <td>0</td>\n",
              "      <td>12</td>\n",
              "      <td>2008</td>\n",
              "      <td>0</td>\n",
              "      <td>0</td>\n",
              "      <td>0</td>\n",
              "      <td>0</td>\n",
              "      <td>0</td>\n",
              "      <td>0</td>\n",
              "      <td>0</td>\n",
              "      <td>...</td>\n",
              "      <td>1</td>\n",
              "      <td>1</td>\n",
              "      <td>0</td>\n",
              "      <td>0</td>\n",
              "      <td>0</td>\n",
              "      <td>0</td>\n",
              "      <td>0</td>\n",
              "      <td>0</td>\n",
              "      <td>1</td>\n",
              "      <td>0</td>\n",
              "      <td>0</td>\n",
              "      <td>0</td>\n",
              "      <td>0</td>\n",
              "      <td>0</td>\n",
              "      <td>1</td>\n",
              "      <td>0</td>\n",
              "      <td>0</td>\n",
              "      <td>0</td>\n",
              "      <td>0</td>\n",
              "      <td>1</td>\n",
              "      <td>0</td>\n",
              "      <td>1</td>\n",
              "      <td>0</td>\n",
              "      <td>0</td>\n",
              "      <td>0</td>\n",
              "      <td>1</td>\n",
              "      <td>0</td>\n",
              "      <td>0</td>\n",
              "      <td>0</td>\n",
              "      <td>0</td>\n",
              "      <td>0</td>\n",
              "      <td>0</td>\n",
              "      <td>0</td>\n",
              "      <td>0</td>\n",
              "      <td>1</td>\n",
              "      <td>0</td>\n",
              "      <td>0</td>\n",
              "      <td>0</td>\n",
              "      <td>1</td>\n",
              "      <td>0</td>\n",
              "    </tr>\n",
              "  </tbody>\n",
              "</table>\n",
              "<p>5 rows × 256 columns</p>\n",
              "</div>"
            ],
            "text/plain": [
              "   LotFrontage  LotArea  ...  SaleCondition_Normal  SaleCondition_Partial\n",
              "0         65.0     8450  ...                     1                      0\n",
              "1         80.0     9600  ...                     1                      0\n",
              "2         68.0    11250  ...                     1                      0\n",
              "3         60.0     9550  ...                     0                      0\n",
              "4         84.0    14260  ...                     1                      0\n",
              "\n",
              "[5 rows x 256 columns]"
            ]
          },
          "metadata": {
            "tags": []
          },
          "execution_count": 422
        }
      ]
    },
    {
      "cell_type": "markdown",
      "metadata": {
        "id": "nZoqVTVYOIkR"
      },
      "source": [
        "Split the data into train and test"
      ]
    },
    {
      "cell_type": "code",
      "metadata": {
        "id": "SY7hiOPuOIIQ"
      },
      "source": [
        "from sklearn.model_selection import train_test_split\n",
        "X_train, X_test, y_train, y_test = train_test_split(X, y, test_size=0.20, random_state=0)"
      ],
      "execution_count": 423,
      "outputs": []
    },
    {
      "cell_type": "markdown",
      "metadata": {
        "id": "8rV69r07zrYP"
      },
      "source": [
        "Just before modeling we apply Standard Scalar Transformation on the Independent Variables"
      ]
    },
    {
      "cell_type": "code",
      "metadata": {
        "colab": {
          "base_uri": "https://localhost:8080/"
        },
        "id": "sgGh6BW7ljXc",
        "outputId": "e74d485e-a047-4794-a708-f7940cfa7665"
      },
      "source": [
        "X_train = apply_standard_scalar(X_train)\n",
        "print(X_train.head())"
      ],
      "execution_count": 424,
      "outputs": [
        {
          "output_type": "stream",
          "text": [
            "   LotFrontage   LotArea  ...  SaleCondition_Normal  SaleCondition_Partial\n",
            "0    -0.951683 -0.954150  ...              0.457288              -0.314207\n",
            "1     0.228287 -0.117179  ...              0.457288              -0.314207\n",
            "2    -2.178851 -1.428211  ...              0.457288              -0.314207\n",
            "3    -0.479695 -0.188919  ...              0.457288              -0.314207\n",
            "4    -0.479695 -0.172850  ...              0.457288              -0.314207\n",
            "\n",
            "[5 rows x 256 columns]\n"
          ],
          "name": "stdout"
        }
      ]
    },
    {
      "cell_type": "code",
      "metadata": {
        "colab": {
          "base_uri": "https://localhost:8080/"
        },
        "id": "nKtrGFAre2XW",
        "outputId": "97666d1f-b176-4a7c-e1fb-f1fe1b45510e"
      },
      "source": [
        "X_test = apply_standard_scalar(X_test)\n",
        "print(X_test.head())"
      ],
      "execution_count": 425,
      "outputs": [
        {
          "output_type": "stream",
          "text": [
            "   LotFrontage   LotArea  ...  SaleCondition_Normal  SaleCondition_Partial\n",
            "0    -0.256471  0.315807  ...              0.489116              -0.334048\n",
            "1     0.241309  0.290016  ...              0.489116              -0.334048\n",
            "2     0.075383 -0.122107  ...              0.489116              -0.334048\n",
            "3    -1.086106 -0.331239  ...              0.489116              -0.334048\n",
            "4    -0.256471  0.413530  ...              0.489116              -0.334048\n",
            "\n",
            "[5 rows x 256 columns]\n"
          ],
          "name": "stdout"
        }
      ]
    },
    {
      "cell_type": "markdown",
      "metadata": {
        "id": "Vg_Xnw4uyInZ"
      },
      "source": [
        "Standard Scalar is also applied on the unsplitted data ('X') that we will use when training models based on Cross-Validation method"
      ]
    },
    {
      "cell_type": "code",
      "metadata": {
        "colab": {
          "base_uri": "https://localhost:8080/"
        },
        "id": "n4Q5_Ip7x7be",
        "outputId": "07ac398e-4171-4fea-aaa2-65950d3a2cfc"
      },
      "source": [
        "X = apply_standard_scalar(X)\n",
        "print(X.head())"
      ],
      "execution_count": 426,
      "outputs": [
        {
          "output_type": "stream",
          "text": [
            "   LotFrontage   LotArea  ...  SaleCondition_Normal  SaleCondition_Partial\n",
            "0    -0.245487 -0.285432  ...              0.463706               -0.31824\n",
            "1     0.482535 -0.069480  ...              0.463706               -0.31824\n",
            "2    -0.099883  0.240366  ...              0.463706               -0.31824\n",
            "3    -0.488161 -0.078869  ...             -2.156538               -0.31824\n",
            "4     0.676674  0.805598  ...              0.463706               -0.31824\n",
            "\n",
            "[5 rows x 256 columns]\n"
          ],
          "name": "stdout"
        }
      ]
    },
    {
      "cell_type": "code",
      "metadata": {
        "colab": {
          "base_uri": "https://localhost:8080/",
          "height": 247
        },
        "id": "dBH_m4qSqyCA",
        "outputId": "dd689a5f-149e-4c48-f237-e541cdd3d745"
      },
      "source": [
        "X_train.head()"
      ],
      "execution_count": 427,
      "outputs": [
        {
          "output_type": "execute_result",
          "data": {
            "text/html": [
              "<div>\n",
              "<style scoped>\n",
              "    .dataframe tbody tr th:only-of-type {\n",
              "        vertical-align: middle;\n",
              "    }\n",
              "\n",
              "    .dataframe tbody tr th {\n",
              "        vertical-align: top;\n",
              "    }\n",
              "\n",
              "    .dataframe thead th {\n",
              "        text-align: right;\n",
              "    }\n",
              "</style>\n",
              "<table border=\"1\" class=\"dataframe\">\n",
              "  <thead>\n",
              "    <tr style=\"text-align: right;\">\n",
              "      <th></th>\n",
              "      <th>LotFrontage</th>\n",
              "      <th>LotArea</th>\n",
              "      <th>OverallQual</th>\n",
              "      <th>OverallCond</th>\n",
              "      <th>YearBuilt</th>\n",
              "      <th>YearRemodAdd</th>\n",
              "      <th>MasVnrArea</th>\n",
              "      <th>BsmtFinSF1</th>\n",
              "      <th>BsmtFinSF2</th>\n",
              "      <th>BsmtUnfSF</th>\n",
              "      <th>1stFlrSF</th>\n",
              "      <th>2ndFlrSF</th>\n",
              "      <th>LowQualFinSF</th>\n",
              "      <th>GrLivArea</th>\n",
              "      <th>BsmtFullBath</th>\n",
              "      <th>BsmtHalfBath</th>\n",
              "      <th>FullBath</th>\n",
              "      <th>HalfBath</th>\n",
              "      <th>BedroomAbvGr</th>\n",
              "      <th>KitchenAbvGr</th>\n",
              "      <th>TotRmsAbvGrd</th>\n",
              "      <th>Fireplaces</th>\n",
              "      <th>GarageYrBlt</th>\n",
              "      <th>GarageCars</th>\n",
              "      <th>GarageArea</th>\n",
              "      <th>WoodDeckSF</th>\n",
              "      <th>OpenPorchSF</th>\n",
              "      <th>EnclosedPorch</th>\n",
              "      <th>3SsnPorch</th>\n",
              "      <th>ScreenPorch</th>\n",
              "      <th>MiscVal</th>\n",
              "      <th>MoSold</th>\n",
              "      <th>YrSold</th>\n",
              "      <th>MSSubClass_160</th>\n",
              "      <th>MSSubClass_180</th>\n",
              "      <th>MSSubClass_190</th>\n",
              "      <th>MSSubClass_20</th>\n",
              "      <th>MSSubClass_30</th>\n",
              "      <th>MSSubClass_40</th>\n",
              "      <th>MSSubClass_45</th>\n",
              "      <th>...</th>\n",
              "      <th>FireplaceQu_TA</th>\n",
              "      <th>GarageType_Attchd</th>\n",
              "      <th>GarageType_Basment</th>\n",
              "      <th>GarageType_BuiltIn</th>\n",
              "      <th>GarageType_CarPort</th>\n",
              "      <th>GarageType_Detchd</th>\n",
              "      <th>GarageType_NA</th>\n",
              "      <th>GarageFinish_NA</th>\n",
              "      <th>GarageFinish_RFn</th>\n",
              "      <th>GarageFinish_Unf</th>\n",
              "      <th>GarageQual_Fa</th>\n",
              "      <th>GarageQual_Gd</th>\n",
              "      <th>GarageQual_NA</th>\n",
              "      <th>GarageQual_Po</th>\n",
              "      <th>GarageQual_TA</th>\n",
              "      <th>GarageCond_Fa</th>\n",
              "      <th>GarageCond_Gd</th>\n",
              "      <th>GarageCond_NA</th>\n",
              "      <th>GarageCond_Po</th>\n",
              "      <th>GarageCond_TA</th>\n",
              "      <th>PavedDrive_P</th>\n",
              "      <th>PavedDrive_Y</th>\n",
              "      <th>Fence_GdWo</th>\n",
              "      <th>Fence_MnPrv</th>\n",
              "      <th>Fence_MnWw</th>\n",
              "      <th>Fence_NA</th>\n",
              "      <th>MiscFeature_Shed</th>\n",
              "      <th>SaleType_CWD</th>\n",
              "      <th>SaleType_Con</th>\n",
              "      <th>SaleType_ConLD</th>\n",
              "      <th>SaleType_ConLI</th>\n",
              "      <th>SaleType_ConLw</th>\n",
              "      <th>SaleType_New</th>\n",
              "      <th>SaleType_Oth</th>\n",
              "      <th>SaleType_WD</th>\n",
              "      <th>SaleCondition_AdjLand</th>\n",
              "      <th>SaleCondition_Alloca</th>\n",
              "      <th>SaleCondition_Family</th>\n",
              "      <th>SaleCondition_Normal</th>\n",
              "      <th>SaleCondition_Partial</th>\n",
              "    </tr>\n",
              "  </thead>\n",
              "  <tbody>\n",
              "    <tr>\n",
              "      <th>0</th>\n",
              "      <td>-0.951683</td>\n",
              "      <td>-0.954150</td>\n",
              "      <td>-0.828532</td>\n",
              "      <td>0.410888</td>\n",
              "      <td>-1.701129</td>\n",
              "      <td>-1.753277</td>\n",
              "      <td>-0.582929</td>\n",
              "      <td>-0.524278</td>\n",
              "      <td>-0.291117</td>\n",
              "      <td>0.543550</td>\n",
              "      <td>-0.325880</td>\n",
              "      <td>0.764375</td>\n",
              "      <td>0.0</td>\n",
              "      <td>0.417803</td>\n",
              "      <td>-0.846655</td>\n",
              "      <td>-0.234619</td>\n",
              "      <td>0.827222</td>\n",
              "      <td>-0.788975</td>\n",
              "      <td>0.282674</td>\n",
              "      <td>0.0</td>\n",
              "      <td>-0.256465</td>\n",
              "      <td>0.643699</td>\n",
              "      <td>0.070823</td>\n",
              "      <td>-1.092654</td>\n",
              "      <td>-0.818182</td>\n",
              "      <td>-0.790461</td>\n",
              "      <td>-0.724998</td>\n",
              "      <td>4.172178</td>\n",
              "      <td>0.0</td>\n",
              "      <td>-0.274174</td>\n",
              "      <td>0.0</td>\n",
              "      <td>-0.470975</td>\n",
              "      <td>1.648790</td>\n",
              "      <td>-0.222925</td>\n",
              "      <td>-0.093659</td>\n",
              "      <td>-0.093659</td>\n",
              "      <td>-0.806671</td>\n",
              "      <td>-0.229998</td>\n",
              "      <td>-0.044001</td>\n",
              "      <td>-0.108306</td>\n",
              "      <td>...</td>\n",
              "      <td>-0.509042</td>\n",
              "      <td>-1.310166</td>\n",
              "      <td>-0.098773</td>\n",
              "      <td>-0.256732</td>\n",
              "      <td>-0.062287</td>\n",
              "      <td>1.739896</td>\n",
              "      <td>-0.210712</td>\n",
              "      <td>-0.210712</td>\n",
              "      <td>-0.640376</td>\n",
              "      <td>1.212504</td>\n",
              "      <td>-0.175717</td>\n",
              "      <td>-0.098773</td>\n",
              "      <td>-0.210712</td>\n",
              "      <td>-0.044001</td>\n",
              "      <td>0.304836</td>\n",
              "      <td>-0.154074</td>\n",
              "      <td>-0.082519</td>\n",
              "      <td>-0.210712</td>\n",
              "      <td>-0.062287</td>\n",
              "      <td>0.289430</td>\n",
              "      <td>-0.14391</td>\n",
              "      <td>0.279508</td>\n",
              "      <td>-0.208199</td>\n",
              "      <td>-0.330643</td>\n",
              "      <td>-0.088259</td>\n",
              "      <td>0.47724</td>\n",
              "      <td>-0.031099</td>\n",
              "      <td>-0.053916</td>\n",
              "      <td>-0.044001</td>\n",
              "      <td>-0.062287</td>\n",
              "      <td>-0.044001</td>\n",
              "      <td>-0.062287</td>\n",
              "      <td>-0.310481</td>\n",
              "      <td>-0.044001</td>\n",
              "      <td>0.390591</td>\n",
              "      <td>-0.044001</td>\n",
              "      <td>-0.044001</td>\n",
              "      <td>-0.117098</td>\n",
              "      <td>0.457288</td>\n",
              "      <td>-0.314207</td>\n",
              "    </tr>\n",
              "    <tr>\n",
              "      <th>1</th>\n",
              "      <td>0.228287</td>\n",
              "      <td>-0.117179</td>\n",
              "      <td>0.604268</td>\n",
              "      <td>-0.519679</td>\n",
              "      <td>0.993685</td>\n",
              "      <td>0.877980</td>\n",
              "      <td>-0.582929</td>\n",
              "      <td>-1.025681</td>\n",
              "      <td>-0.291117</td>\n",
              "      <td>0.781007</td>\n",
              "      <td>-0.635562</td>\n",
              "      <td>1.961264</td>\n",
              "      <td>0.0</td>\n",
              "      <td>1.218779</td>\n",
              "      <td>-0.846655</td>\n",
              "      <td>-0.234619</td>\n",
              "      <td>0.827222</td>\n",
              "      <td>1.237300</td>\n",
              "      <td>1.649812</td>\n",
              "      <td>0.0</td>\n",
              "      <td>1.064139</td>\n",
              "      <td>0.643699</td>\n",
              "      <td>0.268245</td>\n",
              "      <td>0.289860</td>\n",
              "      <td>0.650983</td>\n",
              "      <td>0.697177</td>\n",
              "      <td>2.025669</td>\n",
              "      <td>-0.349561</td>\n",
              "      <td>0.0</td>\n",
              "      <td>-0.274174</td>\n",
              "      <td>0.0</td>\n",
              "      <td>1.743072</td>\n",
              "      <td>0.887979</td>\n",
              "      <td>-0.222925</td>\n",
              "      <td>-0.093659</td>\n",
              "      <td>-0.093659</td>\n",
              "      <td>-0.806671</td>\n",
              "      <td>-0.229998</td>\n",
              "      <td>-0.044001</td>\n",
              "      <td>-0.108306</td>\n",
              "      <td>...</td>\n",
              "      <td>-0.509042</td>\n",
              "      <td>-1.310166</td>\n",
              "      <td>-0.098773</td>\n",
              "      <td>3.895109</td>\n",
              "      <td>-0.062287</td>\n",
              "      <td>-0.574747</td>\n",
              "      <td>-0.210712</td>\n",
              "      <td>-0.210712</td>\n",
              "      <td>-0.640376</td>\n",
              "      <td>-0.824739</td>\n",
              "      <td>-0.175717</td>\n",
              "      <td>-0.098773</td>\n",
              "      <td>-0.210712</td>\n",
              "      <td>-0.044001</td>\n",
              "      <td>0.304836</td>\n",
              "      <td>-0.154074</td>\n",
              "      <td>-0.082519</td>\n",
              "      <td>-0.210712</td>\n",
              "      <td>-0.062287</td>\n",
              "      <td>0.289430</td>\n",
              "      <td>-0.14391</td>\n",
              "      <td>0.279508</td>\n",
              "      <td>-0.208199</td>\n",
              "      <td>-0.330643</td>\n",
              "      <td>-0.088259</td>\n",
              "      <td>0.47724</td>\n",
              "      <td>-0.031099</td>\n",
              "      <td>-0.053916</td>\n",
              "      <td>-0.044001</td>\n",
              "      <td>-0.062287</td>\n",
              "      <td>-0.044001</td>\n",
              "      <td>-0.062287</td>\n",
              "      <td>-0.310481</td>\n",
              "      <td>-0.044001</td>\n",
              "      <td>0.390591</td>\n",
              "      <td>-0.044001</td>\n",
              "      <td>-0.044001</td>\n",
              "      <td>-0.117098</td>\n",
              "      <td>0.457288</td>\n",
              "      <td>-0.314207</td>\n",
              "    </tr>\n",
              "    <tr>\n",
              "      <th>2</th>\n",
              "      <td>-2.178851</td>\n",
              "      <td>-1.428211</td>\n",
              "      <td>0.604268</td>\n",
              "      <td>-0.519679</td>\n",
              "      <td>1.027797</td>\n",
              "      <td>0.877980</td>\n",
              "      <td>-0.310689</td>\n",
              "      <td>-1.025681</td>\n",
              "      <td>-0.291117</td>\n",
              "      <td>0.913436</td>\n",
              "      <td>-0.478004</td>\n",
              "      <td>0.935689</td>\n",
              "      <td>0.0</td>\n",
              "      <td>0.453578</td>\n",
              "      <td>-0.846655</td>\n",
              "      <td>-0.234619</td>\n",
              "      <td>0.827222</td>\n",
              "      <td>-0.788975</td>\n",
              "      <td>0.282674</td>\n",
              "      <td>0.0</td>\n",
              "      <td>0.403837</td>\n",
              "      <td>-0.946345</td>\n",
              "      <td>0.270744</td>\n",
              "      <td>0.289860</td>\n",
              "      <td>-0.473622</td>\n",
              "      <td>-0.790461</td>\n",
              "      <td>-0.120456</td>\n",
              "      <td>-0.349561</td>\n",
              "      <td>0.0</td>\n",
              "      <td>-0.274174</td>\n",
              "      <td>0.0</td>\n",
              "      <td>-0.839983</td>\n",
              "      <td>-1.394451</td>\n",
              "      <td>4.485805</td>\n",
              "      <td>-0.093659</td>\n",
              "      <td>-0.093659</td>\n",
              "      <td>-0.806671</td>\n",
              "      <td>-0.229998</td>\n",
              "      <td>-0.044001</td>\n",
              "      <td>-0.108306</td>\n",
              "      <td>...</td>\n",
              "      <td>-0.509042</td>\n",
              "      <td>-1.310166</td>\n",
              "      <td>-0.098773</td>\n",
              "      <td>-0.256732</td>\n",
              "      <td>-0.062287</td>\n",
              "      <td>1.739896</td>\n",
              "      <td>-0.210712</td>\n",
              "      <td>-0.210712</td>\n",
              "      <td>-0.640376</td>\n",
              "      <td>1.212504</td>\n",
              "      <td>-0.175717</td>\n",
              "      <td>-0.098773</td>\n",
              "      <td>-0.210712</td>\n",
              "      <td>-0.044001</td>\n",
              "      <td>0.304836</td>\n",
              "      <td>-0.154074</td>\n",
              "      <td>-0.082519</td>\n",
              "      <td>-0.210712</td>\n",
              "      <td>-0.062287</td>\n",
              "      <td>0.289430</td>\n",
              "      <td>-0.14391</td>\n",
              "      <td>0.279508</td>\n",
              "      <td>-0.208199</td>\n",
              "      <td>-0.330643</td>\n",
              "      <td>-0.088259</td>\n",
              "      <td>0.47724</td>\n",
              "      <td>-0.031099</td>\n",
              "      <td>-0.053916</td>\n",
              "      <td>-0.044001</td>\n",
              "      <td>-0.062287</td>\n",
              "      <td>-0.044001</td>\n",
              "      <td>-0.062287</td>\n",
              "      <td>-0.310481</td>\n",
              "      <td>-0.044001</td>\n",
              "      <td>0.390591</td>\n",
              "      <td>-0.044001</td>\n",
              "      <td>-0.044001</td>\n",
              "      <td>-0.117098</td>\n",
              "      <td>0.457288</td>\n",
              "      <td>-0.314207</td>\n",
              "    </tr>\n",
              "    <tr>\n",
              "      <th>3</th>\n",
              "      <td>-0.479695</td>\n",
              "      <td>-0.188919</td>\n",
              "      <td>-0.112132</td>\n",
              "      <td>-2.380812</td>\n",
              "      <td>-1.564683</td>\n",
              "      <td>-1.753277</td>\n",
              "      <td>-0.582929</td>\n",
              "      <td>-1.025681</td>\n",
              "      <td>-0.291117</td>\n",
              "      <td>0.488752</td>\n",
              "      <td>-0.983276</td>\n",
              "      <td>-0.775145</td>\n",
              "      <td>0.0</td>\n",
              "      <td>-1.384890</td>\n",
              "      <td>-0.846655</td>\n",
              "      <td>-0.234619</td>\n",
              "      <td>-1.017982</td>\n",
              "      <td>-0.788975</td>\n",
              "      <td>-1.084464</td>\n",
              "      <td>0.0</td>\n",
              "      <td>-0.916767</td>\n",
              "      <td>-0.946345</td>\n",
              "      <td>0.135797</td>\n",
              "      <td>0.289860</td>\n",
              "      <td>-0.569333</td>\n",
              "      <td>-0.790461</td>\n",
              "      <td>-0.724998</td>\n",
              "      <td>1.350763</td>\n",
              "      <td>0.0</td>\n",
              "      <td>-0.274174</td>\n",
              "      <td>0.0</td>\n",
              "      <td>1.374064</td>\n",
              "      <td>0.887979</td>\n",
              "      <td>-0.222925</td>\n",
              "      <td>-0.093659</td>\n",
              "      <td>-0.093659</td>\n",
              "      <td>-0.806671</td>\n",
              "      <td>-0.229998</td>\n",
              "      <td>-0.044001</td>\n",
              "      <td>9.233093</td>\n",
              "      <td>...</td>\n",
              "      <td>-0.509042</td>\n",
              "      <td>-1.310166</td>\n",
              "      <td>-0.098773</td>\n",
              "      <td>-0.256732</td>\n",
              "      <td>-0.062287</td>\n",
              "      <td>1.739896</td>\n",
              "      <td>-0.210712</td>\n",
              "      <td>-0.210712</td>\n",
              "      <td>-0.640376</td>\n",
              "      <td>1.212504</td>\n",
              "      <td>5.690966</td>\n",
              "      <td>-0.098773</td>\n",
              "      <td>-0.210712</td>\n",
              "      <td>-0.044001</td>\n",
              "      <td>-3.280452</td>\n",
              "      <td>6.490377</td>\n",
              "      <td>-0.082519</td>\n",
              "      <td>-0.210712</td>\n",
              "      <td>-0.062287</td>\n",
              "      <td>-3.455069</td>\n",
              "      <td>-0.14391</td>\n",
              "      <td>-3.577709</td>\n",
              "      <td>-0.208199</td>\n",
              "      <td>-0.330643</td>\n",
              "      <td>-0.088259</td>\n",
              "      <td>0.47724</td>\n",
              "      <td>-0.031099</td>\n",
              "      <td>-0.053916</td>\n",
              "      <td>-0.044001</td>\n",
              "      <td>-0.062287</td>\n",
              "      <td>-0.044001</td>\n",
              "      <td>-0.062287</td>\n",
              "      <td>-0.310481</td>\n",
              "      <td>-0.044001</td>\n",
              "      <td>0.390591</td>\n",
              "      <td>-0.044001</td>\n",
              "      <td>-0.044001</td>\n",
              "      <td>-0.117098</td>\n",
              "      <td>0.457288</td>\n",
              "      <td>-0.314207</td>\n",
              "    </tr>\n",
              "    <tr>\n",
              "      <th>4</th>\n",
              "      <td>-0.479695</td>\n",
              "      <td>-0.172850</td>\n",
              "      <td>-0.828532</td>\n",
              "      <td>0.410888</td>\n",
              "      <td>-1.121233</td>\n",
              "      <td>-1.753277</td>\n",
              "      <td>-0.582929</td>\n",
              "      <td>-0.482877</td>\n",
              "      <td>2.011286</td>\n",
              "      <td>-1.301314</td>\n",
              "      <td>-1.439651</td>\n",
              "      <td>0.370813</td>\n",
              "      <td>0.0</td>\n",
              "      <td>-0.734967</td>\n",
              "      <td>-0.846655</td>\n",
              "      <td>4.262237</td>\n",
              "      <td>-1.017982</td>\n",
              "      <td>-0.788975</td>\n",
              "      <td>0.282674</td>\n",
              "      <td>0.0</td>\n",
              "      <td>-0.916767</td>\n",
              "      <td>-0.946345</td>\n",
              "      <td>0.113306</td>\n",
              "      <td>-1.092654</td>\n",
              "      <td>-1.335021</td>\n",
              "      <td>-0.398117</td>\n",
              "      <td>-0.724998</td>\n",
              "      <td>-0.349561</td>\n",
              "      <td>0.0</td>\n",
              "      <td>-0.274174</td>\n",
              "      <td>0.0</td>\n",
              "      <td>-1.208991</td>\n",
              "      <td>0.127169</td>\n",
              "      <td>-0.222925</td>\n",
              "      <td>-0.093659</td>\n",
              "      <td>-0.093659</td>\n",
              "      <td>-0.806671</td>\n",
              "      <td>-0.229998</td>\n",
              "      <td>-0.044001</td>\n",
              "      <td>-0.108306</td>\n",
              "      <td>...</td>\n",
              "      <td>-0.509042</td>\n",
              "      <td>-1.310166</td>\n",
              "      <td>-0.098773</td>\n",
              "      <td>-0.256732</td>\n",
              "      <td>-0.062287</td>\n",
              "      <td>1.739896</td>\n",
              "      <td>-0.210712</td>\n",
              "      <td>-0.210712</td>\n",
              "      <td>-0.640376</td>\n",
              "      <td>1.212504</td>\n",
              "      <td>-0.175717</td>\n",
              "      <td>-0.098773</td>\n",
              "      <td>-0.210712</td>\n",
              "      <td>-0.044001</td>\n",
              "      <td>0.304836</td>\n",
              "      <td>6.490377</td>\n",
              "      <td>-0.082519</td>\n",
              "      <td>-0.210712</td>\n",
              "      <td>-0.062287</td>\n",
              "      <td>-3.455069</td>\n",
              "      <td>-0.14391</td>\n",
              "      <td>0.279508</td>\n",
              "      <td>-0.208199</td>\n",
              "      <td>-0.330643</td>\n",
              "      <td>-0.088259</td>\n",
              "      <td>0.47724</td>\n",
              "      <td>-0.031099</td>\n",
              "      <td>-0.053916</td>\n",
              "      <td>-0.044001</td>\n",
              "      <td>-0.062287</td>\n",
              "      <td>-0.044001</td>\n",
              "      <td>16.054594</td>\n",
              "      <td>-0.310481</td>\n",
              "      <td>-0.044001</td>\n",
              "      <td>-2.560224</td>\n",
              "      <td>-0.044001</td>\n",
              "      <td>-0.044001</td>\n",
              "      <td>-0.117098</td>\n",
              "      <td>0.457288</td>\n",
              "      <td>-0.314207</td>\n",
              "    </tr>\n",
              "  </tbody>\n",
              "</table>\n",
              "<p>5 rows × 256 columns</p>\n",
              "</div>"
            ],
            "text/plain": [
              "   LotFrontage   LotArea  ...  SaleCondition_Normal  SaleCondition_Partial\n",
              "0    -0.951683 -0.954150  ...              0.457288              -0.314207\n",
              "1     0.228287 -0.117179  ...              0.457288              -0.314207\n",
              "2    -2.178851 -1.428211  ...              0.457288              -0.314207\n",
              "3    -0.479695 -0.188919  ...              0.457288              -0.314207\n",
              "4    -0.479695 -0.172850  ...              0.457288              -0.314207\n",
              "\n",
              "[5 rows x 256 columns]"
            ]
          },
          "metadata": {
            "tags": []
          },
          "execution_count": 427
        }
      ]
    },
    {
      "cell_type": "code",
      "metadata": {
        "colab": {
          "base_uri": "https://localhost:8080/"
        },
        "id": "2Jo6bLvfuReW",
        "outputId": "48ac6520-67d8-4583-bd53-bb5ee3271ef5"
      },
      "source": [
        "base_lr_model = LinearRegression()\n",
        "base_lr_model.fit(X_train, y_train)\n",
        "print('Base LR Model Score for Train data: ',base_lr_model.score(X_train, y_train))\n",
        "print('Base LR Model Score for Test data: ',base_lr_model.score(X_test, y_test))\n",
        "y_pred_train = base_lr_model.predict(X_train)\n",
        "y_pred_test = base_lr_model.predict(X_test)\n",
        "#Initial  Base LR Model Score:  0.933513297285893\n",
        "#Before pool drop hypothesis: 0.9502317727777844"
      ],
      "execution_count": 428,
      "outputs": [
        {
          "output_type": "stream",
          "text": [
            "Base LR Model Score for Train data:  0.9547088375730057\n",
            "Base LR Model Score for Test data:  -2.9268115671106427e+21\n"
          ],
          "name": "stdout"
        }
      ]
    },
    {
      "cell_type": "code",
      "metadata": {
        "colab": {
          "base_uri": "https://localhost:8080/"
        },
        "id": "jrO3Xff1hsfL",
        "outputId": "13ac4518-5dee-4093-ec5a-9f84afdecec7"
      },
      "source": [
        "y_train[:10]"
      ],
      "execution_count": 429,
      "outputs": [
        {
          "output_type": "execute_result",
          "data": {
            "text/plain": [
              "380     11.751950\n",
              "549     12.479913\n",
              "1088    11.831386\n",
              "383     11.238502\n",
              "352     11.461643\n",
              "695     12.078245\n",
              "372     11.736077\n",
              "1343    12.083911\n",
              "231     12.906694\n",
              "623     12.034697\n",
              "Name: SalePrice, dtype: float64"
            ]
          },
          "metadata": {
            "tags": []
          },
          "execution_count": 429
        }
      ]
    },
    {
      "cell_type": "code",
      "metadata": {
        "colab": {
          "base_uri": "https://localhost:8080/"
        },
        "id": "cGUYQLLSgJtc",
        "outputId": "2cf98f78-e7fc-47aa-fc0a-98c413f99974"
      },
      "source": [
        "y_pred_train[:10]"
      ],
      "execution_count": 430,
      "outputs": [
        {
          "output_type": "execute_result",
          "data": {
            "text/plain": [
              "array([11.93013526, 12.36170723, 11.87458946, 11.30041647, 11.42795023,\n",
              "       12.06047584, 11.68712694, 12.084085  , 12.83015205, 12.04709388])"
            ]
          },
          "metadata": {
            "tags": []
          },
          "execution_count": 430
        }
      ]
    },
    {
      "cell_type": "code",
      "metadata": {
        "colab": {
          "base_uri": "https://localhost:8080/"
        },
        "id": "gTdbwJD0hyAF",
        "outputId": "3cea4ce5-0a28-4709-c663-c21ab5f79413"
      },
      "source": [
        "y_test[:10]"
      ],
      "execution_count": 431,
      "outputs": [
        {
          "output_type": "execute_result",
          "data": {
            "text/plain": [
              "747     12.491176\n",
              "538     11.970357\n",
              "1418    11.728045\n",
              "284     12.096263\n",
              "759     12.577640\n",
              "362     12.198549\n",
              "1345    11.594515\n",
              "876     11.792457\n",
              "1148    11.669083\n",
              "251     12.367345\n",
              "Name: SalePrice, dtype: float64"
            ]
          },
          "metadata": {
            "tags": []
          },
          "execution_count": 431
        }
      ]
    },
    {
      "cell_type": "code",
      "metadata": {
        "colab": {
          "base_uri": "https://localhost:8080/"
        },
        "id": "WgSEgEM8gB-l",
        "outputId": "7eee52f9-7a90-4a3f-dd60-26e55c57352f"
      },
      "source": [
        "y_pred_test[:10]"
      ],
      "execution_count": 432,
      "outputs": [
        {
          "output_type": "execute_result",
          "data": {
            "text/plain": [
              "array([ 1.56356846e+09, -1.95068021e+09, -1.89848074e+09, -3.39834528e+09,\n",
              "        1.17457786e+09,  4.76482216e+09, -1.25816735e+09, -1.53656447e+09,\n",
              "        1.75582225e+09, -3.57234349e+09])"
            ]
          },
          "metadata": {
            "tags": []
          },
          "execution_count": 432
        }
      ]
    },
    {
      "cell_type": "code",
      "metadata": {
        "colab": {
          "base_uri": "https://localhost:8080/"
        },
        "id": "jqhcNoeVzSZ0",
        "outputId": "9db911e4-9f69-406d-847e-25ea08f99d64"
      },
      "source": [
        "#np.sqrt(mean_squared_error(y_train, y_pred_train))\n",
        "#Initial  20477.245365401137\n",
        "print('Base LR Model RMSE for train data: ',np.sqrt(mean_squared_error(np.expm1(y_train), np.expm1(y_pred_train))))\n",
        "#Before pool drop hypothesis: 17603.618590733702\n",
        "#print('Base LR Model RMSE for test data: ',np.sqrt(mean_squared_error(np.exp(y_test), np.exp(y_pred_test))))"
      ],
      "execution_count": 433,
      "outputs": [
        {
          "output_type": "stream",
          "text": [
            "Base LR Model RMSE for train data:  17393.68779954375\n"
          ],
          "name": "stdout"
        }
      ]
    },
    {
      "cell_type": "code",
      "metadata": {
        "colab": {
          "base_uri": "https://localhost:8080/"
        },
        "id": "PZScQTpWOWnh",
        "outputId": "bf67ac7e-8e5a-4d9b-9372-2bd275ab1c11"
      },
      "source": [
        "base_lr_model_fitted = base_lr_model.fit(X, y)\n",
        "score = cv_rmse(base_lr_model, X)\n",
        "print(\"lr: {:.4f} ({:.4f})\".format(score.mean(), score.std()))\n",
        "scores['base_lr_model_fitted'] = (score.mean(), score.std())"
      ],
      "execution_count": 434,
      "outputs": [
        {
          "output_type": "stream",
          "text": [
            "lr: 33459250822.1214 (43478222732.5103)\n"
          ],
          "name": "stdout"
        }
      ]
    },
    {
      "cell_type": "code",
      "metadata": {
        "id": "1ZYyY_Ms2_t2",
        "colab": {
          "base_uri": "https://localhost:8080/"
        },
        "outputId": "c620cda8-bc9a-430c-9eee-a37a08ee2cc8"
      },
      "source": [
        "base_lasso_model = Lasso(alpha=0.5, max_iter=10000)\n",
        "base_lasso_model.fit(X_train, y_train)\n",
        "print('Base Lasso Model Score: ',base_lasso_model.score(X_train, y_train))\n",
        "#Initial  Base Lasso Model Score:  0.9335876448041054\n",
        "y_pred_train = base_lasso_model.predict(X_train)\n",
        "#np.sqrt(mean_squared_error(y_train, y_pred_train))\n",
        "#Initial  20465.79301360276\n",
        "np.sqrt(mean_squared_error(np.expm1(y_train), np.expm1(y_pred_train)))\n",
        "#Before pool drop hypothesis: 80593.41152076224"
      ],
      "execution_count": 435,
      "outputs": [
        {
          "output_type": "stream",
          "text": [
            "Base Lasso Model Score:  0.0\n"
          ],
          "name": "stdout"
        },
        {
          "output_type": "execute_result",
          "data": {
            "text/plain": [
              "81285.91066946805"
            ]
          },
          "metadata": {
            "tags": []
          },
          "execution_count": 435
        }
      ]
    },
    {
      "cell_type": "code",
      "metadata": {
        "colab": {
          "base_uri": "https://localhost:8080/"
        },
        "id": "7jhMSWvV-UeL",
        "outputId": "1acd6b86-fe8f-46ab-8693-3a18b60505a3"
      },
      "source": [
        "base_lasso_model_fitted = base_lasso_model.fit(X, y)\n",
        "score = cv_rmse(base_lasso_model, X)\n",
        "print(\"lasso: {:.4f} ({:.4f})\".format(score.mean(), score.std()))\n",
        "scores['base_lasso_model_fitted'] = (score.mean(), score.std())"
      ],
      "execution_count": 436,
      "outputs": [
        {
          "output_type": "stream",
          "text": [
            "lasso: 0.4009 (0.0337)\n"
          ],
          "name": "stdout"
        }
      ]
    },
    {
      "cell_type": "code",
      "metadata": {
        "id": "z9QhokRK3czy",
        "colab": {
          "base_uri": "https://localhost:8080/"
        },
        "outputId": "cbe72c61-48a3-474e-bc20-26e1177a5b59"
      },
      "source": [
        "base_ridge_model = Ridge()\n",
        "base_ridge_model.fit(X_train, y_train)\n",
        "print('Base Ridge Model Score: ',base_ridge_model.score(X_train, y_train))\n",
        "#Initial  Base Ridge Model Score:  0.9333641175602412\n",
        "y_pred_train = base_ridge_model.predict(X_train)\n",
        "#np.sqrt(mean_squared_error(y_train, y_pred_train))\n",
        "#Initial  20500.205431793816\n",
        "np.sqrt(mean_squared_error(np.expm1(y_train), np.expm1(y_pred_train)))\n",
        "#Before pool drop hypothesis: 17618.844631798413"
      ],
      "execution_count": 437,
      "outputs": [
        {
          "output_type": "stream",
          "text": [
            "Base Ridge Model Score:  0.954476681387448\n"
          ],
          "name": "stdout"
        },
        {
          "output_type": "execute_result",
          "data": {
            "text/plain": [
              "17397.239652963013"
            ]
          },
          "metadata": {
            "tags": []
          },
          "execution_count": 437
        }
      ]
    },
    {
      "cell_type": "code",
      "metadata": {
        "colab": {
          "base_uri": "https://localhost:8080/"
        },
        "id": "5ddl9ycy-WLJ",
        "outputId": "4331224e-96e5-46a6-d50d-abe1a46827ec"
      },
      "source": [
        "base_ridge_model_fitted = base_ridge_model.fit(X, y)\n",
        "score = cv_rmse(base_ridge_model, X)\n",
        "print(\"ridge: {:.4f} ({:.4f})\".format(score.mean(), score.std()))\n",
        "scores['base_ridge_model_fitted'] = (score.mean(), score.std())\n",
        "#ridge: 0.1277 (0.0284)"
      ],
      "execution_count": 438,
      "outputs": [
        {
          "output_type": "stream",
          "text": [
            "ridge: 0.1277 (0.0284)\n"
          ],
          "name": "stdout"
        }
      ]
    },
    {
      "cell_type": "code",
      "metadata": {
        "id": "KmoDp06aBFdY"
      },
      "source": [
        "ridge_alphas = [1e-15, 1e-10, 1e-8, 9e-4, 7e-4, 5e-4, 3e-4, 1e-4, 1e-3, 5e-2, 1e-2, 0.1, 0.3, 1, 3, 5, 10, 15, 18, 20, 30, 50, 75, 100]\n",
        "tuned_ridge_model = RidgeCV(alphas=ridge_alphas, cv=kf)"
      ],
      "execution_count": 439,
      "outputs": []
    },
    {
      "cell_type": "code",
      "metadata": {
        "id": "SbAvem3oCc08",
        "colab": {
          "base_uri": "https://localhost:8080/",
          "height": 35
        },
        "outputId": "0d7d989e-4a5e-44dc-e3d2-62fe5898992c"
      },
      "source": [
        "'''\n",
        "tuned_ridge_model.fit(X, y)\n",
        "score = cv_rmse(tuned_ridge_model, X)\n",
        "print(\"ridge: {:.4f} ({:.4f})\".format(score.mean(), score.std()))\n",
        "scores['ridge'] = (score.mean(), score.std())\n",
        "'''\n",
        "#ridge: 0.1210 (0.0291)\n",
        "# Ran very long but did not give that great an improvement"
      ],
      "execution_count": 440,
      "outputs": [
        {
          "output_type": "execute_result",
          "data": {
            "application/vnd.google.colaboratory.intrinsic+json": {
              "type": "string"
            },
            "text/plain": [
              "'\\ntuned_ridge_model.fit(X, y)\\nscore = cv_rmse(tuned_ridge_model, X)\\nprint(\"ridge: {:.4f} ({:.4f})\".format(score.mean(), score.std()))\\nscores[\\'ridge\\'] = (score.mean(), score.std())\\n'"
            ]
          },
          "metadata": {
            "tags": []
          },
          "execution_count": 440
        }
      ]
    },
    {
      "cell_type": "code",
      "metadata": {
        "id": "jg6pK4NW2BgC",
        "colab": {
          "base_uri": "https://localhost:8080/"
        },
        "outputId": "4b9efc8c-2210-45d4-a778-18b9977fad81"
      },
      "source": [
        "np.expm1(y_train[:10])"
      ],
      "execution_count": 441,
      "outputs": [
        {
          "output_type": "execute_result",
          "data": {
            "text/plain": [
              "380     127000.0\n",
              "549     263000.0\n",
              "1088    137500.0\n",
              "383      76000.0\n",
              "352      95000.0\n",
              "695     176000.0\n",
              "372     125000.0\n",
              "1343    177000.0\n",
              "231     403000.0\n",
              "623     168500.0\n",
              "Name: SalePrice, dtype: float64"
            ]
          },
          "metadata": {
            "tags": []
          },
          "execution_count": 441
        }
      ]
    },
    {
      "cell_type": "code",
      "metadata": {
        "id": "jl_hPIfF1_kE",
        "colab": {
          "base_uri": "https://localhost:8080/"
        },
        "outputId": "e36246ec-0dc9-4758-8b47-34d520b032ca"
      },
      "source": [
        "np.expm1(y_pred_train[:10])"
      ],
      "execution_count": 442,
      "outputs": [
        {
          "output_type": "execute_result",
          "data": {
            "text/plain": [
              "array([150516.09064321, 233347.00972856, 143780.75091221,  81041.87461486,\n",
              "        91955.26780952, 172206.05396157, 119159.01400241, 176975.56116107,\n",
              "       374060.48074303, 170845.38934428])"
            ]
          },
          "metadata": {
            "tags": []
          },
          "execution_count": 442
        }
      ]
    },
    {
      "cell_type": "code",
      "metadata": {
        "id": "ccM3hNYhezhC",
        "colab": {
          "base_uri": "https://localhost:8080/"
        },
        "outputId": "459a68e3-4412-46a8-accf-afdec6a577ba"
      },
      "source": [
        "np.mean(np.expm1(y_train))"
      ],
      "execution_count": 443,
      "outputs": [
        {
          "output_type": "execute_result",
          "data": {
            "text/plain": [
              "182677.54975845412"
            ]
          },
          "metadata": {
            "tags": []
          },
          "execution_count": 443
        }
      ]
    },
    {
      "cell_type": "code",
      "metadata": {
        "id": "Z5llYPjAhHk-",
        "colab": {
          "base_uri": "https://localhost:8080/"
        },
        "outputId": "033cbc3f-b0ed-415a-a6ac-b8b760be1254"
      },
      "source": [
        "r2 = r2_score(np.expm1(y_train), np.expm1(y_pred_train))\n",
        "print('R Squared value for train data:',r2)"
      ],
      "execution_count": 444,
      "outputs": [
        {
          "output_type": "stream",
          "text": [
            "R Squared value for train data: 0.9527249924554101\n"
          ],
          "name": "stdout"
        }
      ]
    },
    {
      "cell_type": "code",
      "metadata": {
        "id": "zhPaNxXrjs3k"
      },
      "source": [
        "n = len(y_train)\n",
        "k = X_train.shape[1]"
      ],
      "execution_count": 445,
      "outputs": []
    },
    {
      "cell_type": "code",
      "metadata": {
        "id": "fQOMBBqaiDig",
        "colab": {
          "base_uri": "https://localhost:8080/"
        },
        "outputId": "722c2c28-b241-4b3b-e4e7-856ad3eaaaa3"
      },
      "source": [
        "adjusted_r2 = 1-((1-r2)*(n-1)/(n-k-1))\n",
        "print('Adjusted R Squared for train data:',adjusted_r2)"
      ],
      "execution_count": 446,
      "outputs": [
        {
          "output_type": "stream",
          "text": [
            "Adjusted R Squared for train data: 0.9371692059111748\n"
          ],
          "name": "stdout"
        }
      ]
    },
    {
      "cell_type": "markdown",
      "metadata": {
        "id": "pH5-Y2OP1fqG"
      },
      "source": [
        "Intercept & Coefficients"
      ]
    },
    {
      "cell_type": "code",
      "metadata": {
        "id": "OoZm__Rp1jnk"
      },
      "source": [
        "#np.exp(base_lr_model.intercept_)\n",
        "#np.exp(base_lr_model.coef_)\n",
        "# Since model was poor, checking these did not add value"
      ],
      "execution_count": 447,
      "outputs": []
    },
    {
      "cell_type": "markdown",
      "metadata": {
        "id": "0w6xRmMpp4DY"
      },
      "source": [
        "__Trying Decision Tree Regressor__"
      ]
    },
    {
      "cell_type": "code",
      "metadata": {
        "id": "enu0ZQ89qUwa"
      },
      "source": [
        "base_dt_model = DecisionTreeRegressor(random_state=0)\n",
        "base_dt_model.fit(X_train, y_train)\n",
        "#print('Base LR Model Score: ',base_dt_model.score(X_train, y_train))\n",
        "y_pred_train = base_dt_model.predict(X_train)\n",
        "y_pred_test = base_dt_model.predict(X_test)"
      ],
      "execution_count": 448,
      "outputs": []
    },
    {
      "cell_type": "code",
      "metadata": {
        "colab": {
          "base_uri": "https://localhost:8080/"
        },
        "id": "6eNFQGSvsEre",
        "outputId": "46307e8e-9ba1-4ee3-c691-15ca8c9e98af"
      },
      "source": [
        "print('Base LR Model RMSE for train data: ',np.sqrt(mean_squared_error(np.expm1(y_train), np.expm1(y_pred_train))))\n",
        "print('Base LR Model RMSE for test data: ',np.sqrt(mean_squared_error(np.expm1(y_test), np.expm1(y_pred_test))))\n",
        "#Before pool drop hypothesis: 4.720892075170902"
      ],
      "execution_count": 449,
      "outputs": [
        {
          "output_type": "stream",
          "text": [
            "Base LR Model RMSE for train data:  6.135441293445575\n",
            "Base LR Model RMSE for test data:  45373.72927465379\n"
          ],
          "name": "stdout"
        }
      ]
    },
    {
      "cell_type": "code",
      "metadata": {
        "id": "5FE3NvNGsTRB",
        "colab": {
          "base_uri": "https://localhost:8080/"
        },
        "outputId": "32a9a1dc-cd2c-4e88-9e91-185fc0fb517a"
      },
      "source": [
        "np.expm1(y_train[:10])"
      ],
      "execution_count": 450,
      "outputs": [
        {
          "output_type": "execute_result",
          "data": {
            "text/plain": [
              "380     127000.0\n",
              "549     263000.0\n",
              "1088    137500.0\n",
              "383      76000.0\n",
              "352      95000.0\n",
              "695     176000.0\n",
              "372     125000.0\n",
              "1343    177000.0\n",
              "231     403000.0\n",
              "623     168500.0\n",
              "Name: SalePrice, dtype: float64"
            ]
          },
          "metadata": {
            "tags": []
          },
          "execution_count": 450
        }
      ]
    },
    {
      "cell_type": "code",
      "metadata": {
        "id": "-GG2YEOZsUR3",
        "colab": {
          "base_uri": "https://localhost:8080/"
        },
        "outputId": "759d78e9-92f1-46a5-e45e-e93c10ad2982"
      },
      "source": [
        "np.expm1(y_pred_train[:10])"
      ],
      "execution_count": 451,
      "outputs": [
        {
          "output_type": "execute_result",
          "data": {
            "text/plain": [
              "array([127000., 263000., 137500.,  76000.,  95000., 176000., 125000.,\n",
              "       177000., 403000., 168500.])"
            ]
          },
          "metadata": {
            "tags": []
          },
          "execution_count": 451
        }
      ]
    },
    {
      "cell_type": "code",
      "metadata": {
        "id": "jVUkHuxws3pu"
      },
      "source": [
        "dt_model1 = DecisionTreeRegressor(random_state=0, max_depth=20, min_samples_leaf=2)\n",
        "dt_model1.fit(X_train, y_train)\n",
        "y_pred_train = dt_model1.predict(X_train)"
      ],
      "execution_count": 452,
      "outputs": []
    },
    {
      "cell_type": "code",
      "metadata": {
        "id": "P8tlogj-tRhU",
        "colab": {
          "base_uri": "https://localhost:8080/"
        },
        "outputId": "41626db7-c1c8-4a20-92e9-355b8cc543cd"
      },
      "source": [
        "np.sqrt(mean_squared_error(np.expm1(y_train), np.expm1(y_pred_train)))\n",
        "#Before pool drop hypothesis: 8258.37389118593"
      ],
      "execution_count": 453,
      "outputs": [
        {
          "output_type": "execute_result",
          "data": {
            "text/plain": [
              "7615.375192782317"
            ]
          },
          "metadata": {
            "tags": []
          },
          "execution_count": 453
        }
      ]
    },
    {
      "cell_type": "code",
      "metadata": {
        "colab": {
          "base_uri": "https://localhost:8080/"
        },
        "id": "fjxP8Gct7l5i",
        "outputId": "2317fb92-d776-4b49-8bdb-c81950bf2aee"
      },
      "source": [
        "dt_model1_fitted = dt_model1.fit(X, y)\n",
        "score = cv_rmse(dt_model1, X)\n",
        "print(\"dt: {:.4f} ({:.4f})\".format(score.mean(), score.std()))\n",
        "scores['dt_model1_fitted'] = (score.mean(), score.std())"
      ],
      "execution_count": 454,
      "outputs": [
        {
          "output_type": "stream",
          "text": [
            "dt: 0.1971 (0.0280)\n"
          ],
          "name": "stdout"
        }
      ]
    },
    {
      "cell_type": "markdown",
      "metadata": {
        "id": "DavHu9q2tnQu"
      },
      "source": [
        "__Trying Random Forest Regressor__"
      ]
    },
    {
      "cell_type": "code",
      "metadata": {
        "id": "ENIwkq3ctvG6"
      },
      "source": [
        "base_rf_model = RandomForestRegressor(random_state=0)\n",
        "base_rf_model.fit(X_train, y_train)\n",
        "#print('Base LR Model Score: ',base_rf_model.score(X_train, y_train))\n",
        "y_pred_train = base_rf_model.predict(X_train)\n",
        "y_pred_test = base_rf_model.predict(X_test)"
      ],
      "execution_count": 455,
      "outputs": []
    },
    {
      "cell_type": "code",
      "metadata": {
        "colab": {
          "base_uri": "https://localhost:8080/"
        },
        "id": "r5eHX97yuGb0",
        "outputId": "4bb40b83-a145-4812-fd01-bacc5abb24a8"
      },
      "source": [
        "print('Base LR Model RMSE for train data: ',np.sqrt(mean_squared_error(np.expm1(y_train), np.expm1(y_pred_train))))\n",
        "print('Base LR Model RMSE for test data: ',np.sqrt(mean_squared_error(np.expm1(y_test), np.expm1(y_pred_test))))\n",
        "#Before pool drop hypothesis: 10991.345487001749"
      ],
      "execution_count": 456,
      "outputs": [
        {
          "output_type": "stream",
          "text": [
            "Base LR Model RMSE for train data:  12008.627974770014\n",
            "Base LR Model RMSE for test data:  30352.068534116454\n"
          ],
          "name": "stdout"
        }
      ]
    },
    {
      "cell_type": "code",
      "metadata": {
        "colab": {
          "base_uri": "https://localhost:8080/"
        },
        "id": "ELCzPxND7Rn6",
        "outputId": "f4d1a836-a5b5-49cf-e38f-82ce5e6c68de"
      },
      "source": [
        "base_rf_model_fitted = base_rf_model.fit(X, y)\n",
        "score = cv_rmse(base_rf_model, X)\n",
        "print(\"rf: {:.4f} ({:.4f})\".format(score.mean(), score.std()))\n",
        "scores['base_rf_model_fitted'] = (score.mean(), score.std())"
      ],
      "execution_count": 457,
      "outputs": [
        {
          "output_type": "stream",
          "text": [
            "rf: 0.1399 (0.0187)\n"
          ],
          "name": "stdout"
        }
      ]
    },
    {
      "cell_type": "markdown",
      "metadata": {
        "id": "DdOsNNkYWzHj"
      },
      "source": [
        "__Trying Gradient Boosted Regressor__"
      ]
    },
    {
      "cell_type": "code",
      "metadata": {
        "id": "lkp8sINbWylb"
      },
      "source": [
        "base_gbr_model = GradientBoostingRegressor(learning_rate=0.2, n_estimators = 160, random_state=0)\n",
        "base_gbr_model.fit(X_train, y_train)\n",
        "#print('Base LR Model Score: ',base_rf_model.score(X_train, y_train))\n",
        "y_pred_train = base_gbr_model.predict(X_train)\n",
        "y_pred_test = base_gbr_model.predict(X_test)"
      ],
      "execution_count": 458,
      "outputs": []
    },
    {
      "cell_type": "code",
      "metadata": {
        "colab": {
          "base_uri": "https://localhost:8080/"
        },
        "id": "3otcYb3Ajb4G",
        "outputId": "08369de9-a561-4e6a-e55a-0ad13aab1cfa"
      },
      "source": [
        "print('Base LR Model RMSE for train data: ',np.sqrt(mean_squared_error(np.expm1(y_train), np.expm1(y_pred_train))))\n",
        "print('Base LR Model RMSE for test data: ',np.sqrt(mean_squared_error(np.expm1(y_test), np.expm1(y_pred_test))))"
      ],
      "execution_count": 459,
      "outputs": [
        {
          "output_type": "stream",
          "text": [
            "Base LR Model RMSE for train data:  8133.59175648551\n",
            "Base LR Model RMSE for test data:  24376.83445221306\n"
          ],
          "name": "stdout"
        }
      ]
    },
    {
      "cell_type": "code",
      "metadata": {
        "colab": {
          "base_uri": "https://localhost:8080/"
        },
        "id": "CPkZylREXP5l",
        "outputId": "b6c097c8-f175-4d59-f938-eea10300aea7"
      },
      "source": [
        "print('Base LR Model RMSE for train data: ',np.sqrt(mean_squared_error(np.expm1(y_train), np.expm1(y_pred_train))))\n",
        "print('Base LR Model RMSE for test data: ',np.sqrt(mean_squared_error(np.expm1(y_test), np.expm1(y_pred_test))))"
      ],
      "execution_count": 460,
      "outputs": [
        {
          "output_type": "stream",
          "text": [
            "Base LR Model RMSE for train data:  8133.59175648551\n",
            "Base LR Model RMSE for test data:  24376.83445221306\n"
          ],
          "name": "stdout"
        }
      ]
    },
    {
      "cell_type": "code",
      "metadata": {
        "colab": {
          "base_uri": "https://localhost:8080/"
        },
        "id": "hiRKDyNLINvs",
        "outputId": "a260eb2e-054f-4f24-df67-0069ebbc4624"
      },
      "source": [
        "base_gbr_model_fitted = base_gbr_model.fit(X, y)\n",
        "score = cv_rmse(base_gbr_model, X)\n",
        "print(\"gbm: {:.4f} ({:.4f})\".format(score.mean(), score.std()))\n",
        "scores['base_gbr_model_fitted'] = (score.mean(), score.std())"
      ],
      "execution_count": 461,
      "outputs": [
        {
          "output_type": "stream",
          "text": [
            "gbm: 0.1330 (0.0205)\n"
          ],
          "name": "stdout"
        }
      ]
    },
    {
      "cell_type": "markdown",
      "metadata": {
        "id": "tw3AD3g-uPDn"
      },
      "source": [
        "__Trying XGboost Regressor__"
      ]
    },
    {
      "cell_type": "code",
      "metadata": {
        "id": "NBJ_mJ02uhYX"
      },
      "source": [
        "base_xgbr_model = XGBRegressor(objective ='reg:squarederror', n_estimators = 300, seed = 123)\n",
        "base_xgbr_model.fit(X_train, y_train)\n",
        "#print('Base LR Model Score: ',base_xgbr_model.score(X_train, y_train))\n",
        "y_pred_train = base_xgbr_model.predict(X_train)\n",
        "y_pred_test = base_xgbr_model.predict(X_test)"
      ],
      "execution_count": 462,
      "outputs": []
    },
    {
      "cell_type": "code",
      "metadata": {
        "colab": {
          "base_uri": "https://localhost:8080/"
        },
        "id": "NbL2S78vvUnG",
        "outputId": "ee93ccdd-68be-4af4-c479-2a995c684a69"
      },
      "source": [
        "print('Base LR Model RMSE for train data: ',np.sqrt(mean_squared_error(np.expm1(y_train), np.expm1(y_pred_train))))\n",
        "print('Base LR Model RMSE for test data: ',np.sqrt(mean_squared_error(np.expm1(y_test), np.expm1(y_pred_test))))\n",
        "#Before pool drop hypothesis: 7672.8736131829455"
      ],
      "execution_count": 463,
      "outputs": [
        {
          "output_type": "stream",
          "text": [
            "Base LR Model RMSE for train data:  9285.30958049508\n",
            "Base LR Model RMSE for test data:  27564.167026437393\n"
          ],
          "name": "stdout"
        }
      ]
    },
    {
      "cell_type": "code",
      "metadata": {
        "colab": {
          "base_uri": "https://localhost:8080/"
        },
        "id": "6ELLV9jGC6Ue",
        "outputId": "67ace0ad-7d96-4852-e7d5-737b027624c4"
      },
      "source": [
        "base_xgbr_model_fitted = base_xgbr_model.fit(X, y)\n",
        "score = cv_rmse(base_xgbr_model, X)\n",
        "print(\"xgboost: {:.4f} ({:.4f})\".format(score.mean(), score.std()))\n",
        "scores['base_xgbr_model_fitted'] = (score.mean(), score.std())"
      ],
      "execution_count": 464,
      "outputs": [
        {
          "output_type": "stream",
          "text": [
            "xgboost: 0.1284 (0.0224)\n"
          ],
          "name": "stdout"
        }
      ]
    },
    {
      "cell_type": "markdown",
      "metadata": {
        "id": "iw8sj3E1hSuT"
      },
      "source": [
        "__Trying KNN Regressor__"
      ]
    },
    {
      "cell_type": "code",
      "metadata": {
        "id": "UGdZfPA-hiki"
      },
      "source": [
        "base_knn_model = KNeighborsRegressor(n_neighbors=10)\n",
        "base_knn_model.fit(X_train, y_train)\n",
        "y_pred_train = base_knn_model.predict(X_train)\n",
        "y_pred_test = base_knn_model.predict(X_test)"
      ],
      "execution_count": 465,
      "outputs": []
    },
    {
      "cell_type": "code",
      "metadata": {
        "colab": {
          "base_uri": "https://localhost:8080/"
        },
        "id": "ORGphKyOh_KP",
        "outputId": "cd245cf3-fa32-411d-f153-2574f70c4eed"
      },
      "source": [
        "print('Base LR Model RMSE for train data: ',np.sqrt(mean_squared_error(np.expm1(y_train), np.expm1(y_pred_train))))\n",
        "print('Base LR Model RMSE for test data: ',np.sqrt(mean_squared_error(np.expm1(y_test), np.expm1(y_pred_test))))"
      ],
      "execution_count": 466,
      "outputs": [
        {
          "output_type": "stream",
          "text": [
            "Base LR Model RMSE for train data:  37098.03540419235\n",
            "Base LR Model RMSE for test data:  47931.73956308667\n"
          ],
          "name": "stdout"
        }
      ]
    },
    {
      "cell_type": "code",
      "metadata": {
        "colab": {
          "base_uri": "https://localhost:8080/"
        },
        "id": "sS6ztcgENvTe",
        "outputId": "a9259cff-ed9e-4383-9f42-5184531fe163"
      },
      "source": [
        "base_knn_model_fitted = base_knn_model.fit(X, y)\n",
        "score = cv_rmse(base_knn_model, X)\n",
        "print(\"svr: {:.4f} ({:.4f})\".format(score.mean(), score.std()))\n",
        "scores['base_knn_model_fitted'] = (score.mean(), score.std())"
      ],
      "execution_count": 467,
      "outputs": [
        {
          "output_type": "stream",
          "text": [
            "svr: 0.1928 (0.0223)\n"
          ],
          "name": "stdout"
        }
      ]
    },
    {
      "cell_type": "markdown",
      "metadata": {
        "id": "iaTRTfs8hYdC"
      },
      "source": [
        "__Trying SVM Regressor__"
      ]
    },
    {
      "cell_type": "code",
      "metadata": {
        "id": "QhgMxmt9iIvT"
      },
      "source": [
        "base_svr_model = SVR(kernel='poly', degree=3, C=10.0)\n",
        "base_svr_model.fit(X_train, y_train)\n",
        "y_pred_train = base_svr_model.predict(X_train)\n",
        "y_pred_test = base_svr_model.predict(X_test)"
      ],
      "execution_count": 468,
      "outputs": []
    },
    {
      "cell_type": "code",
      "metadata": {
        "colab": {
          "base_uri": "https://localhost:8080/"
        },
        "id": "9Q6EUNAXomPT",
        "outputId": "d14a6684-472c-4ac3-c22c-ec0d5d4a23e9"
      },
      "source": [
        "print('Base LR Model RMSE for train data: ',np.sqrt(mean_squared_error(np.expm1(y_train), np.expm1(y_pred_train))))\n",
        "print('Base LR Model RMSE for test data: ',np.sqrt(mean_squared_error(np.expm1(y_test), np.expm1(y_pred_test))))"
      ],
      "execution_count": 469,
      "outputs": [
        {
          "output_type": "stream",
          "text": [
            "Base LR Model RMSE for train data:  15649.64679064094\n",
            "Base LR Model RMSE for test data:  38749.26132221029\n"
          ],
          "name": "stdout"
        }
      ]
    },
    {
      "cell_type": "code",
      "metadata": {
        "colab": {
          "base_uri": "https://localhost:8080/"
        },
        "id": "pf_vga08illF",
        "outputId": "445b86d1-2840-4c37-b3ff-63c31bc097e8"
      },
      "source": [
        "print('Base LR Model RMSE for train data: ',np.sqrt(mean_squared_error(np.expm1(y_train), np.expm1(y_pred_train))))\n",
        "print('Base LR Model RMSE for test data: ',np.sqrt(mean_squared_error(np.expm1(y_test), np.expm1(y_pred_test))))"
      ],
      "execution_count": 470,
      "outputs": [
        {
          "output_type": "stream",
          "text": [
            "Base LR Model RMSE for train data:  15649.64679064094\n",
            "Base LR Model RMSE for test data:  38749.26132221029\n"
          ],
          "name": "stdout"
        }
      ]
    },
    {
      "cell_type": "code",
      "metadata": {
        "colab": {
          "base_uri": "https://localhost:8080/"
        },
        "id": "QeyfJDuuIabh",
        "outputId": "248a13d3-8aa5-4ada-b555-a382c4929781"
      },
      "source": [
        "base_svr_model_fitted = base_svr_model.fit(X, y)\n",
        "score = cv_rmse(base_svr_model, X)\n",
        "print(\"svr: {:.4f} ({:.4f})\".format(score.mean(), score.std()))\n",
        "scores['base_svr_model_fitted'] = (score.mean(), score.std())"
      ],
      "execution_count": 471,
      "outputs": [
        {
          "output_type": "stream",
          "text": [
            "svr: 0.1679 (0.0367)\n"
          ],
          "name": "stdout"
        }
      ]
    },
    {
      "cell_type": "code",
      "metadata": {
        "colab": {
          "base_uri": "https://localhost:8080/",
          "height": 51
        },
        "id": "lcuMOubEZyNc",
        "outputId": "74830d73-9755-4fe3-dfd9-6f86059a5715"
      },
      "source": [
        "'''\n",
        "linear_svr_model = SVR(kernel='linear', C=10, epsilon=0.1)\n",
        "linear_svr_model_fitted = linear_svr_model.fit(X, y)\n",
        "score = cv_rmse(linear_svr_model, X)\n",
        "print(\"linear svr: {:.4f} ({:.4f})\".format(score.mean(), score.std()))\n",
        "scores['linear_svr_model_fitted'] = (score.mean(), score.std())\n",
        "'''"
      ],
      "execution_count": 472,
      "outputs": [
        {
          "output_type": "execute_result",
          "data": {
            "application/vnd.google.colaboratory.intrinsic+json": {
              "type": "string"
            },
            "text/plain": [
              "'\\nlinear_svr_model = SVR(kernel=\\'linear\\', C=10, epsilon=0.1)\\nlinear_svr_model_fitted = linear_svr_model.fit(X, y)\\nscore = cv_rmse(linear_svr_model, X)\\nprint(\"linear svr: {:.4f} ({:.4f})\".format(score.mean(), score.std()))\\nscores[\\'linear_svr_model_fitted\\'] = (score.mean(), score.std())\\n'"
            ]
          },
          "metadata": {
            "tags": []
          },
          "execution_count": 472
        }
      ]
    },
    {
      "cell_type": "code",
      "metadata": {
        "id": "FfajTHhhILus"
      },
      "source": [
        "tuned_svr_model = SVR(C= 20, epsilon= 0.008, gamma=0.0003)"
      ],
      "execution_count": 473,
      "outputs": []
    },
    {
      "cell_type": "code",
      "metadata": {
        "colab": {
          "base_uri": "https://localhost:8080/",
          "height": 35
        },
        "id": "VjmoYtrZIbZt",
        "outputId": "aa057f55-0b87-4509-b2a0-d8e2c6293359"
      },
      "source": [
        "'''\n",
        "tuned_svr_model.fit(X, y)\n",
        "score = cv_rmse(tuned_svr_model, X)\n",
        "print(\"svr: {:.4f} ({:.4f})\".format(score.mean(), score.std()))\n",
        "scores['svr'] = (score.mean(), score.std())\n",
        "#svr: 0.3997 (0.0336)\n",
        "'''"
      ],
      "execution_count": 474,
      "outputs": [
        {
          "output_type": "execute_result",
          "data": {
            "application/vnd.google.colaboratory.intrinsic+json": {
              "type": "string"
            },
            "text/plain": [
              "'\\ntuned_svr_model.fit(X, y)\\nscore = cv_rmse(tuned_svr_model, X)\\nprint(\"svr: {:.4f} ({:.4f})\".format(score.mean(), score.std()))\\nscores[\\'svr\\'] = (score.mean(), score.std())\\n#svr: 0.3997 (0.0336)\\n'"
            ]
          },
          "metadata": {
            "tags": []
          },
          "execution_count": 474
        }
      ]
    },
    {
      "cell_type": "code",
      "metadata": {
        "id": "lsVblr-AzMv6"
      },
      "source": [
        "# Stack up all the models above, optimized using xgboost\n",
        "stack_gen = StackingCVRegressor(regressors=(base_xgbr_model, base_gbr_model, base_rf_model, base_ridge_model),\n",
        "                                meta_regressor=base_xgbr_model,\n",
        "                                use_features_in_secondary=True)"
      ],
      "execution_count": 475,
      "outputs": []
    },
    {
      "cell_type": "code",
      "metadata": {
        "id": "LxOyxMXoz-Fh"
      },
      "source": [
        "stack_gen_fitted = stack_gen.fit(np.array(X), np.array(y))"
      ],
      "execution_count": 476,
      "outputs": []
    },
    {
      "cell_type": "code",
      "metadata": {
        "id": "orkCPtFDJ2Wj"
      },
      "source": [
        "# Blend models in order to make the final predictions more robust to overfitting\n",
        "def blended_predictions(X):\n",
        "    return ((0.2 * base_ridge_model_fitted.predict(X)) + \\\n",
        "            (0.1 * base_xgbr_model_fitted.predict(X)) + \\\n",
        "            (0.1 * base_gbr_model_fitted.predict(X)) + \\\n",
        "            (0.1 * base_rf_model_fitted.predict(X)) + \\\n",
        "            (0.5 * stack_gen_fitted.predict(np.array(X))))"
      ],
      "execution_count": 477,
      "outputs": []
    },
    {
      "cell_type": "code",
      "metadata": {
        "colab": {
          "base_uri": "https://localhost:8080/"
        },
        "id": "4PyWeGe3MMSN",
        "outputId": "6d825718-90cc-4ae4-d7cd-19c46c20456c"
      },
      "source": [
        "# Get final precitions from the blended model\n",
        "blended_score = np.sqrt(mean_squared_error(y, blended_predictions(X)))\n",
        "scores['blended'] = (blended_score, 0)\n",
        "print('RMSE score on train data:')\n",
        "print(blended_score)"
      ],
      "execution_count": 478,
      "outputs": [
        {
          "output_type": "stream",
          "text": [
            "RMSE score on train data:\n",
            "0.052994752294743\n"
          ],
          "name": "stdout"
        }
      ]
    },
    {
      "cell_type": "code",
      "metadata": {
        "id": "OQOhzU3y0QFg",
        "colab": {
          "base_uri": "https://localhost:8080/"
        },
        "outputId": "9e61fe8b-1260-4e07-9def-d48824ccbaa1"
      },
      "source": [
        "scores"
      ],
      "execution_count": 479,
      "outputs": [
        {
          "output_type": "execute_result",
          "data": {
            "text/plain": [
              "{'base_gbr_model_fitted': (0.13301816358123175, 0.020453885479127035),\n",
              " 'base_knn_model_fitted': (0.19280852393204126, 0.02228712401227713),\n",
              " 'base_lasso_model_fitted': (0.4008659644259625, 0.033748050002195405),\n",
              " 'base_lr_model_fitted': (33459250822.121418, 43478222732.51032),\n",
              " 'base_rf_model_fitted': (0.13990646862068332, 0.018713578728057633),\n",
              " 'base_ridge_model_fitted': (0.12773895701555493, 0.028446217683104166),\n",
              " 'base_svr_model_fitted': (0.16792502247868857, 0.0366575567243989),\n",
              " 'base_xgbr_model_fitted': (0.12836809658177764, 0.022413048590238255),\n",
              " 'blended': (0.052994752294743, 0),\n",
              " 'dt_model1_fitted': (0.19708524705377337, 0.027992220261330053)}"
            ]
          },
          "metadata": {
            "tags": []
          },
          "execution_count": 479
        }
      ]
    },
    {
      "cell_type": "markdown",
      "metadata": {
        "id": "mqjJCciZicY5"
      },
      "source": [
        "____\n",
        "__Test Data Pre-processing__\n",
        "--\n",
        "____"
      ]
    },
    {
      "cell_type": "code",
      "metadata": {
        "id": "LFALCYMOjEeg",
        "colab": {
          "base_uri": "https://localhost:8080/",
          "height": 220
        },
        "outputId": "c71f3264-da4b-4ae2-c35f-8d1b839ccb78"
      },
      "source": [
        "test_df = pd.read_csv('https://raw.githubusercontent.com/realsayan/Simple-Datasets/master/HousePricesTest.csv')\n",
        "test_df.head()"
      ],
      "execution_count": 480,
      "outputs": [
        {
          "output_type": "execute_result",
          "data": {
            "text/html": [
              "<div>\n",
              "<style scoped>\n",
              "    .dataframe tbody tr th:only-of-type {\n",
              "        vertical-align: middle;\n",
              "    }\n",
              "\n",
              "    .dataframe tbody tr th {\n",
              "        vertical-align: top;\n",
              "    }\n",
              "\n",
              "    .dataframe thead th {\n",
              "        text-align: right;\n",
              "    }\n",
              "</style>\n",
              "<table border=\"1\" class=\"dataframe\">\n",
              "  <thead>\n",
              "    <tr style=\"text-align: right;\">\n",
              "      <th></th>\n",
              "      <th>Id</th>\n",
              "      <th>MSSubClass</th>\n",
              "      <th>MSZoning</th>\n",
              "      <th>LotFrontage</th>\n",
              "      <th>LotArea</th>\n",
              "      <th>Street</th>\n",
              "      <th>Alley</th>\n",
              "      <th>LotShape</th>\n",
              "      <th>LandContour</th>\n",
              "      <th>Utilities</th>\n",
              "      <th>LotConfig</th>\n",
              "      <th>LandSlope</th>\n",
              "      <th>Neighborhood</th>\n",
              "      <th>Condition1</th>\n",
              "      <th>Condition2</th>\n",
              "      <th>BldgType</th>\n",
              "      <th>HouseStyle</th>\n",
              "      <th>OverallQual</th>\n",
              "      <th>OverallCond</th>\n",
              "      <th>YearBuilt</th>\n",
              "      <th>YearRemodAdd</th>\n",
              "      <th>RoofStyle</th>\n",
              "      <th>RoofMatl</th>\n",
              "      <th>Exterior1st</th>\n",
              "      <th>Exterior2nd</th>\n",
              "      <th>MasVnrType</th>\n",
              "      <th>MasVnrArea</th>\n",
              "      <th>ExterQual</th>\n",
              "      <th>ExterCond</th>\n",
              "      <th>Foundation</th>\n",
              "      <th>BsmtQual</th>\n",
              "      <th>BsmtCond</th>\n",
              "      <th>BsmtExposure</th>\n",
              "      <th>BsmtFinType1</th>\n",
              "      <th>BsmtFinSF1</th>\n",
              "      <th>BsmtFinType2</th>\n",
              "      <th>BsmtFinSF2</th>\n",
              "      <th>BsmtUnfSF</th>\n",
              "      <th>TotalBsmtSF</th>\n",
              "      <th>Heating</th>\n",
              "      <th>HeatingQC</th>\n",
              "      <th>CentralAir</th>\n",
              "      <th>Electrical</th>\n",
              "      <th>1stFlrSF</th>\n",
              "      <th>2ndFlrSF</th>\n",
              "      <th>LowQualFinSF</th>\n",
              "      <th>GrLivArea</th>\n",
              "      <th>BsmtFullBath</th>\n",
              "      <th>BsmtHalfBath</th>\n",
              "      <th>FullBath</th>\n",
              "      <th>HalfBath</th>\n",
              "      <th>BedroomAbvGr</th>\n",
              "      <th>KitchenAbvGr</th>\n",
              "      <th>KitchenQual</th>\n",
              "      <th>TotRmsAbvGrd</th>\n",
              "      <th>Functional</th>\n",
              "      <th>Fireplaces</th>\n",
              "      <th>FireplaceQu</th>\n",
              "      <th>GarageType</th>\n",
              "      <th>GarageYrBlt</th>\n",
              "      <th>GarageFinish</th>\n",
              "      <th>GarageCars</th>\n",
              "      <th>GarageArea</th>\n",
              "      <th>GarageQual</th>\n",
              "      <th>GarageCond</th>\n",
              "      <th>PavedDrive</th>\n",
              "      <th>WoodDeckSF</th>\n",
              "      <th>OpenPorchSF</th>\n",
              "      <th>EnclosedPorch</th>\n",
              "      <th>3SsnPorch</th>\n",
              "      <th>ScreenPorch</th>\n",
              "      <th>PoolArea</th>\n",
              "      <th>PoolQC</th>\n",
              "      <th>Fence</th>\n",
              "      <th>MiscFeature</th>\n",
              "      <th>MiscVal</th>\n",
              "      <th>MoSold</th>\n",
              "      <th>YrSold</th>\n",
              "      <th>SaleType</th>\n",
              "      <th>SaleCondition</th>\n",
              "    </tr>\n",
              "  </thead>\n",
              "  <tbody>\n",
              "    <tr>\n",
              "      <th>0</th>\n",
              "      <td>1461</td>\n",
              "      <td>20</td>\n",
              "      <td>RH</td>\n",
              "      <td>80.0</td>\n",
              "      <td>11622</td>\n",
              "      <td>Pave</td>\n",
              "      <td>NaN</td>\n",
              "      <td>Reg</td>\n",
              "      <td>Lvl</td>\n",
              "      <td>AllPub</td>\n",
              "      <td>Inside</td>\n",
              "      <td>Gtl</td>\n",
              "      <td>NAmes</td>\n",
              "      <td>Feedr</td>\n",
              "      <td>Norm</td>\n",
              "      <td>1Fam</td>\n",
              "      <td>1Story</td>\n",
              "      <td>5</td>\n",
              "      <td>6</td>\n",
              "      <td>1961</td>\n",
              "      <td>1961</td>\n",
              "      <td>Gable</td>\n",
              "      <td>CompShg</td>\n",
              "      <td>VinylSd</td>\n",
              "      <td>VinylSd</td>\n",
              "      <td>None</td>\n",
              "      <td>0.0</td>\n",
              "      <td>TA</td>\n",
              "      <td>TA</td>\n",
              "      <td>CBlock</td>\n",
              "      <td>TA</td>\n",
              "      <td>TA</td>\n",
              "      <td>No</td>\n",
              "      <td>Rec</td>\n",
              "      <td>468.0</td>\n",
              "      <td>LwQ</td>\n",
              "      <td>144.0</td>\n",
              "      <td>270.0</td>\n",
              "      <td>882.0</td>\n",
              "      <td>GasA</td>\n",
              "      <td>TA</td>\n",
              "      <td>Y</td>\n",
              "      <td>SBrkr</td>\n",
              "      <td>896</td>\n",
              "      <td>0</td>\n",
              "      <td>0</td>\n",
              "      <td>896</td>\n",
              "      <td>0.0</td>\n",
              "      <td>0.0</td>\n",
              "      <td>1</td>\n",
              "      <td>0</td>\n",
              "      <td>2</td>\n",
              "      <td>1</td>\n",
              "      <td>TA</td>\n",
              "      <td>5</td>\n",
              "      <td>Typ</td>\n",
              "      <td>0</td>\n",
              "      <td>NaN</td>\n",
              "      <td>Attchd</td>\n",
              "      <td>1961.0</td>\n",
              "      <td>Unf</td>\n",
              "      <td>1.0</td>\n",
              "      <td>730.0</td>\n",
              "      <td>TA</td>\n",
              "      <td>TA</td>\n",
              "      <td>Y</td>\n",
              "      <td>140</td>\n",
              "      <td>0</td>\n",
              "      <td>0</td>\n",
              "      <td>0</td>\n",
              "      <td>120</td>\n",
              "      <td>0</td>\n",
              "      <td>NaN</td>\n",
              "      <td>MnPrv</td>\n",
              "      <td>NaN</td>\n",
              "      <td>0</td>\n",
              "      <td>6</td>\n",
              "      <td>2010</td>\n",
              "      <td>WD</td>\n",
              "      <td>Normal</td>\n",
              "    </tr>\n",
              "    <tr>\n",
              "      <th>1</th>\n",
              "      <td>1462</td>\n",
              "      <td>20</td>\n",
              "      <td>RL</td>\n",
              "      <td>81.0</td>\n",
              "      <td>14267</td>\n",
              "      <td>Pave</td>\n",
              "      <td>NaN</td>\n",
              "      <td>IR1</td>\n",
              "      <td>Lvl</td>\n",
              "      <td>AllPub</td>\n",
              "      <td>Corner</td>\n",
              "      <td>Gtl</td>\n",
              "      <td>NAmes</td>\n",
              "      <td>Norm</td>\n",
              "      <td>Norm</td>\n",
              "      <td>1Fam</td>\n",
              "      <td>1Story</td>\n",
              "      <td>6</td>\n",
              "      <td>6</td>\n",
              "      <td>1958</td>\n",
              "      <td>1958</td>\n",
              "      <td>Hip</td>\n",
              "      <td>CompShg</td>\n",
              "      <td>Wd Sdng</td>\n",
              "      <td>Wd Sdng</td>\n",
              "      <td>BrkFace</td>\n",
              "      <td>108.0</td>\n",
              "      <td>TA</td>\n",
              "      <td>TA</td>\n",
              "      <td>CBlock</td>\n",
              "      <td>TA</td>\n",
              "      <td>TA</td>\n",
              "      <td>No</td>\n",
              "      <td>ALQ</td>\n",
              "      <td>923.0</td>\n",
              "      <td>Unf</td>\n",
              "      <td>0.0</td>\n",
              "      <td>406.0</td>\n",
              "      <td>1329.0</td>\n",
              "      <td>GasA</td>\n",
              "      <td>TA</td>\n",
              "      <td>Y</td>\n",
              "      <td>SBrkr</td>\n",
              "      <td>1329</td>\n",
              "      <td>0</td>\n",
              "      <td>0</td>\n",
              "      <td>1329</td>\n",
              "      <td>0.0</td>\n",
              "      <td>0.0</td>\n",
              "      <td>1</td>\n",
              "      <td>1</td>\n",
              "      <td>3</td>\n",
              "      <td>1</td>\n",
              "      <td>Gd</td>\n",
              "      <td>6</td>\n",
              "      <td>Typ</td>\n",
              "      <td>0</td>\n",
              "      <td>NaN</td>\n",
              "      <td>Attchd</td>\n",
              "      <td>1958.0</td>\n",
              "      <td>Unf</td>\n",
              "      <td>1.0</td>\n",
              "      <td>312.0</td>\n",
              "      <td>TA</td>\n",
              "      <td>TA</td>\n",
              "      <td>Y</td>\n",
              "      <td>393</td>\n",
              "      <td>36</td>\n",
              "      <td>0</td>\n",
              "      <td>0</td>\n",
              "      <td>0</td>\n",
              "      <td>0</td>\n",
              "      <td>NaN</td>\n",
              "      <td>NaN</td>\n",
              "      <td>Gar2</td>\n",
              "      <td>12500</td>\n",
              "      <td>6</td>\n",
              "      <td>2010</td>\n",
              "      <td>WD</td>\n",
              "      <td>Normal</td>\n",
              "    </tr>\n",
              "    <tr>\n",
              "      <th>2</th>\n",
              "      <td>1463</td>\n",
              "      <td>60</td>\n",
              "      <td>RL</td>\n",
              "      <td>74.0</td>\n",
              "      <td>13830</td>\n",
              "      <td>Pave</td>\n",
              "      <td>NaN</td>\n",
              "      <td>IR1</td>\n",
              "      <td>Lvl</td>\n",
              "      <td>AllPub</td>\n",
              "      <td>Inside</td>\n",
              "      <td>Gtl</td>\n",
              "      <td>Gilbert</td>\n",
              "      <td>Norm</td>\n",
              "      <td>Norm</td>\n",
              "      <td>1Fam</td>\n",
              "      <td>2Story</td>\n",
              "      <td>5</td>\n",
              "      <td>5</td>\n",
              "      <td>1997</td>\n",
              "      <td>1998</td>\n",
              "      <td>Gable</td>\n",
              "      <td>CompShg</td>\n",
              "      <td>VinylSd</td>\n",
              "      <td>VinylSd</td>\n",
              "      <td>None</td>\n",
              "      <td>0.0</td>\n",
              "      <td>TA</td>\n",
              "      <td>TA</td>\n",
              "      <td>PConc</td>\n",
              "      <td>Gd</td>\n",
              "      <td>TA</td>\n",
              "      <td>No</td>\n",
              "      <td>GLQ</td>\n",
              "      <td>791.0</td>\n",
              "      <td>Unf</td>\n",
              "      <td>0.0</td>\n",
              "      <td>137.0</td>\n",
              "      <td>928.0</td>\n",
              "      <td>GasA</td>\n",
              "      <td>Gd</td>\n",
              "      <td>Y</td>\n",
              "      <td>SBrkr</td>\n",
              "      <td>928</td>\n",
              "      <td>701</td>\n",
              "      <td>0</td>\n",
              "      <td>1629</td>\n",
              "      <td>0.0</td>\n",
              "      <td>0.0</td>\n",
              "      <td>2</td>\n",
              "      <td>1</td>\n",
              "      <td>3</td>\n",
              "      <td>1</td>\n",
              "      <td>TA</td>\n",
              "      <td>6</td>\n",
              "      <td>Typ</td>\n",
              "      <td>1</td>\n",
              "      <td>TA</td>\n",
              "      <td>Attchd</td>\n",
              "      <td>1997.0</td>\n",
              "      <td>Fin</td>\n",
              "      <td>2.0</td>\n",
              "      <td>482.0</td>\n",
              "      <td>TA</td>\n",
              "      <td>TA</td>\n",
              "      <td>Y</td>\n",
              "      <td>212</td>\n",
              "      <td>34</td>\n",
              "      <td>0</td>\n",
              "      <td>0</td>\n",
              "      <td>0</td>\n",
              "      <td>0</td>\n",
              "      <td>NaN</td>\n",
              "      <td>MnPrv</td>\n",
              "      <td>NaN</td>\n",
              "      <td>0</td>\n",
              "      <td>3</td>\n",
              "      <td>2010</td>\n",
              "      <td>WD</td>\n",
              "      <td>Normal</td>\n",
              "    </tr>\n",
              "    <tr>\n",
              "      <th>3</th>\n",
              "      <td>1464</td>\n",
              "      <td>60</td>\n",
              "      <td>RL</td>\n",
              "      <td>78.0</td>\n",
              "      <td>9978</td>\n",
              "      <td>Pave</td>\n",
              "      <td>NaN</td>\n",
              "      <td>IR1</td>\n",
              "      <td>Lvl</td>\n",
              "      <td>AllPub</td>\n",
              "      <td>Inside</td>\n",
              "      <td>Gtl</td>\n",
              "      <td>Gilbert</td>\n",
              "      <td>Norm</td>\n",
              "      <td>Norm</td>\n",
              "      <td>1Fam</td>\n",
              "      <td>2Story</td>\n",
              "      <td>6</td>\n",
              "      <td>6</td>\n",
              "      <td>1998</td>\n",
              "      <td>1998</td>\n",
              "      <td>Gable</td>\n",
              "      <td>CompShg</td>\n",
              "      <td>VinylSd</td>\n",
              "      <td>VinylSd</td>\n",
              "      <td>BrkFace</td>\n",
              "      <td>20.0</td>\n",
              "      <td>TA</td>\n",
              "      <td>TA</td>\n",
              "      <td>PConc</td>\n",
              "      <td>TA</td>\n",
              "      <td>TA</td>\n",
              "      <td>No</td>\n",
              "      <td>GLQ</td>\n",
              "      <td>602.0</td>\n",
              "      <td>Unf</td>\n",
              "      <td>0.0</td>\n",
              "      <td>324.0</td>\n",
              "      <td>926.0</td>\n",
              "      <td>GasA</td>\n",
              "      <td>Ex</td>\n",
              "      <td>Y</td>\n",
              "      <td>SBrkr</td>\n",
              "      <td>926</td>\n",
              "      <td>678</td>\n",
              "      <td>0</td>\n",
              "      <td>1604</td>\n",
              "      <td>0.0</td>\n",
              "      <td>0.0</td>\n",
              "      <td>2</td>\n",
              "      <td>1</td>\n",
              "      <td>3</td>\n",
              "      <td>1</td>\n",
              "      <td>Gd</td>\n",
              "      <td>7</td>\n",
              "      <td>Typ</td>\n",
              "      <td>1</td>\n",
              "      <td>Gd</td>\n",
              "      <td>Attchd</td>\n",
              "      <td>1998.0</td>\n",
              "      <td>Fin</td>\n",
              "      <td>2.0</td>\n",
              "      <td>470.0</td>\n",
              "      <td>TA</td>\n",
              "      <td>TA</td>\n",
              "      <td>Y</td>\n",
              "      <td>360</td>\n",
              "      <td>36</td>\n",
              "      <td>0</td>\n",
              "      <td>0</td>\n",
              "      <td>0</td>\n",
              "      <td>0</td>\n",
              "      <td>NaN</td>\n",
              "      <td>NaN</td>\n",
              "      <td>NaN</td>\n",
              "      <td>0</td>\n",
              "      <td>6</td>\n",
              "      <td>2010</td>\n",
              "      <td>WD</td>\n",
              "      <td>Normal</td>\n",
              "    </tr>\n",
              "    <tr>\n",
              "      <th>4</th>\n",
              "      <td>1465</td>\n",
              "      <td>120</td>\n",
              "      <td>RL</td>\n",
              "      <td>43.0</td>\n",
              "      <td>5005</td>\n",
              "      <td>Pave</td>\n",
              "      <td>NaN</td>\n",
              "      <td>IR1</td>\n",
              "      <td>HLS</td>\n",
              "      <td>AllPub</td>\n",
              "      <td>Inside</td>\n",
              "      <td>Gtl</td>\n",
              "      <td>StoneBr</td>\n",
              "      <td>Norm</td>\n",
              "      <td>Norm</td>\n",
              "      <td>TwnhsE</td>\n",
              "      <td>1Story</td>\n",
              "      <td>8</td>\n",
              "      <td>5</td>\n",
              "      <td>1992</td>\n",
              "      <td>1992</td>\n",
              "      <td>Gable</td>\n",
              "      <td>CompShg</td>\n",
              "      <td>HdBoard</td>\n",
              "      <td>HdBoard</td>\n",
              "      <td>None</td>\n",
              "      <td>0.0</td>\n",
              "      <td>Gd</td>\n",
              "      <td>TA</td>\n",
              "      <td>PConc</td>\n",
              "      <td>Gd</td>\n",
              "      <td>TA</td>\n",
              "      <td>No</td>\n",
              "      <td>ALQ</td>\n",
              "      <td>263.0</td>\n",
              "      <td>Unf</td>\n",
              "      <td>0.0</td>\n",
              "      <td>1017.0</td>\n",
              "      <td>1280.0</td>\n",
              "      <td>GasA</td>\n",
              "      <td>Ex</td>\n",
              "      <td>Y</td>\n",
              "      <td>SBrkr</td>\n",
              "      <td>1280</td>\n",
              "      <td>0</td>\n",
              "      <td>0</td>\n",
              "      <td>1280</td>\n",
              "      <td>0.0</td>\n",
              "      <td>0.0</td>\n",
              "      <td>2</td>\n",
              "      <td>0</td>\n",
              "      <td>2</td>\n",
              "      <td>1</td>\n",
              "      <td>Gd</td>\n",
              "      <td>5</td>\n",
              "      <td>Typ</td>\n",
              "      <td>0</td>\n",
              "      <td>NaN</td>\n",
              "      <td>Attchd</td>\n",
              "      <td>1992.0</td>\n",
              "      <td>RFn</td>\n",
              "      <td>2.0</td>\n",
              "      <td>506.0</td>\n",
              "      <td>TA</td>\n",
              "      <td>TA</td>\n",
              "      <td>Y</td>\n",
              "      <td>0</td>\n",
              "      <td>82</td>\n",
              "      <td>0</td>\n",
              "      <td>0</td>\n",
              "      <td>144</td>\n",
              "      <td>0</td>\n",
              "      <td>NaN</td>\n",
              "      <td>NaN</td>\n",
              "      <td>NaN</td>\n",
              "      <td>0</td>\n",
              "      <td>1</td>\n",
              "      <td>2010</td>\n",
              "      <td>WD</td>\n",
              "      <td>Normal</td>\n",
              "    </tr>\n",
              "  </tbody>\n",
              "</table>\n",
              "</div>"
            ],
            "text/plain": [
              "     Id  MSSubClass MSZoning  ...  YrSold  SaleType SaleCondition\n",
              "0  1461          20       RH  ...    2010        WD        Normal\n",
              "1  1462          20       RL  ...    2010        WD        Normal\n",
              "2  1463          60       RL  ...    2010        WD        Normal\n",
              "3  1464          60       RL  ...    2010        WD        Normal\n",
              "4  1465         120       RL  ...    2010        WD        Normal\n",
              "\n",
              "[5 rows x 80 columns]"
            ]
          },
          "metadata": {
            "tags": []
          },
          "execution_count": 480
        }
      ]
    },
    {
      "cell_type": "code",
      "metadata": {
        "id": "Fk5K6-kmk2ba",
        "colab": {
          "base_uri": "https://localhost:8080/"
        },
        "outputId": "8f58f718-ba81-412d-d39d-0ee0c16e509f"
      },
      "source": [
        "test_df.info()"
      ],
      "execution_count": 481,
      "outputs": [
        {
          "output_type": "stream",
          "text": [
            "<class 'pandas.core.frame.DataFrame'>\n",
            "RangeIndex: 1459 entries, 0 to 1458\n",
            "Data columns (total 80 columns):\n",
            " #   Column         Non-Null Count  Dtype  \n",
            "---  ------         --------------  -----  \n",
            " 0   Id             1459 non-null   int64  \n",
            " 1   MSSubClass     1459 non-null   int64  \n",
            " 2   MSZoning       1455 non-null   object \n",
            " 3   LotFrontage    1232 non-null   float64\n",
            " 4   LotArea        1459 non-null   int64  \n",
            " 5   Street         1459 non-null   object \n",
            " 6   Alley          107 non-null    object \n",
            " 7   LotShape       1459 non-null   object \n",
            " 8   LandContour    1459 non-null   object \n",
            " 9   Utilities      1457 non-null   object \n",
            " 10  LotConfig      1459 non-null   object \n",
            " 11  LandSlope      1459 non-null   object \n",
            " 12  Neighborhood   1459 non-null   object \n",
            " 13  Condition1     1459 non-null   object \n",
            " 14  Condition2     1459 non-null   object \n",
            " 15  BldgType       1459 non-null   object \n",
            " 16  HouseStyle     1459 non-null   object \n",
            " 17  OverallQual    1459 non-null   int64  \n",
            " 18  OverallCond    1459 non-null   int64  \n",
            " 19  YearBuilt      1459 non-null   int64  \n",
            " 20  YearRemodAdd   1459 non-null   int64  \n",
            " 21  RoofStyle      1459 non-null   object \n",
            " 22  RoofMatl       1459 non-null   object \n",
            " 23  Exterior1st    1458 non-null   object \n",
            " 24  Exterior2nd    1458 non-null   object \n",
            " 25  MasVnrType     1443 non-null   object \n",
            " 26  MasVnrArea     1444 non-null   float64\n",
            " 27  ExterQual      1459 non-null   object \n",
            " 28  ExterCond      1459 non-null   object \n",
            " 29  Foundation     1459 non-null   object \n",
            " 30  BsmtQual       1415 non-null   object \n",
            " 31  BsmtCond       1414 non-null   object \n",
            " 32  BsmtExposure   1415 non-null   object \n",
            " 33  BsmtFinType1   1417 non-null   object \n",
            " 34  BsmtFinSF1     1458 non-null   float64\n",
            " 35  BsmtFinType2   1417 non-null   object \n",
            " 36  BsmtFinSF2     1458 non-null   float64\n",
            " 37  BsmtUnfSF      1458 non-null   float64\n",
            " 38  TotalBsmtSF    1458 non-null   float64\n",
            " 39  Heating        1459 non-null   object \n",
            " 40  HeatingQC      1459 non-null   object \n",
            " 41  CentralAir     1459 non-null   object \n",
            " 42  Electrical     1459 non-null   object \n",
            " 43  1stFlrSF       1459 non-null   int64  \n",
            " 44  2ndFlrSF       1459 non-null   int64  \n",
            " 45  LowQualFinSF   1459 non-null   int64  \n",
            " 46  GrLivArea      1459 non-null   int64  \n",
            " 47  BsmtFullBath   1457 non-null   float64\n",
            " 48  BsmtHalfBath   1457 non-null   float64\n",
            " 49  FullBath       1459 non-null   int64  \n",
            " 50  HalfBath       1459 non-null   int64  \n",
            " 51  BedroomAbvGr   1459 non-null   int64  \n",
            " 52  KitchenAbvGr   1459 non-null   int64  \n",
            " 53  KitchenQual    1458 non-null   object \n",
            " 54  TotRmsAbvGrd   1459 non-null   int64  \n",
            " 55  Functional     1457 non-null   object \n",
            " 56  Fireplaces     1459 non-null   int64  \n",
            " 57  FireplaceQu    729 non-null    object \n",
            " 58  GarageType     1383 non-null   object \n",
            " 59  GarageYrBlt    1381 non-null   float64\n",
            " 60  GarageFinish   1381 non-null   object \n",
            " 61  GarageCars     1458 non-null   float64\n",
            " 62  GarageArea     1458 non-null   float64\n",
            " 63  GarageQual     1381 non-null   object \n",
            " 64  GarageCond     1381 non-null   object \n",
            " 65  PavedDrive     1459 non-null   object \n",
            " 66  WoodDeckSF     1459 non-null   int64  \n",
            " 67  OpenPorchSF    1459 non-null   int64  \n",
            " 68  EnclosedPorch  1459 non-null   int64  \n",
            " 69  3SsnPorch      1459 non-null   int64  \n",
            " 70  ScreenPorch    1459 non-null   int64  \n",
            " 71  PoolArea       1459 non-null   int64  \n",
            " 72  PoolQC         3 non-null      object \n",
            " 73  Fence          290 non-null    object \n",
            " 74  MiscFeature    51 non-null     object \n",
            " 75  MiscVal        1459 non-null   int64  \n",
            " 76  MoSold         1459 non-null   int64  \n",
            " 77  YrSold         1459 non-null   int64  \n",
            " 78  SaleType       1458 non-null   object \n",
            " 79  SaleCondition  1459 non-null   object \n",
            "dtypes: float64(11), int64(26), object(43)\n",
            "memory usage: 912.0+ KB\n"
          ],
          "name": "stdout"
        }
      ]
    },
    {
      "cell_type": "code",
      "metadata": {
        "id": "w0xagQ0_mSj-"
      },
      "source": [
        "new_df = test_df.copy()"
      ],
      "execution_count": 482,
      "outputs": []
    },
    {
      "cell_type": "code",
      "metadata": {
        "id": "l-PY7qDuP7mH",
        "colab": {
          "base_uri": "https://localhost:8080/",
          "height": 190
        },
        "outputId": "5de22bc3-ae0d-4522-ee08-af00fd36a73e"
      },
      "source": [
        "new_df[new_df.MSZoning.isnull()][new_df.columns]"
      ],
      "execution_count": 483,
      "outputs": [
        {
          "output_type": "execute_result",
          "data": {
            "text/html": [
              "<div>\n",
              "<style scoped>\n",
              "    .dataframe tbody tr th:only-of-type {\n",
              "        vertical-align: middle;\n",
              "    }\n",
              "\n",
              "    .dataframe tbody tr th {\n",
              "        vertical-align: top;\n",
              "    }\n",
              "\n",
              "    .dataframe thead th {\n",
              "        text-align: right;\n",
              "    }\n",
              "</style>\n",
              "<table border=\"1\" class=\"dataframe\">\n",
              "  <thead>\n",
              "    <tr style=\"text-align: right;\">\n",
              "      <th></th>\n",
              "      <th>Id</th>\n",
              "      <th>MSSubClass</th>\n",
              "      <th>MSZoning</th>\n",
              "      <th>LotFrontage</th>\n",
              "      <th>LotArea</th>\n",
              "      <th>Street</th>\n",
              "      <th>Alley</th>\n",
              "      <th>LotShape</th>\n",
              "      <th>LandContour</th>\n",
              "      <th>Utilities</th>\n",
              "      <th>LotConfig</th>\n",
              "      <th>LandSlope</th>\n",
              "      <th>Neighborhood</th>\n",
              "      <th>Condition1</th>\n",
              "      <th>Condition2</th>\n",
              "      <th>BldgType</th>\n",
              "      <th>HouseStyle</th>\n",
              "      <th>OverallQual</th>\n",
              "      <th>OverallCond</th>\n",
              "      <th>YearBuilt</th>\n",
              "      <th>YearRemodAdd</th>\n",
              "      <th>RoofStyle</th>\n",
              "      <th>RoofMatl</th>\n",
              "      <th>Exterior1st</th>\n",
              "      <th>Exterior2nd</th>\n",
              "      <th>MasVnrType</th>\n",
              "      <th>MasVnrArea</th>\n",
              "      <th>ExterQual</th>\n",
              "      <th>ExterCond</th>\n",
              "      <th>Foundation</th>\n",
              "      <th>BsmtQual</th>\n",
              "      <th>BsmtCond</th>\n",
              "      <th>BsmtExposure</th>\n",
              "      <th>BsmtFinType1</th>\n",
              "      <th>BsmtFinSF1</th>\n",
              "      <th>BsmtFinType2</th>\n",
              "      <th>BsmtFinSF2</th>\n",
              "      <th>BsmtUnfSF</th>\n",
              "      <th>TotalBsmtSF</th>\n",
              "      <th>Heating</th>\n",
              "      <th>HeatingQC</th>\n",
              "      <th>CentralAir</th>\n",
              "      <th>Electrical</th>\n",
              "      <th>1stFlrSF</th>\n",
              "      <th>2ndFlrSF</th>\n",
              "      <th>LowQualFinSF</th>\n",
              "      <th>GrLivArea</th>\n",
              "      <th>BsmtFullBath</th>\n",
              "      <th>BsmtHalfBath</th>\n",
              "      <th>FullBath</th>\n",
              "      <th>HalfBath</th>\n",
              "      <th>BedroomAbvGr</th>\n",
              "      <th>KitchenAbvGr</th>\n",
              "      <th>KitchenQual</th>\n",
              "      <th>TotRmsAbvGrd</th>\n",
              "      <th>Functional</th>\n",
              "      <th>Fireplaces</th>\n",
              "      <th>FireplaceQu</th>\n",
              "      <th>GarageType</th>\n",
              "      <th>GarageYrBlt</th>\n",
              "      <th>GarageFinish</th>\n",
              "      <th>GarageCars</th>\n",
              "      <th>GarageArea</th>\n",
              "      <th>GarageQual</th>\n",
              "      <th>GarageCond</th>\n",
              "      <th>PavedDrive</th>\n",
              "      <th>WoodDeckSF</th>\n",
              "      <th>OpenPorchSF</th>\n",
              "      <th>EnclosedPorch</th>\n",
              "      <th>3SsnPorch</th>\n",
              "      <th>ScreenPorch</th>\n",
              "      <th>PoolArea</th>\n",
              "      <th>PoolQC</th>\n",
              "      <th>Fence</th>\n",
              "      <th>MiscFeature</th>\n",
              "      <th>MiscVal</th>\n",
              "      <th>MoSold</th>\n",
              "      <th>YrSold</th>\n",
              "      <th>SaleType</th>\n",
              "      <th>SaleCondition</th>\n",
              "    </tr>\n",
              "  </thead>\n",
              "  <tbody>\n",
              "    <tr>\n",
              "      <th>455</th>\n",
              "      <td>1916</td>\n",
              "      <td>30</td>\n",
              "      <td>NaN</td>\n",
              "      <td>109.0</td>\n",
              "      <td>21780</td>\n",
              "      <td>Grvl</td>\n",
              "      <td>NaN</td>\n",
              "      <td>Reg</td>\n",
              "      <td>Lvl</td>\n",
              "      <td>NaN</td>\n",
              "      <td>Inside</td>\n",
              "      <td>Gtl</td>\n",
              "      <td>IDOTRR</td>\n",
              "      <td>Norm</td>\n",
              "      <td>Norm</td>\n",
              "      <td>1Fam</td>\n",
              "      <td>1Story</td>\n",
              "      <td>2</td>\n",
              "      <td>4</td>\n",
              "      <td>1910</td>\n",
              "      <td>1950</td>\n",
              "      <td>Gable</td>\n",
              "      <td>CompShg</td>\n",
              "      <td>Wd Sdng</td>\n",
              "      <td>Wd Sdng</td>\n",
              "      <td>None</td>\n",
              "      <td>0.0</td>\n",
              "      <td>Fa</td>\n",
              "      <td>Fa</td>\n",
              "      <td>CBlock</td>\n",
              "      <td>NaN</td>\n",
              "      <td>NaN</td>\n",
              "      <td>NaN</td>\n",
              "      <td>NaN</td>\n",
              "      <td>0.0</td>\n",
              "      <td>NaN</td>\n",
              "      <td>0.0</td>\n",
              "      <td>0.0</td>\n",
              "      <td>0.0</td>\n",
              "      <td>GasA</td>\n",
              "      <td>TA</td>\n",
              "      <td>N</td>\n",
              "      <td>FuseA</td>\n",
              "      <td>810</td>\n",
              "      <td>0</td>\n",
              "      <td>0</td>\n",
              "      <td>810</td>\n",
              "      <td>0.0</td>\n",
              "      <td>0.0</td>\n",
              "      <td>1</td>\n",
              "      <td>0</td>\n",
              "      <td>1</td>\n",
              "      <td>1</td>\n",
              "      <td>TA</td>\n",
              "      <td>4</td>\n",
              "      <td>Min1</td>\n",
              "      <td>0</td>\n",
              "      <td>NaN</td>\n",
              "      <td>Detchd</td>\n",
              "      <td>1975.0</td>\n",
              "      <td>Unf</td>\n",
              "      <td>1.0</td>\n",
              "      <td>280.0</td>\n",
              "      <td>TA</td>\n",
              "      <td>TA</td>\n",
              "      <td>N</td>\n",
              "      <td>119</td>\n",
              "      <td>24</td>\n",
              "      <td>0</td>\n",
              "      <td>0</td>\n",
              "      <td>0</td>\n",
              "      <td>0</td>\n",
              "      <td>NaN</td>\n",
              "      <td>NaN</td>\n",
              "      <td>NaN</td>\n",
              "      <td>0</td>\n",
              "      <td>3</td>\n",
              "      <td>2009</td>\n",
              "      <td>ConLD</td>\n",
              "      <td>Normal</td>\n",
              "    </tr>\n",
              "    <tr>\n",
              "      <th>756</th>\n",
              "      <td>2217</td>\n",
              "      <td>20</td>\n",
              "      <td>NaN</td>\n",
              "      <td>80.0</td>\n",
              "      <td>14584</td>\n",
              "      <td>Pave</td>\n",
              "      <td>NaN</td>\n",
              "      <td>Reg</td>\n",
              "      <td>Low</td>\n",
              "      <td>AllPub</td>\n",
              "      <td>Inside</td>\n",
              "      <td>Mod</td>\n",
              "      <td>IDOTRR</td>\n",
              "      <td>Norm</td>\n",
              "      <td>Norm</td>\n",
              "      <td>1Fam</td>\n",
              "      <td>1Story</td>\n",
              "      <td>1</td>\n",
              "      <td>5</td>\n",
              "      <td>1952</td>\n",
              "      <td>1952</td>\n",
              "      <td>Gable</td>\n",
              "      <td>CompShg</td>\n",
              "      <td>AsbShng</td>\n",
              "      <td>VinylSd</td>\n",
              "      <td>None</td>\n",
              "      <td>0.0</td>\n",
              "      <td>Fa</td>\n",
              "      <td>Po</td>\n",
              "      <td>Slab</td>\n",
              "      <td>NaN</td>\n",
              "      <td>NaN</td>\n",
              "      <td>NaN</td>\n",
              "      <td>NaN</td>\n",
              "      <td>0.0</td>\n",
              "      <td>NaN</td>\n",
              "      <td>0.0</td>\n",
              "      <td>0.0</td>\n",
              "      <td>0.0</td>\n",
              "      <td>Wall</td>\n",
              "      <td>Po</td>\n",
              "      <td>N</td>\n",
              "      <td>FuseA</td>\n",
              "      <td>733</td>\n",
              "      <td>0</td>\n",
              "      <td>0</td>\n",
              "      <td>733</td>\n",
              "      <td>0.0</td>\n",
              "      <td>0.0</td>\n",
              "      <td>1</td>\n",
              "      <td>0</td>\n",
              "      <td>2</td>\n",
              "      <td>1</td>\n",
              "      <td>Fa</td>\n",
              "      <td>4</td>\n",
              "      <td>NaN</td>\n",
              "      <td>0</td>\n",
              "      <td>NaN</td>\n",
              "      <td>Attchd</td>\n",
              "      <td>1952.0</td>\n",
              "      <td>Unf</td>\n",
              "      <td>2.0</td>\n",
              "      <td>487.0</td>\n",
              "      <td>Fa</td>\n",
              "      <td>Po</td>\n",
              "      <td>N</td>\n",
              "      <td>0</td>\n",
              "      <td>0</td>\n",
              "      <td>0</td>\n",
              "      <td>0</td>\n",
              "      <td>0</td>\n",
              "      <td>0</td>\n",
              "      <td>NaN</td>\n",
              "      <td>NaN</td>\n",
              "      <td>NaN</td>\n",
              "      <td>0</td>\n",
              "      <td>2</td>\n",
              "      <td>2008</td>\n",
              "      <td>WD</td>\n",
              "      <td>Abnorml</td>\n",
              "    </tr>\n",
              "    <tr>\n",
              "      <th>790</th>\n",
              "      <td>2251</td>\n",
              "      <td>70</td>\n",
              "      <td>NaN</td>\n",
              "      <td>NaN</td>\n",
              "      <td>56600</td>\n",
              "      <td>Pave</td>\n",
              "      <td>NaN</td>\n",
              "      <td>IR1</td>\n",
              "      <td>Low</td>\n",
              "      <td>AllPub</td>\n",
              "      <td>Inside</td>\n",
              "      <td>Gtl</td>\n",
              "      <td>IDOTRR</td>\n",
              "      <td>Norm</td>\n",
              "      <td>Norm</td>\n",
              "      <td>1Fam</td>\n",
              "      <td>2.5Unf</td>\n",
              "      <td>5</td>\n",
              "      <td>1</td>\n",
              "      <td>1900</td>\n",
              "      <td>1950</td>\n",
              "      <td>Hip</td>\n",
              "      <td>CompShg</td>\n",
              "      <td>Wd Sdng</td>\n",
              "      <td>Wd Sdng</td>\n",
              "      <td>None</td>\n",
              "      <td>0.0</td>\n",
              "      <td>TA</td>\n",
              "      <td>TA</td>\n",
              "      <td>BrkTil</td>\n",
              "      <td>TA</td>\n",
              "      <td>TA</td>\n",
              "      <td>No</td>\n",
              "      <td>Unf</td>\n",
              "      <td>0.0</td>\n",
              "      <td>Unf</td>\n",
              "      <td>0.0</td>\n",
              "      <td>686.0</td>\n",
              "      <td>686.0</td>\n",
              "      <td>GasA</td>\n",
              "      <td>Ex</td>\n",
              "      <td>Y</td>\n",
              "      <td>SBrkr</td>\n",
              "      <td>1150</td>\n",
              "      <td>686</td>\n",
              "      <td>0</td>\n",
              "      <td>1836</td>\n",
              "      <td>0.0</td>\n",
              "      <td>0.0</td>\n",
              "      <td>2</td>\n",
              "      <td>0</td>\n",
              "      <td>4</td>\n",
              "      <td>1</td>\n",
              "      <td>TA</td>\n",
              "      <td>7</td>\n",
              "      <td>Maj1</td>\n",
              "      <td>0</td>\n",
              "      <td>NaN</td>\n",
              "      <td>Detchd</td>\n",
              "      <td>1900.0</td>\n",
              "      <td>Unf</td>\n",
              "      <td>1.0</td>\n",
              "      <td>288.0</td>\n",
              "      <td>TA</td>\n",
              "      <td>Fa</td>\n",
              "      <td>N</td>\n",
              "      <td>0</td>\n",
              "      <td>0</td>\n",
              "      <td>0</td>\n",
              "      <td>0</td>\n",
              "      <td>0</td>\n",
              "      <td>0</td>\n",
              "      <td>NaN</td>\n",
              "      <td>NaN</td>\n",
              "      <td>NaN</td>\n",
              "      <td>0</td>\n",
              "      <td>1</td>\n",
              "      <td>2008</td>\n",
              "      <td>WD</td>\n",
              "      <td>Normal</td>\n",
              "    </tr>\n",
              "    <tr>\n",
              "      <th>1444</th>\n",
              "      <td>2905</td>\n",
              "      <td>20</td>\n",
              "      <td>NaN</td>\n",
              "      <td>125.0</td>\n",
              "      <td>31250</td>\n",
              "      <td>Pave</td>\n",
              "      <td>NaN</td>\n",
              "      <td>Reg</td>\n",
              "      <td>Lvl</td>\n",
              "      <td>AllPub</td>\n",
              "      <td>Inside</td>\n",
              "      <td>Gtl</td>\n",
              "      <td>Mitchel</td>\n",
              "      <td>Artery</td>\n",
              "      <td>Norm</td>\n",
              "      <td>1Fam</td>\n",
              "      <td>1Story</td>\n",
              "      <td>1</td>\n",
              "      <td>3</td>\n",
              "      <td>1951</td>\n",
              "      <td>1951</td>\n",
              "      <td>Gable</td>\n",
              "      <td>CompShg</td>\n",
              "      <td>CBlock</td>\n",
              "      <td>VinylSd</td>\n",
              "      <td>None</td>\n",
              "      <td>0.0</td>\n",
              "      <td>TA</td>\n",
              "      <td>Fa</td>\n",
              "      <td>CBlock</td>\n",
              "      <td>NaN</td>\n",
              "      <td>NaN</td>\n",
              "      <td>NaN</td>\n",
              "      <td>NaN</td>\n",
              "      <td>0.0</td>\n",
              "      <td>NaN</td>\n",
              "      <td>0.0</td>\n",
              "      <td>0.0</td>\n",
              "      <td>0.0</td>\n",
              "      <td>GasA</td>\n",
              "      <td>TA</td>\n",
              "      <td>Y</td>\n",
              "      <td>FuseA</td>\n",
              "      <td>1600</td>\n",
              "      <td>0</td>\n",
              "      <td>0</td>\n",
              "      <td>1600</td>\n",
              "      <td>0.0</td>\n",
              "      <td>0.0</td>\n",
              "      <td>1</td>\n",
              "      <td>1</td>\n",
              "      <td>3</td>\n",
              "      <td>1</td>\n",
              "      <td>TA</td>\n",
              "      <td>6</td>\n",
              "      <td>Mod</td>\n",
              "      <td>0</td>\n",
              "      <td>NaN</td>\n",
              "      <td>Attchd</td>\n",
              "      <td>1951.0</td>\n",
              "      <td>Unf</td>\n",
              "      <td>1.0</td>\n",
              "      <td>270.0</td>\n",
              "      <td>Fa</td>\n",
              "      <td>TA</td>\n",
              "      <td>N</td>\n",
              "      <td>0</td>\n",
              "      <td>0</td>\n",
              "      <td>135</td>\n",
              "      <td>0</td>\n",
              "      <td>0</td>\n",
              "      <td>0</td>\n",
              "      <td>NaN</td>\n",
              "      <td>NaN</td>\n",
              "      <td>NaN</td>\n",
              "      <td>0</td>\n",
              "      <td>5</td>\n",
              "      <td>2006</td>\n",
              "      <td>WD</td>\n",
              "      <td>Normal</td>\n",
              "    </tr>\n",
              "  </tbody>\n",
              "</table>\n",
              "</div>"
            ],
            "text/plain": [
              "        Id  MSSubClass MSZoning  ...  YrSold  SaleType SaleCondition\n",
              "455   1916          30      NaN  ...    2009     ConLD        Normal\n",
              "756   2217          20      NaN  ...    2008        WD       Abnorml\n",
              "790   2251          70      NaN  ...    2008        WD        Normal\n",
              "1444  2905          20      NaN  ...    2006        WD        Normal\n",
              "\n",
              "[4 rows x 80 columns]"
            ]
          },
          "metadata": {
            "tags": []
          },
          "execution_count": 483
        }
      ]
    },
    {
      "cell_type": "code",
      "metadata": {
        "id": "VsOrLALQQ_EZ",
        "colab": {
          "base_uri": "https://localhost:8080/"
        },
        "outputId": "9fcbdcb8-aec1-4e12-ff5d-b5333f33744c"
      },
      "source": [
        "mode_df = new_df[['MSSubClass','MSZoning']].groupby('MSSubClass').agg(lambda x: x.value_counts().index[0]).reset_index()\n",
        "left_df = pd.DataFrame(new_df.loc[new_df['MSZoning'].isnull(),'MSSubClass']).reset_index()\n",
        "merged_df = pd.merge(left=left_df, right=mode_df, how='left', on='MSSubClass').set_index('index')['MSZoning']\n",
        "merged_df"
      ],
      "execution_count": 484,
      "outputs": [
        {
          "output_type": "execute_result",
          "data": {
            "text/plain": [
              "index\n",
              "455     RM\n",
              "756     RL\n",
              "790     RM\n",
              "1444    RL\n",
              "Name: MSZoning, dtype: object"
            ]
          },
          "metadata": {
            "tags": []
          },
          "execution_count": 484
        }
      ]
    },
    {
      "cell_type": "code",
      "metadata": {
        "id": "d8Zpbu1EgSDw"
      },
      "source": [
        "new_df.loc[new_df['MSZoning'].isnull(),'MSZoning'] = merged_df"
      ],
      "execution_count": 485,
      "outputs": []
    },
    {
      "cell_type": "code",
      "metadata": {
        "id": "bNdeNLGagcXm",
        "colab": {
          "base_uri": "https://localhost:8080/"
        },
        "outputId": "cf458d94-dec9-4204-a826-09e9e985e252"
      },
      "source": [
        "new_df['MSZoning'].isnull().sum()"
      ],
      "execution_count": 486,
      "outputs": [
        {
          "output_type": "execute_result",
          "data": {
            "text/plain": [
              "0"
            ]
          },
          "metadata": {
            "tags": []
          },
          "execution_count": 486
        }
      ]
    },
    {
      "cell_type": "code",
      "metadata": {
        "id": "xO8ww1oBl2mm",
        "colab": {
          "base_uri": "https://localhost:8080/"
        },
        "outputId": "9e79edfc-9d5e-478b-def8-3e5ab8820efb"
      },
      "source": [
        "mean_df = pd.DataFrame(new_df.groupby('Neighborhood')['LotFrontage'].mean().round()).reset_index()\n",
        "left_df = pd.DataFrame(new_df.loc[new_df['LotFrontage'].isnull(),'Neighborhood']).reset_index()\n",
        "merged_df = pd.merge(left=left_df, right=mean_df, how='left', on='Neighborhood').set_index('index')['LotFrontage']\n",
        "merged_df"
      ],
      "execution_count": 487,
      "outputs": [
        {
          "output_type": "execute_result",
          "data": {
            "text/plain": [
              "index\n",
              "6       70.0\n",
              "40      64.0\n",
              "41      64.0\n",
              "45      82.0\n",
              "47      82.0\n",
              "        ... \n",
              "1387    71.0\n",
              "1390    71.0\n",
              "1440    82.0\n",
              "1441    82.0\n",
              "1448    79.0\n",
              "Name: LotFrontage, Length: 227, dtype: float64"
            ]
          },
          "metadata": {
            "tags": []
          },
          "execution_count": 487
        }
      ]
    },
    {
      "cell_type": "code",
      "metadata": {
        "id": "n9zrKjizm5G7"
      },
      "source": [
        "new_df.loc[new_df['LotFrontage'].isnull(),'LotFrontage'] = merged_df"
      ],
      "execution_count": 488,
      "outputs": []
    },
    {
      "cell_type": "code",
      "metadata": {
        "id": "XA1qqpQanDpe",
        "colab": {
          "base_uri": "https://localhost:8080/"
        },
        "outputId": "a2d897a1-807b-4f21-e02d-7b09eeda89a0"
      },
      "source": [
        "new_df['LotFrontage'].isnull().sum()"
      ],
      "execution_count": 489,
      "outputs": [
        {
          "output_type": "execute_result",
          "data": {
            "text/plain": [
              "0"
            ]
          },
          "metadata": {
            "tags": []
          },
          "execution_count": 489
        }
      ]
    },
    {
      "cell_type": "code",
      "metadata": {
        "id": "sheurTdZnTlP",
        "colab": {
          "base_uri": "https://localhost:8080/"
        },
        "outputId": "cd4e7030-305c-40d1-aab6-2ae0faec498d"
      },
      "source": [
        "print('Percentage Not Null values in column Alley: ',(new_df['Alley'].count()/new_df['Id'].count())*100)"
      ],
      "execution_count": 490,
      "outputs": [
        {
          "output_type": "stream",
          "text": [
            "Percentage Not Null values in column Alley:  7.333790267306374\n"
          ],
          "name": "stdout"
        }
      ]
    },
    {
      "cell_type": "code",
      "metadata": {
        "id": "SbZMSnFvnYNd"
      },
      "source": [
        "new_df.fillna({'Alley':'NA'},inplace=True)"
      ],
      "execution_count": 491,
      "outputs": []
    },
    {
      "cell_type": "code",
      "metadata": {
        "id": "THRTBeiXpQQ-",
        "colab": {
          "base_uri": "https://localhost:8080/"
        },
        "outputId": "f1bf8e1f-f932-4ec2-d439-9bf258003da6"
      },
      "source": [
        "new_df['Alley'].value_counts()"
      ],
      "execution_count": 492,
      "outputs": [
        {
          "output_type": "execute_result",
          "data": {
            "text/plain": [
              "NA      1352\n",
              "Grvl      70\n",
              "Pave      37\n",
              "Name: Alley, dtype: int64"
            ]
          },
          "metadata": {
            "tags": []
          },
          "execution_count": 492
        }
      ]
    },
    {
      "cell_type": "code",
      "metadata": {
        "id": "BlZ40ybrj5aH",
        "colab": {
          "base_uri": "https://localhost:8080/"
        },
        "outputId": "3ceefa9d-23af-4a31-97a5-910a5cfde613"
      },
      "source": [
        "new_df.Utilities.value_counts()"
      ],
      "execution_count": 493,
      "outputs": [
        {
          "output_type": "execute_result",
          "data": {
            "text/plain": [
              "AllPub    1457\n",
              "Name: Utilities, dtype: int64"
            ]
          },
          "metadata": {
            "tags": []
          },
          "execution_count": 493
        }
      ]
    },
    {
      "cell_type": "code",
      "metadata": {
        "id": "DEdEHaU3qNWQ"
      },
      "source": [
        "new_df.fillna({'Utilities':'AllPub'},inplace=True)"
      ],
      "execution_count": 494,
      "outputs": []
    },
    {
      "cell_type": "code",
      "metadata": {
        "id": "7oNfETzXq_KI",
        "colab": {
          "base_uri": "https://localhost:8080/"
        },
        "outputId": "6fcb97fd-592c-48c1-a86c-ca831e71659d"
      },
      "source": [
        "new_df.Utilities.value_counts()"
      ],
      "execution_count": 495,
      "outputs": [
        {
          "output_type": "execute_result",
          "data": {
            "text/plain": [
              "AllPub    1459\n",
              "Name: Utilities, dtype: int64"
            ]
          },
          "metadata": {
            "tags": []
          },
          "execution_count": 495
        }
      ]
    },
    {
      "cell_type": "code",
      "metadata": {
        "id": "e_JridzTsDkE",
        "colab": {
          "base_uri": "https://localhost:8080/",
          "height": 98
        },
        "outputId": "45de4190-1eb7-4eae-9f9d-ec22a46ecc94"
      },
      "source": [
        "new_df[new_df.Exterior1st.isnull() & new_df.Exterior2nd.isnull()][new_df.columns]"
      ],
      "execution_count": 496,
      "outputs": [
        {
          "output_type": "execute_result",
          "data": {
            "text/html": [
              "<div>\n",
              "<style scoped>\n",
              "    .dataframe tbody tr th:only-of-type {\n",
              "        vertical-align: middle;\n",
              "    }\n",
              "\n",
              "    .dataframe tbody tr th {\n",
              "        vertical-align: top;\n",
              "    }\n",
              "\n",
              "    .dataframe thead th {\n",
              "        text-align: right;\n",
              "    }\n",
              "</style>\n",
              "<table border=\"1\" class=\"dataframe\">\n",
              "  <thead>\n",
              "    <tr style=\"text-align: right;\">\n",
              "      <th></th>\n",
              "      <th>Id</th>\n",
              "      <th>MSSubClass</th>\n",
              "      <th>MSZoning</th>\n",
              "      <th>LotFrontage</th>\n",
              "      <th>LotArea</th>\n",
              "      <th>Street</th>\n",
              "      <th>Alley</th>\n",
              "      <th>LotShape</th>\n",
              "      <th>LandContour</th>\n",
              "      <th>Utilities</th>\n",
              "      <th>LotConfig</th>\n",
              "      <th>LandSlope</th>\n",
              "      <th>Neighborhood</th>\n",
              "      <th>Condition1</th>\n",
              "      <th>Condition2</th>\n",
              "      <th>BldgType</th>\n",
              "      <th>HouseStyle</th>\n",
              "      <th>OverallQual</th>\n",
              "      <th>OverallCond</th>\n",
              "      <th>YearBuilt</th>\n",
              "      <th>YearRemodAdd</th>\n",
              "      <th>RoofStyle</th>\n",
              "      <th>RoofMatl</th>\n",
              "      <th>Exterior1st</th>\n",
              "      <th>Exterior2nd</th>\n",
              "      <th>MasVnrType</th>\n",
              "      <th>MasVnrArea</th>\n",
              "      <th>ExterQual</th>\n",
              "      <th>ExterCond</th>\n",
              "      <th>Foundation</th>\n",
              "      <th>BsmtQual</th>\n",
              "      <th>BsmtCond</th>\n",
              "      <th>BsmtExposure</th>\n",
              "      <th>BsmtFinType1</th>\n",
              "      <th>BsmtFinSF1</th>\n",
              "      <th>BsmtFinType2</th>\n",
              "      <th>BsmtFinSF2</th>\n",
              "      <th>BsmtUnfSF</th>\n",
              "      <th>TotalBsmtSF</th>\n",
              "      <th>Heating</th>\n",
              "      <th>HeatingQC</th>\n",
              "      <th>CentralAir</th>\n",
              "      <th>Electrical</th>\n",
              "      <th>1stFlrSF</th>\n",
              "      <th>2ndFlrSF</th>\n",
              "      <th>LowQualFinSF</th>\n",
              "      <th>GrLivArea</th>\n",
              "      <th>BsmtFullBath</th>\n",
              "      <th>BsmtHalfBath</th>\n",
              "      <th>FullBath</th>\n",
              "      <th>HalfBath</th>\n",
              "      <th>BedroomAbvGr</th>\n",
              "      <th>KitchenAbvGr</th>\n",
              "      <th>KitchenQual</th>\n",
              "      <th>TotRmsAbvGrd</th>\n",
              "      <th>Functional</th>\n",
              "      <th>Fireplaces</th>\n",
              "      <th>FireplaceQu</th>\n",
              "      <th>GarageType</th>\n",
              "      <th>GarageYrBlt</th>\n",
              "      <th>GarageFinish</th>\n",
              "      <th>GarageCars</th>\n",
              "      <th>GarageArea</th>\n",
              "      <th>GarageQual</th>\n",
              "      <th>GarageCond</th>\n",
              "      <th>PavedDrive</th>\n",
              "      <th>WoodDeckSF</th>\n",
              "      <th>OpenPorchSF</th>\n",
              "      <th>EnclosedPorch</th>\n",
              "      <th>3SsnPorch</th>\n",
              "      <th>ScreenPorch</th>\n",
              "      <th>PoolArea</th>\n",
              "      <th>PoolQC</th>\n",
              "      <th>Fence</th>\n",
              "      <th>MiscFeature</th>\n",
              "      <th>MiscVal</th>\n",
              "      <th>MoSold</th>\n",
              "      <th>YrSold</th>\n",
              "      <th>SaleType</th>\n",
              "      <th>SaleCondition</th>\n",
              "    </tr>\n",
              "  </thead>\n",
              "  <tbody>\n",
              "    <tr>\n",
              "      <th>691</th>\n",
              "      <td>2152</td>\n",
              "      <td>30</td>\n",
              "      <td>RL</td>\n",
              "      <td>85.0</td>\n",
              "      <td>19550</td>\n",
              "      <td>Pave</td>\n",
              "      <td>NA</td>\n",
              "      <td>Reg</td>\n",
              "      <td>Lvl</td>\n",
              "      <td>AllPub</td>\n",
              "      <td>Inside</td>\n",
              "      <td>Gtl</td>\n",
              "      <td>Edwards</td>\n",
              "      <td>Norm</td>\n",
              "      <td>Norm</td>\n",
              "      <td>1Fam</td>\n",
              "      <td>1Story</td>\n",
              "      <td>5</td>\n",
              "      <td>7</td>\n",
              "      <td>1940</td>\n",
              "      <td>2007</td>\n",
              "      <td>Flat</td>\n",
              "      <td>Tar&amp;Grv</td>\n",
              "      <td>NaN</td>\n",
              "      <td>NaN</td>\n",
              "      <td>None</td>\n",
              "      <td>0.0</td>\n",
              "      <td>TA</td>\n",
              "      <td>TA</td>\n",
              "      <td>PConc</td>\n",
              "      <td>TA</td>\n",
              "      <td>TA</td>\n",
              "      <td>Gd</td>\n",
              "      <td>ALQ</td>\n",
              "      <td>1035.0</td>\n",
              "      <td>Unf</td>\n",
              "      <td>0.0</td>\n",
              "      <td>545.0</td>\n",
              "      <td>1580.0</td>\n",
              "      <td>GasA</td>\n",
              "      <td>Ex</td>\n",
              "      <td>Y</td>\n",
              "      <td>SBrkr</td>\n",
              "      <td>1518</td>\n",
              "      <td>0</td>\n",
              "      <td>0</td>\n",
              "      <td>1518</td>\n",
              "      <td>1.0</td>\n",
              "      <td>0.0</td>\n",
              "      <td>1</td>\n",
              "      <td>0</td>\n",
              "      <td>2</td>\n",
              "      <td>1</td>\n",
              "      <td>Fa</td>\n",
              "      <td>5</td>\n",
              "      <td>Typ</td>\n",
              "      <td>2</td>\n",
              "      <td>Gd</td>\n",
              "      <td>NaN</td>\n",
              "      <td>NaN</td>\n",
              "      <td>NaN</td>\n",
              "      <td>0.0</td>\n",
              "      <td>0.0</td>\n",
              "      <td>NaN</td>\n",
              "      <td>NaN</td>\n",
              "      <td>Y</td>\n",
              "      <td>0</td>\n",
              "      <td>39</td>\n",
              "      <td>0</td>\n",
              "      <td>0</td>\n",
              "      <td>0</td>\n",
              "      <td>0</td>\n",
              "      <td>NaN</td>\n",
              "      <td>NaN</td>\n",
              "      <td>NaN</td>\n",
              "      <td>0</td>\n",
              "      <td>1</td>\n",
              "      <td>2008</td>\n",
              "      <td>WD</td>\n",
              "      <td>Normal</td>\n",
              "    </tr>\n",
              "  </tbody>\n",
              "</table>\n",
              "</div>"
            ],
            "text/plain": [
              "       Id  MSSubClass MSZoning  ...  YrSold  SaleType SaleCondition\n",
              "691  2152          30       RL  ...    2008        WD        Normal\n",
              "\n",
              "[1 rows x 80 columns]"
            ]
          },
          "metadata": {
            "tags": []
          },
          "execution_count": 496
        }
      ]
    },
    {
      "cell_type": "code",
      "metadata": {
        "id": "osw3gMbKsw5w",
        "colab": {
          "base_uri": "https://localhost:8080/"
        },
        "outputId": "7f4ed73b-41a4-4d71-ea7f-4fcad414b6dc"
      },
      "source": [
        "new_df.Exterior1st.value_counts()"
      ],
      "execution_count": 497,
      "outputs": [
        {
          "output_type": "execute_result",
          "data": {
            "text/plain": [
              "VinylSd    510\n",
              "MetalSd    230\n",
              "HdBoard    220\n",
              "Wd Sdng    205\n",
              "Plywood    113\n",
              "CemntBd     65\n",
              "BrkFace     37\n",
              "WdShing     30\n",
              "AsbShng     24\n",
              "Stucco      18\n",
              "BrkComm      4\n",
              "CBlock       1\n",
              "AsphShn      1\n",
              "Name: Exterior1st, dtype: int64"
            ]
          },
          "metadata": {
            "tags": []
          },
          "execution_count": 497
        }
      ]
    },
    {
      "cell_type": "code",
      "metadata": {
        "id": "IMeTyXXltFbu",
        "colab": {
          "base_uri": "https://localhost:8080/"
        },
        "outputId": "fc30f630-98b5-46a5-d399-a7f0d1096513"
      },
      "source": [
        "new_df.Exterior2nd.value_counts()"
      ],
      "execution_count": 498,
      "outputs": [
        {
          "output_type": "execute_result",
          "data": {
            "text/plain": [
              "VinylSd    510\n",
              "MetalSd    233\n",
              "HdBoard    199\n",
              "Wd Sdng    194\n",
              "Plywood    128\n",
              "CmentBd     66\n",
              "Wd Shng     43\n",
              "BrkFace     22\n",
              "Stucco      21\n",
              "AsbShng     18\n",
              "Brk Cmn     15\n",
              "ImStucc      5\n",
              "CBlock       2\n",
              "Stone        1\n",
              "AsphShn      1\n",
              "Name: Exterior2nd, dtype: int64"
            ]
          },
          "metadata": {
            "tags": []
          },
          "execution_count": 498
        }
      ]
    },
    {
      "cell_type": "code",
      "metadata": {
        "id": "qPZ98jgxt3QK"
      },
      "source": [
        "new_df.fillna({'Exterior1st':'Other'},inplace=True)"
      ],
      "execution_count": 499,
      "outputs": []
    },
    {
      "cell_type": "code",
      "metadata": {
        "id": "o0lCUgYJt4mH"
      },
      "source": [
        "new_df.fillna({'Exterior2nd':'Other'},inplace=True)"
      ],
      "execution_count": 500,
      "outputs": []
    },
    {
      "cell_type": "code",
      "metadata": {
        "id": "-L29Q-SRpg_5",
        "colab": {
          "base_uri": "https://localhost:8080/"
        },
        "outputId": "cefc9b95-fbf5-47b8-d474-188eebea88d8"
      },
      "source": [
        "new_df['MasVnrType'].value_counts()"
      ],
      "execution_count": 501,
      "outputs": [
        {
          "output_type": "execute_result",
          "data": {
            "text/plain": [
              "None       878\n",
              "BrkFace    434\n",
              "Stone      121\n",
              "BrkCmn      10\n",
              "Name: MasVnrType, dtype: int64"
            ]
          },
          "metadata": {
            "tags": []
          },
          "execution_count": 501
        }
      ]
    },
    {
      "cell_type": "code",
      "metadata": {
        "id": "NVcDuCPPsHxy",
        "colab": {
          "base_uri": "https://localhost:8080/"
        },
        "outputId": "0b839732-701f-4352-d007-68d79bacfbcd"
      },
      "source": [
        "new_df['MasVnrArea'].value_counts()"
      ],
      "execution_count": 502,
      "outputs": [
        {
          "output_type": "execute_result",
          "data": {
            "text/plain": [
              "0.0      877\n",
              "176.0     10\n",
              "144.0      9\n",
              "120.0      8\n",
              "216.0      8\n",
              "        ... \n",
              "634.0      1\n",
              "177.0      1\n",
              "615.0      1\n",
              "549.0      1\n",
              "442.0      1\n",
              "Name: MasVnrArea, Length: 303, dtype: int64"
            ]
          },
          "metadata": {
            "tags": []
          },
          "execution_count": 502
        }
      ]
    },
    {
      "cell_type": "code",
      "metadata": {
        "id": "3kFL86ntsZPa"
      },
      "source": [
        "new_df.fillna({'MasVnrType':'None', 'MasVnrArea':0.0},inplace=True)"
      ],
      "execution_count": 503,
      "outputs": []
    },
    {
      "cell_type": "code",
      "metadata": {
        "id": "1AVquhRytFEw",
        "colab": {
          "base_uri": "https://localhost:8080/"
        },
        "outputId": "4f815eb2-3a02-4a10-da20-9371c29449fd"
      },
      "source": [
        "new_df.BsmtQual.value_counts()"
      ],
      "execution_count": 504,
      "outputs": [
        {
          "output_type": "execute_result",
          "data": {
            "text/plain": [
              "TA    634\n",
              "Gd    591\n",
              "Ex    137\n",
              "Fa     53\n",
              "Name: BsmtQual, dtype: int64"
            ]
          },
          "metadata": {
            "tags": []
          },
          "execution_count": 504
        }
      ]
    },
    {
      "cell_type": "code",
      "metadata": {
        "id": "J0rAPlUitODu",
        "colab": {
          "base_uri": "https://localhost:8080/"
        },
        "outputId": "a3add623-a1ef-452d-a1d7-e40c82772655"
      },
      "source": [
        "new_df.BsmtCond.value_counts()"
      ],
      "execution_count": 505,
      "outputs": [
        {
          "output_type": "execute_result",
          "data": {
            "text/plain": [
              "TA    1295\n",
              "Fa      59\n",
              "Gd      57\n",
              "Po       3\n",
              "Name: BsmtCond, dtype: int64"
            ]
          },
          "metadata": {
            "tags": []
          },
          "execution_count": 505
        }
      ]
    },
    {
      "cell_type": "code",
      "metadata": {
        "id": "TNeJEjez6ARh",
        "colab": {
          "base_uri": "https://localhost:8080/"
        },
        "outputId": "8867a3d3-2ecb-446a-b504-6e44ff795eea"
      },
      "source": [
        "new_df.BsmtExposure.value_counts()"
      ],
      "execution_count": 506,
      "outputs": [
        {
          "output_type": "execute_result",
          "data": {
            "text/plain": [
              "No    951\n",
              "Av    197\n",
              "Gd    142\n",
              "Mn    125\n",
              "Name: BsmtExposure, dtype: int64"
            ]
          },
          "metadata": {
            "tags": []
          },
          "execution_count": 506
        }
      ]
    },
    {
      "cell_type": "code",
      "metadata": {
        "id": "qZOh1AmQbrwZ",
        "colab": {
          "base_uri": "https://localhost:8080/",
          "height": 1000
        },
        "outputId": "91517558-0823-4b28-8be4-8e0191bed33c"
      },
      "source": [
        "new_df[new_df.BsmtCond.isnull()][['BsmtQual','BsmtCond','BsmtExposure','BsmtFinType1','BsmtFinSF1','BsmtFinType2','BsmtFinSF2','BsmtUnfSF','TotalBsmtSF']]"
      ],
      "execution_count": 507,
      "outputs": [
        {
          "output_type": "execute_result",
          "data": {
            "text/html": [
              "<div>\n",
              "<style scoped>\n",
              "    .dataframe tbody tr th:only-of-type {\n",
              "        vertical-align: middle;\n",
              "    }\n",
              "\n",
              "    .dataframe tbody tr th {\n",
              "        vertical-align: top;\n",
              "    }\n",
              "\n",
              "    .dataframe thead th {\n",
              "        text-align: right;\n",
              "    }\n",
              "</style>\n",
              "<table border=\"1\" class=\"dataframe\">\n",
              "  <thead>\n",
              "    <tr style=\"text-align: right;\">\n",
              "      <th></th>\n",
              "      <th>BsmtQual</th>\n",
              "      <th>BsmtCond</th>\n",
              "      <th>BsmtExposure</th>\n",
              "      <th>BsmtFinType1</th>\n",
              "      <th>BsmtFinSF1</th>\n",
              "      <th>BsmtFinType2</th>\n",
              "      <th>BsmtFinSF2</th>\n",
              "      <th>BsmtUnfSF</th>\n",
              "      <th>TotalBsmtSF</th>\n",
              "    </tr>\n",
              "  </thead>\n",
              "  <tbody>\n",
              "    <tr>\n",
              "      <th>125</th>\n",
              "      <td>NaN</td>\n",
              "      <td>NaN</td>\n",
              "      <td>NaN</td>\n",
              "      <td>NaN</td>\n",
              "      <td>0.0</td>\n",
              "      <td>NaN</td>\n",
              "      <td>0.0</td>\n",
              "      <td>0.0</td>\n",
              "      <td>0.0</td>\n",
              "    </tr>\n",
              "    <tr>\n",
              "      <th>133</th>\n",
              "      <td>NaN</td>\n",
              "      <td>NaN</td>\n",
              "      <td>NaN</td>\n",
              "      <td>NaN</td>\n",
              "      <td>0.0</td>\n",
              "      <td>NaN</td>\n",
              "      <td>0.0</td>\n",
              "      <td>0.0</td>\n",
              "      <td>0.0</td>\n",
              "    </tr>\n",
              "    <tr>\n",
              "      <th>269</th>\n",
              "      <td>NaN</td>\n",
              "      <td>NaN</td>\n",
              "      <td>NaN</td>\n",
              "      <td>NaN</td>\n",
              "      <td>0.0</td>\n",
              "      <td>NaN</td>\n",
              "      <td>0.0</td>\n",
              "      <td>0.0</td>\n",
              "      <td>0.0</td>\n",
              "    </tr>\n",
              "    <tr>\n",
              "      <th>318</th>\n",
              "      <td>NaN</td>\n",
              "      <td>NaN</td>\n",
              "      <td>NaN</td>\n",
              "      <td>NaN</td>\n",
              "      <td>0.0</td>\n",
              "      <td>NaN</td>\n",
              "      <td>0.0</td>\n",
              "      <td>0.0</td>\n",
              "      <td>0.0</td>\n",
              "    </tr>\n",
              "    <tr>\n",
              "      <th>354</th>\n",
              "      <td>NaN</td>\n",
              "      <td>NaN</td>\n",
              "      <td>NaN</td>\n",
              "      <td>NaN</td>\n",
              "      <td>0.0</td>\n",
              "      <td>NaN</td>\n",
              "      <td>0.0</td>\n",
              "      <td>0.0</td>\n",
              "      <td>0.0</td>\n",
              "    </tr>\n",
              "    <tr>\n",
              "      <th>387</th>\n",
              "      <td>NaN</td>\n",
              "      <td>NaN</td>\n",
              "      <td>NaN</td>\n",
              "      <td>NaN</td>\n",
              "      <td>0.0</td>\n",
              "      <td>NaN</td>\n",
              "      <td>0.0</td>\n",
              "      <td>0.0</td>\n",
              "      <td>0.0</td>\n",
              "    </tr>\n",
              "    <tr>\n",
              "      <th>388</th>\n",
              "      <td>NaN</td>\n",
              "      <td>NaN</td>\n",
              "      <td>NaN</td>\n",
              "      <td>NaN</td>\n",
              "      <td>0.0</td>\n",
              "      <td>NaN</td>\n",
              "      <td>0.0</td>\n",
              "      <td>0.0</td>\n",
              "      <td>0.0</td>\n",
              "    </tr>\n",
              "    <tr>\n",
              "      <th>396</th>\n",
              "      <td>NaN</td>\n",
              "      <td>NaN</td>\n",
              "      <td>NaN</td>\n",
              "      <td>NaN</td>\n",
              "      <td>0.0</td>\n",
              "      <td>NaN</td>\n",
              "      <td>0.0</td>\n",
              "      <td>0.0</td>\n",
              "      <td>0.0</td>\n",
              "    </tr>\n",
              "    <tr>\n",
              "      <th>397</th>\n",
              "      <td>NaN</td>\n",
              "      <td>NaN</td>\n",
              "      <td>NaN</td>\n",
              "      <td>NaN</td>\n",
              "      <td>0.0</td>\n",
              "      <td>NaN</td>\n",
              "      <td>0.0</td>\n",
              "      <td>0.0</td>\n",
              "      <td>0.0</td>\n",
              "    </tr>\n",
              "    <tr>\n",
              "      <th>398</th>\n",
              "      <td>NaN</td>\n",
              "      <td>NaN</td>\n",
              "      <td>NaN</td>\n",
              "      <td>NaN</td>\n",
              "      <td>0.0</td>\n",
              "      <td>NaN</td>\n",
              "      <td>0.0</td>\n",
              "      <td>0.0</td>\n",
              "      <td>0.0</td>\n",
              "    </tr>\n",
              "    <tr>\n",
              "      <th>400</th>\n",
              "      <td>NaN</td>\n",
              "      <td>NaN</td>\n",
              "      <td>NaN</td>\n",
              "      <td>NaN</td>\n",
              "      <td>0.0</td>\n",
              "      <td>NaN</td>\n",
              "      <td>0.0</td>\n",
              "      <td>0.0</td>\n",
              "      <td>0.0</td>\n",
              "    </tr>\n",
              "    <tr>\n",
              "      <th>455</th>\n",
              "      <td>NaN</td>\n",
              "      <td>NaN</td>\n",
              "      <td>NaN</td>\n",
              "      <td>NaN</td>\n",
              "      <td>0.0</td>\n",
              "      <td>NaN</td>\n",
              "      <td>0.0</td>\n",
              "      <td>0.0</td>\n",
              "      <td>0.0</td>\n",
              "    </tr>\n",
              "    <tr>\n",
              "      <th>580</th>\n",
              "      <td>Gd</td>\n",
              "      <td>NaN</td>\n",
              "      <td>Mn</td>\n",
              "      <td>GLQ</td>\n",
              "      <td>1044.0</td>\n",
              "      <td>Rec</td>\n",
              "      <td>382.0</td>\n",
              "      <td>0.0</td>\n",
              "      <td>1426.0</td>\n",
              "    </tr>\n",
              "    <tr>\n",
              "      <th>590</th>\n",
              "      <td>NaN</td>\n",
              "      <td>NaN</td>\n",
              "      <td>NaN</td>\n",
              "      <td>NaN</td>\n",
              "      <td>0.0</td>\n",
              "      <td>NaN</td>\n",
              "      <td>0.0</td>\n",
              "      <td>0.0</td>\n",
              "      <td>0.0</td>\n",
              "    </tr>\n",
              "    <tr>\n",
              "      <th>606</th>\n",
              "      <td>NaN</td>\n",
              "      <td>NaN</td>\n",
              "      <td>NaN</td>\n",
              "      <td>NaN</td>\n",
              "      <td>0.0</td>\n",
              "      <td>NaN</td>\n",
              "      <td>0.0</td>\n",
              "      <td>0.0</td>\n",
              "      <td>0.0</td>\n",
              "    </tr>\n",
              "    <tr>\n",
              "      <th>608</th>\n",
              "      <td>NaN</td>\n",
              "      <td>NaN</td>\n",
              "      <td>NaN</td>\n",
              "      <td>NaN</td>\n",
              "      <td>0.0</td>\n",
              "      <td>NaN</td>\n",
              "      <td>0.0</td>\n",
              "      <td>0.0</td>\n",
              "      <td>0.0</td>\n",
              "    </tr>\n",
              "    <tr>\n",
              "      <th>660</th>\n",
              "      <td>NaN</td>\n",
              "      <td>NaN</td>\n",
              "      <td>NaN</td>\n",
              "      <td>NaN</td>\n",
              "      <td>NaN</td>\n",
              "      <td>NaN</td>\n",
              "      <td>NaN</td>\n",
              "      <td>NaN</td>\n",
              "      <td>NaN</td>\n",
              "    </tr>\n",
              "    <tr>\n",
              "      <th>662</th>\n",
              "      <td>NaN</td>\n",
              "      <td>NaN</td>\n",
              "      <td>NaN</td>\n",
              "      <td>NaN</td>\n",
              "      <td>0.0</td>\n",
              "      <td>NaN</td>\n",
              "      <td>0.0</td>\n",
              "      <td>0.0</td>\n",
              "      <td>0.0</td>\n",
              "    </tr>\n",
              "    <tr>\n",
              "      <th>725</th>\n",
              "      <td>TA</td>\n",
              "      <td>NaN</td>\n",
              "      <td>No</td>\n",
              "      <td>BLQ</td>\n",
              "      <td>1033.0</td>\n",
              "      <td>Unf</td>\n",
              "      <td>0.0</td>\n",
              "      <td>94.0</td>\n",
              "      <td>1127.0</td>\n",
              "    </tr>\n",
              "    <tr>\n",
              "      <th>728</th>\n",
              "      <td>NaN</td>\n",
              "      <td>NaN</td>\n",
              "      <td>NaN</td>\n",
              "      <td>NaN</td>\n",
              "      <td>0.0</td>\n",
              "      <td>NaN</td>\n",
              "      <td>0.0</td>\n",
              "      <td>0.0</td>\n",
              "      <td>0.0</td>\n",
              "    </tr>\n",
              "    <tr>\n",
              "      <th>729</th>\n",
              "      <td>NaN</td>\n",
              "      <td>NaN</td>\n",
              "      <td>NaN</td>\n",
              "      <td>NaN</td>\n",
              "      <td>0.0</td>\n",
              "      <td>NaN</td>\n",
              "      <td>0.0</td>\n",
              "      <td>0.0</td>\n",
              "      <td>0.0</td>\n",
              "    </tr>\n",
              "    <tr>\n",
              "      <th>730</th>\n",
              "      <td>NaN</td>\n",
              "      <td>NaN</td>\n",
              "      <td>NaN</td>\n",
              "      <td>NaN</td>\n",
              "      <td>0.0</td>\n",
              "      <td>NaN</td>\n",
              "      <td>0.0</td>\n",
              "      <td>0.0</td>\n",
              "      <td>0.0</td>\n",
              "    </tr>\n",
              "    <tr>\n",
              "      <th>733</th>\n",
              "      <td>NaN</td>\n",
              "      <td>NaN</td>\n",
              "      <td>NaN</td>\n",
              "      <td>NaN</td>\n",
              "      <td>0.0</td>\n",
              "      <td>NaN</td>\n",
              "      <td>0.0</td>\n",
              "      <td>0.0</td>\n",
              "      <td>0.0</td>\n",
              "    </tr>\n",
              "    <tr>\n",
              "      <th>756</th>\n",
              "      <td>NaN</td>\n",
              "      <td>NaN</td>\n",
              "      <td>NaN</td>\n",
              "      <td>NaN</td>\n",
              "      <td>0.0</td>\n",
              "      <td>NaN</td>\n",
              "      <td>0.0</td>\n",
              "      <td>0.0</td>\n",
              "      <td>0.0</td>\n",
              "    </tr>\n",
              "    <tr>\n",
              "      <th>764</th>\n",
              "      <td>NaN</td>\n",
              "      <td>NaN</td>\n",
              "      <td>NaN</td>\n",
              "      <td>NaN</td>\n",
              "      <td>0.0</td>\n",
              "      <td>NaN</td>\n",
              "      <td>0.0</td>\n",
              "      <td>0.0</td>\n",
              "      <td>0.0</td>\n",
              "    </tr>\n",
              "    <tr>\n",
              "      <th>927</th>\n",
              "      <td>NaN</td>\n",
              "      <td>NaN</td>\n",
              "      <td>NaN</td>\n",
              "      <td>NaN</td>\n",
              "      <td>0.0</td>\n",
              "      <td>NaN</td>\n",
              "      <td>0.0</td>\n",
              "      <td>0.0</td>\n",
              "      <td>0.0</td>\n",
              "    </tr>\n",
              "    <tr>\n",
              "      <th>975</th>\n",
              "      <td>NaN</td>\n",
              "      <td>NaN</td>\n",
              "      <td>NaN</td>\n",
              "      <td>NaN</td>\n",
              "      <td>0.0</td>\n",
              "      <td>NaN</td>\n",
              "      <td>0.0</td>\n",
              "      <td>0.0</td>\n",
              "      <td>0.0</td>\n",
              "    </tr>\n",
              "    <tr>\n",
              "      <th>992</th>\n",
              "      <td>NaN</td>\n",
              "      <td>NaN</td>\n",
              "      <td>NaN</td>\n",
              "      <td>NaN</td>\n",
              "      <td>0.0</td>\n",
              "      <td>NaN</td>\n",
              "      <td>0.0</td>\n",
              "      <td>0.0</td>\n",
              "      <td>0.0</td>\n",
              "    </tr>\n",
              "    <tr>\n",
              "      <th>993</th>\n",
              "      <td>NaN</td>\n",
              "      <td>NaN</td>\n",
              "      <td>NaN</td>\n",
              "      <td>NaN</td>\n",
              "      <td>0.0</td>\n",
              "      <td>NaN</td>\n",
              "      <td>0.0</td>\n",
              "      <td>0.0</td>\n",
              "      <td>0.0</td>\n",
              "    </tr>\n",
              "    <tr>\n",
              "      <th>1030</th>\n",
              "      <td>NaN</td>\n",
              "      <td>NaN</td>\n",
              "      <td>NaN</td>\n",
              "      <td>NaN</td>\n",
              "      <td>0.0</td>\n",
              "      <td>NaN</td>\n",
              "      <td>0.0</td>\n",
              "      <td>0.0</td>\n",
              "      <td>0.0</td>\n",
              "    </tr>\n",
              "    <tr>\n",
              "      <th>1038</th>\n",
              "      <td>NaN</td>\n",
              "      <td>NaN</td>\n",
              "      <td>NaN</td>\n",
              "      <td>NaN</td>\n",
              "      <td>0.0</td>\n",
              "      <td>NaN</td>\n",
              "      <td>0.0</td>\n",
              "      <td>0.0</td>\n",
              "      <td>0.0</td>\n",
              "    </tr>\n",
              "    <tr>\n",
              "      <th>1064</th>\n",
              "      <td>TA</td>\n",
              "      <td>NaN</td>\n",
              "      <td>Av</td>\n",
              "      <td>ALQ</td>\n",
              "      <td>755.0</td>\n",
              "      <td>Unf</td>\n",
              "      <td>0.0</td>\n",
              "      <td>240.0</td>\n",
              "      <td>995.0</td>\n",
              "    </tr>\n",
              "    <tr>\n",
              "      <th>1087</th>\n",
              "      <td>NaN</td>\n",
              "      <td>NaN</td>\n",
              "      <td>NaN</td>\n",
              "      <td>NaN</td>\n",
              "      <td>0.0</td>\n",
              "      <td>NaN</td>\n",
              "      <td>0.0</td>\n",
              "      <td>0.0</td>\n",
              "      <td>0.0</td>\n",
              "    </tr>\n",
              "    <tr>\n",
              "      <th>1092</th>\n",
              "      <td>NaN</td>\n",
              "      <td>NaN</td>\n",
              "      <td>NaN</td>\n",
              "      <td>NaN</td>\n",
              "      <td>0.0</td>\n",
              "      <td>NaN</td>\n",
              "      <td>0.0</td>\n",
              "      <td>0.0</td>\n",
              "      <td>0.0</td>\n",
              "    </tr>\n",
              "    <tr>\n",
              "      <th>1104</th>\n",
              "      <td>NaN</td>\n",
              "      <td>NaN</td>\n",
              "      <td>NaN</td>\n",
              "      <td>NaN</td>\n",
              "      <td>0.0</td>\n",
              "      <td>NaN</td>\n",
              "      <td>0.0</td>\n",
              "      <td>0.0</td>\n",
              "      <td>0.0</td>\n",
              "    </tr>\n",
              "    <tr>\n",
              "      <th>1118</th>\n",
              "      <td>NaN</td>\n",
              "      <td>NaN</td>\n",
              "      <td>NaN</td>\n",
              "      <td>NaN</td>\n",
              "      <td>0.0</td>\n",
              "      <td>NaN</td>\n",
              "      <td>0.0</td>\n",
              "      <td>0.0</td>\n",
              "      <td>0.0</td>\n",
              "    </tr>\n",
              "    <tr>\n",
              "      <th>1139</th>\n",
              "      <td>NaN</td>\n",
              "      <td>NaN</td>\n",
              "      <td>NaN</td>\n",
              "      <td>NaN</td>\n",
              "      <td>0.0</td>\n",
              "      <td>NaN</td>\n",
              "      <td>0.0</td>\n",
              "      <td>0.0</td>\n",
              "      <td>0.0</td>\n",
              "    </tr>\n",
              "    <tr>\n",
              "      <th>1242</th>\n",
              "      <td>NaN</td>\n",
              "      <td>NaN</td>\n",
              "      <td>NaN</td>\n",
              "      <td>NaN</td>\n",
              "      <td>0.0</td>\n",
              "      <td>NaN</td>\n",
              "      <td>0.0</td>\n",
              "      <td>0.0</td>\n",
              "      <td>0.0</td>\n",
              "    </tr>\n",
              "    <tr>\n",
              "      <th>1303</th>\n",
              "      <td>NaN</td>\n",
              "      <td>NaN</td>\n",
              "      <td>NaN</td>\n",
              "      <td>NaN</td>\n",
              "      <td>0.0</td>\n",
              "      <td>NaN</td>\n",
              "      <td>0.0</td>\n",
              "      <td>0.0</td>\n",
              "      <td>0.0</td>\n",
              "    </tr>\n",
              "    <tr>\n",
              "      <th>1306</th>\n",
              "      <td>NaN</td>\n",
              "      <td>NaN</td>\n",
              "      <td>NaN</td>\n",
              "      <td>NaN</td>\n",
              "      <td>0.0</td>\n",
              "      <td>NaN</td>\n",
              "      <td>0.0</td>\n",
              "      <td>0.0</td>\n",
              "      <td>0.0</td>\n",
              "    </tr>\n",
              "    <tr>\n",
              "      <th>1343</th>\n",
              "      <td>NaN</td>\n",
              "      <td>NaN</td>\n",
              "      <td>NaN</td>\n",
              "      <td>NaN</td>\n",
              "      <td>0.0</td>\n",
              "      <td>NaN</td>\n",
              "      <td>0.0</td>\n",
              "      <td>0.0</td>\n",
              "      <td>0.0</td>\n",
              "    </tr>\n",
              "    <tr>\n",
              "      <th>1344</th>\n",
              "      <td>NaN</td>\n",
              "      <td>NaN</td>\n",
              "      <td>NaN</td>\n",
              "      <td>NaN</td>\n",
              "      <td>0.0</td>\n",
              "      <td>NaN</td>\n",
              "      <td>0.0</td>\n",
              "      <td>0.0</td>\n",
              "      <td>0.0</td>\n",
              "    </tr>\n",
              "    <tr>\n",
              "      <th>1364</th>\n",
              "      <td>NaN</td>\n",
              "      <td>NaN</td>\n",
              "      <td>NaN</td>\n",
              "      <td>NaN</td>\n",
              "      <td>0.0</td>\n",
              "      <td>NaN</td>\n",
              "      <td>0.0</td>\n",
              "      <td>0.0</td>\n",
              "      <td>0.0</td>\n",
              "    </tr>\n",
              "    <tr>\n",
              "      <th>1431</th>\n",
              "      <td>NaN</td>\n",
              "      <td>NaN</td>\n",
              "      <td>NaN</td>\n",
              "      <td>NaN</td>\n",
              "      <td>0.0</td>\n",
              "      <td>NaN</td>\n",
              "      <td>0.0</td>\n",
              "      <td>0.0</td>\n",
              "      <td>0.0</td>\n",
              "    </tr>\n",
              "    <tr>\n",
              "      <th>1444</th>\n",
              "      <td>NaN</td>\n",
              "      <td>NaN</td>\n",
              "      <td>NaN</td>\n",
              "      <td>NaN</td>\n",
              "      <td>0.0</td>\n",
              "      <td>NaN</td>\n",
              "      <td>0.0</td>\n",
              "      <td>0.0</td>\n",
              "      <td>0.0</td>\n",
              "    </tr>\n",
              "  </tbody>\n",
              "</table>\n",
              "</div>"
            ],
            "text/plain": [
              "     BsmtQual BsmtCond BsmtExposure  ... BsmtFinSF2  BsmtUnfSF TotalBsmtSF\n",
              "125       NaN      NaN          NaN  ...        0.0        0.0         0.0\n",
              "133       NaN      NaN          NaN  ...        0.0        0.0         0.0\n",
              "269       NaN      NaN          NaN  ...        0.0        0.0         0.0\n",
              "318       NaN      NaN          NaN  ...        0.0        0.0         0.0\n",
              "354       NaN      NaN          NaN  ...        0.0        0.0         0.0\n",
              "387       NaN      NaN          NaN  ...        0.0        0.0         0.0\n",
              "388       NaN      NaN          NaN  ...        0.0        0.0         0.0\n",
              "396       NaN      NaN          NaN  ...        0.0        0.0         0.0\n",
              "397       NaN      NaN          NaN  ...        0.0        0.0         0.0\n",
              "398       NaN      NaN          NaN  ...        0.0        0.0         0.0\n",
              "400       NaN      NaN          NaN  ...        0.0        0.0         0.0\n",
              "455       NaN      NaN          NaN  ...        0.0        0.0         0.0\n",
              "580        Gd      NaN           Mn  ...      382.0        0.0      1426.0\n",
              "590       NaN      NaN          NaN  ...        0.0        0.0         0.0\n",
              "606       NaN      NaN          NaN  ...        0.0        0.0         0.0\n",
              "608       NaN      NaN          NaN  ...        0.0        0.0         0.0\n",
              "660       NaN      NaN          NaN  ...        NaN        NaN         NaN\n",
              "662       NaN      NaN          NaN  ...        0.0        0.0         0.0\n",
              "725        TA      NaN           No  ...        0.0       94.0      1127.0\n",
              "728       NaN      NaN          NaN  ...        0.0        0.0         0.0\n",
              "729       NaN      NaN          NaN  ...        0.0        0.0         0.0\n",
              "730       NaN      NaN          NaN  ...        0.0        0.0         0.0\n",
              "733       NaN      NaN          NaN  ...        0.0        0.0         0.0\n",
              "756       NaN      NaN          NaN  ...        0.0        0.0         0.0\n",
              "764       NaN      NaN          NaN  ...        0.0        0.0         0.0\n",
              "927       NaN      NaN          NaN  ...        0.0        0.0         0.0\n",
              "975       NaN      NaN          NaN  ...        0.0        0.0         0.0\n",
              "992       NaN      NaN          NaN  ...        0.0        0.0         0.0\n",
              "993       NaN      NaN          NaN  ...        0.0        0.0         0.0\n",
              "1030      NaN      NaN          NaN  ...        0.0        0.0         0.0\n",
              "1038      NaN      NaN          NaN  ...        0.0        0.0         0.0\n",
              "1064       TA      NaN           Av  ...        0.0      240.0       995.0\n",
              "1087      NaN      NaN          NaN  ...        0.0        0.0         0.0\n",
              "1092      NaN      NaN          NaN  ...        0.0        0.0         0.0\n",
              "1104      NaN      NaN          NaN  ...        0.0        0.0         0.0\n",
              "1118      NaN      NaN          NaN  ...        0.0        0.0         0.0\n",
              "1139      NaN      NaN          NaN  ...        0.0        0.0         0.0\n",
              "1242      NaN      NaN          NaN  ...        0.0        0.0         0.0\n",
              "1303      NaN      NaN          NaN  ...        0.0        0.0         0.0\n",
              "1306      NaN      NaN          NaN  ...        0.0        0.0         0.0\n",
              "1343      NaN      NaN          NaN  ...        0.0        0.0         0.0\n",
              "1344      NaN      NaN          NaN  ...        0.0        0.0         0.0\n",
              "1364      NaN      NaN          NaN  ...        0.0        0.0         0.0\n",
              "1431      NaN      NaN          NaN  ...        0.0        0.0         0.0\n",
              "1444      NaN      NaN          NaN  ...        0.0        0.0         0.0\n",
              "\n",
              "[45 rows x 9 columns]"
            ]
          },
          "metadata": {
            "tags": []
          },
          "execution_count": 507
        }
      ]
    },
    {
      "cell_type": "code",
      "metadata": {
        "id": "u96Q4P2kuJmZ",
        "colab": {
          "base_uri": "https://localhost:8080/",
          "height": 1000
        },
        "outputId": "ef2e2cc8-1cb3-47de-b30a-c4c1b4170281"
      },
      "source": [
        "new_df[new_df.BsmtQual.isnull()][['BsmtQual','BsmtCond','BsmtExposure','BsmtFinType1','BsmtFinSF1','BsmtFinType2','BsmtFinSF2','BsmtUnfSF','TotalBsmtSF']]"
      ],
      "execution_count": 508,
      "outputs": [
        {
          "output_type": "execute_result",
          "data": {
            "text/html": [
              "<div>\n",
              "<style scoped>\n",
              "    .dataframe tbody tr th:only-of-type {\n",
              "        vertical-align: middle;\n",
              "    }\n",
              "\n",
              "    .dataframe tbody tr th {\n",
              "        vertical-align: top;\n",
              "    }\n",
              "\n",
              "    .dataframe thead th {\n",
              "        text-align: right;\n",
              "    }\n",
              "</style>\n",
              "<table border=\"1\" class=\"dataframe\">\n",
              "  <thead>\n",
              "    <tr style=\"text-align: right;\">\n",
              "      <th></th>\n",
              "      <th>BsmtQual</th>\n",
              "      <th>BsmtCond</th>\n",
              "      <th>BsmtExposure</th>\n",
              "      <th>BsmtFinType1</th>\n",
              "      <th>BsmtFinSF1</th>\n",
              "      <th>BsmtFinType2</th>\n",
              "      <th>BsmtFinSF2</th>\n",
              "      <th>BsmtUnfSF</th>\n",
              "      <th>TotalBsmtSF</th>\n",
              "    </tr>\n",
              "  </thead>\n",
              "  <tbody>\n",
              "    <tr>\n",
              "      <th>125</th>\n",
              "      <td>NaN</td>\n",
              "      <td>NaN</td>\n",
              "      <td>NaN</td>\n",
              "      <td>NaN</td>\n",
              "      <td>0.0</td>\n",
              "      <td>NaN</td>\n",
              "      <td>0.0</td>\n",
              "      <td>0.0</td>\n",
              "      <td>0.0</td>\n",
              "    </tr>\n",
              "    <tr>\n",
              "      <th>133</th>\n",
              "      <td>NaN</td>\n",
              "      <td>NaN</td>\n",
              "      <td>NaN</td>\n",
              "      <td>NaN</td>\n",
              "      <td>0.0</td>\n",
              "      <td>NaN</td>\n",
              "      <td>0.0</td>\n",
              "      <td>0.0</td>\n",
              "      <td>0.0</td>\n",
              "    </tr>\n",
              "    <tr>\n",
              "      <th>269</th>\n",
              "      <td>NaN</td>\n",
              "      <td>NaN</td>\n",
              "      <td>NaN</td>\n",
              "      <td>NaN</td>\n",
              "      <td>0.0</td>\n",
              "      <td>NaN</td>\n",
              "      <td>0.0</td>\n",
              "      <td>0.0</td>\n",
              "      <td>0.0</td>\n",
              "    </tr>\n",
              "    <tr>\n",
              "      <th>318</th>\n",
              "      <td>NaN</td>\n",
              "      <td>NaN</td>\n",
              "      <td>NaN</td>\n",
              "      <td>NaN</td>\n",
              "      <td>0.0</td>\n",
              "      <td>NaN</td>\n",
              "      <td>0.0</td>\n",
              "      <td>0.0</td>\n",
              "      <td>0.0</td>\n",
              "    </tr>\n",
              "    <tr>\n",
              "      <th>354</th>\n",
              "      <td>NaN</td>\n",
              "      <td>NaN</td>\n",
              "      <td>NaN</td>\n",
              "      <td>NaN</td>\n",
              "      <td>0.0</td>\n",
              "      <td>NaN</td>\n",
              "      <td>0.0</td>\n",
              "      <td>0.0</td>\n",
              "      <td>0.0</td>\n",
              "    </tr>\n",
              "    <tr>\n",
              "      <th>387</th>\n",
              "      <td>NaN</td>\n",
              "      <td>NaN</td>\n",
              "      <td>NaN</td>\n",
              "      <td>NaN</td>\n",
              "      <td>0.0</td>\n",
              "      <td>NaN</td>\n",
              "      <td>0.0</td>\n",
              "      <td>0.0</td>\n",
              "      <td>0.0</td>\n",
              "    </tr>\n",
              "    <tr>\n",
              "      <th>388</th>\n",
              "      <td>NaN</td>\n",
              "      <td>NaN</td>\n",
              "      <td>NaN</td>\n",
              "      <td>NaN</td>\n",
              "      <td>0.0</td>\n",
              "      <td>NaN</td>\n",
              "      <td>0.0</td>\n",
              "      <td>0.0</td>\n",
              "      <td>0.0</td>\n",
              "    </tr>\n",
              "    <tr>\n",
              "      <th>396</th>\n",
              "      <td>NaN</td>\n",
              "      <td>NaN</td>\n",
              "      <td>NaN</td>\n",
              "      <td>NaN</td>\n",
              "      <td>0.0</td>\n",
              "      <td>NaN</td>\n",
              "      <td>0.0</td>\n",
              "      <td>0.0</td>\n",
              "      <td>0.0</td>\n",
              "    </tr>\n",
              "    <tr>\n",
              "      <th>397</th>\n",
              "      <td>NaN</td>\n",
              "      <td>NaN</td>\n",
              "      <td>NaN</td>\n",
              "      <td>NaN</td>\n",
              "      <td>0.0</td>\n",
              "      <td>NaN</td>\n",
              "      <td>0.0</td>\n",
              "      <td>0.0</td>\n",
              "      <td>0.0</td>\n",
              "    </tr>\n",
              "    <tr>\n",
              "      <th>398</th>\n",
              "      <td>NaN</td>\n",
              "      <td>NaN</td>\n",
              "      <td>NaN</td>\n",
              "      <td>NaN</td>\n",
              "      <td>0.0</td>\n",
              "      <td>NaN</td>\n",
              "      <td>0.0</td>\n",
              "      <td>0.0</td>\n",
              "      <td>0.0</td>\n",
              "    </tr>\n",
              "    <tr>\n",
              "      <th>400</th>\n",
              "      <td>NaN</td>\n",
              "      <td>NaN</td>\n",
              "      <td>NaN</td>\n",
              "      <td>NaN</td>\n",
              "      <td>0.0</td>\n",
              "      <td>NaN</td>\n",
              "      <td>0.0</td>\n",
              "      <td>0.0</td>\n",
              "      <td>0.0</td>\n",
              "    </tr>\n",
              "    <tr>\n",
              "      <th>455</th>\n",
              "      <td>NaN</td>\n",
              "      <td>NaN</td>\n",
              "      <td>NaN</td>\n",
              "      <td>NaN</td>\n",
              "      <td>0.0</td>\n",
              "      <td>NaN</td>\n",
              "      <td>0.0</td>\n",
              "      <td>0.0</td>\n",
              "      <td>0.0</td>\n",
              "    </tr>\n",
              "    <tr>\n",
              "      <th>590</th>\n",
              "      <td>NaN</td>\n",
              "      <td>NaN</td>\n",
              "      <td>NaN</td>\n",
              "      <td>NaN</td>\n",
              "      <td>0.0</td>\n",
              "      <td>NaN</td>\n",
              "      <td>0.0</td>\n",
              "      <td>0.0</td>\n",
              "      <td>0.0</td>\n",
              "    </tr>\n",
              "    <tr>\n",
              "      <th>606</th>\n",
              "      <td>NaN</td>\n",
              "      <td>NaN</td>\n",
              "      <td>NaN</td>\n",
              "      <td>NaN</td>\n",
              "      <td>0.0</td>\n",
              "      <td>NaN</td>\n",
              "      <td>0.0</td>\n",
              "      <td>0.0</td>\n",
              "      <td>0.0</td>\n",
              "    </tr>\n",
              "    <tr>\n",
              "      <th>608</th>\n",
              "      <td>NaN</td>\n",
              "      <td>NaN</td>\n",
              "      <td>NaN</td>\n",
              "      <td>NaN</td>\n",
              "      <td>0.0</td>\n",
              "      <td>NaN</td>\n",
              "      <td>0.0</td>\n",
              "      <td>0.0</td>\n",
              "      <td>0.0</td>\n",
              "    </tr>\n",
              "    <tr>\n",
              "      <th>660</th>\n",
              "      <td>NaN</td>\n",
              "      <td>NaN</td>\n",
              "      <td>NaN</td>\n",
              "      <td>NaN</td>\n",
              "      <td>NaN</td>\n",
              "      <td>NaN</td>\n",
              "      <td>NaN</td>\n",
              "      <td>NaN</td>\n",
              "      <td>NaN</td>\n",
              "    </tr>\n",
              "    <tr>\n",
              "      <th>662</th>\n",
              "      <td>NaN</td>\n",
              "      <td>NaN</td>\n",
              "      <td>NaN</td>\n",
              "      <td>NaN</td>\n",
              "      <td>0.0</td>\n",
              "      <td>NaN</td>\n",
              "      <td>0.0</td>\n",
              "      <td>0.0</td>\n",
              "      <td>0.0</td>\n",
              "    </tr>\n",
              "    <tr>\n",
              "      <th>728</th>\n",
              "      <td>NaN</td>\n",
              "      <td>NaN</td>\n",
              "      <td>NaN</td>\n",
              "      <td>NaN</td>\n",
              "      <td>0.0</td>\n",
              "      <td>NaN</td>\n",
              "      <td>0.0</td>\n",
              "      <td>0.0</td>\n",
              "      <td>0.0</td>\n",
              "    </tr>\n",
              "    <tr>\n",
              "      <th>729</th>\n",
              "      <td>NaN</td>\n",
              "      <td>NaN</td>\n",
              "      <td>NaN</td>\n",
              "      <td>NaN</td>\n",
              "      <td>0.0</td>\n",
              "      <td>NaN</td>\n",
              "      <td>0.0</td>\n",
              "      <td>0.0</td>\n",
              "      <td>0.0</td>\n",
              "    </tr>\n",
              "    <tr>\n",
              "      <th>730</th>\n",
              "      <td>NaN</td>\n",
              "      <td>NaN</td>\n",
              "      <td>NaN</td>\n",
              "      <td>NaN</td>\n",
              "      <td>0.0</td>\n",
              "      <td>NaN</td>\n",
              "      <td>0.0</td>\n",
              "      <td>0.0</td>\n",
              "      <td>0.0</td>\n",
              "    </tr>\n",
              "    <tr>\n",
              "      <th>733</th>\n",
              "      <td>NaN</td>\n",
              "      <td>NaN</td>\n",
              "      <td>NaN</td>\n",
              "      <td>NaN</td>\n",
              "      <td>0.0</td>\n",
              "      <td>NaN</td>\n",
              "      <td>0.0</td>\n",
              "      <td>0.0</td>\n",
              "      <td>0.0</td>\n",
              "    </tr>\n",
              "    <tr>\n",
              "      <th>756</th>\n",
              "      <td>NaN</td>\n",
              "      <td>NaN</td>\n",
              "      <td>NaN</td>\n",
              "      <td>NaN</td>\n",
              "      <td>0.0</td>\n",
              "      <td>NaN</td>\n",
              "      <td>0.0</td>\n",
              "      <td>0.0</td>\n",
              "      <td>0.0</td>\n",
              "    </tr>\n",
              "    <tr>\n",
              "      <th>757</th>\n",
              "      <td>NaN</td>\n",
              "      <td>Fa</td>\n",
              "      <td>No</td>\n",
              "      <td>Unf</td>\n",
              "      <td>0.0</td>\n",
              "      <td>Unf</td>\n",
              "      <td>0.0</td>\n",
              "      <td>173.0</td>\n",
              "      <td>173.0</td>\n",
              "    </tr>\n",
              "    <tr>\n",
              "      <th>758</th>\n",
              "      <td>NaN</td>\n",
              "      <td>TA</td>\n",
              "      <td>No</td>\n",
              "      <td>Unf</td>\n",
              "      <td>0.0</td>\n",
              "      <td>Unf</td>\n",
              "      <td>0.0</td>\n",
              "      <td>356.0</td>\n",
              "      <td>356.0</td>\n",
              "    </tr>\n",
              "    <tr>\n",
              "      <th>764</th>\n",
              "      <td>NaN</td>\n",
              "      <td>NaN</td>\n",
              "      <td>NaN</td>\n",
              "      <td>NaN</td>\n",
              "      <td>0.0</td>\n",
              "      <td>NaN</td>\n",
              "      <td>0.0</td>\n",
              "      <td>0.0</td>\n",
              "      <td>0.0</td>\n",
              "    </tr>\n",
              "    <tr>\n",
              "      <th>927</th>\n",
              "      <td>NaN</td>\n",
              "      <td>NaN</td>\n",
              "      <td>NaN</td>\n",
              "      <td>NaN</td>\n",
              "      <td>0.0</td>\n",
              "      <td>NaN</td>\n",
              "      <td>0.0</td>\n",
              "      <td>0.0</td>\n",
              "      <td>0.0</td>\n",
              "    </tr>\n",
              "    <tr>\n",
              "      <th>975</th>\n",
              "      <td>NaN</td>\n",
              "      <td>NaN</td>\n",
              "      <td>NaN</td>\n",
              "      <td>NaN</td>\n",
              "      <td>0.0</td>\n",
              "      <td>NaN</td>\n",
              "      <td>0.0</td>\n",
              "      <td>0.0</td>\n",
              "      <td>0.0</td>\n",
              "    </tr>\n",
              "    <tr>\n",
              "      <th>992</th>\n",
              "      <td>NaN</td>\n",
              "      <td>NaN</td>\n",
              "      <td>NaN</td>\n",
              "      <td>NaN</td>\n",
              "      <td>0.0</td>\n",
              "      <td>NaN</td>\n",
              "      <td>0.0</td>\n",
              "      <td>0.0</td>\n",
              "      <td>0.0</td>\n",
              "    </tr>\n",
              "    <tr>\n",
              "      <th>993</th>\n",
              "      <td>NaN</td>\n",
              "      <td>NaN</td>\n",
              "      <td>NaN</td>\n",
              "      <td>NaN</td>\n",
              "      <td>0.0</td>\n",
              "      <td>NaN</td>\n",
              "      <td>0.0</td>\n",
              "      <td>0.0</td>\n",
              "      <td>0.0</td>\n",
              "    </tr>\n",
              "    <tr>\n",
              "      <th>1030</th>\n",
              "      <td>NaN</td>\n",
              "      <td>NaN</td>\n",
              "      <td>NaN</td>\n",
              "      <td>NaN</td>\n",
              "      <td>0.0</td>\n",
              "      <td>NaN</td>\n",
              "      <td>0.0</td>\n",
              "      <td>0.0</td>\n",
              "      <td>0.0</td>\n",
              "    </tr>\n",
              "    <tr>\n",
              "      <th>1038</th>\n",
              "      <td>NaN</td>\n",
              "      <td>NaN</td>\n",
              "      <td>NaN</td>\n",
              "      <td>NaN</td>\n",
              "      <td>0.0</td>\n",
              "      <td>NaN</td>\n",
              "      <td>0.0</td>\n",
              "      <td>0.0</td>\n",
              "      <td>0.0</td>\n",
              "    </tr>\n",
              "    <tr>\n",
              "      <th>1087</th>\n",
              "      <td>NaN</td>\n",
              "      <td>NaN</td>\n",
              "      <td>NaN</td>\n",
              "      <td>NaN</td>\n",
              "      <td>0.0</td>\n",
              "      <td>NaN</td>\n",
              "      <td>0.0</td>\n",
              "      <td>0.0</td>\n",
              "      <td>0.0</td>\n",
              "    </tr>\n",
              "    <tr>\n",
              "      <th>1092</th>\n",
              "      <td>NaN</td>\n",
              "      <td>NaN</td>\n",
              "      <td>NaN</td>\n",
              "      <td>NaN</td>\n",
              "      <td>0.0</td>\n",
              "      <td>NaN</td>\n",
              "      <td>0.0</td>\n",
              "      <td>0.0</td>\n",
              "      <td>0.0</td>\n",
              "    </tr>\n",
              "    <tr>\n",
              "      <th>1104</th>\n",
              "      <td>NaN</td>\n",
              "      <td>NaN</td>\n",
              "      <td>NaN</td>\n",
              "      <td>NaN</td>\n",
              "      <td>0.0</td>\n",
              "      <td>NaN</td>\n",
              "      <td>0.0</td>\n",
              "      <td>0.0</td>\n",
              "      <td>0.0</td>\n",
              "    </tr>\n",
              "    <tr>\n",
              "      <th>1118</th>\n",
              "      <td>NaN</td>\n",
              "      <td>NaN</td>\n",
              "      <td>NaN</td>\n",
              "      <td>NaN</td>\n",
              "      <td>0.0</td>\n",
              "      <td>NaN</td>\n",
              "      <td>0.0</td>\n",
              "      <td>0.0</td>\n",
              "      <td>0.0</td>\n",
              "    </tr>\n",
              "    <tr>\n",
              "      <th>1139</th>\n",
              "      <td>NaN</td>\n",
              "      <td>NaN</td>\n",
              "      <td>NaN</td>\n",
              "      <td>NaN</td>\n",
              "      <td>0.0</td>\n",
              "      <td>NaN</td>\n",
              "      <td>0.0</td>\n",
              "      <td>0.0</td>\n",
              "      <td>0.0</td>\n",
              "    </tr>\n",
              "    <tr>\n",
              "      <th>1242</th>\n",
              "      <td>NaN</td>\n",
              "      <td>NaN</td>\n",
              "      <td>NaN</td>\n",
              "      <td>NaN</td>\n",
              "      <td>0.0</td>\n",
              "      <td>NaN</td>\n",
              "      <td>0.0</td>\n",
              "      <td>0.0</td>\n",
              "      <td>0.0</td>\n",
              "    </tr>\n",
              "    <tr>\n",
              "      <th>1303</th>\n",
              "      <td>NaN</td>\n",
              "      <td>NaN</td>\n",
              "      <td>NaN</td>\n",
              "      <td>NaN</td>\n",
              "      <td>0.0</td>\n",
              "      <td>NaN</td>\n",
              "      <td>0.0</td>\n",
              "      <td>0.0</td>\n",
              "      <td>0.0</td>\n",
              "    </tr>\n",
              "    <tr>\n",
              "      <th>1306</th>\n",
              "      <td>NaN</td>\n",
              "      <td>NaN</td>\n",
              "      <td>NaN</td>\n",
              "      <td>NaN</td>\n",
              "      <td>0.0</td>\n",
              "      <td>NaN</td>\n",
              "      <td>0.0</td>\n",
              "      <td>0.0</td>\n",
              "      <td>0.0</td>\n",
              "    </tr>\n",
              "    <tr>\n",
              "      <th>1343</th>\n",
              "      <td>NaN</td>\n",
              "      <td>NaN</td>\n",
              "      <td>NaN</td>\n",
              "      <td>NaN</td>\n",
              "      <td>0.0</td>\n",
              "      <td>NaN</td>\n",
              "      <td>0.0</td>\n",
              "      <td>0.0</td>\n",
              "      <td>0.0</td>\n",
              "    </tr>\n",
              "    <tr>\n",
              "      <th>1344</th>\n",
              "      <td>NaN</td>\n",
              "      <td>NaN</td>\n",
              "      <td>NaN</td>\n",
              "      <td>NaN</td>\n",
              "      <td>0.0</td>\n",
              "      <td>NaN</td>\n",
              "      <td>0.0</td>\n",
              "      <td>0.0</td>\n",
              "      <td>0.0</td>\n",
              "    </tr>\n",
              "    <tr>\n",
              "      <th>1364</th>\n",
              "      <td>NaN</td>\n",
              "      <td>NaN</td>\n",
              "      <td>NaN</td>\n",
              "      <td>NaN</td>\n",
              "      <td>0.0</td>\n",
              "      <td>NaN</td>\n",
              "      <td>0.0</td>\n",
              "      <td>0.0</td>\n",
              "      <td>0.0</td>\n",
              "    </tr>\n",
              "    <tr>\n",
              "      <th>1431</th>\n",
              "      <td>NaN</td>\n",
              "      <td>NaN</td>\n",
              "      <td>NaN</td>\n",
              "      <td>NaN</td>\n",
              "      <td>0.0</td>\n",
              "      <td>NaN</td>\n",
              "      <td>0.0</td>\n",
              "      <td>0.0</td>\n",
              "      <td>0.0</td>\n",
              "    </tr>\n",
              "    <tr>\n",
              "      <th>1444</th>\n",
              "      <td>NaN</td>\n",
              "      <td>NaN</td>\n",
              "      <td>NaN</td>\n",
              "      <td>NaN</td>\n",
              "      <td>0.0</td>\n",
              "      <td>NaN</td>\n",
              "      <td>0.0</td>\n",
              "      <td>0.0</td>\n",
              "      <td>0.0</td>\n",
              "    </tr>\n",
              "  </tbody>\n",
              "</table>\n",
              "</div>"
            ],
            "text/plain": [
              "     BsmtQual BsmtCond BsmtExposure  ... BsmtFinSF2  BsmtUnfSF TotalBsmtSF\n",
              "125       NaN      NaN          NaN  ...        0.0        0.0         0.0\n",
              "133       NaN      NaN          NaN  ...        0.0        0.0         0.0\n",
              "269       NaN      NaN          NaN  ...        0.0        0.0         0.0\n",
              "318       NaN      NaN          NaN  ...        0.0        0.0         0.0\n",
              "354       NaN      NaN          NaN  ...        0.0        0.0         0.0\n",
              "387       NaN      NaN          NaN  ...        0.0        0.0         0.0\n",
              "388       NaN      NaN          NaN  ...        0.0        0.0         0.0\n",
              "396       NaN      NaN          NaN  ...        0.0        0.0         0.0\n",
              "397       NaN      NaN          NaN  ...        0.0        0.0         0.0\n",
              "398       NaN      NaN          NaN  ...        0.0        0.0         0.0\n",
              "400       NaN      NaN          NaN  ...        0.0        0.0         0.0\n",
              "455       NaN      NaN          NaN  ...        0.0        0.0         0.0\n",
              "590       NaN      NaN          NaN  ...        0.0        0.0         0.0\n",
              "606       NaN      NaN          NaN  ...        0.0        0.0         0.0\n",
              "608       NaN      NaN          NaN  ...        0.0        0.0         0.0\n",
              "660       NaN      NaN          NaN  ...        NaN        NaN         NaN\n",
              "662       NaN      NaN          NaN  ...        0.0        0.0         0.0\n",
              "728       NaN      NaN          NaN  ...        0.0        0.0         0.0\n",
              "729       NaN      NaN          NaN  ...        0.0        0.0         0.0\n",
              "730       NaN      NaN          NaN  ...        0.0        0.0         0.0\n",
              "733       NaN      NaN          NaN  ...        0.0        0.0         0.0\n",
              "756       NaN      NaN          NaN  ...        0.0        0.0         0.0\n",
              "757       NaN       Fa           No  ...        0.0      173.0       173.0\n",
              "758       NaN       TA           No  ...        0.0      356.0       356.0\n",
              "764       NaN      NaN          NaN  ...        0.0        0.0         0.0\n",
              "927       NaN      NaN          NaN  ...        0.0        0.0         0.0\n",
              "975       NaN      NaN          NaN  ...        0.0        0.0         0.0\n",
              "992       NaN      NaN          NaN  ...        0.0        0.0         0.0\n",
              "993       NaN      NaN          NaN  ...        0.0        0.0         0.0\n",
              "1030      NaN      NaN          NaN  ...        0.0        0.0         0.0\n",
              "1038      NaN      NaN          NaN  ...        0.0        0.0         0.0\n",
              "1087      NaN      NaN          NaN  ...        0.0        0.0         0.0\n",
              "1092      NaN      NaN          NaN  ...        0.0        0.0         0.0\n",
              "1104      NaN      NaN          NaN  ...        0.0        0.0         0.0\n",
              "1118      NaN      NaN          NaN  ...        0.0        0.0         0.0\n",
              "1139      NaN      NaN          NaN  ...        0.0        0.0         0.0\n",
              "1242      NaN      NaN          NaN  ...        0.0        0.0         0.0\n",
              "1303      NaN      NaN          NaN  ...        0.0        0.0         0.0\n",
              "1306      NaN      NaN          NaN  ...        0.0        0.0         0.0\n",
              "1343      NaN      NaN          NaN  ...        0.0        0.0         0.0\n",
              "1344      NaN      NaN          NaN  ...        0.0        0.0         0.0\n",
              "1364      NaN      NaN          NaN  ...        0.0        0.0         0.0\n",
              "1431      NaN      NaN          NaN  ...        0.0        0.0         0.0\n",
              "1444      NaN      NaN          NaN  ...        0.0        0.0         0.0\n",
              "\n",
              "[44 rows x 9 columns]"
            ]
          },
          "metadata": {
            "tags": []
          },
          "execution_count": 508
        }
      ]
    },
    {
      "cell_type": "code",
      "metadata": {
        "id": "Tt5pdm0jh04B",
        "colab": {
          "base_uri": "https://localhost:8080/",
          "height": 138
        },
        "outputId": "5415a4ee-be4e-46b0-9cf9-7661a17da9ee"
      },
      "source": [
        "new_df[new_df.BsmtCond.isnull() & new_df.BsmtQual.notnull()][['BsmtQual','BsmtCond','BsmtExposure','BsmtFinType1','BsmtFinSF1','BsmtFinType2','BsmtFinSF2','BsmtUnfSF','TotalBsmtSF']]"
      ],
      "execution_count": 509,
      "outputs": [
        {
          "output_type": "execute_result",
          "data": {
            "text/html": [
              "<div>\n",
              "<style scoped>\n",
              "    .dataframe tbody tr th:only-of-type {\n",
              "        vertical-align: middle;\n",
              "    }\n",
              "\n",
              "    .dataframe tbody tr th {\n",
              "        vertical-align: top;\n",
              "    }\n",
              "\n",
              "    .dataframe thead th {\n",
              "        text-align: right;\n",
              "    }\n",
              "</style>\n",
              "<table border=\"1\" class=\"dataframe\">\n",
              "  <thead>\n",
              "    <tr style=\"text-align: right;\">\n",
              "      <th></th>\n",
              "      <th>BsmtQual</th>\n",
              "      <th>BsmtCond</th>\n",
              "      <th>BsmtExposure</th>\n",
              "      <th>BsmtFinType1</th>\n",
              "      <th>BsmtFinSF1</th>\n",
              "      <th>BsmtFinType2</th>\n",
              "      <th>BsmtFinSF2</th>\n",
              "      <th>BsmtUnfSF</th>\n",
              "      <th>TotalBsmtSF</th>\n",
              "    </tr>\n",
              "  </thead>\n",
              "  <tbody>\n",
              "    <tr>\n",
              "      <th>580</th>\n",
              "      <td>Gd</td>\n",
              "      <td>NaN</td>\n",
              "      <td>Mn</td>\n",
              "      <td>GLQ</td>\n",
              "      <td>1044.0</td>\n",
              "      <td>Rec</td>\n",
              "      <td>382.0</td>\n",
              "      <td>0.0</td>\n",
              "      <td>1426.0</td>\n",
              "    </tr>\n",
              "    <tr>\n",
              "      <th>725</th>\n",
              "      <td>TA</td>\n",
              "      <td>NaN</td>\n",
              "      <td>No</td>\n",
              "      <td>BLQ</td>\n",
              "      <td>1033.0</td>\n",
              "      <td>Unf</td>\n",
              "      <td>0.0</td>\n",
              "      <td>94.0</td>\n",
              "      <td>1127.0</td>\n",
              "    </tr>\n",
              "    <tr>\n",
              "      <th>1064</th>\n",
              "      <td>TA</td>\n",
              "      <td>NaN</td>\n",
              "      <td>Av</td>\n",
              "      <td>ALQ</td>\n",
              "      <td>755.0</td>\n",
              "      <td>Unf</td>\n",
              "      <td>0.0</td>\n",
              "      <td>240.0</td>\n",
              "      <td>995.0</td>\n",
              "    </tr>\n",
              "  </tbody>\n",
              "</table>\n",
              "</div>"
            ],
            "text/plain": [
              "     BsmtQual BsmtCond BsmtExposure  ... BsmtFinSF2  BsmtUnfSF TotalBsmtSF\n",
              "580        Gd      NaN           Mn  ...      382.0        0.0      1426.0\n",
              "725        TA      NaN           No  ...        0.0       94.0      1127.0\n",
              "1064       TA      NaN           Av  ...        0.0      240.0       995.0\n",
              "\n",
              "[3 rows x 9 columns]"
            ]
          },
          "metadata": {
            "tags": []
          },
          "execution_count": 509
        }
      ]
    },
    {
      "cell_type": "code",
      "metadata": {
        "id": "gEhWGAHp6AD-",
        "colab": {
          "base_uri": "https://localhost:8080/",
          "height": 108
        },
        "outputId": "896f46cf-b5c2-4e52-8b0d-55212932d42a"
      },
      "source": [
        "new_df[new_df.BsmtExposure.isnull() & new_df.BsmtQual.notnull()][['BsmtQual','BsmtCond','BsmtExposure','BsmtFinType1','BsmtFinSF1','BsmtFinType2','BsmtFinSF2','BsmtUnfSF','TotalBsmtSF']]"
      ],
      "execution_count": 510,
      "outputs": [
        {
          "output_type": "execute_result",
          "data": {
            "text/html": [
              "<div>\n",
              "<style scoped>\n",
              "    .dataframe tbody tr th:only-of-type {\n",
              "        vertical-align: middle;\n",
              "    }\n",
              "\n",
              "    .dataframe tbody tr th {\n",
              "        vertical-align: top;\n",
              "    }\n",
              "\n",
              "    .dataframe thead th {\n",
              "        text-align: right;\n",
              "    }\n",
              "</style>\n",
              "<table border=\"1\" class=\"dataframe\">\n",
              "  <thead>\n",
              "    <tr style=\"text-align: right;\">\n",
              "      <th></th>\n",
              "      <th>BsmtQual</th>\n",
              "      <th>BsmtCond</th>\n",
              "      <th>BsmtExposure</th>\n",
              "      <th>BsmtFinType1</th>\n",
              "      <th>BsmtFinSF1</th>\n",
              "      <th>BsmtFinType2</th>\n",
              "      <th>BsmtFinSF2</th>\n",
              "      <th>BsmtUnfSF</th>\n",
              "      <th>TotalBsmtSF</th>\n",
              "    </tr>\n",
              "  </thead>\n",
              "  <tbody>\n",
              "    <tr>\n",
              "      <th>27</th>\n",
              "      <td>Gd</td>\n",
              "      <td>TA</td>\n",
              "      <td>NaN</td>\n",
              "      <td>Unf</td>\n",
              "      <td>0.0</td>\n",
              "      <td>Unf</td>\n",
              "      <td>0.0</td>\n",
              "      <td>1595.0</td>\n",
              "      <td>1595.0</td>\n",
              "    </tr>\n",
              "    <tr>\n",
              "      <th>888</th>\n",
              "      <td>Gd</td>\n",
              "      <td>TA</td>\n",
              "      <td>NaN</td>\n",
              "      <td>Unf</td>\n",
              "      <td>0.0</td>\n",
              "      <td>Unf</td>\n",
              "      <td>0.0</td>\n",
              "      <td>725.0</td>\n",
              "      <td>725.0</td>\n",
              "    </tr>\n",
              "  </tbody>\n",
              "</table>\n",
              "</div>"
            ],
            "text/plain": [
              "    BsmtQual BsmtCond BsmtExposure  ... BsmtFinSF2  BsmtUnfSF TotalBsmtSF\n",
              "27        Gd       TA          NaN  ...        0.0     1595.0      1595.0\n",
              "888       Gd       TA          NaN  ...        0.0      725.0       725.0\n",
              "\n",
              "[2 rows x 9 columns]"
            ]
          },
          "metadata": {
            "tags": []
          },
          "execution_count": 510
        }
      ]
    },
    {
      "cell_type": "code",
      "metadata": {
        "id": "wj0j1chc7edY",
        "colab": {
          "base_uri": "https://localhost:8080/"
        },
        "outputId": "2cab8a5d-1c67-4cf9-83b9-f7bf8d1f7d44"
      },
      "source": [
        "new_df.BsmtFinType1.value_counts()"
      ],
      "execution_count": 511,
      "outputs": [
        {
          "output_type": "execute_result",
          "data": {
            "text/plain": [
              "GLQ    431\n",
              "Unf    421\n",
              "ALQ    209\n",
              "Rec    155\n",
              "BLQ    121\n",
              "LwQ     80\n",
              "Name: BsmtFinType1, dtype: int64"
            ]
          },
          "metadata": {
            "tags": []
          },
          "execution_count": 511
        }
      ]
    },
    {
      "cell_type": "code",
      "metadata": {
        "id": "tenLyN3E7fUw",
        "colab": {
          "base_uri": "https://localhost:8080/"
        },
        "outputId": "c0b85034-12d5-4c54-f2ff-607a7d8e5a6b"
      },
      "source": [
        "new_df[new_df.BsmtFinType1.isnull()]['BsmtFinSF1'].value_counts()"
      ],
      "execution_count": 512,
      "outputs": [
        {
          "output_type": "execute_result",
          "data": {
            "text/plain": [
              "0.0    41\n",
              "Name: BsmtFinSF1, dtype: int64"
            ]
          },
          "metadata": {
            "tags": []
          },
          "execution_count": 512
        }
      ]
    },
    {
      "cell_type": "code",
      "metadata": {
        "id": "kbdm_mMz8HG1",
        "colab": {
          "base_uri": "https://localhost:8080/"
        },
        "outputId": "70560ced-5c37-4cff-d1aa-e6c579d0861a"
      },
      "source": [
        "new_df[(new_df.BsmtFinType1.notnull()) & (new_df.BsmtFinSF1==0)].BsmtFinType1.value_counts()"
      ],
      "execution_count": 513,
      "outputs": [
        {
          "output_type": "execute_result",
          "data": {
            "text/plain": [
              "Unf    421\n",
              "Name: BsmtFinType1, dtype: int64"
            ]
          },
          "metadata": {
            "tags": []
          },
          "execution_count": 513
        }
      ]
    },
    {
      "cell_type": "code",
      "metadata": {
        "id": "QTxJ-4DB8UmD",
        "colab": {
          "base_uri": "https://localhost:8080/"
        },
        "outputId": "c8ee7934-3bf6-4845-8e1c-b578f47a2544"
      },
      "source": [
        "new_df.BsmtFinType2.value_counts()"
      ],
      "execution_count": 514,
      "outputs": [
        {
          "output_type": "execute_result",
          "data": {
            "text/plain": [
              "Unf    1237\n",
              "Rec      51\n",
              "LwQ      41\n",
              "BLQ      35\n",
              "ALQ      33\n",
              "GLQ      20\n",
              "Name: BsmtFinType2, dtype: int64"
            ]
          },
          "metadata": {
            "tags": []
          },
          "execution_count": 514
        }
      ]
    },
    {
      "cell_type": "code",
      "metadata": {
        "id": "XvNK_Elo8URk",
        "colab": {
          "base_uri": "https://localhost:8080/",
          "height": 48
        },
        "outputId": "a59712d2-5b11-4eee-ed75-03e4e230ae92"
      },
      "source": [
        "new_df[new_df.BsmtFinType2.isnull() & new_df.BsmtQual.notnull()][['BsmtQual','BsmtCond','BsmtExposure','BsmtFinType1','BsmtFinSF1','BsmtFinType2','BsmtFinSF2','BsmtUnfSF','TotalBsmtSF']]"
      ],
      "execution_count": 515,
      "outputs": [
        {
          "output_type": "execute_result",
          "data": {
            "text/html": [
              "<div>\n",
              "<style scoped>\n",
              "    .dataframe tbody tr th:only-of-type {\n",
              "        vertical-align: middle;\n",
              "    }\n",
              "\n",
              "    .dataframe tbody tr th {\n",
              "        vertical-align: top;\n",
              "    }\n",
              "\n",
              "    .dataframe thead th {\n",
              "        text-align: right;\n",
              "    }\n",
              "</style>\n",
              "<table border=\"1\" class=\"dataframe\">\n",
              "  <thead>\n",
              "    <tr style=\"text-align: right;\">\n",
              "      <th></th>\n",
              "      <th>BsmtQual</th>\n",
              "      <th>BsmtCond</th>\n",
              "      <th>BsmtExposure</th>\n",
              "      <th>BsmtFinType1</th>\n",
              "      <th>BsmtFinSF1</th>\n",
              "      <th>BsmtFinType2</th>\n",
              "      <th>BsmtFinSF2</th>\n",
              "      <th>BsmtUnfSF</th>\n",
              "      <th>TotalBsmtSF</th>\n",
              "    </tr>\n",
              "  </thead>\n",
              "  <tbody>\n",
              "  </tbody>\n",
              "</table>\n",
              "</div>"
            ],
            "text/plain": [
              "Empty DataFrame\n",
              "Columns: [BsmtQual, BsmtCond, BsmtExposure, BsmtFinType1, BsmtFinSF1, BsmtFinType2, BsmtFinSF2, BsmtUnfSF, TotalBsmtSF]\n",
              "Index: []"
            ]
          },
          "metadata": {
            "tags": []
          },
          "execution_count": 515
        }
      ]
    },
    {
      "cell_type": "code",
      "metadata": {
        "id": "JQjO2lEJ-kZy",
        "colab": {
          "base_uri": "https://localhost:8080/"
        },
        "outputId": "a65a8df0-96e0-4540-cbde-2121d4450163"
      },
      "source": [
        "new_df[new_df.BsmtFinType2.isnull()]['BsmtFinSF2'].value_counts()"
      ],
      "execution_count": 516,
      "outputs": [
        {
          "output_type": "execute_result",
          "data": {
            "text/plain": [
              "0.0    41\n",
              "Name: BsmtFinSF2, dtype: int64"
            ]
          },
          "metadata": {
            "tags": []
          },
          "execution_count": 516
        }
      ]
    },
    {
      "cell_type": "code",
      "metadata": {
        "id": "RroSe1Wv-3qz",
        "colab": {
          "base_uri": "https://localhost:8080/"
        },
        "outputId": "40a3f264-87b0-4f23-f1b3-435c6e54f58f"
      },
      "source": [
        "new_df[(new_df.BsmtFinType2.notnull()) & (new_df.BsmtFinSF2==0)].BsmtFinType2.value_counts()"
      ],
      "execution_count": 517,
      "outputs": [
        {
          "output_type": "execute_result",
          "data": {
            "text/plain": [
              "Unf    1236\n",
              "BLQ       1\n",
              "Name: BsmtFinType2, dtype: int64"
            ]
          },
          "metadata": {
            "tags": []
          },
          "execution_count": 517
        }
      ]
    },
    {
      "cell_type": "code",
      "metadata": {
        "id": "kdBQOGrr_GV1",
        "colab": {
          "base_uri": "https://localhost:8080/",
          "height": 683
        },
        "outputId": "3a092ecb-72df-4482-c752-5579296f6f6e"
      },
      "source": [
        "new_df[new_df.BsmtUnfSF==0][['BsmtFinType1','BsmtFinType2']].drop_duplicates()"
      ],
      "execution_count": 518,
      "outputs": [
        {
          "output_type": "execute_result",
          "data": {
            "text/html": [
              "<div>\n",
              "<style scoped>\n",
              "    .dataframe tbody tr th:only-of-type {\n",
              "        vertical-align: middle;\n",
              "    }\n",
              "\n",
              "    .dataframe tbody tr th {\n",
              "        vertical-align: top;\n",
              "    }\n",
              "\n",
              "    .dataframe thead th {\n",
              "        text-align: right;\n",
              "    }\n",
              "</style>\n",
              "<table border=\"1\" class=\"dataframe\">\n",
              "  <thead>\n",
              "    <tr style=\"text-align: right;\">\n",
              "      <th></th>\n",
              "      <th>BsmtFinType1</th>\n",
              "      <th>BsmtFinType2</th>\n",
              "    </tr>\n",
              "  </thead>\n",
              "  <tbody>\n",
              "    <tr>\n",
              "      <th>9</th>\n",
              "      <td>ALQ</td>\n",
              "      <td>Rec</td>\n",
              "    </tr>\n",
              "    <tr>\n",
              "      <th>33</th>\n",
              "      <td>LwQ</td>\n",
              "      <td>GLQ</td>\n",
              "    </tr>\n",
              "    <tr>\n",
              "      <th>72</th>\n",
              "      <td>BLQ</td>\n",
              "      <td>Rec</td>\n",
              "    </tr>\n",
              "    <tr>\n",
              "      <th>103</th>\n",
              "      <td>GLQ</td>\n",
              "      <td>Unf</td>\n",
              "    </tr>\n",
              "    <tr>\n",
              "      <th>104</th>\n",
              "      <td>Rec</td>\n",
              "      <td>ALQ</td>\n",
              "    </tr>\n",
              "    <tr>\n",
              "      <th>108</th>\n",
              "      <td>BLQ</td>\n",
              "      <td>LwQ</td>\n",
              "    </tr>\n",
              "    <tr>\n",
              "      <th>125</th>\n",
              "      <td>NaN</td>\n",
              "      <td>NaN</td>\n",
              "    </tr>\n",
              "    <tr>\n",
              "      <th>140</th>\n",
              "      <td>BLQ</td>\n",
              "      <td>Unf</td>\n",
              "    </tr>\n",
              "    <tr>\n",
              "      <th>194</th>\n",
              "      <td>ALQ</td>\n",
              "      <td>LwQ</td>\n",
              "    </tr>\n",
              "    <tr>\n",
              "      <th>319</th>\n",
              "      <td>ALQ</td>\n",
              "      <td>Unf</td>\n",
              "    </tr>\n",
              "    <tr>\n",
              "      <th>338</th>\n",
              "      <td>ALQ</td>\n",
              "      <td>BLQ</td>\n",
              "    </tr>\n",
              "    <tr>\n",
              "      <th>339</th>\n",
              "      <td>GLQ</td>\n",
              "      <td>Rec</td>\n",
              "    </tr>\n",
              "    <tr>\n",
              "      <th>394</th>\n",
              "      <td>Rec</td>\n",
              "      <td>GLQ</td>\n",
              "    </tr>\n",
              "    <tr>\n",
              "      <th>432</th>\n",
              "      <td>Rec</td>\n",
              "      <td>Unf</td>\n",
              "    </tr>\n",
              "    <tr>\n",
              "      <th>436</th>\n",
              "      <td>LwQ</td>\n",
              "      <td>Unf</td>\n",
              "    </tr>\n",
              "    <tr>\n",
              "      <th>458</th>\n",
              "      <td>GLQ</td>\n",
              "      <td>LwQ</td>\n",
              "    </tr>\n",
              "    <tr>\n",
              "      <th>468</th>\n",
              "      <td>GLQ</td>\n",
              "      <td>BLQ</td>\n",
              "    </tr>\n",
              "    <tr>\n",
              "      <th>540</th>\n",
              "      <td>BLQ</td>\n",
              "      <td>GLQ</td>\n",
              "    </tr>\n",
              "    <tr>\n",
              "      <th>562</th>\n",
              "      <td>LwQ</td>\n",
              "      <td>ALQ</td>\n",
              "    </tr>\n",
              "    <tr>\n",
              "      <th>984</th>\n",
              "      <td>LwQ</td>\n",
              "      <td>Rec</td>\n",
              "    </tr>\n",
              "    <tr>\n",
              "      <th>1289</th>\n",
              "      <td>Rec</td>\n",
              "      <td>BLQ</td>\n",
              "    </tr>\n",
              "  </tbody>\n",
              "</table>\n",
              "</div>"
            ],
            "text/plain": [
              "     BsmtFinType1 BsmtFinType2\n",
              "9             ALQ          Rec\n",
              "33            LwQ          GLQ\n",
              "72            BLQ          Rec\n",
              "103           GLQ          Unf\n",
              "104           Rec          ALQ\n",
              "108           BLQ          LwQ\n",
              "125           NaN          NaN\n",
              "140           BLQ          Unf\n",
              "194           ALQ          LwQ\n",
              "319           ALQ          Unf\n",
              "338           ALQ          BLQ\n",
              "339           GLQ          Rec\n",
              "394           Rec          GLQ\n",
              "432           Rec          Unf\n",
              "436           LwQ          Unf\n",
              "458           GLQ          LwQ\n",
              "468           GLQ          BLQ\n",
              "540           BLQ          GLQ\n",
              "562           LwQ          ALQ\n",
              "984           LwQ          Rec\n",
              "1289          Rec          BLQ"
            ]
          },
          "metadata": {
            "tags": []
          },
          "execution_count": 518
        }
      ]
    },
    {
      "cell_type": "code",
      "metadata": {
        "id": "3raGL3TC_a8V",
        "colab": {
          "base_uri": "https://localhost:8080/"
        },
        "outputId": "12ec561d-b36b-40f1-fddd-96a3b7f53ed2"
      },
      "source": [
        "new_df[(new_df.TotalBsmtSF)!=(new_df.BsmtFinSF1 + new_df.BsmtFinSF2 + new_df.BsmtUnfSF)]['Id'].count()"
      ],
      "execution_count": 519,
      "outputs": [
        {
          "output_type": "execute_result",
          "data": {
            "text/plain": [
              "1"
            ]
          },
          "metadata": {
            "tags": []
          },
          "execution_count": 519
        }
      ]
    },
    {
      "cell_type": "code",
      "metadata": {
        "id": "syW1NZVpVRCY",
        "colab": {
          "base_uri": "https://localhost:8080/",
          "height": 78
        },
        "outputId": "39939dfa-db14-4ee9-c30b-f3bb1dca54df"
      },
      "source": [
        "new_df[(new_df.TotalBsmtSF)!=(new_df.BsmtFinSF1 + new_df.BsmtFinSF2 + new_df.BsmtUnfSF)][['BsmtQual','BsmtCond','BsmtExposure','BsmtFinType1','BsmtFinSF1','BsmtFinType2','BsmtFinSF2','BsmtUnfSF','TotalBsmtSF']]"
      ],
      "execution_count": 520,
      "outputs": [
        {
          "output_type": "execute_result",
          "data": {
            "text/html": [
              "<div>\n",
              "<style scoped>\n",
              "    .dataframe tbody tr th:only-of-type {\n",
              "        vertical-align: middle;\n",
              "    }\n",
              "\n",
              "    .dataframe tbody tr th {\n",
              "        vertical-align: top;\n",
              "    }\n",
              "\n",
              "    .dataframe thead th {\n",
              "        text-align: right;\n",
              "    }\n",
              "</style>\n",
              "<table border=\"1\" class=\"dataframe\">\n",
              "  <thead>\n",
              "    <tr style=\"text-align: right;\">\n",
              "      <th></th>\n",
              "      <th>BsmtQual</th>\n",
              "      <th>BsmtCond</th>\n",
              "      <th>BsmtExposure</th>\n",
              "      <th>BsmtFinType1</th>\n",
              "      <th>BsmtFinSF1</th>\n",
              "      <th>BsmtFinType2</th>\n",
              "      <th>BsmtFinSF2</th>\n",
              "      <th>BsmtUnfSF</th>\n",
              "      <th>TotalBsmtSF</th>\n",
              "    </tr>\n",
              "  </thead>\n",
              "  <tbody>\n",
              "    <tr>\n",
              "      <th>660</th>\n",
              "      <td>NaN</td>\n",
              "      <td>NaN</td>\n",
              "      <td>NaN</td>\n",
              "      <td>NaN</td>\n",
              "      <td>NaN</td>\n",
              "      <td>NaN</td>\n",
              "      <td>NaN</td>\n",
              "      <td>NaN</td>\n",
              "      <td>NaN</td>\n",
              "    </tr>\n",
              "  </tbody>\n",
              "</table>\n",
              "</div>"
            ],
            "text/plain": [
              "    BsmtQual BsmtCond BsmtExposure  ... BsmtFinSF2  BsmtUnfSF TotalBsmtSF\n",
              "660      NaN      NaN          NaN  ...        NaN        NaN         NaN\n",
              "\n",
              "[1 rows x 9 columns]"
            ]
          },
          "metadata": {
            "tags": []
          },
          "execution_count": 520
        }
      ]
    },
    {
      "cell_type": "code",
      "metadata": {
        "id": "zxZXwtSiI-6S",
        "colab": {
          "base_uri": "https://localhost:8080/"
        },
        "outputId": "b980797a-8fa9-4cf1-e806-f4b075235c11"
      },
      "source": [
        "new_df.BsmtFullBath.value_counts()"
      ],
      "execution_count": 521,
      "outputs": [
        {
          "output_type": "execute_result",
          "data": {
            "text/plain": [
              "0.0    849\n",
              "1.0    584\n",
              "2.0     23\n",
              "3.0      1\n",
              "Name: BsmtFullBath, dtype: int64"
            ]
          },
          "metadata": {
            "tags": []
          },
          "execution_count": 521
        }
      ]
    },
    {
      "cell_type": "code",
      "metadata": {
        "id": "sJBZoh9JJIlR",
        "colab": {
          "base_uri": "https://localhost:8080/"
        },
        "outputId": "e80a9e56-4353-4ac5-8463-ad6a859429df"
      },
      "source": [
        "new_df.BsmtHalfBath.value_counts()"
      ],
      "execution_count": 522,
      "outputs": [
        {
          "output_type": "execute_result",
          "data": {
            "text/plain": [
              "0.0    1364\n",
              "1.0      91\n",
              "2.0       2\n",
              "Name: BsmtHalfBath, dtype: int64"
            ]
          },
          "metadata": {
            "tags": []
          },
          "execution_count": 522
        }
      ]
    },
    {
      "cell_type": "code",
      "metadata": {
        "id": "4rB_RDs4IsUy",
        "colab": {
          "base_uri": "https://localhost:8080/",
          "height": 128
        },
        "outputId": "f28818df-8f0d-46eb-f5c4-7b195e288540"
      },
      "source": [
        "new_df[new_df.BsmtFullBath.isnull()][new_df.columns]"
      ],
      "execution_count": 523,
      "outputs": [
        {
          "output_type": "execute_result",
          "data": {
            "text/html": [
              "<div>\n",
              "<style scoped>\n",
              "    .dataframe tbody tr th:only-of-type {\n",
              "        vertical-align: middle;\n",
              "    }\n",
              "\n",
              "    .dataframe tbody tr th {\n",
              "        vertical-align: top;\n",
              "    }\n",
              "\n",
              "    .dataframe thead th {\n",
              "        text-align: right;\n",
              "    }\n",
              "</style>\n",
              "<table border=\"1\" class=\"dataframe\">\n",
              "  <thead>\n",
              "    <tr style=\"text-align: right;\">\n",
              "      <th></th>\n",
              "      <th>Id</th>\n",
              "      <th>MSSubClass</th>\n",
              "      <th>MSZoning</th>\n",
              "      <th>LotFrontage</th>\n",
              "      <th>LotArea</th>\n",
              "      <th>Street</th>\n",
              "      <th>Alley</th>\n",
              "      <th>LotShape</th>\n",
              "      <th>LandContour</th>\n",
              "      <th>Utilities</th>\n",
              "      <th>LotConfig</th>\n",
              "      <th>LandSlope</th>\n",
              "      <th>Neighborhood</th>\n",
              "      <th>Condition1</th>\n",
              "      <th>Condition2</th>\n",
              "      <th>BldgType</th>\n",
              "      <th>HouseStyle</th>\n",
              "      <th>OverallQual</th>\n",
              "      <th>OverallCond</th>\n",
              "      <th>YearBuilt</th>\n",
              "      <th>YearRemodAdd</th>\n",
              "      <th>RoofStyle</th>\n",
              "      <th>RoofMatl</th>\n",
              "      <th>Exterior1st</th>\n",
              "      <th>Exterior2nd</th>\n",
              "      <th>MasVnrType</th>\n",
              "      <th>MasVnrArea</th>\n",
              "      <th>ExterQual</th>\n",
              "      <th>ExterCond</th>\n",
              "      <th>Foundation</th>\n",
              "      <th>BsmtQual</th>\n",
              "      <th>BsmtCond</th>\n",
              "      <th>BsmtExposure</th>\n",
              "      <th>BsmtFinType1</th>\n",
              "      <th>BsmtFinSF1</th>\n",
              "      <th>BsmtFinType2</th>\n",
              "      <th>BsmtFinSF2</th>\n",
              "      <th>BsmtUnfSF</th>\n",
              "      <th>TotalBsmtSF</th>\n",
              "      <th>Heating</th>\n",
              "      <th>HeatingQC</th>\n",
              "      <th>CentralAir</th>\n",
              "      <th>Electrical</th>\n",
              "      <th>1stFlrSF</th>\n",
              "      <th>2ndFlrSF</th>\n",
              "      <th>LowQualFinSF</th>\n",
              "      <th>GrLivArea</th>\n",
              "      <th>BsmtFullBath</th>\n",
              "      <th>BsmtHalfBath</th>\n",
              "      <th>FullBath</th>\n",
              "      <th>HalfBath</th>\n",
              "      <th>BedroomAbvGr</th>\n",
              "      <th>KitchenAbvGr</th>\n",
              "      <th>KitchenQual</th>\n",
              "      <th>TotRmsAbvGrd</th>\n",
              "      <th>Functional</th>\n",
              "      <th>Fireplaces</th>\n",
              "      <th>FireplaceQu</th>\n",
              "      <th>GarageType</th>\n",
              "      <th>GarageYrBlt</th>\n",
              "      <th>GarageFinish</th>\n",
              "      <th>GarageCars</th>\n",
              "      <th>GarageArea</th>\n",
              "      <th>GarageQual</th>\n",
              "      <th>GarageCond</th>\n",
              "      <th>PavedDrive</th>\n",
              "      <th>WoodDeckSF</th>\n",
              "      <th>OpenPorchSF</th>\n",
              "      <th>EnclosedPorch</th>\n",
              "      <th>3SsnPorch</th>\n",
              "      <th>ScreenPorch</th>\n",
              "      <th>PoolArea</th>\n",
              "      <th>PoolQC</th>\n",
              "      <th>Fence</th>\n",
              "      <th>MiscFeature</th>\n",
              "      <th>MiscVal</th>\n",
              "      <th>MoSold</th>\n",
              "      <th>YrSold</th>\n",
              "      <th>SaleType</th>\n",
              "      <th>SaleCondition</th>\n",
              "    </tr>\n",
              "  </thead>\n",
              "  <tbody>\n",
              "    <tr>\n",
              "      <th>660</th>\n",
              "      <td>2121</td>\n",
              "      <td>20</td>\n",
              "      <td>RM</td>\n",
              "      <td>99.0</td>\n",
              "      <td>5940</td>\n",
              "      <td>Pave</td>\n",
              "      <td>NA</td>\n",
              "      <td>IR1</td>\n",
              "      <td>Lvl</td>\n",
              "      <td>AllPub</td>\n",
              "      <td>FR3</td>\n",
              "      <td>Gtl</td>\n",
              "      <td>BrkSide</td>\n",
              "      <td>Feedr</td>\n",
              "      <td>Norm</td>\n",
              "      <td>1Fam</td>\n",
              "      <td>1Story</td>\n",
              "      <td>4</td>\n",
              "      <td>7</td>\n",
              "      <td>1946</td>\n",
              "      <td>1950</td>\n",
              "      <td>Gable</td>\n",
              "      <td>CompShg</td>\n",
              "      <td>MetalSd</td>\n",
              "      <td>CBlock</td>\n",
              "      <td>None</td>\n",
              "      <td>0.0</td>\n",
              "      <td>TA</td>\n",
              "      <td>TA</td>\n",
              "      <td>PConc</td>\n",
              "      <td>NaN</td>\n",
              "      <td>NaN</td>\n",
              "      <td>NaN</td>\n",
              "      <td>NaN</td>\n",
              "      <td>NaN</td>\n",
              "      <td>NaN</td>\n",
              "      <td>NaN</td>\n",
              "      <td>NaN</td>\n",
              "      <td>NaN</td>\n",
              "      <td>GasA</td>\n",
              "      <td>TA</td>\n",
              "      <td>Y</td>\n",
              "      <td>FuseA</td>\n",
              "      <td>896</td>\n",
              "      <td>0</td>\n",
              "      <td>0</td>\n",
              "      <td>896</td>\n",
              "      <td>NaN</td>\n",
              "      <td>NaN</td>\n",
              "      <td>1</td>\n",
              "      <td>0</td>\n",
              "      <td>2</td>\n",
              "      <td>1</td>\n",
              "      <td>TA</td>\n",
              "      <td>4</td>\n",
              "      <td>Typ</td>\n",
              "      <td>0</td>\n",
              "      <td>NaN</td>\n",
              "      <td>Detchd</td>\n",
              "      <td>1946.0</td>\n",
              "      <td>Unf</td>\n",
              "      <td>1.0</td>\n",
              "      <td>280.0</td>\n",
              "      <td>TA</td>\n",
              "      <td>TA</td>\n",
              "      <td>Y</td>\n",
              "      <td>0</td>\n",
              "      <td>0</td>\n",
              "      <td>0</td>\n",
              "      <td>0</td>\n",
              "      <td>0</td>\n",
              "      <td>0</td>\n",
              "      <td>NaN</td>\n",
              "      <td>MnPrv</td>\n",
              "      <td>NaN</td>\n",
              "      <td>0</td>\n",
              "      <td>4</td>\n",
              "      <td>2008</td>\n",
              "      <td>ConLD</td>\n",
              "      <td>Abnorml</td>\n",
              "    </tr>\n",
              "    <tr>\n",
              "      <th>728</th>\n",
              "      <td>2189</td>\n",
              "      <td>20</td>\n",
              "      <td>RL</td>\n",
              "      <td>123.0</td>\n",
              "      <td>47007</td>\n",
              "      <td>Pave</td>\n",
              "      <td>NA</td>\n",
              "      <td>IR1</td>\n",
              "      <td>Lvl</td>\n",
              "      <td>AllPub</td>\n",
              "      <td>Inside</td>\n",
              "      <td>Gtl</td>\n",
              "      <td>Edwards</td>\n",
              "      <td>Norm</td>\n",
              "      <td>Norm</td>\n",
              "      <td>1Fam</td>\n",
              "      <td>1Story</td>\n",
              "      <td>5</td>\n",
              "      <td>7</td>\n",
              "      <td>1959</td>\n",
              "      <td>1996</td>\n",
              "      <td>Gable</td>\n",
              "      <td>CompShg</td>\n",
              "      <td>Plywood</td>\n",
              "      <td>Plywood</td>\n",
              "      <td>None</td>\n",
              "      <td>0.0</td>\n",
              "      <td>TA</td>\n",
              "      <td>TA</td>\n",
              "      <td>Slab</td>\n",
              "      <td>NaN</td>\n",
              "      <td>NaN</td>\n",
              "      <td>NaN</td>\n",
              "      <td>NaN</td>\n",
              "      <td>0.0</td>\n",
              "      <td>NaN</td>\n",
              "      <td>0.0</td>\n",
              "      <td>0.0</td>\n",
              "      <td>0.0</td>\n",
              "      <td>GasA</td>\n",
              "      <td>TA</td>\n",
              "      <td>Y</td>\n",
              "      <td>SBrkr</td>\n",
              "      <td>3820</td>\n",
              "      <td>0</td>\n",
              "      <td>0</td>\n",
              "      <td>3820</td>\n",
              "      <td>NaN</td>\n",
              "      <td>NaN</td>\n",
              "      <td>3</td>\n",
              "      <td>1</td>\n",
              "      <td>5</td>\n",
              "      <td>1</td>\n",
              "      <td>Ex</td>\n",
              "      <td>11</td>\n",
              "      <td>Typ</td>\n",
              "      <td>2</td>\n",
              "      <td>Gd</td>\n",
              "      <td>Attchd</td>\n",
              "      <td>1959.0</td>\n",
              "      <td>Unf</td>\n",
              "      <td>2.0</td>\n",
              "      <td>624.0</td>\n",
              "      <td>TA</td>\n",
              "      <td>TA</td>\n",
              "      <td>Y</td>\n",
              "      <td>0</td>\n",
              "      <td>372</td>\n",
              "      <td>0</td>\n",
              "      <td>0</td>\n",
              "      <td>0</td>\n",
              "      <td>0</td>\n",
              "      <td>NaN</td>\n",
              "      <td>NaN</td>\n",
              "      <td>NaN</td>\n",
              "      <td>0</td>\n",
              "      <td>7</td>\n",
              "      <td>2008</td>\n",
              "      <td>WD</td>\n",
              "      <td>Normal</td>\n",
              "    </tr>\n",
              "  </tbody>\n",
              "</table>\n",
              "</div>"
            ],
            "text/plain": [
              "       Id  MSSubClass MSZoning  ...  YrSold  SaleType SaleCondition\n",
              "660  2121          20       RM  ...    2008     ConLD       Abnorml\n",
              "728  2189          20       RL  ...    2008        WD        Normal\n",
              "\n",
              "[2 rows x 80 columns]"
            ]
          },
          "metadata": {
            "tags": []
          },
          "execution_count": 523
        }
      ]
    },
    {
      "cell_type": "markdown",
      "metadata": {
        "id": "9jedWICaAUiz"
      },
      "source": [
        "All the Basement related textual columns have at least 41 null values. This indicates that no basement information was available for them. Even the Basement related metrics like _BsmtFinSF1_ and _BsmtFinSF2_ have 0 values for these entries. We conclude that there are no Basement information available for them.</br>\n",
        "- Columns _BsmtQual_, _BsmtCond_, _BsmtExposure_, _BsmtFinType1_ and _BsmtFinType2_ are imputed by the value 'NA' for the 41 rows.\n",
        "- Two extra null entries in column _BsmtQual_ is replaced by 'TA' (Typical) because we find all other column values are available.\n",
        "- Three extra null entries in column _BsmtCond_ is replaced by 'TA' (Typical) because we find all other column values are available.\n",
        "- Two extra null entries in column _BsmtExposure_ is replaced by 'No' (No Exposure) because we find from other column values that Basement is available.\n",
        "- There are no extra null entry in column _BsmtFinType2_.\n",
        "- For one record we find that _BsmtFinSF2_ is 0 even though _BsmtFinType2_ is neither null nor 'Unf' (unfinished). Still we keep it as is since we do not have enough insight to make changes.\n",
        "- We find that for the complete dataset the value in column _TotalBsmtSF_ is always equal to the sum of the value in columns _BsmtFinSF1_, _BsmtFinSF2_ and _BsmtUnfSF_. Hence the information contained in the column is redundant and we should drop the column.\n",
        "- There one exception to the above point, but that is not a concern because all Basement columns are null for that one, even the metrics. Hence we put the metrics columns as 0 for that row.\n",
        "- There are two records for which columns _BsmtFullBath_ and _BsmtHalfBath_ are null. However these fall within the set of 41 rows that have null for all Basement columns. So we can straight away replace these nulls with 0."
      ]
    },
    {
      "cell_type": "code",
      "metadata": {
        "id": "HtAY-ReiZZjy"
      },
      "source": [
        "new_df.loc[new_df.BsmtFinType1.isnull(),['BsmtQual','BsmtCond','BsmtExposure','BsmtFinType1','BsmtFinType2']] = 'NA'"
      ],
      "execution_count": 524,
      "outputs": []
    },
    {
      "cell_type": "code",
      "metadata": {
        "id": "1GuHq1HiZuLK",
        "colab": {
          "base_uri": "https://localhost:8080/",
          "height": 1000
        },
        "outputId": "dc63abd7-3754-407a-c4e2-a470c2140305"
      },
      "source": [
        "new_df[new_df.BsmtFinType1=='NA'][['BsmtQual','BsmtCond','BsmtExposure','BsmtFinType1','BsmtFinSF1','BsmtFinType2','BsmtFinSF2','BsmtUnfSF','TotalBsmtSF']]"
      ],
      "execution_count": 525,
      "outputs": [
        {
          "output_type": "execute_result",
          "data": {
            "text/html": [
              "<div>\n",
              "<style scoped>\n",
              "    .dataframe tbody tr th:only-of-type {\n",
              "        vertical-align: middle;\n",
              "    }\n",
              "\n",
              "    .dataframe tbody tr th {\n",
              "        vertical-align: top;\n",
              "    }\n",
              "\n",
              "    .dataframe thead th {\n",
              "        text-align: right;\n",
              "    }\n",
              "</style>\n",
              "<table border=\"1\" class=\"dataframe\">\n",
              "  <thead>\n",
              "    <tr style=\"text-align: right;\">\n",
              "      <th></th>\n",
              "      <th>BsmtQual</th>\n",
              "      <th>BsmtCond</th>\n",
              "      <th>BsmtExposure</th>\n",
              "      <th>BsmtFinType1</th>\n",
              "      <th>BsmtFinSF1</th>\n",
              "      <th>BsmtFinType2</th>\n",
              "      <th>BsmtFinSF2</th>\n",
              "      <th>BsmtUnfSF</th>\n",
              "      <th>TotalBsmtSF</th>\n",
              "    </tr>\n",
              "  </thead>\n",
              "  <tbody>\n",
              "    <tr>\n",
              "      <th>125</th>\n",
              "      <td>NA</td>\n",
              "      <td>NA</td>\n",
              "      <td>NA</td>\n",
              "      <td>NA</td>\n",
              "      <td>0.0</td>\n",
              "      <td>NA</td>\n",
              "      <td>0.0</td>\n",
              "      <td>0.0</td>\n",
              "      <td>0.0</td>\n",
              "    </tr>\n",
              "    <tr>\n",
              "      <th>133</th>\n",
              "      <td>NA</td>\n",
              "      <td>NA</td>\n",
              "      <td>NA</td>\n",
              "      <td>NA</td>\n",
              "      <td>0.0</td>\n",
              "      <td>NA</td>\n",
              "      <td>0.0</td>\n",
              "      <td>0.0</td>\n",
              "      <td>0.0</td>\n",
              "    </tr>\n",
              "    <tr>\n",
              "      <th>269</th>\n",
              "      <td>NA</td>\n",
              "      <td>NA</td>\n",
              "      <td>NA</td>\n",
              "      <td>NA</td>\n",
              "      <td>0.0</td>\n",
              "      <td>NA</td>\n",
              "      <td>0.0</td>\n",
              "      <td>0.0</td>\n",
              "      <td>0.0</td>\n",
              "    </tr>\n",
              "    <tr>\n",
              "      <th>318</th>\n",
              "      <td>NA</td>\n",
              "      <td>NA</td>\n",
              "      <td>NA</td>\n",
              "      <td>NA</td>\n",
              "      <td>0.0</td>\n",
              "      <td>NA</td>\n",
              "      <td>0.0</td>\n",
              "      <td>0.0</td>\n",
              "      <td>0.0</td>\n",
              "    </tr>\n",
              "    <tr>\n",
              "      <th>354</th>\n",
              "      <td>NA</td>\n",
              "      <td>NA</td>\n",
              "      <td>NA</td>\n",
              "      <td>NA</td>\n",
              "      <td>0.0</td>\n",
              "      <td>NA</td>\n",
              "      <td>0.0</td>\n",
              "      <td>0.0</td>\n",
              "      <td>0.0</td>\n",
              "    </tr>\n",
              "    <tr>\n",
              "      <th>387</th>\n",
              "      <td>NA</td>\n",
              "      <td>NA</td>\n",
              "      <td>NA</td>\n",
              "      <td>NA</td>\n",
              "      <td>0.0</td>\n",
              "      <td>NA</td>\n",
              "      <td>0.0</td>\n",
              "      <td>0.0</td>\n",
              "      <td>0.0</td>\n",
              "    </tr>\n",
              "    <tr>\n",
              "      <th>388</th>\n",
              "      <td>NA</td>\n",
              "      <td>NA</td>\n",
              "      <td>NA</td>\n",
              "      <td>NA</td>\n",
              "      <td>0.0</td>\n",
              "      <td>NA</td>\n",
              "      <td>0.0</td>\n",
              "      <td>0.0</td>\n",
              "      <td>0.0</td>\n",
              "    </tr>\n",
              "    <tr>\n",
              "      <th>396</th>\n",
              "      <td>NA</td>\n",
              "      <td>NA</td>\n",
              "      <td>NA</td>\n",
              "      <td>NA</td>\n",
              "      <td>0.0</td>\n",
              "      <td>NA</td>\n",
              "      <td>0.0</td>\n",
              "      <td>0.0</td>\n",
              "      <td>0.0</td>\n",
              "    </tr>\n",
              "    <tr>\n",
              "      <th>397</th>\n",
              "      <td>NA</td>\n",
              "      <td>NA</td>\n",
              "      <td>NA</td>\n",
              "      <td>NA</td>\n",
              "      <td>0.0</td>\n",
              "      <td>NA</td>\n",
              "      <td>0.0</td>\n",
              "      <td>0.0</td>\n",
              "      <td>0.0</td>\n",
              "    </tr>\n",
              "    <tr>\n",
              "      <th>398</th>\n",
              "      <td>NA</td>\n",
              "      <td>NA</td>\n",
              "      <td>NA</td>\n",
              "      <td>NA</td>\n",
              "      <td>0.0</td>\n",
              "      <td>NA</td>\n",
              "      <td>0.0</td>\n",
              "      <td>0.0</td>\n",
              "      <td>0.0</td>\n",
              "    </tr>\n",
              "    <tr>\n",
              "      <th>400</th>\n",
              "      <td>NA</td>\n",
              "      <td>NA</td>\n",
              "      <td>NA</td>\n",
              "      <td>NA</td>\n",
              "      <td>0.0</td>\n",
              "      <td>NA</td>\n",
              "      <td>0.0</td>\n",
              "      <td>0.0</td>\n",
              "      <td>0.0</td>\n",
              "    </tr>\n",
              "    <tr>\n",
              "      <th>455</th>\n",
              "      <td>NA</td>\n",
              "      <td>NA</td>\n",
              "      <td>NA</td>\n",
              "      <td>NA</td>\n",
              "      <td>0.0</td>\n",
              "      <td>NA</td>\n",
              "      <td>0.0</td>\n",
              "      <td>0.0</td>\n",
              "      <td>0.0</td>\n",
              "    </tr>\n",
              "    <tr>\n",
              "      <th>590</th>\n",
              "      <td>NA</td>\n",
              "      <td>NA</td>\n",
              "      <td>NA</td>\n",
              "      <td>NA</td>\n",
              "      <td>0.0</td>\n",
              "      <td>NA</td>\n",
              "      <td>0.0</td>\n",
              "      <td>0.0</td>\n",
              "      <td>0.0</td>\n",
              "    </tr>\n",
              "    <tr>\n",
              "      <th>606</th>\n",
              "      <td>NA</td>\n",
              "      <td>NA</td>\n",
              "      <td>NA</td>\n",
              "      <td>NA</td>\n",
              "      <td>0.0</td>\n",
              "      <td>NA</td>\n",
              "      <td>0.0</td>\n",
              "      <td>0.0</td>\n",
              "      <td>0.0</td>\n",
              "    </tr>\n",
              "    <tr>\n",
              "      <th>608</th>\n",
              "      <td>NA</td>\n",
              "      <td>NA</td>\n",
              "      <td>NA</td>\n",
              "      <td>NA</td>\n",
              "      <td>0.0</td>\n",
              "      <td>NA</td>\n",
              "      <td>0.0</td>\n",
              "      <td>0.0</td>\n",
              "      <td>0.0</td>\n",
              "    </tr>\n",
              "    <tr>\n",
              "      <th>660</th>\n",
              "      <td>NA</td>\n",
              "      <td>NA</td>\n",
              "      <td>NA</td>\n",
              "      <td>NA</td>\n",
              "      <td>NaN</td>\n",
              "      <td>NA</td>\n",
              "      <td>NaN</td>\n",
              "      <td>NaN</td>\n",
              "      <td>NaN</td>\n",
              "    </tr>\n",
              "    <tr>\n",
              "      <th>662</th>\n",
              "      <td>NA</td>\n",
              "      <td>NA</td>\n",
              "      <td>NA</td>\n",
              "      <td>NA</td>\n",
              "      <td>0.0</td>\n",
              "      <td>NA</td>\n",
              "      <td>0.0</td>\n",
              "      <td>0.0</td>\n",
              "      <td>0.0</td>\n",
              "    </tr>\n",
              "    <tr>\n",
              "      <th>728</th>\n",
              "      <td>NA</td>\n",
              "      <td>NA</td>\n",
              "      <td>NA</td>\n",
              "      <td>NA</td>\n",
              "      <td>0.0</td>\n",
              "      <td>NA</td>\n",
              "      <td>0.0</td>\n",
              "      <td>0.0</td>\n",
              "      <td>0.0</td>\n",
              "    </tr>\n",
              "    <tr>\n",
              "      <th>729</th>\n",
              "      <td>NA</td>\n",
              "      <td>NA</td>\n",
              "      <td>NA</td>\n",
              "      <td>NA</td>\n",
              "      <td>0.0</td>\n",
              "      <td>NA</td>\n",
              "      <td>0.0</td>\n",
              "      <td>0.0</td>\n",
              "      <td>0.0</td>\n",
              "    </tr>\n",
              "    <tr>\n",
              "      <th>730</th>\n",
              "      <td>NA</td>\n",
              "      <td>NA</td>\n",
              "      <td>NA</td>\n",
              "      <td>NA</td>\n",
              "      <td>0.0</td>\n",
              "      <td>NA</td>\n",
              "      <td>0.0</td>\n",
              "      <td>0.0</td>\n",
              "      <td>0.0</td>\n",
              "    </tr>\n",
              "    <tr>\n",
              "      <th>733</th>\n",
              "      <td>NA</td>\n",
              "      <td>NA</td>\n",
              "      <td>NA</td>\n",
              "      <td>NA</td>\n",
              "      <td>0.0</td>\n",
              "      <td>NA</td>\n",
              "      <td>0.0</td>\n",
              "      <td>0.0</td>\n",
              "      <td>0.0</td>\n",
              "    </tr>\n",
              "    <tr>\n",
              "      <th>756</th>\n",
              "      <td>NA</td>\n",
              "      <td>NA</td>\n",
              "      <td>NA</td>\n",
              "      <td>NA</td>\n",
              "      <td>0.0</td>\n",
              "      <td>NA</td>\n",
              "      <td>0.0</td>\n",
              "      <td>0.0</td>\n",
              "      <td>0.0</td>\n",
              "    </tr>\n",
              "    <tr>\n",
              "      <th>764</th>\n",
              "      <td>NA</td>\n",
              "      <td>NA</td>\n",
              "      <td>NA</td>\n",
              "      <td>NA</td>\n",
              "      <td>0.0</td>\n",
              "      <td>NA</td>\n",
              "      <td>0.0</td>\n",
              "      <td>0.0</td>\n",
              "      <td>0.0</td>\n",
              "    </tr>\n",
              "    <tr>\n",
              "      <th>927</th>\n",
              "      <td>NA</td>\n",
              "      <td>NA</td>\n",
              "      <td>NA</td>\n",
              "      <td>NA</td>\n",
              "      <td>0.0</td>\n",
              "      <td>NA</td>\n",
              "      <td>0.0</td>\n",
              "      <td>0.0</td>\n",
              "      <td>0.0</td>\n",
              "    </tr>\n",
              "    <tr>\n",
              "      <th>975</th>\n",
              "      <td>NA</td>\n",
              "      <td>NA</td>\n",
              "      <td>NA</td>\n",
              "      <td>NA</td>\n",
              "      <td>0.0</td>\n",
              "      <td>NA</td>\n",
              "      <td>0.0</td>\n",
              "      <td>0.0</td>\n",
              "      <td>0.0</td>\n",
              "    </tr>\n",
              "    <tr>\n",
              "      <th>992</th>\n",
              "      <td>NA</td>\n",
              "      <td>NA</td>\n",
              "      <td>NA</td>\n",
              "      <td>NA</td>\n",
              "      <td>0.0</td>\n",
              "      <td>NA</td>\n",
              "      <td>0.0</td>\n",
              "      <td>0.0</td>\n",
              "      <td>0.0</td>\n",
              "    </tr>\n",
              "    <tr>\n",
              "      <th>993</th>\n",
              "      <td>NA</td>\n",
              "      <td>NA</td>\n",
              "      <td>NA</td>\n",
              "      <td>NA</td>\n",
              "      <td>0.0</td>\n",
              "      <td>NA</td>\n",
              "      <td>0.0</td>\n",
              "      <td>0.0</td>\n",
              "      <td>0.0</td>\n",
              "    </tr>\n",
              "    <tr>\n",
              "      <th>1030</th>\n",
              "      <td>NA</td>\n",
              "      <td>NA</td>\n",
              "      <td>NA</td>\n",
              "      <td>NA</td>\n",
              "      <td>0.0</td>\n",
              "      <td>NA</td>\n",
              "      <td>0.0</td>\n",
              "      <td>0.0</td>\n",
              "      <td>0.0</td>\n",
              "    </tr>\n",
              "    <tr>\n",
              "      <th>1038</th>\n",
              "      <td>NA</td>\n",
              "      <td>NA</td>\n",
              "      <td>NA</td>\n",
              "      <td>NA</td>\n",
              "      <td>0.0</td>\n",
              "      <td>NA</td>\n",
              "      <td>0.0</td>\n",
              "      <td>0.0</td>\n",
              "      <td>0.0</td>\n",
              "    </tr>\n",
              "    <tr>\n",
              "      <th>1087</th>\n",
              "      <td>NA</td>\n",
              "      <td>NA</td>\n",
              "      <td>NA</td>\n",
              "      <td>NA</td>\n",
              "      <td>0.0</td>\n",
              "      <td>NA</td>\n",
              "      <td>0.0</td>\n",
              "      <td>0.0</td>\n",
              "      <td>0.0</td>\n",
              "    </tr>\n",
              "    <tr>\n",
              "      <th>1092</th>\n",
              "      <td>NA</td>\n",
              "      <td>NA</td>\n",
              "      <td>NA</td>\n",
              "      <td>NA</td>\n",
              "      <td>0.0</td>\n",
              "      <td>NA</td>\n",
              "      <td>0.0</td>\n",
              "      <td>0.0</td>\n",
              "      <td>0.0</td>\n",
              "    </tr>\n",
              "    <tr>\n",
              "      <th>1104</th>\n",
              "      <td>NA</td>\n",
              "      <td>NA</td>\n",
              "      <td>NA</td>\n",
              "      <td>NA</td>\n",
              "      <td>0.0</td>\n",
              "      <td>NA</td>\n",
              "      <td>0.0</td>\n",
              "      <td>0.0</td>\n",
              "      <td>0.0</td>\n",
              "    </tr>\n",
              "    <tr>\n",
              "      <th>1118</th>\n",
              "      <td>NA</td>\n",
              "      <td>NA</td>\n",
              "      <td>NA</td>\n",
              "      <td>NA</td>\n",
              "      <td>0.0</td>\n",
              "      <td>NA</td>\n",
              "      <td>0.0</td>\n",
              "      <td>0.0</td>\n",
              "      <td>0.0</td>\n",
              "    </tr>\n",
              "    <tr>\n",
              "      <th>1139</th>\n",
              "      <td>NA</td>\n",
              "      <td>NA</td>\n",
              "      <td>NA</td>\n",
              "      <td>NA</td>\n",
              "      <td>0.0</td>\n",
              "      <td>NA</td>\n",
              "      <td>0.0</td>\n",
              "      <td>0.0</td>\n",
              "      <td>0.0</td>\n",
              "    </tr>\n",
              "    <tr>\n",
              "      <th>1242</th>\n",
              "      <td>NA</td>\n",
              "      <td>NA</td>\n",
              "      <td>NA</td>\n",
              "      <td>NA</td>\n",
              "      <td>0.0</td>\n",
              "      <td>NA</td>\n",
              "      <td>0.0</td>\n",
              "      <td>0.0</td>\n",
              "      <td>0.0</td>\n",
              "    </tr>\n",
              "    <tr>\n",
              "      <th>1303</th>\n",
              "      <td>NA</td>\n",
              "      <td>NA</td>\n",
              "      <td>NA</td>\n",
              "      <td>NA</td>\n",
              "      <td>0.0</td>\n",
              "      <td>NA</td>\n",
              "      <td>0.0</td>\n",
              "      <td>0.0</td>\n",
              "      <td>0.0</td>\n",
              "    </tr>\n",
              "    <tr>\n",
              "      <th>1306</th>\n",
              "      <td>NA</td>\n",
              "      <td>NA</td>\n",
              "      <td>NA</td>\n",
              "      <td>NA</td>\n",
              "      <td>0.0</td>\n",
              "      <td>NA</td>\n",
              "      <td>0.0</td>\n",
              "      <td>0.0</td>\n",
              "      <td>0.0</td>\n",
              "    </tr>\n",
              "    <tr>\n",
              "      <th>1343</th>\n",
              "      <td>NA</td>\n",
              "      <td>NA</td>\n",
              "      <td>NA</td>\n",
              "      <td>NA</td>\n",
              "      <td>0.0</td>\n",
              "      <td>NA</td>\n",
              "      <td>0.0</td>\n",
              "      <td>0.0</td>\n",
              "      <td>0.0</td>\n",
              "    </tr>\n",
              "    <tr>\n",
              "      <th>1344</th>\n",
              "      <td>NA</td>\n",
              "      <td>NA</td>\n",
              "      <td>NA</td>\n",
              "      <td>NA</td>\n",
              "      <td>0.0</td>\n",
              "      <td>NA</td>\n",
              "      <td>0.0</td>\n",
              "      <td>0.0</td>\n",
              "      <td>0.0</td>\n",
              "    </tr>\n",
              "    <tr>\n",
              "      <th>1364</th>\n",
              "      <td>NA</td>\n",
              "      <td>NA</td>\n",
              "      <td>NA</td>\n",
              "      <td>NA</td>\n",
              "      <td>0.0</td>\n",
              "      <td>NA</td>\n",
              "      <td>0.0</td>\n",
              "      <td>0.0</td>\n",
              "      <td>0.0</td>\n",
              "    </tr>\n",
              "    <tr>\n",
              "      <th>1431</th>\n",
              "      <td>NA</td>\n",
              "      <td>NA</td>\n",
              "      <td>NA</td>\n",
              "      <td>NA</td>\n",
              "      <td>0.0</td>\n",
              "      <td>NA</td>\n",
              "      <td>0.0</td>\n",
              "      <td>0.0</td>\n",
              "      <td>0.0</td>\n",
              "    </tr>\n",
              "    <tr>\n",
              "      <th>1444</th>\n",
              "      <td>NA</td>\n",
              "      <td>NA</td>\n",
              "      <td>NA</td>\n",
              "      <td>NA</td>\n",
              "      <td>0.0</td>\n",
              "      <td>NA</td>\n",
              "      <td>0.0</td>\n",
              "      <td>0.0</td>\n",
              "      <td>0.0</td>\n",
              "    </tr>\n",
              "  </tbody>\n",
              "</table>\n",
              "</div>"
            ],
            "text/plain": [
              "     BsmtQual BsmtCond BsmtExposure  ... BsmtFinSF2  BsmtUnfSF TotalBsmtSF\n",
              "125        NA       NA           NA  ...        0.0        0.0         0.0\n",
              "133        NA       NA           NA  ...        0.0        0.0         0.0\n",
              "269        NA       NA           NA  ...        0.0        0.0         0.0\n",
              "318        NA       NA           NA  ...        0.0        0.0         0.0\n",
              "354        NA       NA           NA  ...        0.0        0.0         0.0\n",
              "387        NA       NA           NA  ...        0.0        0.0         0.0\n",
              "388        NA       NA           NA  ...        0.0        0.0         0.0\n",
              "396        NA       NA           NA  ...        0.0        0.0         0.0\n",
              "397        NA       NA           NA  ...        0.0        0.0         0.0\n",
              "398        NA       NA           NA  ...        0.0        0.0         0.0\n",
              "400        NA       NA           NA  ...        0.0        0.0         0.0\n",
              "455        NA       NA           NA  ...        0.0        0.0         0.0\n",
              "590        NA       NA           NA  ...        0.0        0.0         0.0\n",
              "606        NA       NA           NA  ...        0.0        0.0         0.0\n",
              "608        NA       NA           NA  ...        0.0        0.0         0.0\n",
              "660        NA       NA           NA  ...        NaN        NaN         NaN\n",
              "662        NA       NA           NA  ...        0.0        0.0         0.0\n",
              "728        NA       NA           NA  ...        0.0        0.0         0.0\n",
              "729        NA       NA           NA  ...        0.0        0.0         0.0\n",
              "730        NA       NA           NA  ...        0.0        0.0         0.0\n",
              "733        NA       NA           NA  ...        0.0        0.0         0.0\n",
              "756        NA       NA           NA  ...        0.0        0.0         0.0\n",
              "764        NA       NA           NA  ...        0.0        0.0         0.0\n",
              "927        NA       NA           NA  ...        0.0        0.0         0.0\n",
              "975        NA       NA           NA  ...        0.0        0.0         0.0\n",
              "992        NA       NA           NA  ...        0.0        0.0         0.0\n",
              "993        NA       NA           NA  ...        0.0        0.0         0.0\n",
              "1030       NA       NA           NA  ...        0.0        0.0         0.0\n",
              "1038       NA       NA           NA  ...        0.0        0.0         0.0\n",
              "1087       NA       NA           NA  ...        0.0        0.0         0.0\n",
              "1092       NA       NA           NA  ...        0.0        0.0         0.0\n",
              "1104       NA       NA           NA  ...        0.0        0.0         0.0\n",
              "1118       NA       NA           NA  ...        0.0        0.0         0.0\n",
              "1139       NA       NA           NA  ...        0.0        0.0         0.0\n",
              "1242       NA       NA           NA  ...        0.0        0.0         0.0\n",
              "1303       NA       NA           NA  ...        0.0        0.0         0.0\n",
              "1306       NA       NA           NA  ...        0.0        0.0         0.0\n",
              "1343       NA       NA           NA  ...        0.0        0.0         0.0\n",
              "1344       NA       NA           NA  ...        0.0        0.0         0.0\n",
              "1364       NA       NA           NA  ...        0.0        0.0         0.0\n",
              "1431       NA       NA           NA  ...        0.0        0.0         0.0\n",
              "1444       NA       NA           NA  ...        0.0        0.0         0.0\n",
              "\n",
              "[42 rows x 9 columns]"
            ]
          },
          "metadata": {
            "tags": []
          },
          "execution_count": 525
        }
      ]
    },
    {
      "cell_type": "code",
      "metadata": {
        "id": "UD4ysSf-timx"
      },
      "source": [
        "new_df.loc[new_df.BsmtQual.isnull(),'BsmtQual'] = 'TA'"
      ],
      "execution_count": 526,
      "outputs": []
    },
    {
      "cell_type": "code",
      "metadata": {
        "id": "0ryYU1W7u6k8",
        "colab": {
          "base_uri": "https://localhost:8080/"
        },
        "outputId": "f83dc495-d36e-4d1c-e057-4d1c15fe9524"
      },
      "source": [
        "new_df.BsmtQual.value_counts()"
      ],
      "execution_count": 527,
      "outputs": [
        {
          "output_type": "execute_result",
          "data": {
            "text/plain": [
              "TA    636\n",
              "Gd    591\n",
              "Ex    137\n",
              "Fa     53\n",
              "NA     42\n",
              "Name: BsmtQual, dtype: int64"
            ]
          },
          "metadata": {
            "tags": []
          },
          "execution_count": 527
        }
      ]
    },
    {
      "cell_type": "code",
      "metadata": {
        "id": "yfuA9Ws_iqIP"
      },
      "source": [
        "new_df.loc[new_df.BsmtCond.isnull(),'BsmtCond'] = 'TA'"
      ],
      "execution_count": 528,
      "outputs": []
    },
    {
      "cell_type": "code",
      "metadata": {
        "id": "7KfaG3TVizIQ",
        "colab": {
          "base_uri": "https://localhost:8080/"
        },
        "outputId": "a4c96923-eb82-4b05-dbe9-07642036c944"
      },
      "source": [
        "new_df.BsmtCond.value_counts()"
      ],
      "execution_count": 529,
      "outputs": [
        {
          "output_type": "execute_result",
          "data": {
            "text/plain": [
              "TA    1298\n",
              "Fa      59\n",
              "Gd      57\n",
              "NA      42\n",
              "Po       3\n",
              "Name: BsmtCond, dtype: int64"
            ]
          },
          "metadata": {
            "tags": []
          },
          "execution_count": 529
        }
      ]
    },
    {
      "cell_type": "code",
      "metadata": {
        "id": "w6Q-afW-Zw8C"
      },
      "source": [
        "new_df.loc[new_df.BsmtExposure.isnull(),'BsmtExposure'] = 'No'"
      ],
      "execution_count": 530,
      "outputs": []
    },
    {
      "cell_type": "code",
      "metadata": {
        "id": "IxNXmZnHZwvO",
        "colab": {
          "base_uri": "https://localhost:8080/"
        },
        "outputId": "9c90b8ac-78c1-4b13-901a-1d650439a0c3"
      },
      "source": [
        "new_df.BsmtExposure.value_counts()"
      ],
      "execution_count": 531,
      "outputs": [
        {
          "output_type": "execute_result",
          "data": {
            "text/plain": [
              "No    953\n",
              "Av    197\n",
              "Gd    142\n",
              "Mn    125\n",
              "NA     42\n",
              "Name: BsmtExposure, dtype: int64"
            ]
          },
          "metadata": {
            "tags": []
          },
          "execution_count": 531
        }
      ]
    },
    {
      "cell_type": "code",
      "metadata": {
        "id": "iLBmoglasKlr",
        "colab": {
          "base_uri": "https://localhost:8080/",
          "height": 78
        },
        "outputId": "be886b8f-52d0-40a5-f8f2-d1d01745d707"
      },
      "source": [
        "new_df[new_df.BsmtFinSF1.isnull() & new_df.BsmtFinSF2.isnull() & new_df.BsmtUnfSF.isnull() & new_df.TotalBsmtSF.isnull()][['BsmtQual','BsmtCond','BsmtExposure','BsmtFinType1','BsmtFinSF1','BsmtFinType2','BsmtFinSF2','BsmtUnfSF','TotalBsmtSF']]"
      ],
      "execution_count": 532,
      "outputs": [
        {
          "output_type": "execute_result",
          "data": {
            "text/html": [
              "<div>\n",
              "<style scoped>\n",
              "    .dataframe tbody tr th:only-of-type {\n",
              "        vertical-align: middle;\n",
              "    }\n",
              "\n",
              "    .dataframe tbody tr th {\n",
              "        vertical-align: top;\n",
              "    }\n",
              "\n",
              "    .dataframe thead th {\n",
              "        text-align: right;\n",
              "    }\n",
              "</style>\n",
              "<table border=\"1\" class=\"dataframe\">\n",
              "  <thead>\n",
              "    <tr style=\"text-align: right;\">\n",
              "      <th></th>\n",
              "      <th>BsmtQual</th>\n",
              "      <th>BsmtCond</th>\n",
              "      <th>BsmtExposure</th>\n",
              "      <th>BsmtFinType1</th>\n",
              "      <th>BsmtFinSF1</th>\n",
              "      <th>BsmtFinType2</th>\n",
              "      <th>BsmtFinSF2</th>\n",
              "      <th>BsmtUnfSF</th>\n",
              "      <th>TotalBsmtSF</th>\n",
              "    </tr>\n",
              "  </thead>\n",
              "  <tbody>\n",
              "    <tr>\n",
              "      <th>660</th>\n",
              "      <td>NA</td>\n",
              "      <td>NA</td>\n",
              "      <td>NA</td>\n",
              "      <td>NA</td>\n",
              "      <td>NaN</td>\n",
              "      <td>NA</td>\n",
              "      <td>NaN</td>\n",
              "      <td>NaN</td>\n",
              "      <td>NaN</td>\n",
              "    </tr>\n",
              "  </tbody>\n",
              "</table>\n",
              "</div>"
            ],
            "text/plain": [
              "    BsmtQual BsmtCond BsmtExposure  ... BsmtFinSF2  BsmtUnfSF TotalBsmtSF\n",
              "660       NA       NA           NA  ...        NaN        NaN         NaN\n",
              "\n",
              "[1 rows x 9 columns]"
            ]
          },
          "metadata": {
            "tags": []
          },
          "execution_count": 532
        }
      ]
    },
    {
      "cell_type": "code",
      "metadata": {
        "id": "gyA_LNpCso81"
      },
      "source": [
        "new_df.loc[new_df.BsmtFinSF1.isnull() & new_df.BsmtFinSF2.isnull() & new_df.BsmtUnfSF.isnull() & new_df.TotalBsmtSF.isnull(),['BsmtFinSF1','BsmtFinSF2','BsmtUnfSF','TotalBsmtSF']] = 0"
      ],
      "execution_count": 533,
      "outputs": []
    },
    {
      "cell_type": "code",
      "metadata": {
        "id": "kuThab-7tQif",
        "colab": {
          "base_uri": "https://localhost:8080/",
          "height": 48
        },
        "outputId": "f82179da-c481-4845-a140-ea727c481333"
      },
      "source": [
        "new_df[new_df.BsmtFinSF1.isnull() & new_df.BsmtFinSF2.isnull() & new_df.BsmtUnfSF.isnull() & new_df.TotalBsmtSF.isnull()][['BsmtQual','BsmtCond','BsmtExposure','BsmtFinType1','BsmtFinSF1','BsmtFinType2','BsmtFinSF2','BsmtUnfSF','TotalBsmtSF']]"
      ],
      "execution_count": 534,
      "outputs": [
        {
          "output_type": "execute_result",
          "data": {
            "text/html": [
              "<div>\n",
              "<style scoped>\n",
              "    .dataframe tbody tr th:only-of-type {\n",
              "        vertical-align: middle;\n",
              "    }\n",
              "\n",
              "    .dataframe tbody tr th {\n",
              "        vertical-align: top;\n",
              "    }\n",
              "\n",
              "    .dataframe thead th {\n",
              "        text-align: right;\n",
              "    }\n",
              "</style>\n",
              "<table border=\"1\" class=\"dataframe\">\n",
              "  <thead>\n",
              "    <tr style=\"text-align: right;\">\n",
              "      <th></th>\n",
              "      <th>BsmtQual</th>\n",
              "      <th>BsmtCond</th>\n",
              "      <th>BsmtExposure</th>\n",
              "      <th>BsmtFinType1</th>\n",
              "      <th>BsmtFinSF1</th>\n",
              "      <th>BsmtFinType2</th>\n",
              "      <th>BsmtFinSF2</th>\n",
              "      <th>BsmtUnfSF</th>\n",
              "      <th>TotalBsmtSF</th>\n",
              "    </tr>\n",
              "  </thead>\n",
              "  <tbody>\n",
              "  </tbody>\n",
              "</table>\n",
              "</div>"
            ],
            "text/plain": [
              "Empty DataFrame\n",
              "Columns: [BsmtQual, BsmtCond, BsmtExposure, BsmtFinType1, BsmtFinSF1, BsmtFinType2, BsmtFinSF2, BsmtUnfSF, TotalBsmtSF]\n",
              "Index: []"
            ]
          },
          "metadata": {
            "tags": []
          },
          "execution_count": 534
        }
      ]
    },
    {
      "cell_type": "code",
      "metadata": {
        "id": "9t5eQh1t1KnI"
      },
      "source": [
        "new_df.fillna({'BsmtFullBath':0, 'BsmtHalfBath':0}, inplace=True)"
      ],
      "execution_count": 535,
      "outputs": []
    },
    {
      "cell_type": "code",
      "metadata": {
        "id": "4rUIcgoTtULp"
      },
      "source": [
        "new_df.drop('TotalBsmtSF', axis=1, inplace=True)"
      ],
      "execution_count": 536,
      "outputs": []
    },
    {
      "cell_type": "markdown",
      "metadata": {
        "id": "USv8qWt5nHCd"
      },
      "source": [
        "__Checking columns after Basement Ones__"
      ]
    },
    {
      "cell_type": "code",
      "metadata": {
        "id": "pYPmSU6Asq7o",
        "colab": {
          "base_uri": "https://localhost:8080/",
          "height": 78
        },
        "outputId": "a9aafbed-585a-42b7-e28d-6f59c3c5659f"
      },
      "source": [
        "new_df[new_df.KitchenQual.isnull()][['KitchenQual', 'KitchenAbvGr']]"
      ],
      "execution_count": 537,
      "outputs": [
        {
          "output_type": "execute_result",
          "data": {
            "text/html": [
              "<div>\n",
              "<style scoped>\n",
              "    .dataframe tbody tr th:only-of-type {\n",
              "        vertical-align: middle;\n",
              "    }\n",
              "\n",
              "    .dataframe tbody tr th {\n",
              "        vertical-align: top;\n",
              "    }\n",
              "\n",
              "    .dataframe thead th {\n",
              "        text-align: right;\n",
              "    }\n",
              "</style>\n",
              "<table border=\"1\" class=\"dataframe\">\n",
              "  <thead>\n",
              "    <tr style=\"text-align: right;\">\n",
              "      <th></th>\n",
              "      <th>KitchenQual</th>\n",
              "      <th>KitchenAbvGr</th>\n",
              "    </tr>\n",
              "  </thead>\n",
              "  <tbody>\n",
              "    <tr>\n",
              "      <th>95</th>\n",
              "      <td>NaN</td>\n",
              "      <td>1</td>\n",
              "    </tr>\n",
              "  </tbody>\n",
              "</table>\n",
              "</div>"
            ],
            "text/plain": [
              "   KitchenQual  KitchenAbvGr\n",
              "95         NaN             1"
            ]
          },
          "metadata": {
            "tags": []
          },
          "execution_count": 537
        }
      ]
    },
    {
      "cell_type": "code",
      "metadata": {
        "id": "HnQD6Wh9tnoQ",
        "colab": {
          "base_uri": "https://localhost:8080/"
        },
        "outputId": "40a15736-ecdb-4006-e0df-46ea38dcebea"
      },
      "source": [
        "new_df.KitchenQual.value_counts()"
      ],
      "execution_count": 538,
      "outputs": [
        {
          "output_type": "execute_result",
          "data": {
            "text/plain": [
              "TA    757\n",
              "Gd    565\n",
              "Ex    105\n",
              "Fa     31\n",
              "Name: KitchenQual, dtype: int64"
            ]
          },
          "metadata": {
            "tags": []
          },
          "execution_count": 538
        }
      ]
    },
    {
      "cell_type": "markdown",
      "metadata": {
        "id": "0P_umOH1t3MU"
      },
      "source": [
        "For the 1 row with column _KitchenQual_ as null, column _KitchenAbvGr_ has a valid value. Hence we are unable to ignore the null value. </br>\n",
        "For imputation, we use the mode value of the column, which is 'TA'."
      ]
    },
    {
      "cell_type": "code",
      "metadata": {
        "id": "6MYRZzkTueMD"
      },
      "source": [
        "new_df.fillna({'KitchenQual':'TA'}, inplace=True)"
      ],
      "execution_count": 539,
      "outputs": []
    },
    {
      "cell_type": "code",
      "metadata": {
        "id": "_cpR6gb6wTGf",
        "colab": {
          "base_uri": "https://localhost:8080/"
        },
        "outputId": "80e9112d-1f1d-4f8d-8918-069ff7161294"
      },
      "source": [
        "new_df.KitchenQual.value_counts()"
      ],
      "execution_count": 540,
      "outputs": [
        {
          "output_type": "execute_result",
          "data": {
            "text/plain": [
              "TA    758\n",
              "Gd    565\n",
              "Ex    105\n",
              "Fa     31\n",
              "Name: KitchenQual, dtype: int64"
            ]
          },
          "metadata": {
            "tags": []
          },
          "execution_count": 540
        }
      ]
    },
    {
      "cell_type": "code",
      "metadata": {
        "id": "FdtEfpBRnDxu",
        "colab": {
          "base_uri": "https://localhost:8080/"
        },
        "outputId": "7ef13d1a-9496-40a6-e59d-bf920eb36f5f"
      },
      "source": [
        "new_df.Functional.value_counts()"
      ],
      "execution_count": 541,
      "outputs": [
        {
          "output_type": "execute_result",
          "data": {
            "text/plain": [
              "Typ     1357\n",
              "Min2      36\n",
              "Min1      34\n",
              "Mod       20\n",
              "Maj1       5\n",
              "Maj2       4\n",
              "Sev        1\n",
              "Name: Functional, dtype: int64"
            ]
          },
          "metadata": {
            "tags": []
          },
          "execution_count": 541
        }
      ]
    },
    {
      "cell_type": "code",
      "metadata": {
        "id": "B7fLpssinQuN",
        "colab": {
          "base_uri": "https://localhost:8080/",
          "height": 35
        },
        "outputId": "b4b854a7-a3dd-4481-fc83-a361c8200959"
      },
      "source": [
        "new_df.Functional.mode()[0]"
      ],
      "execution_count": 542,
      "outputs": [
        {
          "output_type": "execute_result",
          "data": {
            "application/vnd.google.colaboratory.intrinsic+json": {
              "type": "string"
            },
            "text/plain": [
              "'Typ'"
            ]
          },
          "metadata": {
            "tags": []
          },
          "execution_count": 542
        }
      ]
    },
    {
      "cell_type": "markdown",
      "metadata": {
        "id": "nzzWUpPurNuE"
      },
      "source": [
        "The 2 rows with column _Functional_ as null are imputed with the mode of the same column, 'Typ'."
      ]
    },
    {
      "cell_type": "code",
      "metadata": {
        "id": "ZhkHAKOFmvre"
      },
      "source": [
        "new_df.fillna({'Functional':new_df.Functional.mode()[0]}, inplace=True)"
      ],
      "execution_count": 543,
      "outputs": []
    },
    {
      "cell_type": "code",
      "metadata": {
        "id": "1t8bWnt0o4bs",
        "colab": {
          "base_uri": "https://localhost:8080/"
        },
        "outputId": "a77b0f8d-620b-4902-cea3-77307469c136"
      },
      "source": [
        "new_df.Functional.value_counts()"
      ],
      "execution_count": 544,
      "outputs": [
        {
          "output_type": "execute_result",
          "data": {
            "text/plain": [
              "Typ     1359\n",
              "Min2      36\n",
              "Min1      34\n",
              "Mod       20\n",
              "Maj1       5\n",
              "Maj2       4\n",
              "Sev        1\n",
              "Name: Functional, dtype: int64"
            ]
          },
          "metadata": {
            "tags": []
          },
          "execution_count": 544
        }
      ]
    },
    {
      "cell_type": "code",
      "metadata": {
        "id": "q8cDsCrCpcUs",
        "colab": {
          "base_uri": "https://localhost:8080/"
        },
        "outputId": "a8103e4e-b76e-49b4-a8d4-7cf393dafc20"
      },
      "source": [
        "new_df.FireplaceQu.value_counts()"
      ],
      "execution_count": 545,
      "outputs": [
        {
          "output_type": "execute_result",
          "data": {
            "text/plain": [
              "Gd    364\n",
              "TA    279\n",
              "Fa     41\n",
              "Po     26\n",
              "Ex     19\n",
              "Name: FireplaceQu, dtype: int64"
            ]
          },
          "metadata": {
            "tags": []
          },
          "execution_count": 545
        }
      ]
    },
    {
      "cell_type": "code",
      "metadata": {
        "id": "4UGxr_xMpqhy",
        "colab": {
          "base_uri": "https://localhost:8080/"
        },
        "outputId": "e74d5bed-1097-4ae9-ac5a-a6b8f3282491"
      },
      "source": [
        "new_df[new_df.FireplaceQu.isnull()].Fireplaces.value_counts()"
      ],
      "execution_count": 546,
      "outputs": [
        {
          "output_type": "execute_result",
          "data": {
            "text/plain": [
              "0    730\n",
              "Name: Fireplaces, dtype: int64"
            ]
          },
          "metadata": {
            "tags": []
          },
          "execution_count": 546
        }
      ]
    },
    {
      "cell_type": "code",
      "metadata": {
        "id": "W4BpzeeJpzRZ",
        "colab": {
          "base_uri": "https://localhost:8080/"
        },
        "outputId": "4de091c5-eb31-402d-922a-93d654f23d3d"
      },
      "source": [
        "new_df[(new_df.FireplaceQu.isnull()) & (new_df.Fireplaces==0)]['Id'].count()"
      ],
      "execution_count": 547,
      "outputs": [
        {
          "output_type": "execute_result",
          "data": {
            "text/plain": [
              "730"
            ]
          },
          "metadata": {
            "tags": []
          },
          "execution_count": 547
        }
      ]
    },
    {
      "cell_type": "markdown",
      "metadata": {
        "id": "Cxxxesanp4Jm"
      },
      "source": [
        "Column _FireplacesQu_ has 730 rows with null value. </br>\n",
        "These 730 rows also have count of Fireplace as 0 (column _Fireplaces_ is 0).</br> This confirms that, these 730 rows actually represent houses which do not have Fireplace. Hence we impute them with the value 'NA'."
      ]
    },
    {
      "cell_type": "code",
      "metadata": {
        "id": "Ebj_X5H7p3ki"
      },
      "source": [
        "new_df.fillna({'FireplaceQu':'NA'}, inplace=True)"
      ],
      "execution_count": 548,
      "outputs": []
    },
    {
      "cell_type": "code",
      "metadata": {
        "id": "tsouRjmNqhRT",
        "colab": {
          "base_uri": "https://localhost:8080/"
        },
        "outputId": "d91d4e48-c9ac-4c12-eb43-5387c6ec4c15"
      },
      "source": [
        "new_df.FireplaceQu.value_counts()"
      ],
      "execution_count": 549,
      "outputs": [
        {
          "output_type": "execute_result",
          "data": {
            "text/plain": [
              "NA    730\n",
              "Gd    364\n",
              "TA    279\n",
              "Fa     41\n",
              "Po     26\n",
              "Ex     19\n",
              "Name: FireplaceQu, dtype: int64"
            ]
          },
          "metadata": {
            "tags": []
          },
          "execution_count": 549
        }
      ]
    },
    {
      "cell_type": "markdown",
      "metadata": {
        "id": "EaI2XkV6yEQu"
      },
      "source": [
        "__Missing Value Imputation of Garage related columns__"
      ]
    },
    {
      "cell_type": "code",
      "metadata": {
        "id": "3LV6GmBZyD2C",
        "colab": {
          "base_uri": "https://localhost:8080/"
        },
        "outputId": "d4274f92-14e5-444d-a8db-7cde7376fd15"
      },
      "source": [
        "new_df.GarageType.value_counts()"
      ],
      "execution_count": 550,
      "outputs": [
        {
          "output_type": "execute_result",
          "data": {
            "text/plain": [
              "Attchd     853\n",
              "Detchd     392\n",
              "BuiltIn     98\n",
              "2Types      17\n",
              "Basment     17\n",
              "CarPort      6\n",
              "Name: GarageType, dtype: int64"
            ]
          },
          "metadata": {
            "tags": []
          },
          "execution_count": 550
        }
      ]
    },
    {
      "cell_type": "code",
      "metadata": {
        "id": "vTpVRC_EyJUE",
        "colab": {
          "base_uri": "https://localhost:8080/"
        },
        "outputId": "a35ed79c-5d67-4cf3-d5f1-fe58ef99ef55"
      },
      "source": [
        "new_df.GarageType.isnull().sum()"
      ],
      "execution_count": 551,
      "outputs": [
        {
          "output_type": "execute_result",
          "data": {
            "text/plain": [
              "76"
            ]
          },
          "metadata": {
            "tags": []
          },
          "execution_count": 551
        }
      ]
    },
    {
      "cell_type": "code",
      "metadata": {
        "id": "43S0QbAByPAF",
        "colab": {
          "base_uri": "https://localhost:8080/"
        },
        "outputId": "5a704ccf-19b3-487f-bb9e-1eda0714ef90"
      },
      "source": [
        "new_df[new_df.GarageType.isnull()].GarageYrBlt.unique()"
      ],
      "execution_count": 552,
      "outputs": [
        {
          "output_type": "execute_result",
          "data": {
            "text/plain": [
              "array([nan])"
            ]
          },
          "metadata": {
            "tags": []
          },
          "execution_count": 552
        }
      ]
    },
    {
      "cell_type": "code",
      "metadata": {
        "id": "5wIZKWv4yO1p",
        "colab": {
          "base_uri": "https://localhost:8080/"
        },
        "outputId": "2f79448a-e30f-45bf-eb1f-5e2bd1776179"
      },
      "source": [
        "new_df[new_df.GarageYrBlt==0].GarageYrBlt.count()"
      ],
      "execution_count": 553,
      "outputs": [
        {
          "output_type": "execute_result",
          "data": {
            "text/plain": [
              "0"
            ]
          },
          "metadata": {
            "tags": []
          },
          "execution_count": 553
        }
      ]
    },
    {
      "cell_type": "code",
      "metadata": {
        "id": "sJwgjN62yc8k",
        "colab": {
          "base_uri": "https://localhost:8080/"
        },
        "outputId": "8e54d868-6df2-4ebd-8ce8-0c595d9edf87"
      },
      "source": [
        "new_df.GarageYrBlt.unique()"
      ],
      "execution_count": 554,
      "outputs": [
        {
          "output_type": "execute_result",
          "data": {
            "text/plain": [
              "array([1961., 1958., 1997., 1998., 1992., 1993., 1990., 1970., 1999.,\n",
              "       1971., 1975., 2009., 2005., 2003., 2002., 2006., 2004., 1920.,\n",
              "       1974., 2000., 2010., 1967., 1978., 1966., 1964.,   nan, 1994.,\n",
              "       1949., 1959., 1956., 1952., 1955., 1989., 1950., 1960., 1963.,\n",
              "       1900., 1957., 1938., 1948., 1962., 1928., 1930., 1926., 1939.,\n",
              "       1973., 1942., 1979., 1923., 1915., 1917., 1940., 1910., 1969.,\n",
              "       1968., 1977., 1945., 1987., 1947., 1954., 1941., 1951., 1896.,\n",
              "       1976., 2008., 2007., 1965., 2001., 1972., 1984., 1985., 1996.,\n",
              "       1995., 1980., 1986., 1981., 1982., 1991., 1988., 1953., 1924.,\n",
              "       1927., 1946., 1934., 1983., 1916., 1918., 1937., 1932., 1935.,\n",
              "       1925., 1921., 1895., 1922., 2207., 1936., 1943., 1919.])"
            ]
          },
          "metadata": {
            "tags": []
          },
          "execution_count": 554
        }
      ]
    },
    {
      "cell_type": "code",
      "metadata": {
        "id": "J4hc7WseyiHR"
      },
      "source": [
        "new_df.fillna({'GarageYrBlt':0}, inplace=True)"
      ],
      "execution_count": 555,
      "outputs": []
    },
    {
      "cell_type": "code",
      "metadata": {
        "id": "4TPpO10Jyppu"
      },
      "source": [
        "new_df.GarageYrBlt = new_df.GarageYrBlt.astype(int)"
      ],
      "execution_count": 556,
      "outputs": []
    },
    {
      "cell_type": "code",
      "metadata": {
        "id": "rfZrkgNjytIX",
        "colab": {
          "base_uri": "https://localhost:8080/"
        },
        "outputId": "925b6bab-a664-4bdb-9fd6-f264cd77ebd5"
      },
      "source": [
        "new_df.GarageFinish.value_counts()"
      ],
      "execution_count": 557,
      "outputs": [
        {
          "output_type": "execute_result",
          "data": {
            "text/plain": [
              "Unf    625\n",
              "RFn    389\n",
              "Fin    367\n",
              "Name: GarageFinish, dtype: int64"
            ]
          },
          "metadata": {
            "tags": []
          },
          "execution_count": 557
        }
      ]
    },
    {
      "cell_type": "code",
      "metadata": {
        "id": "34SQDe4qyx6n",
        "colab": {
          "base_uri": "https://localhost:8080/"
        },
        "outputId": "cf2f1cc6-6b2b-40d6-93f7-370f83cee2ff"
      },
      "source": [
        "new_df[new_df.GarageType.isnull()].GarageCars.unique()"
      ],
      "execution_count": 558,
      "outputs": [
        {
          "output_type": "execute_result",
          "data": {
            "text/plain": [
              "array([0.])"
            ]
          },
          "metadata": {
            "tags": []
          },
          "execution_count": 558
        }
      ]
    },
    {
      "cell_type": "code",
      "metadata": {
        "id": "JtivwVjezBNx",
        "colab": {
          "base_uri": "https://localhost:8080/"
        },
        "outputId": "7c5a6ee0-9939-4b75-c37e-2f266f43c283"
      },
      "source": [
        "new_df[new_df.GarageCars==0].GarageType.unique()"
      ],
      "execution_count": 559,
      "outputs": [
        {
          "output_type": "execute_result",
          "data": {
            "text/plain": [
              "array([nan], dtype=object)"
            ]
          },
          "metadata": {
            "tags": []
          },
          "execution_count": 559
        }
      ]
    },
    {
      "cell_type": "code",
      "metadata": {
        "id": "x-NYgHP6zEG4",
        "colab": {
          "base_uri": "https://localhost:8080/"
        },
        "outputId": "4ce20959-9095-4f0e-82e9-99a809de77d0"
      },
      "source": [
        "new_df[new_df.GarageType.isnull()].GarageArea.unique()"
      ],
      "execution_count": 560,
      "outputs": [
        {
          "output_type": "execute_result",
          "data": {
            "text/plain": [
              "array([0.])"
            ]
          },
          "metadata": {
            "tags": []
          },
          "execution_count": 560
        }
      ]
    },
    {
      "cell_type": "code",
      "metadata": {
        "id": "zTFSjbcRzFqK",
        "colab": {
          "base_uri": "https://localhost:8080/"
        },
        "outputId": "7781e5bb-56d5-47bc-c14b-6708f61a426e"
      },
      "source": [
        "new_df[new_df.GarageArea==0].GarageType.unique()"
      ],
      "execution_count": 561,
      "outputs": [
        {
          "output_type": "execute_result",
          "data": {
            "text/plain": [
              "array([nan], dtype=object)"
            ]
          },
          "metadata": {
            "tags": []
          },
          "execution_count": 561
        }
      ]
    },
    {
      "cell_type": "code",
      "metadata": {
        "id": "s80BAwhazIvx",
        "colab": {
          "base_uri": "https://localhost:8080/"
        },
        "outputId": "55330c0f-66e1-473a-d559-c76980d6842b"
      },
      "source": [
        "new_df.GarageQual.value_counts()"
      ],
      "execution_count": 562,
      "outputs": [
        {
          "output_type": "execute_result",
          "data": {
            "text/plain": [
              "TA    1293\n",
              "Fa      76\n",
              "Gd      10\n",
              "Po       2\n",
              "Name: GarageQual, dtype: int64"
            ]
          },
          "metadata": {
            "tags": []
          },
          "execution_count": 562
        }
      ]
    },
    {
      "cell_type": "code",
      "metadata": {
        "id": "PH3l40OTzM7h",
        "colab": {
          "base_uri": "https://localhost:8080/"
        },
        "outputId": "ed9ffe7c-8126-4647-f0dc-0c26fd7a19f8"
      },
      "source": [
        "new_df.GarageCond.value_counts()"
      ],
      "execution_count": 563,
      "outputs": [
        {
          "output_type": "execute_result",
          "data": {
            "text/plain": [
              "TA    1328\n",
              "Fa      39\n",
              "Po       7\n",
              "Gd       6\n",
              "Ex       1\n",
              "Name: GarageCond, dtype: int64"
            ]
          },
          "metadata": {
            "tags": []
          },
          "execution_count": 563
        }
      ]
    },
    {
      "cell_type": "markdown",
      "metadata": {
        "id": "U4FuSJ68zUWV"
      },
      "source": [
        "All the garage related textual columns have 76 null values. This indicates that no garage information was available for them. Even the garage related numeric columns like _GarageCars_ and _GarageArea_ have 0 values for these entries. We conclude that there are no garage information available for them. </br>\n",
        "- Columns _GarageType_, _GarageFinish_, _GarageQual_ and _GarageCond_ are imputed by the value 'NA' for the 76 rows."
      ]
    },
    {
      "cell_type": "code",
      "metadata": {
        "id": "KWckIqfA0FI6"
      },
      "source": [
        "new_df.loc[new_df.GarageType.isnull(),['GarageType','GarageFinish','GarageQual','GarageCond']] = 'NA'"
      ],
      "execution_count": 564,
      "outputs": []
    },
    {
      "cell_type": "code",
      "metadata": {
        "id": "j3YEHbyq0yiF",
        "colab": {
          "base_uri": "https://localhost:8080/",
          "height": 128
        },
        "outputId": "b55e22c1-5a2c-493f-c69e-d3be0c8f617e"
      },
      "source": [
        "new_df[new_df.GarageFinish.isnull()][new_df.columns]"
      ],
      "execution_count": 565,
      "outputs": [
        {
          "output_type": "execute_result",
          "data": {
            "text/html": [
              "<div>\n",
              "<style scoped>\n",
              "    .dataframe tbody tr th:only-of-type {\n",
              "        vertical-align: middle;\n",
              "    }\n",
              "\n",
              "    .dataframe tbody tr th {\n",
              "        vertical-align: top;\n",
              "    }\n",
              "\n",
              "    .dataframe thead th {\n",
              "        text-align: right;\n",
              "    }\n",
              "</style>\n",
              "<table border=\"1\" class=\"dataframe\">\n",
              "  <thead>\n",
              "    <tr style=\"text-align: right;\">\n",
              "      <th></th>\n",
              "      <th>Id</th>\n",
              "      <th>MSSubClass</th>\n",
              "      <th>MSZoning</th>\n",
              "      <th>LotFrontage</th>\n",
              "      <th>LotArea</th>\n",
              "      <th>Street</th>\n",
              "      <th>Alley</th>\n",
              "      <th>LotShape</th>\n",
              "      <th>LandContour</th>\n",
              "      <th>Utilities</th>\n",
              "      <th>LotConfig</th>\n",
              "      <th>LandSlope</th>\n",
              "      <th>Neighborhood</th>\n",
              "      <th>Condition1</th>\n",
              "      <th>Condition2</th>\n",
              "      <th>BldgType</th>\n",
              "      <th>HouseStyle</th>\n",
              "      <th>OverallQual</th>\n",
              "      <th>OverallCond</th>\n",
              "      <th>YearBuilt</th>\n",
              "      <th>YearRemodAdd</th>\n",
              "      <th>RoofStyle</th>\n",
              "      <th>RoofMatl</th>\n",
              "      <th>Exterior1st</th>\n",
              "      <th>Exterior2nd</th>\n",
              "      <th>MasVnrType</th>\n",
              "      <th>MasVnrArea</th>\n",
              "      <th>ExterQual</th>\n",
              "      <th>ExterCond</th>\n",
              "      <th>Foundation</th>\n",
              "      <th>BsmtQual</th>\n",
              "      <th>BsmtCond</th>\n",
              "      <th>BsmtExposure</th>\n",
              "      <th>BsmtFinType1</th>\n",
              "      <th>BsmtFinSF1</th>\n",
              "      <th>BsmtFinType2</th>\n",
              "      <th>BsmtFinSF2</th>\n",
              "      <th>BsmtUnfSF</th>\n",
              "      <th>Heating</th>\n",
              "      <th>HeatingQC</th>\n",
              "      <th>CentralAir</th>\n",
              "      <th>Electrical</th>\n",
              "      <th>1stFlrSF</th>\n",
              "      <th>2ndFlrSF</th>\n",
              "      <th>LowQualFinSF</th>\n",
              "      <th>GrLivArea</th>\n",
              "      <th>BsmtFullBath</th>\n",
              "      <th>BsmtHalfBath</th>\n",
              "      <th>FullBath</th>\n",
              "      <th>HalfBath</th>\n",
              "      <th>BedroomAbvGr</th>\n",
              "      <th>KitchenAbvGr</th>\n",
              "      <th>KitchenQual</th>\n",
              "      <th>TotRmsAbvGrd</th>\n",
              "      <th>Functional</th>\n",
              "      <th>Fireplaces</th>\n",
              "      <th>FireplaceQu</th>\n",
              "      <th>GarageType</th>\n",
              "      <th>GarageYrBlt</th>\n",
              "      <th>GarageFinish</th>\n",
              "      <th>GarageCars</th>\n",
              "      <th>GarageArea</th>\n",
              "      <th>GarageQual</th>\n",
              "      <th>GarageCond</th>\n",
              "      <th>PavedDrive</th>\n",
              "      <th>WoodDeckSF</th>\n",
              "      <th>OpenPorchSF</th>\n",
              "      <th>EnclosedPorch</th>\n",
              "      <th>3SsnPorch</th>\n",
              "      <th>ScreenPorch</th>\n",
              "      <th>PoolArea</th>\n",
              "      <th>PoolQC</th>\n",
              "      <th>Fence</th>\n",
              "      <th>MiscFeature</th>\n",
              "      <th>MiscVal</th>\n",
              "      <th>MoSold</th>\n",
              "      <th>YrSold</th>\n",
              "      <th>SaleType</th>\n",
              "      <th>SaleCondition</th>\n",
              "    </tr>\n",
              "  </thead>\n",
              "  <tbody>\n",
              "    <tr>\n",
              "      <th>666</th>\n",
              "      <td>2127</td>\n",
              "      <td>60</td>\n",
              "      <td>RM</td>\n",
              "      <td>57.0</td>\n",
              "      <td>8094</td>\n",
              "      <td>Pave</td>\n",
              "      <td>Grvl</td>\n",
              "      <td>Reg</td>\n",
              "      <td>Lvl</td>\n",
              "      <td>AllPub</td>\n",
              "      <td>Inside</td>\n",
              "      <td>Gtl</td>\n",
              "      <td>OldTown</td>\n",
              "      <td>Norm</td>\n",
              "      <td>Norm</td>\n",
              "      <td>2fmCon</td>\n",
              "      <td>2.5Unf</td>\n",
              "      <td>6</td>\n",
              "      <td>8</td>\n",
              "      <td>1910</td>\n",
              "      <td>1983</td>\n",
              "      <td>Gable</td>\n",
              "      <td>CompShg</td>\n",
              "      <td>Wd Sdng</td>\n",
              "      <td>Wd Sdng</td>\n",
              "      <td>None</td>\n",
              "      <td>0.0</td>\n",
              "      <td>TA</td>\n",
              "      <td>TA</td>\n",
              "      <td>PConc</td>\n",
              "      <td>TA</td>\n",
              "      <td>TA</td>\n",
              "      <td>Mn</td>\n",
              "      <td>Rec</td>\n",
              "      <td>196.0</td>\n",
              "      <td>Unf</td>\n",
              "      <td>0.0</td>\n",
              "      <td>1046.0</td>\n",
              "      <td>GasA</td>\n",
              "      <td>Gd</td>\n",
              "      <td>Y</td>\n",
              "      <td>SBrkr</td>\n",
              "      <td>1242</td>\n",
              "      <td>742</td>\n",
              "      <td>0</td>\n",
              "      <td>1984</td>\n",
              "      <td>0.0</td>\n",
              "      <td>0.0</td>\n",
              "      <td>2</td>\n",
              "      <td>0</td>\n",
              "      <td>5</td>\n",
              "      <td>1</td>\n",
              "      <td>TA</td>\n",
              "      <td>8</td>\n",
              "      <td>Typ</td>\n",
              "      <td>0</td>\n",
              "      <td>NA</td>\n",
              "      <td>Detchd</td>\n",
              "      <td>0</td>\n",
              "      <td>NaN</td>\n",
              "      <td>1.0</td>\n",
              "      <td>360.0</td>\n",
              "      <td>NaN</td>\n",
              "      <td>NaN</td>\n",
              "      <td>Y</td>\n",
              "      <td>64</td>\n",
              "      <td>0</td>\n",
              "      <td>180</td>\n",
              "      <td>0</td>\n",
              "      <td>0</td>\n",
              "      <td>0</td>\n",
              "      <td>NaN</td>\n",
              "      <td>MnPrv</td>\n",
              "      <td>Shed</td>\n",
              "      <td>1000</td>\n",
              "      <td>9</td>\n",
              "      <td>2008</td>\n",
              "      <td>WD</td>\n",
              "      <td>Normal</td>\n",
              "    </tr>\n",
              "    <tr>\n",
              "      <th>1116</th>\n",
              "      <td>2577</td>\n",
              "      <td>70</td>\n",
              "      <td>RM</td>\n",
              "      <td>50.0</td>\n",
              "      <td>9060</td>\n",
              "      <td>Pave</td>\n",
              "      <td>NA</td>\n",
              "      <td>Reg</td>\n",
              "      <td>Lvl</td>\n",
              "      <td>AllPub</td>\n",
              "      <td>Inside</td>\n",
              "      <td>Gtl</td>\n",
              "      <td>IDOTRR</td>\n",
              "      <td>Norm</td>\n",
              "      <td>Norm</td>\n",
              "      <td>1Fam</td>\n",
              "      <td>2Story</td>\n",
              "      <td>5</td>\n",
              "      <td>6</td>\n",
              "      <td>1923</td>\n",
              "      <td>1999</td>\n",
              "      <td>Gable</td>\n",
              "      <td>CompShg</td>\n",
              "      <td>Wd Sdng</td>\n",
              "      <td>Plywood</td>\n",
              "      <td>None</td>\n",
              "      <td>0.0</td>\n",
              "      <td>TA</td>\n",
              "      <td>TA</td>\n",
              "      <td>BrkTil</td>\n",
              "      <td>Gd</td>\n",
              "      <td>TA</td>\n",
              "      <td>No</td>\n",
              "      <td>ALQ</td>\n",
              "      <td>548.0</td>\n",
              "      <td>Unf</td>\n",
              "      <td>0.0</td>\n",
              "      <td>311.0</td>\n",
              "      <td>GasA</td>\n",
              "      <td>Ex</td>\n",
              "      <td>Y</td>\n",
              "      <td>SBrkr</td>\n",
              "      <td>942</td>\n",
              "      <td>886</td>\n",
              "      <td>0</td>\n",
              "      <td>1828</td>\n",
              "      <td>0.0</td>\n",
              "      <td>0.0</td>\n",
              "      <td>2</td>\n",
              "      <td>0</td>\n",
              "      <td>3</td>\n",
              "      <td>1</td>\n",
              "      <td>Gd</td>\n",
              "      <td>6</td>\n",
              "      <td>Typ</td>\n",
              "      <td>0</td>\n",
              "      <td>NA</td>\n",
              "      <td>Detchd</td>\n",
              "      <td>0</td>\n",
              "      <td>NaN</td>\n",
              "      <td>NaN</td>\n",
              "      <td>NaN</td>\n",
              "      <td>NaN</td>\n",
              "      <td>NaN</td>\n",
              "      <td>Y</td>\n",
              "      <td>174</td>\n",
              "      <td>0</td>\n",
              "      <td>212</td>\n",
              "      <td>0</td>\n",
              "      <td>0</td>\n",
              "      <td>0</td>\n",
              "      <td>NaN</td>\n",
              "      <td>MnPrv</td>\n",
              "      <td>NaN</td>\n",
              "      <td>0</td>\n",
              "      <td>3</td>\n",
              "      <td>2007</td>\n",
              "      <td>WD</td>\n",
              "      <td>Alloca</td>\n",
              "    </tr>\n",
              "  </tbody>\n",
              "</table>\n",
              "</div>"
            ],
            "text/plain": [
              "        Id  MSSubClass MSZoning  ...  YrSold  SaleType SaleCondition\n",
              "666   2127          60       RM  ...    2008        WD        Normal\n",
              "1116  2577          70       RM  ...    2007        WD        Alloca\n",
              "\n",
              "[2 rows x 79 columns]"
            ]
          },
          "metadata": {
            "tags": []
          },
          "execution_count": 565
        }
      ]
    },
    {
      "cell_type": "code",
      "metadata": {
        "id": "qrP1zoty2c5w",
        "colab": {
          "base_uri": "https://localhost:8080/",
          "height": 381
        },
        "outputId": "42625138-7a58-46f7-c85a-160d83e723c9"
      },
      "source": [
        "new_df[new_df.GarageType=='Detchd'][['GarageType','GarageYrBlt','GarageFinish','GarageCars','GarageArea','GarageQual','GarageCond']].describe(include='all')"
      ],
      "execution_count": 566,
      "outputs": [
        {
          "output_type": "execute_result",
          "data": {
            "text/html": [
              "<div>\n",
              "<style scoped>\n",
              "    .dataframe tbody tr th:only-of-type {\n",
              "        vertical-align: middle;\n",
              "    }\n",
              "\n",
              "    .dataframe tbody tr th {\n",
              "        vertical-align: top;\n",
              "    }\n",
              "\n",
              "    .dataframe thead th {\n",
              "        text-align: right;\n",
              "    }\n",
              "</style>\n",
              "<table border=\"1\" class=\"dataframe\">\n",
              "  <thead>\n",
              "    <tr style=\"text-align: right;\">\n",
              "      <th></th>\n",
              "      <th>GarageType</th>\n",
              "      <th>GarageYrBlt</th>\n",
              "      <th>GarageFinish</th>\n",
              "      <th>GarageCars</th>\n",
              "      <th>GarageArea</th>\n",
              "      <th>GarageQual</th>\n",
              "      <th>GarageCond</th>\n",
              "    </tr>\n",
              "  </thead>\n",
              "  <tbody>\n",
              "    <tr>\n",
              "      <th>count</th>\n",
              "      <td>392</td>\n",
              "      <td>392.000000</td>\n",
              "      <td>390</td>\n",
              "      <td>391.000000</td>\n",
              "      <td>391.000000</td>\n",
              "      <td>390</td>\n",
              "      <td>390</td>\n",
              "    </tr>\n",
              "    <tr>\n",
              "      <th>unique</th>\n",
              "      <td>1</td>\n",
              "      <td>NaN</td>\n",
              "      <td>3</td>\n",
              "      <td>NaN</td>\n",
              "      <td>NaN</td>\n",
              "      <td>4</td>\n",
              "      <td>5</td>\n",
              "    </tr>\n",
              "    <tr>\n",
              "      <th>top</th>\n",
              "      <td>Detchd</td>\n",
              "      <td>NaN</td>\n",
              "      <td>Unf</td>\n",
              "      <td>NaN</td>\n",
              "      <td>NaN</td>\n",
              "      <td>TA</td>\n",
              "      <td>TA</td>\n",
              "    </tr>\n",
              "    <tr>\n",
              "      <th>freq</th>\n",
              "      <td>392</td>\n",
              "      <td>NaN</td>\n",
              "      <td>365</td>\n",
              "      <td>NaN</td>\n",
              "      <td>NaN</td>\n",
              "      <td>327</td>\n",
              "      <td>347</td>\n",
              "    </tr>\n",
              "    <tr>\n",
              "      <th>mean</th>\n",
              "      <td>NaN</td>\n",
              "      <td>1949.658163</td>\n",
              "      <td>NaN</td>\n",
              "      <td>1.519182</td>\n",
              "      <td>412.202046</td>\n",
              "      <td>NaN</td>\n",
              "      <td>NaN</td>\n",
              "    </tr>\n",
              "    <tr>\n",
              "      <th>std</th>\n",
              "      <td>NaN</td>\n",
              "      <td>142.393983</td>\n",
              "      <td>NaN</td>\n",
              "      <td>0.562973</td>\n",
              "      <td>174.361098</td>\n",
              "      <td>NaN</td>\n",
              "      <td>NaN</td>\n",
              "    </tr>\n",
              "    <tr>\n",
              "      <th>min</th>\n",
              "      <td>NaN</td>\n",
              "      <td>0.000000</td>\n",
              "      <td>NaN</td>\n",
              "      <td>1.000000</td>\n",
              "      <td>100.000000</td>\n",
              "      <td>NaN</td>\n",
              "      <td>NaN</td>\n",
              "    </tr>\n",
              "    <tr>\n",
              "      <th>25%</th>\n",
              "      <td>NaN</td>\n",
              "      <td>1938.750000</td>\n",
              "      <td>NaN</td>\n",
              "      <td>1.000000</td>\n",
              "      <td>264.000000</td>\n",
              "      <td>NaN</td>\n",
              "      <td>NaN</td>\n",
              "    </tr>\n",
              "    <tr>\n",
              "      <th>50%</th>\n",
              "      <td>NaN</td>\n",
              "      <td>1959.000000</td>\n",
              "      <td>NaN</td>\n",
              "      <td>1.000000</td>\n",
              "      <td>384.000000</td>\n",
              "      <td>NaN</td>\n",
              "      <td>NaN</td>\n",
              "    </tr>\n",
              "    <tr>\n",
              "      <th>75%</th>\n",
              "      <td>NaN</td>\n",
              "      <td>1979.000000</td>\n",
              "      <td>NaN</td>\n",
              "      <td>2.000000</td>\n",
              "      <td>528.000000</td>\n",
              "      <td>NaN</td>\n",
              "      <td>NaN</td>\n",
              "    </tr>\n",
              "    <tr>\n",
              "      <th>max</th>\n",
              "      <td>NaN</td>\n",
              "      <td>2008.000000</td>\n",
              "      <td>NaN</td>\n",
              "      <td>5.000000</td>\n",
              "      <td>1488.000000</td>\n",
              "      <td>NaN</td>\n",
              "      <td>NaN</td>\n",
              "    </tr>\n",
              "  </tbody>\n",
              "</table>\n",
              "</div>"
            ],
            "text/plain": [
              "       GarageType  GarageYrBlt GarageFinish  ...   GarageArea  GarageQual GarageCond\n",
              "count         392   392.000000          390  ...   391.000000         390        390\n",
              "unique          1          NaN            3  ...          NaN           4          5\n",
              "top        Detchd          NaN          Unf  ...          NaN          TA         TA\n",
              "freq          392          NaN          365  ...          NaN         327        347\n",
              "mean          NaN  1949.658163          NaN  ...   412.202046         NaN        NaN\n",
              "std           NaN   142.393983          NaN  ...   174.361098         NaN        NaN\n",
              "min           NaN     0.000000          NaN  ...   100.000000         NaN        NaN\n",
              "25%           NaN  1938.750000          NaN  ...   264.000000         NaN        NaN\n",
              "50%           NaN  1959.000000          NaN  ...   384.000000         NaN        NaN\n",
              "75%           NaN  1979.000000          NaN  ...   528.000000         NaN        NaN\n",
              "max           NaN  2008.000000          NaN  ...  1488.000000         NaN        NaN\n",
              "\n",
              "[11 rows x 7 columns]"
            ]
          },
          "metadata": {
            "tags": []
          },
          "execution_count": 566
        }
      ]
    },
    {
      "cell_type": "code",
      "metadata": {
        "id": "T86eCeiK3tTX"
      },
      "source": [
        "new_df.fillna({'GarageCars':1, 'GarageArea':384, 'GarageQual':'TA', 'GarageCond':'TA'}, inplace=True)"
      ],
      "execution_count": 567,
      "outputs": []
    },
    {
      "cell_type": "code",
      "metadata": {
        "id": "iPWN3maR5GCY",
        "colab": {
          "base_uri": "https://localhost:8080/",
          "height": 108
        },
        "outputId": "988a1bae-7025-4bf1-b7e5-a5e32196fa8c"
      },
      "source": [
        "new_df[new_df.GarageFinish.isnull()][['GarageType','GarageYrBlt','GarageFinish','GarageCars','GarageArea','GarageQual','GarageCond']]"
      ],
      "execution_count": 568,
      "outputs": [
        {
          "output_type": "execute_result",
          "data": {
            "text/html": [
              "<div>\n",
              "<style scoped>\n",
              "    .dataframe tbody tr th:only-of-type {\n",
              "        vertical-align: middle;\n",
              "    }\n",
              "\n",
              "    .dataframe tbody tr th {\n",
              "        vertical-align: top;\n",
              "    }\n",
              "\n",
              "    .dataframe thead th {\n",
              "        text-align: right;\n",
              "    }\n",
              "</style>\n",
              "<table border=\"1\" class=\"dataframe\">\n",
              "  <thead>\n",
              "    <tr style=\"text-align: right;\">\n",
              "      <th></th>\n",
              "      <th>GarageType</th>\n",
              "      <th>GarageYrBlt</th>\n",
              "      <th>GarageFinish</th>\n",
              "      <th>GarageCars</th>\n",
              "      <th>GarageArea</th>\n",
              "      <th>GarageQual</th>\n",
              "      <th>GarageCond</th>\n",
              "    </tr>\n",
              "  </thead>\n",
              "  <tbody>\n",
              "    <tr>\n",
              "      <th>666</th>\n",
              "      <td>Detchd</td>\n",
              "      <td>0</td>\n",
              "      <td>NaN</td>\n",
              "      <td>1.0</td>\n",
              "      <td>360.0</td>\n",
              "      <td>TA</td>\n",
              "      <td>TA</td>\n",
              "    </tr>\n",
              "    <tr>\n",
              "      <th>1116</th>\n",
              "      <td>Detchd</td>\n",
              "      <td>0</td>\n",
              "      <td>NaN</td>\n",
              "      <td>1.0</td>\n",
              "      <td>384.0</td>\n",
              "      <td>TA</td>\n",
              "      <td>TA</td>\n",
              "    </tr>\n",
              "  </tbody>\n",
              "</table>\n",
              "</div>"
            ],
            "text/plain": [
              "     GarageType  GarageYrBlt GarageFinish  ...  GarageArea  GarageQual GarageCond\n",
              "666      Detchd            0          NaN  ...       360.0          TA         TA\n",
              "1116     Detchd            0          NaN  ...       384.0          TA         TA\n",
              "\n",
              "[2 rows x 7 columns]"
            ]
          },
          "metadata": {
            "tags": []
          },
          "execution_count": 568
        }
      ]
    },
    {
      "cell_type": "code",
      "metadata": {
        "id": "dbtZyXKF5qLr"
      },
      "source": [
        "new_df.fillna({'GarageFinish':'Unf'}, inplace=True)"
      ],
      "execution_count": 569,
      "outputs": []
    },
    {
      "cell_type": "markdown",
      "metadata": {
        "id": "bizigXJ86uvp"
      },
      "source": [
        "__Last set of Missing value Imputation__"
      ]
    },
    {
      "cell_type": "code",
      "metadata": {
        "id": "DHNZXWZl6qnv",
        "colab": {
          "base_uri": "https://localhost:8080/"
        },
        "outputId": "651869b5-cee6-4024-f4e7-c3392705dbba"
      },
      "source": [
        "new_df.PoolQC.value_counts()"
      ],
      "execution_count": 570,
      "outputs": [
        {
          "output_type": "execute_result",
          "data": {
            "text/plain": [
              "Ex    2\n",
              "Gd    1\n",
              "Name: PoolQC, dtype: int64"
            ]
          },
          "metadata": {
            "tags": []
          },
          "execution_count": 570
        }
      ]
    },
    {
      "cell_type": "code",
      "metadata": {
        "id": "mb30oESm606s",
        "colab": {
          "base_uri": "https://localhost:8080/",
          "height": 68
        },
        "outputId": "95f6b165-97a1-4dfb-9804-5ccd5764e0d5"
      },
      "source": [
        "new_df[(new_df.PoolQC.notnull()) & (new_df.PoolArea==0)]"
      ],
      "execution_count": 571,
      "outputs": [
        {
          "output_type": "execute_result",
          "data": {
            "text/html": [
              "<div>\n",
              "<style scoped>\n",
              "    .dataframe tbody tr th:only-of-type {\n",
              "        vertical-align: middle;\n",
              "    }\n",
              "\n",
              "    .dataframe tbody tr th {\n",
              "        vertical-align: top;\n",
              "    }\n",
              "\n",
              "    .dataframe thead th {\n",
              "        text-align: right;\n",
              "    }\n",
              "</style>\n",
              "<table border=\"1\" class=\"dataframe\">\n",
              "  <thead>\n",
              "    <tr style=\"text-align: right;\">\n",
              "      <th></th>\n",
              "      <th>Id</th>\n",
              "      <th>MSSubClass</th>\n",
              "      <th>MSZoning</th>\n",
              "      <th>LotFrontage</th>\n",
              "      <th>LotArea</th>\n",
              "      <th>Street</th>\n",
              "      <th>Alley</th>\n",
              "      <th>LotShape</th>\n",
              "      <th>LandContour</th>\n",
              "      <th>Utilities</th>\n",
              "      <th>LotConfig</th>\n",
              "      <th>LandSlope</th>\n",
              "      <th>Neighborhood</th>\n",
              "      <th>Condition1</th>\n",
              "      <th>Condition2</th>\n",
              "      <th>BldgType</th>\n",
              "      <th>HouseStyle</th>\n",
              "      <th>OverallQual</th>\n",
              "      <th>OverallCond</th>\n",
              "      <th>YearBuilt</th>\n",
              "      <th>YearRemodAdd</th>\n",
              "      <th>RoofStyle</th>\n",
              "      <th>RoofMatl</th>\n",
              "      <th>Exterior1st</th>\n",
              "      <th>Exterior2nd</th>\n",
              "      <th>MasVnrType</th>\n",
              "      <th>MasVnrArea</th>\n",
              "      <th>ExterQual</th>\n",
              "      <th>ExterCond</th>\n",
              "      <th>Foundation</th>\n",
              "      <th>BsmtQual</th>\n",
              "      <th>BsmtCond</th>\n",
              "      <th>BsmtExposure</th>\n",
              "      <th>BsmtFinType1</th>\n",
              "      <th>BsmtFinSF1</th>\n",
              "      <th>BsmtFinType2</th>\n",
              "      <th>BsmtFinSF2</th>\n",
              "      <th>BsmtUnfSF</th>\n",
              "      <th>Heating</th>\n",
              "      <th>HeatingQC</th>\n",
              "      <th>CentralAir</th>\n",
              "      <th>Electrical</th>\n",
              "      <th>1stFlrSF</th>\n",
              "      <th>2ndFlrSF</th>\n",
              "      <th>LowQualFinSF</th>\n",
              "      <th>GrLivArea</th>\n",
              "      <th>BsmtFullBath</th>\n",
              "      <th>BsmtHalfBath</th>\n",
              "      <th>FullBath</th>\n",
              "      <th>HalfBath</th>\n",
              "      <th>BedroomAbvGr</th>\n",
              "      <th>KitchenAbvGr</th>\n",
              "      <th>KitchenQual</th>\n",
              "      <th>TotRmsAbvGrd</th>\n",
              "      <th>Functional</th>\n",
              "      <th>Fireplaces</th>\n",
              "      <th>FireplaceQu</th>\n",
              "      <th>GarageType</th>\n",
              "      <th>GarageYrBlt</th>\n",
              "      <th>GarageFinish</th>\n",
              "      <th>GarageCars</th>\n",
              "      <th>GarageArea</th>\n",
              "      <th>GarageQual</th>\n",
              "      <th>GarageCond</th>\n",
              "      <th>PavedDrive</th>\n",
              "      <th>WoodDeckSF</th>\n",
              "      <th>OpenPorchSF</th>\n",
              "      <th>EnclosedPorch</th>\n",
              "      <th>3SsnPorch</th>\n",
              "      <th>ScreenPorch</th>\n",
              "      <th>PoolArea</th>\n",
              "      <th>PoolQC</th>\n",
              "      <th>Fence</th>\n",
              "      <th>MiscFeature</th>\n",
              "      <th>MiscVal</th>\n",
              "      <th>MoSold</th>\n",
              "      <th>YrSold</th>\n",
              "      <th>SaleType</th>\n",
              "      <th>SaleCondition</th>\n",
              "    </tr>\n",
              "  </thead>\n",
              "  <tbody>\n",
              "  </tbody>\n",
              "</table>\n",
              "</div>"
            ],
            "text/plain": [
              "Empty DataFrame\n",
              "Columns: [Id, MSSubClass, MSZoning, LotFrontage, LotArea, Street, Alley, LotShape, LandContour, Utilities, LotConfig, LandSlope, Neighborhood, Condition1, Condition2, BldgType, HouseStyle, OverallQual, OverallCond, YearBuilt, YearRemodAdd, RoofStyle, RoofMatl, Exterior1st, Exterior2nd, MasVnrType, MasVnrArea, ExterQual, ExterCond, Foundation, BsmtQual, BsmtCond, BsmtExposure, BsmtFinType1, BsmtFinSF1, BsmtFinType2, BsmtFinSF2, BsmtUnfSF, Heating, HeatingQC, CentralAir, Electrical, 1stFlrSF, 2ndFlrSF, LowQualFinSF, GrLivArea, BsmtFullBath, BsmtHalfBath, FullBath, HalfBath, BedroomAbvGr, KitchenAbvGr, KitchenQual, TotRmsAbvGrd, Functional, Fireplaces, FireplaceQu, GarageType, GarageYrBlt, GarageFinish, GarageCars, GarageArea, GarageQual, GarageCond, PavedDrive, WoodDeckSF, OpenPorchSF, EnclosedPorch, 3SsnPorch, ScreenPorch, PoolArea, PoolQC, Fence, MiscFeature, MiscVal, MoSold, YrSold, SaleType, SaleCondition]\n",
              "Index: []"
            ]
          },
          "metadata": {
            "tags": []
          },
          "execution_count": 571
        }
      ]
    },
    {
      "cell_type": "code",
      "metadata": {
        "id": "YTm79-9g602P",
        "colab": {
          "base_uri": "https://localhost:8080/"
        },
        "outputId": "53776ec5-4c43-40d3-ca33-8a71a778208f"
      },
      "source": [
        "new_df[(new_df.PoolQC.isnull()) & (new_df.PoolArea==0)]['PoolArea'].count()"
      ],
      "execution_count": 572,
      "outputs": [
        {
          "output_type": "execute_result",
          "data": {
            "text/plain": [
              "1453"
            ]
          },
          "metadata": {
            "tags": []
          },
          "execution_count": 572
        }
      ]
    },
    {
      "cell_type": "code",
      "metadata": {
        "id": "HI58n2Rj7bnD",
        "colab": {
          "base_uri": "https://localhost:8080/",
          "height": 158
        },
        "outputId": "8f5244fb-54e9-4c16-d78d-79b542d6dd16"
      },
      "source": [
        "new_df[(new_df.PoolQC.isnull()) & (new_df.PoolArea!=0)][new_df.columns]"
      ],
      "execution_count": 573,
      "outputs": [
        {
          "output_type": "execute_result",
          "data": {
            "text/html": [
              "<div>\n",
              "<style scoped>\n",
              "    .dataframe tbody tr th:only-of-type {\n",
              "        vertical-align: middle;\n",
              "    }\n",
              "\n",
              "    .dataframe tbody tr th {\n",
              "        vertical-align: top;\n",
              "    }\n",
              "\n",
              "    .dataframe thead th {\n",
              "        text-align: right;\n",
              "    }\n",
              "</style>\n",
              "<table border=\"1\" class=\"dataframe\">\n",
              "  <thead>\n",
              "    <tr style=\"text-align: right;\">\n",
              "      <th></th>\n",
              "      <th>Id</th>\n",
              "      <th>MSSubClass</th>\n",
              "      <th>MSZoning</th>\n",
              "      <th>LotFrontage</th>\n",
              "      <th>LotArea</th>\n",
              "      <th>Street</th>\n",
              "      <th>Alley</th>\n",
              "      <th>LotShape</th>\n",
              "      <th>LandContour</th>\n",
              "      <th>Utilities</th>\n",
              "      <th>LotConfig</th>\n",
              "      <th>LandSlope</th>\n",
              "      <th>Neighborhood</th>\n",
              "      <th>Condition1</th>\n",
              "      <th>Condition2</th>\n",
              "      <th>BldgType</th>\n",
              "      <th>HouseStyle</th>\n",
              "      <th>OverallQual</th>\n",
              "      <th>OverallCond</th>\n",
              "      <th>YearBuilt</th>\n",
              "      <th>YearRemodAdd</th>\n",
              "      <th>RoofStyle</th>\n",
              "      <th>RoofMatl</th>\n",
              "      <th>Exterior1st</th>\n",
              "      <th>Exterior2nd</th>\n",
              "      <th>MasVnrType</th>\n",
              "      <th>MasVnrArea</th>\n",
              "      <th>ExterQual</th>\n",
              "      <th>ExterCond</th>\n",
              "      <th>Foundation</th>\n",
              "      <th>BsmtQual</th>\n",
              "      <th>BsmtCond</th>\n",
              "      <th>BsmtExposure</th>\n",
              "      <th>BsmtFinType1</th>\n",
              "      <th>BsmtFinSF1</th>\n",
              "      <th>BsmtFinType2</th>\n",
              "      <th>BsmtFinSF2</th>\n",
              "      <th>BsmtUnfSF</th>\n",
              "      <th>Heating</th>\n",
              "      <th>HeatingQC</th>\n",
              "      <th>CentralAir</th>\n",
              "      <th>Electrical</th>\n",
              "      <th>1stFlrSF</th>\n",
              "      <th>2ndFlrSF</th>\n",
              "      <th>LowQualFinSF</th>\n",
              "      <th>GrLivArea</th>\n",
              "      <th>BsmtFullBath</th>\n",
              "      <th>BsmtHalfBath</th>\n",
              "      <th>FullBath</th>\n",
              "      <th>HalfBath</th>\n",
              "      <th>BedroomAbvGr</th>\n",
              "      <th>KitchenAbvGr</th>\n",
              "      <th>KitchenQual</th>\n",
              "      <th>TotRmsAbvGrd</th>\n",
              "      <th>Functional</th>\n",
              "      <th>Fireplaces</th>\n",
              "      <th>FireplaceQu</th>\n",
              "      <th>GarageType</th>\n",
              "      <th>GarageYrBlt</th>\n",
              "      <th>GarageFinish</th>\n",
              "      <th>GarageCars</th>\n",
              "      <th>GarageArea</th>\n",
              "      <th>GarageQual</th>\n",
              "      <th>GarageCond</th>\n",
              "      <th>PavedDrive</th>\n",
              "      <th>WoodDeckSF</th>\n",
              "      <th>OpenPorchSF</th>\n",
              "      <th>EnclosedPorch</th>\n",
              "      <th>3SsnPorch</th>\n",
              "      <th>ScreenPorch</th>\n",
              "      <th>PoolArea</th>\n",
              "      <th>PoolQC</th>\n",
              "      <th>Fence</th>\n",
              "      <th>MiscFeature</th>\n",
              "      <th>MiscVal</th>\n",
              "      <th>MoSold</th>\n",
              "      <th>YrSold</th>\n",
              "      <th>SaleType</th>\n",
              "      <th>SaleCondition</th>\n",
              "    </tr>\n",
              "  </thead>\n",
              "  <tbody>\n",
              "    <tr>\n",
              "      <th>960</th>\n",
              "      <td>2421</td>\n",
              "      <td>20</td>\n",
              "      <td>RL</td>\n",
              "      <td>75.0</td>\n",
              "      <td>9532</td>\n",
              "      <td>Pave</td>\n",
              "      <td>NA</td>\n",
              "      <td>Reg</td>\n",
              "      <td>Lvl</td>\n",
              "      <td>AllPub</td>\n",
              "      <td>Inside</td>\n",
              "      <td>Gtl</td>\n",
              "      <td>NAmes</td>\n",
              "      <td>Norm</td>\n",
              "      <td>Norm</td>\n",
              "      <td>1Fam</td>\n",
              "      <td>1Story</td>\n",
              "      <td>4</td>\n",
              "      <td>6</td>\n",
              "      <td>1953</td>\n",
              "      <td>1953</td>\n",
              "      <td>Gable</td>\n",
              "      <td>CompShg</td>\n",
              "      <td>VinylSd</td>\n",
              "      <td>VinylSd</td>\n",
              "      <td>None</td>\n",
              "      <td>0.0</td>\n",
              "      <td>TA</td>\n",
              "      <td>TA</td>\n",
              "      <td>CBlock</td>\n",
              "      <td>TA</td>\n",
              "      <td>TA</td>\n",
              "      <td>No</td>\n",
              "      <td>BLQ</td>\n",
              "      <td>595.0</td>\n",
              "      <td>Rec</td>\n",
              "      <td>354.0</td>\n",
              "      <td>156.0</td>\n",
              "      <td>GasA</td>\n",
              "      <td>Gd</td>\n",
              "      <td>Y</td>\n",
              "      <td>SBrkr</td>\n",
              "      <td>1647</td>\n",
              "      <td>0</td>\n",
              "      <td>0</td>\n",
              "      <td>1647</td>\n",
              "      <td>1.0</td>\n",
              "      <td>0.0</td>\n",
              "      <td>1</td>\n",
              "      <td>0</td>\n",
              "      <td>3</td>\n",
              "      <td>1</td>\n",
              "      <td>TA</td>\n",
              "      <td>6</td>\n",
              "      <td>Min1</td>\n",
              "      <td>1</td>\n",
              "      <td>Fa</td>\n",
              "      <td>Attchd</td>\n",
              "      <td>1953</td>\n",
              "      <td>Fin</td>\n",
              "      <td>1.0</td>\n",
              "      <td>280.0</td>\n",
              "      <td>TA</td>\n",
              "      <td>TA</td>\n",
              "      <td>Y</td>\n",
              "      <td>225</td>\n",
              "      <td>0</td>\n",
              "      <td>0</td>\n",
              "      <td>0</td>\n",
              "      <td>0</td>\n",
              "      <td>368</td>\n",
              "      <td>NaN</td>\n",
              "      <td>GdPrv</td>\n",
              "      <td>NaN</td>\n",
              "      <td>0</td>\n",
              "      <td>2</td>\n",
              "      <td>2007</td>\n",
              "      <td>WD</td>\n",
              "      <td>Normal</td>\n",
              "    </tr>\n",
              "    <tr>\n",
              "      <th>1043</th>\n",
              "      <td>2504</td>\n",
              "      <td>50</td>\n",
              "      <td>RL</td>\n",
              "      <td>104.0</td>\n",
              "      <td>23920</td>\n",
              "      <td>Pave</td>\n",
              "      <td>NA</td>\n",
              "      <td>Reg</td>\n",
              "      <td>Lvl</td>\n",
              "      <td>AllPub</td>\n",
              "      <td>Inside</td>\n",
              "      <td>Gtl</td>\n",
              "      <td>SawyerW</td>\n",
              "      <td>Feedr</td>\n",
              "      <td>Norm</td>\n",
              "      <td>1Fam</td>\n",
              "      <td>1.5Fin</td>\n",
              "      <td>6</td>\n",
              "      <td>5</td>\n",
              "      <td>1984</td>\n",
              "      <td>1984</td>\n",
              "      <td>Gable</td>\n",
              "      <td>CompShg</td>\n",
              "      <td>Wd Sdng</td>\n",
              "      <td>Wd Sdng</td>\n",
              "      <td>None</td>\n",
              "      <td>0.0</td>\n",
              "      <td>TA</td>\n",
              "      <td>TA</td>\n",
              "      <td>CBlock</td>\n",
              "      <td>TA</td>\n",
              "      <td>TA</td>\n",
              "      <td>No</td>\n",
              "      <td>Unf</td>\n",
              "      <td>0.0</td>\n",
              "      <td>Unf</td>\n",
              "      <td>0.0</td>\n",
              "      <td>1105.0</td>\n",
              "      <td>GasA</td>\n",
              "      <td>Ex</td>\n",
              "      <td>Y</td>\n",
              "      <td>SBrkr</td>\n",
              "      <td>1105</td>\n",
              "      <td>717</td>\n",
              "      <td>0</td>\n",
              "      <td>1822</td>\n",
              "      <td>0.0</td>\n",
              "      <td>0.0</td>\n",
              "      <td>2</td>\n",
              "      <td>0</td>\n",
              "      <td>4</td>\n",
              "      <td>1</td>\n",
              "      <td>Gd</td>\n",
              "      <td>7</td>\n",
              "      <td>Min2</td>\n",
              "      <td>1</td>\n",
              "      <td>Po</td>\n",
              "      <td>Attchd</td>\n",
              "      <td>1984</td>\n",
              "      <td>Unf</td>\n",
              "      <td>2.0</td>\n",
              "      <td>515.0</td>\n",
              "      <td>TA</td>\n",
              "      <td>TA</td>\n",
              "      <td>P</td>\n",
              "      <td>0</td>\n",
              "      <td>195</td>\n",
              "      <td>1012</td>\n",
              "      <td>0</td>\n",
              "      <td>0</td>\n",
              "      <td>444</td>\n",
              "      <td>NaN</td>\n",
              "      <td>NaN</td>\n",
              "      <td>NaN</td>\n",
              "      <td>0</td>\n",
              "      <td>4</td>\n",
              "      <td>2007</td>\n",
              "      <td>WD</td>\n",
              "      <td>Normal</td>\n",
              "    </tr>\n",
              "    <tr>\n",
              "      <th>1139</th>\n",
              "      <td>2600</td>\n",
              "      <td>20</td>\n",
              "      <td>RL</td>\n",
              "      <td>200.0</td>\n",
              "      <td>43500</td>\n",
              "      <td>Pave</td>\n",
              "      <td>NA</td>\n",
              "      <td>Reg</td>\n",
              "      <td>Lvl</td>\n",
              "      <td>AllPub</td>\n",
              "      <td>Inside</td>\n",
              "      <td>Gtl</td>\n",
              "      <td>Mitchel</td>\n",
              "      <td>Artery</td>\n",
              "      <td>Norm</td>\n",
              "      <td>1Fam</td>\n",
              "      <td>1Story</td>\n",
              "      <td>3</td>\n",
              "      <td>5</td>\n",
              "      <td>1953</td>\n",
              "      <td>1953</td>\n",
              "      <td>Gable</td>\n",
              "      <td>CompShg</td>\n",
              "      <td>MetalSd</td>\n",
              "      <td>MetalSd</td>\n",
              "      <td>None</td>\n",
              "      <td>0.0</td>\n",
              "      <td>TA</td>\n",
              "      <td>TA</td>\n",
              "      <td>CBlock</td>\n",
              "      <td>NA</td>\n",
              "      <td>NA</td>\n",
              "      <td>NA</td>\n",
              "      <td>NA</td>\n",
              "      <td>0.0</td>\n",
              "      <td>NA</td>\n",
              "      <td>0.0</td>\n",
              "      <td>0.0</td>\n",
              "      <td>GasA</td>\n",
              "      <td>Ex</td>\n",
              "      <td>Y</td>\n",
              "      <td>SBrkr</td>\n",
              "      <td>2034</td>\n",
              "      <td>0</td>\n",
              "      <td>0</td>\n",
              "      <td>2034</td>\n",
              "      <td>0.0</td>\n",
              "      <td>0.0</td>\n",
              "      <td>1</td>\n",
              "      <td>0</td>\n",
              "      <td>2</td>\n",
              "      <td>1</td>\n",
              "      <td>TA</td>\n",
              "      <td>9</td>\n",
              "      <td>Min1</td>\n",
              "      <td>0</td>\n",
              "      <td>NA</td>\n",
              "      <td>2Types</td>\n",
              "      <td>1953</td>\n",
              "      <td>RFn</td>\n",
              "      <td>4.0</td>\n",
              "      <td>1041.0</td>\n",
              "      <td>TA</td>\n",
              "      <td>TA</td>\n",
              "      <td>N</td>\n",
              "      <td>483</td>\n",
              "      <td>266</td>\n",
              "      <td>0</td>\n",
              "      <td>0</td>\n",
              "      <td>0</td>\n",
              "      <td>561</td>\n",
              "      <td>NaN</td>\n",
              "      <td>GdPrv</td>\n",
              "      <td>NaN</td>\n",
              "      <td>0</td>\n",
              "      <td>6</td>\n",
              "      <td>2007</td>\n",
              "      <td>WD</td>\n",
              "      <td>Normal</td>\n",
              "    </tr>\n",
              "  </tbody>\n",
              "</table>\n",
              "</div>"
            ],
            "text/plain": [
              "        Id  MSSubClass MSZoning  ...  YrSold  SaleType SaleCondition\n",
              "960   2421          20       RL  ...    2007        WD        Normal\n",
              "1043  2504          50       RL  ...    2007        WD        Normal\n",
              "1139  2600          20       RL  ...    2007        WD        Normal\n",
              "\n",
              "[3 rows x 79 columns]"
            ]
          },
          "metadata": {
            "tags": []
          },
          "execution_count": 573
        }
      ]
    },
    {
      "cell_type": "code",
      "metadata": {
        "id": "bEKu7DzuYDcc",
        "colab": {
          "base_uri": "https://localhost:8080/"
        },
        "outputId": "cef41852-8c7c-42e7-f5e6-6ca1f2e34931"
      },
      "source": [
        "print(\"Percentage of not null records of PoolQC : \",(new_df.PoolQC.notnull().sum()*100/len(new_df.PoolQC)))"
      ],
      "execution_count": 574,
      "outputs": [
        {
          "output_type": "stream",
          "text": [
            "Percentage of not null records of PoolQC :  0.20562028786840303\n"
          ],
          "name": "stdout"
        }
      ]
    },
    {
      "cell_type": "markdown",
      "metadata": {
        "id": "_WSzBb6P69IH"
      },
      "source": [
        "Column _PoolQC_ has valid value for only 3 rows.</br> For 1453 rows from the remaining, the column _PoolArea_ has 0 value.</br> This means that these houses do not have swimming pools.</br> The final 3 rows which have _PoolArea_ not 0, have _PoolQC_ as null.</br>\n",
        "The percentage of not null records of PoolQC shows that the number of valid values present is insignificant for any learning.</br>\n",
        "Hence instead of imputation column _PoolQC_ and subsequently _PoolArea_ are dropped."
      ]
    },
    {
      "cell_type": "code",
      "metadata": {
        "id": "o_Z5-MF2XuuB"
      },
      "source": [
        "new_df.drop(['PoolQC','PoolArea'], axis=1, inplace=True)"
      ],
      "execution_count": 575,
      "outputs": []
    },
    {
      "cell_type": "code",
      "metadata": {
        "id": "AKaB_3apwbOk",
        "colab": {
          "base_uri": "https://localhost:8080/"
        },
        "outputId": "11f71114-2178-422c-be7c-985b303cec6c"
      },
      "source": [
        "new_df.Fence.value_counts()"
      ],
      "execution_count": 576,
      "outputs": [
        {
          "output_type": "execute_result",
          "data": {
            "text/plain": [
              "MnPrv    172\n",
              "GdPrv     59\n",
              "GdWo      58\n",
              "MnWw       1\n",
              "Name: Fence, dtype: int64"
            ]
          },
          "metadata": {
            "tags": []
          },
          "execution_count": 576
        }
      ]
    },
    {
      "cell_type": "code",
      "metadata": {
        "id": "hMngflIYwed9",
        "colab": {
          "base_uri": "https://localhost:8080/"
        },
        "outputId": "98bd3321-5798-4685-81e1-1723fa66a909"
      },
      "source": [
        "new_df.Fence.isnull().sum()"
      ],
      "execution_count": 577,
      "outputs": [
        {
          "output_type": "execute_result",
          "data": {
            "text/plain": [
              "1169"
            ]
          },
          "metadata": {
            "tags": []
          },
          "execution_count": 577
        }
      ]
    },
    {
      "cell_type": "markdown",
      "metadata": {
        "id": "MdNWNZDUwkDC"
      },
      "source": [
        "Column _Fence_ has majority (1169) rows as null. This sounds logical because houses having fence are not that common. The data description also mentions a category 'NA' for such cases. Hence we will impute the column with 'NA'."
      ]
    },
    {
      "cell_type": "code",
      "metadata": {
        "id": "RBkixjkgwiDo"
      },
      "source": [
        "new_df.fillna({'Fence':'NA'}, inplace=True)"
      ],
      "execution_count": 578,
      "outputs": []
    },
    {
      "cell_type": "code",
      "metadata": {
        "id": "hB7eYjw6wvzT",
        "colab": {
          "base_uri": "https://localhost:8080/"
        },
        "outputId": "212afdd7-09cf-4e4f-f74d-113e1e5f0376"
      },
      "source": [
        "new_df.MiscFeature.value_counts()"
      ],
      "execution_count": 579,
      "outputs": [
        {
          "output_type": "execute_result",
          "data": {
            "text/plain": [
              "Shed    46\n",
              "Gar2     3\n",
              "Othr     2\n",
              "Name: MiscFeature, dtype: int64"
            ]
          },
          "metadata": {
            "tags": []
          },
          "execution_count": 579
        }
      ]
    },
    {
      "cell_type": "code",
      "metadata": {
        "id": "Bwoe51wVwy5v",
        "colab": {
          "base_uri": "https://localhost:8080/",
          "height": 98
        },
        "outputId": "abcd9b39-43fc-484b-89f2-c53a2079a3f5"
      },
      "source": [
        "new_df[(new_df.MiscFeature.notnull()) & (new_df.MiscVal==0)]"
      ],
      "execution_count": 580,
      "outputs": [
        {
          "output_type": "execute_result",
          "data": {
            "text/html": [
              "<div>\n",
              "<style scoped>\n",
              "    .dataframe tbody tr th:only-of-type {\n",
              "        vertical-align: middle;\n",
              "    }\n",
              "\n",
              "    .dataframe tbody tr th {\n",
              "        vertical-align: top;\n",
              "    }\n",
              "\n",
              "    .dataframe thead th {\n",
              "        text-align: right;\n",
              "    }\n",
              "</style>\n",
              "<table border=\"1\" class=\"dataframe\">\n",
              "  <thead>\n",
              "    <tr style=\"text-align: right;\">\n",
              "      <th></th>\n",
              "      <th>Id</th>\n",
              "      <th>MSSubClass</th>\n",
              "      <th>MSZoning</th>\n",
              "      <th>LotFrontage</th>\n",
              "      <th>LotArea</th>\n",
              "      <th>Street</th>\n",
              "      <th>Alley</th>\n",
              "      <th>LotShape</th>\n",
              "      <th>LandContour</th>\n",
              "      <th>Utilities</th>\n",
              "      <th>LotConfig</th>\n",
              "      <th>LandSlope</th>\n",
              "      <th>Neighborhood</th>\n",
              "      <th>Condition1</th>\n",
              "      <th>Condition2</th>\n",
              "      <th>BldgType</th>\n",
              "      <th>HouseStyle</th>\n",
              "      <th>OverallQual</th>\n",
              "      <th>OverallCond</th>\n",
              "      <th>YearBuilt</th>\n",
              "      <th>YearRemodAdd</th>\n",
              "      <th>RoofStyle</th>\n",
              "      <th>RoofMatl</th>\n",
              "      <th>Exterior1st</th>\n",
              "      <th>Exterior2nd</th>\n",
              "      <th>MasVnrType</th>\n",
              "      <th>MasVnrArea</th>\n",
              "      <th>ExterQual</th>\n",
              "      <th>ExterCond</th>\n",
              "      <th>Foundation</th>\n",
              "      <th>BsmtQual</th>\n",
              "      <th>BsmtCond</th>\n",
              "      <th>BsmtExposure</th>\n",
              "      <th>BsmtFinType1</th>\n",
              "      <th>BsmtFinSF1</th>\n",
              "      <th>BsmtFinType2</th>\n",
              "      <th>BsmtFinSF2</th>\n",
              "      <th>BsmtUnfSF</th>\n",
              "      <th>Heating</th>\n",
              "      <th>HeatingQC</th>\n",
              "      <th>CentralAir</th>\n",
              "      <th>Electrical</th>\n",
              "      <th>1stFlrSF</th>\n",
              "      <th>2ndFlrSF</th>\n",
              "      <th>LowQualFinSF</th>\n",
              "      <th>GrLivArea</th>\n",
              "      <th>BsmtFullBath</th>\n",
              "      <th>BsmtHalfBath</th>\n",
              "      <th>FullBath</th>\n",
              "      <th>HalfBath</th>\n",
              "      <th>BedroomAbvGr</th>\n",
              "      <th>KitchenAbvGr</th>\n",
              "      <th>KitchenQual</th>\n",
              "      <th>TotRmsAbvGrd</th>\n",
              "      <th>Functional</th>\n",
              "      <th>Fireplaces</th>\n",
              "      <th>FireplaceQu</th>\n",
              "      <th>GarageType</th>\n",
              "      <th>GarageYrBlt</th>\n",
              "      <th>GarageFinish</th>\n",
              "      <th>GarageCars</th>\n",
              "      <th>GarageArea</th>\n",
              "      <th>GarageQual</th>\n",
              "      <th>GarageCond</th>\n",
              "      <th>PavedDrive</th>\n",
              "      <th>WoodDeckSF</th>\n",
              "      <th>OpenPorchSF</th>\n",
              "      <th>EnclosedPorch</th>\n",
              "      <th>3SsnPorch</th>\n",
              "      <th>ScreenPorch</th>\n",
              "      <th>Fence</th>\n",
              "      <th>MiscFeature</th>\n",
              "      <th>MiscVal</th>\n",
              "      <th>MoSold</th>\n",
              "      <th>YrSold</th>\n",
              "      <th>SaleType</th>\n",
              "      <th>SaleCondition</th>\n",
              "    </tr>\n",
              "  </thead>\n",
              "  <tbody>\n",
              "    <tr>\n",
              "      <th>971</th>\n",
              "      <td>2432</td>\n",
              "      <td>20</td>\n",
              "      <td>RL</td>\n",
              "      <td>74.0</td>\n",
              "      <td>7500</td>\n",
              "      <td>Pave</td>\n",
              "      <td>NA</td>\n",
              "      <td>Reg</td>\n",
              "      <td>Lvl</td>\n",
              "      <td>AllPub</td>\n",
              "      <td>Inside</td>\n",
              "      <td>Gtl</td>\n",
              "      <td>NAmes</td>\n",
              "      <td>Norm</td>\n",
              "      <td>Norm</td>\n",
              "      <td>1Fam</td>\n",
              "      <td>1Story</td>\n",
              "      <td>5</td>\n",
              "      <td>7</td>\n",
              "      <td>1959</td>\n",
              "      <td>2003</td>\n",
              "      <td>Hip</td>\n",
              "      <td>CompShg</td>\n",
              "      <td>BrkFace</td>\n",
              "      <td>BrkFace</td>\n",
              "      <td>None</td>\n",
              "      <td>0.0</td>\n",
              "      <td>TA</td>\n",
              "      <td>TA</td>\n",
              "      <td>CBlock</td>\n",
              "      <td>TA</td>\n",
              "      <td>TA</td>\n",
              "      <td>No</td>\n",
              "      <td>GLQ</td>\n",
              "      <td>574.0</td>\n",
              "      <td>Unf</td>\n",
              "      <td>0.0</td>\n",
              "      <td>466.0</td>\n",
              "      <td>GasA</td>\n",
              "      <td>Ex</td>\n",
              "      <td>Y</td>\n",
              "      <td>SBrkr</td>\n",
              "      <td>1040</td>\n",
              "      <td>0</td>\n",
              "      <td>0</td>\n",
              "      <td>1040</td>\n",
              "      <td>1.0</td>\n",
              "      <td>0.0</td>\n",
              "      <td>1</td>\n",
              "      <td>0</td>\n",
              "      <td>3</td>\n",
              "      <td>1</td>\n",
              "      <td>Gd</td>\n",
              "      <td>6</td>\n",
              "      <td>Typ</td>\n",
              "      <td>0</td>\n",
              "      <td>NA</td>\n",
              "      <td>Attchd</td>\n",
              "      <td>1959</td>\n",
              "      <td>RFn</td>\n",
              "      <td>1.0</td>\n",
              "      <td>286.0</td>\n",
              "      <td>TA</td>\n",
              "      <td>TA</td>\n",
              "      <td>Y</td>\n",
              "      <td>0</td>\n",
              "      <td>0</td>\n",
              "      <td>0</td>\n",
              "      <td>0</td>\n",
              "      <td>0</td>\n",
              "      <td>NA</td>\n",
              "      <td>Shed</td>\n",
              "      <td>0</td>\n",
              "      <td>7</td>\n",
              "      <td>2007</td>\n",
              "      <td>WD</td>\n",
              "      <td>Normal</td>\n",
              "    </tr>\n",
              "  </tbody>\n",
              "</table>\n",
              "</div>"
            ],
            "text/plain": [
              "       Id  MSSubClass MSZoning  ...  YrSold  SaleType SaleCondition\n",
              "971  2432          20       RL  ...    2007        WD        Normal\n",
              "\n",
              "[1 rows x 77 columns]"
            ]
          },
          "metadata": {
            "tags": []
          },
          "execution_count": 580
        }
      ]
    },
    {
      "cell_type": "code",
      "metadata": {
        "id": "izUCWQymw-9C",
        "colab": {
          "base_uri": "https://localhost:8080/"
        },
        "outputId": "0c352cab-ab5f-447d-9fc1-43a322400e17"
      },
      "source": [
        "new_df[(new_df.MiscFeature.isnull()) & (new_df.MiscVal==0)]['MiscVal'].count()"
      ],
      "execution_count": 581,
      "outputs": [
        {
          "output_type": "execute_result",
          "data": {
            "text/plain": [
              "1407"
            ]
          },
          "metadata": {
            "tags": []
          },
          "execution_count": 581
        }
      ]
    },
    {
      "cell_type": "markdown",
      "metadata": {
        "id": "NX7gK6hsxChb"
      },
      "source": [
        "Column _MiscFeature_ has majority (1407) rows as null. This sounds logical because houses having miscellaneous features are not that common. The data description also mentions a category 'NA' for such cases. Hence we will impute the column with 'NA'."
      ]
    },
    {
      "cell_type": "code",
      "metadata": {
        "id": "KrBKEm-axLAX"
      },
      "source": [
        "new_df.fillna({'MiscFeature':'NA'}, inplace=True)"
      ],
      "execution_count": 582,
      "outputs": []
    },
    {
      "cell_type": "code",
      "metadata": {
        "id": "VA1wBiLexRQs",
        "colab": {
          "base_uri": "https://localhost:8080/"
        },
        "outputId": "7fc2f872-a05f-4775-c71a-f496ed2383a5"
      },
      "source": [
        "new_df.SaleType.value_counts()"
      ],
      "execution_count": 583,
      "outputs": [
        {
          "output_type": "execute_result",
          "data": {
            "text/plain": [
              "WD       1258\n",
              "New       117\n",
              "COD        44\n",
              "ConLD      17\n",
              "CWD         8\n",
              "Oth         4\n",
              "ConLI       4\n",
              "ConLw       3\n",
              "Con         3\n",
              "Name: SaleType, dtype: int64"
            ]
          },
          "metadata": {
            "tags": []
          },
          "execution_count": 583
        }
      ]
    },
    {
      "cell_type": "code",
      "metadata": {
        "id": "9N4gfWqvxwTE",
        "colab": {
          "base_uri": "https://localhost:8080/",
          "height": 78
        },
        "outputId": "40553234-a9a2-476c-96a5-f41381b36f96"
      },
      "source": [
        "new_df[new_df.SaleType.isnull()][['SaleType','SaleCondition']]"
      ],
      "execution_count": 584,
      "outputs": [
        {
          "output_type": "execute_result",
          "data": {
            "text/html": [
              "<div>\n",
              "<style scoped>\n",
              "    .dataframe tbody tr th:only-of-type {\n",
              "        vertical-align: middle;\n",
              "    }\n",
              "\n",
              "    .dataframe tbody tr th {\n",
              "        vertical-align: top;\n",
              "    }\n",
              "\n",
              "    .dataframe thead th {\n",
              "        text-align: right;\n",
              "    }\n",
              "</style>\n",
              "<table border=\"1\" class=\"dataframe\">\n",
              "  <thead>\n",
              "    <tr style=\"text-align: right;\">\n",
              "      <th></th>\n",
              "      <th>SaleType</th>\n",
              "      <th>SaleCondition</th>\n",
              "    </tr>\n",
              "  </thead>\n",
              "  <tbody>\n",
              "    <tr>\n",
              "      <th>1029</th>\n",
              "      <td>NaN</td>\n",
              "      <td>Normal</td>\n",
              "    </tr>\n",
              "  </tbody>\n",
              "</table>\n",
              "</div>"
            ],
            "text/plain": [
              "     SaleType SaleCondition\n",
              "1029      NaN        Normal"
            ]
          },
          "metadata": {
            "tags": []
          },
          "execution_count": 584
        }
      ]
    },
    {
      "cell_type": "markdown",
      "metadata": {
        "id": "rXqVse3QyI-F"
      },
      "source": [
        "There is null entry in column _SaleType_ for a single row. Value of column _SaleCondition_ is 'Normal' for that row. </br> Based on this fact we go ahead and impute the column _SaleType_ with the mode value, 'WD' (Warranty Deed - Conventional)"
      ]
    },
    {
      "cell_type": "code",
      "metadata": {
        "id": "oyLLQQrVyl-D"
      },
      "source": [
        "new_df.fillna({'SaleType':'WD'}, inplace=True)"
      ],
      "execution_count": 585,
      "outputs": []
    },
    {
      "cell_type": "code",
      "metadata": {
        "id": "4UeKr28_jLaH",
        "colab": {
          "base_uri": "https://localhost:8080/"
        },
        "outputId": "b6c97c21-6287-4dfb-b7dd-3f85d916c2e9"
      },
      "source": [
        "new_df.info()"
      ],
      "execution_count": 586,
      "outputs": [
        {
          "output_type": "stream",
          "text": [
            "<class 'pandas.core.frame.DataFrame'>\n",
            "RangeIndex: 1459 entries, 0 to 1458\n",
            "Data columns (total 77 columns):\n",
            " #   Column         Non-Null Count  Dtype  \n",
            "---  ------         --------------  -----  \n",
            " 0   Id             1459 non-null   int64  \n",
            " 1   MSSubClass     1459 non-null   int64  \n",
            " 2   MSZoning       1459 non-null   object \n",
            " 3   LotFrontage    1459 non-null   float64\n",
            " 4   LotArea        1459 non-null   int64  \n",
            " 5   Street         1459 non-null   object \n",
            " 6   Alley          1459 non-null   object \n",
            " 7   LotShape       1459 non-null   object \n",
            " 8   LandContour    1459 non-null   object \n",
            " 9   Utilities      1459 non-null   object \n",
            " 10  LotConfig      1459 non-null   object \n",
            " 11  LandSlope      1459 non-null   object \n",
            " 12  Neighborhood   1459 non-null   object \n",
            " 13  Condition1     1459 non-null   object \n",
            " 14  Condition2     1459 non-null   object \n",
            " 15  BldgType       1459 non-null   object \n",
            " 16  HouseStyle     1459 non-null   object \n",
            " 17  OverallQual    1459 non-null   int64  \n",
            " 18  OverallCond    1459 non-null   int64  \n",
            " 19  YearBuilt      1459 non-null   int64  \n",
            " 20  YearRemodAdd   1459 non-null   int64  \n",
            " 21  RoofStyle      1459 non-null   object \n",
            " 22  RoofMatl       1459 non-null   object \n",
            " 23  Exterior1st    1459 non-null   object \n",
            " 24  Exterior2nd    1459 non-null   object \n",
            " 25  MasVnrType     1459 non-null   object \n",
            " 26  MasVnrArea     1459 non-null   float64\n",
            " 27  ExterQual      1459 non-null   object \n",
            " 28  ExterCond      1459 non-null   object \n",
            " 29  Foundation     1459 non-null   object \n",
            " 30  BsmtQual       1459 non-null   object \n",
            " 31  BsmtCond       1459 non-null   object \n",
            " 32  BsmtExposure   1459 non-null   object \n",
            " 33  BsmtFinType1   1459 non-null   object \n",
            " 34  BsmtFinSF1     1459 non-null   float64\n",
            " 35  BsmtFinType2   1459 non-null   object \n",
            " 36  BsmtFinSF2     1459 non-null   float64\n",
            " 37  BsmtUnfSF      1459 non-null   float64\n",
            " 38  Heating        1459 non-null   object \n",
            " 39  HeatingQC      1459 non-null   object \n",
            " 40  CentralAir     1459 non-null   object \n",
            " 41  Electrical     1459 non-null   object \n",
            " 42  1stFlrSF       1459 non-null   int64  \n",
            " 43  2ndFlrSF       1459 non-null   int64  \n",
            " 44  LowQualFinSF   1459 non-null   int64  \n",
            " 45  GrLivArea      1459 non-null   int64  \n",
            " 46  BsmtFullBath   1459 non-null   float64\n",
            " 47  BsmtHalfBath   1459 non-null   float64\n",
            " 48  FullBath       1459 non-null   int64  \n",
            " 49  HalfBath       1459 non-null   int64  \n",
            " 50  BedroomAbvGr   1459 non-null   int64  \n",
            " 51  KitchenAbvGr   1459 non-null   int64  \n",
            " 52  KitchenQual    1459 non-null   object \n",
            " 53  TotRmsAbvGrd   1459 non-null   int64  \n",
            " 54  Functional     1459 non-null   object \n",
            " 55  Fireplaces     1459 non-null   int64  \n",
            " 56  FireplaceQu    1459 non-null   object \n",
            " 57  GarageType     1459 non-null   object \n",
            " 58  GarageYrBlt    1459 non-null   int64  \n",
            " 59  GarageFinish   1459 non-null   object \n",
            " 60  GarageCars     1459 non-null   float64\n",
            " 61  GarageArea     1459 non-null   float64\n",
            " 62  GarageQual     1459 non-null   object \n",
            " 63  GarageCond     1459 non-null   object \n",
            " 64  PavedDrive     1459 non-null   object \n",
            " 65  WoodDeckSF     1459 non-null   int64  \n",
            " 66  OpenPorchSF    1459 non-null   int64  \n",
            " 67  EnclosedPorch  1459 non-null   int64  \n",
            " 68  3SsnPorch      1459 non-null   int64  \n",
            " 69  ScreenPorch    1459 non-null   int64  \n",
            " 70  Fence          1459 non-null   object \n",
            " 71  MiscFeature    1459 non-null   object \n",
            " 72  MiscVal        1459 non-null   int64  \n",
            " 73  MoSold         1459 non-null   int64  \n",
            " 74  YrSold         1459 non-null   int64  \n",
            " 75  SaleType       1459 non-null   object \n",
            " 76  SaleCondition  1459 non-null   object \n",
            "dtypes: float64(9), int64(26), object(42)\n",
            "memory usage: 877.8+ KB\n"
          ],
          "name": "stdout"
        }
      ]
    },
    {
      "cell_type": "markdown",
      "metadata": {
        "id": "XS2t9k2Y3mw6"
      },
      "source": [
        "__Feature Engineering, Transformations, Outlier Detection & Encoding__"
      ]
    },
    {
      "cell_type": "code",
      "metadata": {
        "id": "UJs9r_So3lif",
        "colab": {
          "base_uri": "https://localhost:8080/"
        },
        "outputId": "5d41d24d-a251-4bf0-e130-8b3c88a69159"
      },
      "source": [
        "new_df.MSSubClass.unique()"
      ],
      "execution_count": 587,
      "outputs": [
        {
          "output_type": "execute_result",
          "data": {
            "text/plain": [
              "array([ 20,  60, 120, 160,  80,  30,  50,  90,  85, 190,  45,  70,  75,\n",
              "       180,  40, 150])"
            ]
          },
          "metadata": {
            "tags": []
          },
          "execution_count": 587
        }
      ]
    },
    {
      "cell_type": "code",
      "metadata": {
        "id": "c_ZcKvgZ3p-E"
      },
      "source": [
        "new_df.MSSubClass = new_df.MSSubClass.astype(str)"
      ],
      "execution_count": 588,
      "outputs": []
    },
    {
      "cell_type": "markdown",
      "metadata": {
        "id": "mZCqH_vl3wiB"
      },
      "source": [
        "Feature Engineering"
      ]
    },
    {
      "cell_type": "code",
      "metadata": {
        "id": "q1AJGatU3yIG"
      },
      "source": [
        "# Let keep the column 'Id' separate since it has no significance from prediction perspective\n",
        "Id_df = new_df[['Id']]"
      ],
      "execution_count": 589,
      "outputs": []
    },
    {
      "cell_type": "code",
      "metadata": {
        "id": "vH0NExJa4oNa",
        "colab": {
          "base_uri": "https://localhost:8080/",
          "height": 200
        },
        "outputId": "636d4d5f-9b50-46f7-81b9-f4c9980af3c5"
      },
      "source": [
        "Id_df.head()"
      ],
      "execution_count": 590,
      "outputs": [
        {
          "output_type": "execute_result",
          "data": {
            "text/html": [
              "<div>\n",
              "<style scoped>\n",
              "    .dataframe tbody tr th:only-of-type {\n",
              "        vertical-align: middle;\n",
              "    }\n",
              "\n",
              "    .dataframe tbody tr th {\n",
              "        vertical-align: top;\n",
              "    }\n",
              "\n",
              "    .dataframe thead th {\n",
              "        text-align: right;\n",
              "    }\n",
              "</style>\n",
              "<table border=\"1\" class=\"dataframe\">\n",
              "  <thead>\n",
              "    <tr style=\"text-align: right;\">\n",
              "      <th></th>\n",
              "      <th>Id</th>\n",
              "    </tr>\n",
              "  </thead>\n",
              "  <tbody>\n",
              "    <tr>\n",
              "      <th>0</th>\n",
              "      <td>1461</td>\n",
              "    </tr>\n",
              "    <tr>\n",
              "      <th>1</th>\n",
              "      <td>1462</td>\n",
              "    </tr>\n",
              "    <tr>\n",
              "      <th>2</th>\n",
              "      <td>1463</td>\n",
              "    </tr>\n",
              "    <tr>\n",
              "      <th>3</th>\n",
              "      <td>1464</td>\n",
              "    </tr>\n",
              "    <tr>\n",
              "      <th>4</th>\n",
              "      <td>1465</td>\n",
              "    </tr>\n",
              "  </tbody>\n",
              "</table>\n",
              "</div>"
            ],
            "text/plain": [
              "     Id\n",
              "0  1461\n",
              "1  1462\n",
              "2  1463\n",
              "3  1464\n",
              "4  1465"
            ]
          },
          "metadata": {
            "tags": []
          },
          "execution_count": 590
        }
      ]
    },
    {
      "cell_type": "code",
      "metadata": {
        "id": "VJcxvolk30TN"
      },
      "source": [
        "new_df.drop(['Id'], axis=1, inplace=True)"
      ],
      "execution_count": 591,
      "outputs": []
    },
    {
      "cell_type": "code",
      "metadata": {
        "id": "RJw5cK7t5a-h",
        "colab": {
          "base_uri": "https://localhost:8080/",
          "height": 108
        },
        "outputId": "4aa098c0-5d80-4afe-809b-f7f6b452d05b"
      },
      "source": [
        "new_df[['YearBuilt','YearRemodAdd']].corr()"
      ],
      "execution_count": 592,
      "outputs": [
        {
          "output_type": "execute_result",
          "data": {
            "text/html": [
              "<div>\n",
              "<style scoped>\n",
              "    .dataframe tbody tr th:only-of-type {\n",
              "        vertical-align: middle;\n",
              "    }\n",
              "\n",
              "    .dataframe tbody tr th {\n",
              "        vertical-align: top;\n",
              "    }\n",
              "\n",
              "    .dataframe thead th {\n",
              "        text-align: right;\n",
              "    }\n",
              "</style>\n",
              "<table border=\"1\" class=\"dataframe\">\n",
              "  <thead>\n",
              "    <tr style=\"text-align: right;\">\n",
              "      <th></th>\n",
              "      <th>YearBuilt</th>\n",
              "      <th>YearRemodAdd</th>\n",
              "    </tr>\n",
              "  </thead>\n",
              "  <tbody>\n",
              "    <tr>\n",
              "      <th>YearBuilt</th>\n",
              "      <td>1.000000</td>\n",
              "      <td>0.631696</td>\n",
              "    </tr>\n",
              "    <tr>\n",
              "      <th>YearRemodAdd</th>\n",
              "      <td>0.631696</td>\n",
              "      <td>1.000000</td>\n",
              "    </tr>\n",
              "  </tbody>\n",
              "</table>\n",
              "</div>"
            ],
            "text/plain": [
              "              YearBuilt  YearRemodAdd\n",
              "YearBuilt      1.000000      0.631696\n",
              "YearRemodAdd   0.631696      1.000000"
            ]
          },
          "metadata": {
            "tags": []
          },
          "execution_count": 592
        }
      ]
    },
    {
      "cell_type": "markdown",
      "metadata": {
        "id": "OevczELJ5h0g"
      },
      "source": [
        "The correlation between Year of Built and Year of Remodel is not high enough to be marked as redundant information. So we keep both the columns."
      ]
    },
    {
      "cell_type": "code",
      "metadata": {
        "id": "_gjwHIPS5izB",
        "colab": {
          "base_uri": "https://localhost:8080/",
          "height": 108
        },
        "outputId": "5e32c746-b42f-454c-897d-9a3990a6a170"
      },
      "source": [
        "new_df[['YearBuilt','YrSold']].corr()"
      ],
      "execution_count": 593,
      "outputs": [
        {
          "output_type": "execute_result",
          "data": {
            "text/html": [
              "<div>\n",
              "<style scoped>\n",
              "    .dataframe tbody tr th:only-of-type {\n",
              "        vertical-align: middle;\n",
              "    }\n",
              "\n",
              "    .dataframe tbody tr th {\n",
              "        vertical-align: top;\n",
              "    }\n",
              "\n",
              "    .dataframe thead th {\n",
              "        text-align: right;\n",
              "    }\n",
              "</style>\n",
              "<table border=\"1\" class=\"dataframe\">\n",
              "  <thead>\n",
              "    <tr style=\"text-align: right;\">\n",
              "      <th></th>\n",
              "      <th>YearBuilt</th>\n",
              "      <th>YrSold</th>\n",
              "    </tr>\n",
              "  </thead>\n",
              "  <tbody>\n",
              "    <tr>\n",
              "      <th>YearBuilt</th>\n",
              "      <td>1.000000</td>\n",
              "      <td>-0.011006</td>\n",
              "    </tr>\n",
              "    <tr>\n",
              "      <th>YrSold</th>\n",
              "      <td>-0.011006</td>\n",
              "      <td>1.000000</td>\n",
              "    </tr>\n",
              "  </tbody>\n",
              "</table>\n",
              "</div>"
            ],
            "text/plain": [
              "           YearBuilt    YrSold\n",
              "YearBuilt   1.000000 -0.011006\n",
              "YrSold     -0.011006  1.000000"
            ]
          },
          "metadata": {
            "tags": []
          },
          "execution_count": 593
        }
      ]
    },
    {
      "cell_type": "markdown",
      "metadata": {
        "id": "pWQWjwe75oyC"
      },
      "source": [
        "There is no correlation between Year of Built and Year of Sale. Later we may experiment by keeping only the difference between the columns instead of both columns."
      ]
    },
    {
      "cell_type": "markdown",
      "metadata": {
        "id": "IKUflqtG5szg"
      },
      "source": [
        "Check for outliers using Box Plot"
      ]
    },
    {
      "cell_type": "code",
      "metadata": {
        "id": "FKtDdANB5oUG",
        "colab": {
          "base_uri": "https://localhost:8080/",
          "height": 272
        },
        "outputId": "2c443ea5-04d8-4ca9-c261-d93472411591"
      },
      "source": [
        "display_box_plot(new_df[['LotArea']]) #checking outlier distribution of column 'LotArea'"
      ],
      "execution_count": 594,
      "outputs": [
        {
          "output_type": "display_data",
          "data": {
            "image/png": "[encoded data removed]",
            "text/plain": [
              "<Figure size 432x288 with 1 Axes>"
            ]
          },
          "metadata": {
            "tags": []
          }
        }
      ]
    },
    {
      "cell_type": "code",
      "metadata": {
        "id": "X_UlzeNK8Wv4",
        "colab": {
          "base_uri": "https://localhost:8080/",
          "height": 272
        },
        "outputId": "c3989b1f-b221-448b-b1b2-741d057993db"
      },
      "source": [
        "display_box_plot(new_df[['LotFrontage','YearBuilt','YearRemodAdd','MasVnrArea','BsmtFinSF1']]) #checking outlier distribution of columns 'LotFrontage','YearBuilt','YearRemodAdd','MasVnrArea','BsmtFinSF1'"
      ],
      "execution_count": 595,
      "outputs": [
        {
          "output_type": "display_data",
          "data": {
            "image/png": "[encoded data removed]",
            "text/plain": [
              "<Figure size 432x288 with 1 Axes>"
            ]
          },
          "metadata": {
            "tags": []
          }
        }
      ]
    },
    {
      "cell_type": "markdown",
      "metadata": {
        "id": "Jk9ZVr0l8f6D"
      },
      "source": [
        "Identify and remove extreme outliers (less than Q1-3IQR or greater than Q3+3IQR)"
      ]
    },
    {
      "cell_type": "code",
      "metadata": {
        "id": "fU5abJDD8gns",
        "colab": {
          "base_uri": "https://localhost:8080/"
        },
        "outputId": "340406f6-189c-4eb1-fed4-9f2ceeb6b00a"
      },
      "source": [
        "out_prod_df = remove_extreme_outliers(new_df)\n",
        "print (out_prod_df)"
      ],
      "execution_count": 596,
      "outputs": [
        {
          "output_type": "stream",
          "text": [
            "     MSSubClass MSZoning  LotFrontage  ...  YrSold SaleType SaleCondition\n",
            "0            20       RH         80.0  ...    2010       WD        Normal\n",
            "2            60       RL         74.0  ...    2010       WD        Normal\n",
            "3            60       RL         78.0  ...    2010       WD        Normal\n",
            "4           120       RL         43.0  ...    2010       WD        Normal\n",
            "5            60       RL         75.0  ...    2010       WD        Normal\n",
            "...         ...      ...          ...  ...     ...      ...           ...\n",
            "1453        160       RM         21.0  ...    2006       WD        Normal\n",
            "1454        160       RM         21.0  ...    2006       WD        Normal\n",
            "1455        160       RM         21.0  ...    2006       WD       Abnorml\n",
            "1456         20       RL        160.0  ...    2006       WD       Abnorml\n",
            "1458         60       RL         74.0  ...    2006       WD        Normal\n",
            "\n",
            "[1318 rows x 76 columns]\n"
          ],
          "name": "stdout"
        }
      ]
    },
    {
      "cell_type": "markdown",
      "metadata": {
        "id": "cAm8tbIt8qq2"
      },
      "source": [
        "Next step is applying OHE to convert text columns into numerical representation"
      ]
    },
    {
      "cell_type": "code",
      "metadata": {
        "id": "jy519LTw-7Sa"
      },
      "source": [
        "data_df = pd.get_dummies(out_prod_df, drop_first=True)"
      ],
      "execution_count": 597,
      "outputs": []
    },
    {
      "cell_type": "code",
      "metadata": {
        "id": "tcbcC7h9_E71",
        "colab": {
          "base_uri": "https://localhost:8080/"
        },
        "outputId": "b1d8ecb2-bfbd-4872-ac72-c9f9ad345175"
      },
      "source": [
        "X_prod = data_df.copy()\n",
        "print(X_prod.shape)"
      ],
      "execution_count": 598,
      "outputs": [
        {
          "output_type": "stream",
          "text": [
            "(1318, 244)\n"
          ],
          "name": "stdout"
        }
      ]
    },
    {
      "cell_type": "code",
      "metadata": {
        "colab": {
          "base_uri": "https://localhost:8080/",
          "height": 220
        },
        "id": "zPzp8nkLgZkc",
        "outputId": "b26f10c8-946c-4f87-cc61-1e454a1679ed"
      },
      "source": [
        "metadata_df.head()"
      ],
      "execution_count": 599,
      "outputs": [
        {
          "output_type": "execute_result",
          "data": {
            "text/html": [
              "<div>\n",
              "<style scoped>\n",
              "    .dataframe tbody tr th:only-of-type {\n",
              "        vertical-align: middle;\n",
              "    }\n",
              "\n",
              "    .dataframe tbody tr th {\n",
              "        vertical-align: top;\n",
              "    }\n",
              "\n",
              "    .dataframe thead th {\n",
              "        text-align: right;\n",
              "    }\n",
              "</style>\n",
              "<table border=\"1\" class=\"dataframe\">\n",
              "  <thead>\n",
              "    <tr style=\"text-align: right;\">\n",
              "      <th></th>\n",
              "      <th>MSSubClass</th>\n",
              "      <th>MSZoning</th>\n",
              "      <th>Street</th>\n",
              "      <th>Alley</th>\n",
              "      <th>LotShape</th>\n",
              "      <th>LandContour</th>\n",
              "      <th>Utilities</th>\n",
              "      <th>LotConfig</th>\n",
              "      <th>LandSlope</th>\n",
              "      <th>Neighborhood</th>\n",
              "      <th>Condition1</th>\n",
              "      <th>Condition2</th>\n",
              "      <th>BldgType</th>\n",
              "      <th>HouseStyle</th>\n",
              "      <th>RoofStyle</th>\n",
              "      <th>RoofMatl</th>\n",
              "      <th>Exterior1st</th>\n",
              "      <th>Exterior2nd</th>\n",
              "      <th>MasVnrType</th>\n",
              "      <th>ExterQual</th>\n",
              "      <th>ExterCond</th>\n",
              "      <th>Foundation</th>\n",
              "      <th>BsmtQual</th>\n",
              "      <th>BsmtCond</th>\n",
              "      <th>BsmtExposure</th>\n",
              "      <th>BsmtFinType1</th>\n",
              "      <th>BsmtFinType2</th>\n",
              "      <th>Heating</th>\n",
              "      <th>HeatingQC</th>\n",
              "      <th>CentralAir</th>\n",
              "      <th>Electrical</th>\n",
              "      <th>KitchenQual</th>\n",
              "      <th>Functional</th>\n",
              "      <th>FireplaceQu</th>\n",
              "      <th>GarageType</th>\n",
              "      <th>GarageFinish</th>\n",
              "      <th>GarageQual</th>\n",
              "      <th>GarageCond</th>\n",
              "      <th>PavedDrive</th>\n",
              "      <th>Fence</th>\n",
              "      <th>MiscFeature</th>\n",
              "      <th>SaleType</th>\n",
              "      <th>SaleCondition</th>\n",
              "    </tr>\n",
              "  </thead>\n",
              "  <tbody>\n",
              "    <tr>\n",
              "      <th>0</th>\n",
              "      <td>60</td>\n",
              "      <td>RL</td>\n",
              "      <td>Pave</td>\n",
              "      <td>NA</td>\n",
              "      <td>Reg</td>\n",
              "      <td>Lvl</td>\n",
              "      <td>AllPub</td>\n",
              "      <td>Inside</td>\n",
              "      <td>Gtl</td>\n",
              "      <td>CollgCr</td>\n",
              "      <td>Norm</td>\n",
              "      <td>Norm</td>\n",
              "      <td>1Fam</td>\n",
              "      <td>2Story</td>\n",
              "      <td>Gable</td>\n",
              "      <td>CompShg</td>\n",
              "      <td>VinylSd</td>\n",
              "      <td>VinylSd</td>\n",
              "      <td>BrkFace</td>\n",
              "      <td>Gd</td>\n",
              "      <td>TA</td>\n",
              "      <td>PConc</td>\n",
              "      <td>Gd</td>\n",
              "      <td>TA</td>\n",
              "      <td>No</td>\n",
              "      <td>GLQ</td>\n",
              "      <td>Unf</td>\n",
              "      <td>GasA</td>\n",
              "      <td>Ex</td>\n",
              "      <td>Y</td>\n",
              "      <td>SBrkr</td>\n",
              "      <td>Gd</td>\n",
              "      <td>Typ</td>\n",
              "      <td>NA</td>\n",
              "      <td>Attchd</td>\n",
              "      <td>RFn</td>\n",
              "      <td>TA</td>\n",
              "      <td>TA</td>\n",
              "      <td>Y</td>\n",
              "      <td>NA</td>\n",
              "      <td>NA</td>\n",
              "      <td>WD</td>\n",
              "      <td>Normal</td>\n",
              "    </tr>\n",
              "    <tr>\n",
              "      <th>1</th>\n",
              "      <td>20</td>\n",
              "      <td>RM</td>\n",
              "      <td>Grvl</td>\n",
              "      <td>Grvl</td>\n",
              "      <td>IR1</td>\n",
              "      <td>Bnk</td>\n",
              "      <td>NoSeWa</td>\n",
              "      <td>FR2</td>\n",
              "      <td>Mod</td>\n",
              "      <td>Veenker</td>\n",
              "      <td>Feedr</td>\n",
              "      <td>RRNn</td>\n",
              "      <td>TwnhsE</td>\n",
              "      <td>1Story</td>\n",
              "      <td>Hip</td>\n",
              "      <td>WdShngl</td>\n",
              "      <td>MetalSd</td>\n",
              "      <td>MetalSd</td>\n",
              "      <td>None</td>\n",
              "      <td>TA</td>\n",
              "      <td>Gd</td>\n",
              "      <td>CBlock</td>\n",
              "      <td>TA</td>\n",
              "      <td>Gd</td>\n",
              "      <td>Gd</td>\n",
              "      <td>ALQ</td>\n",
              "      <td>ALQ</td>\n",
              "      <td>GasW</td>\n",
              "      <td>Gd</td>\n",
              "      <td>N</td>\n",
              "      <td>FuseA</td>\n",
              "      <td>TA</td>\n",
              "      <td>Min1</td>\n",
              "      <td>TA</td>\n",
              "      <td>Detchd</td>\n",
              "      <td>Unf</td>\n",
              "      <td>Fa</td>\n",
              "      <td>Fa</td>\n",
              "      <td>N</td>\n",
              "      <td>GdWo</td>\n",
              "      <td>Shed</td>\n",
              "      <td>New</td>\n",
              "      <td>Abnorml</td>\n",
              "    </tr>\n",
              "    <tr>\n",
              "      <th>2</th>\n",
              "      <td>70</td>\n",
              "      <td>C (all)</td>\n",
              "      <td>Absent</td>\n",
              "      <td>Pave</td>\n",
              "      <td>IR2</td>\n",
              "      <td>Low</td>\n",
              "      <td>Absent</td>\n",
              "      <td>Corner</td>\n",
              "      <td>Sev</td>\n",
              "      <td>Crawfor</td>\n",
              "      <td>RRAe</td>\n",
              "      <td>Feedr</td>\n",
              "      <td>Duplex</td>\n",
              "      <td>1.5Unf</td>\n",
              "      <td>Gambrel</td>\n",
              "      <td>WdShake</td>\n",
              "      <td>Wd Sdng</td>\n",
              "      <td>Wd Shng</td>\n",
              "      <td>Stone</td>\n",
              "      <td>Ex</td>\n",
              "      <td>Fa</td>\n",
              "      <td>BrkTil</td>\n",
              "      <td>Ex</td>\n",
              "      <td>Fa</td>\n",
              "      <td>Mn</td>\n",
              "      <td>Rec</td>\n",
              "      <td>Rec</td>\n",
              "      <td>Grav</td>\n",
              "      <td>TA</td>\n",
              "      <td>Absent</td>\n",
              "      <td>FuseF</td>\n",
              "      <td>Ex</td>\n",
              "      <td>Maj1</td>\n",
              "      <td>Gd</td>\n",
              "      <td>BuiltIn</td>\n",
              "      <td>Fin</td>\n",
              "      <td>NA</td>\n",
              "      <td>Gd</td>\n",
              "      <td>P</td>\n",
              "      <td>GdPrv</td>\n",
              "      <td>Absent</td>\n",
              "      <td>COD</td>\n",
              "      <td>Partial</td>\n",
              "    </tr>\n",
              "    <tr>\n",
              "      <th>3</th>\n",
              "      <td>45</td>\n",
              "      <td>FV</td>\n",
              "      <td>Absent</td>\n",
              "      <td>Absent</td>\n",
              "      <td>IR3</td>\n",
              "      <td>HLS</td>\n",
              "      <td>Absent</td>\n",
              "      <td>CulDSac</td>\n",
              "      <td>Absent</td>\n",
              "      <td>NoRidge</td>\n",
              "      <td>RRNn</td>\n",
              "      <td>PosN</td>\n",
              "      <td>Twnhs</td>\n",
              "      <td>SFoyer</td>\n",
              "      <td>Flat</td>\n",
              "      <td>Membran</td>\n",
              "      <td>HdBoard</td>\n",
              "      <td>HdBoard</td>\n",
              "      <td>BrkCmn</td>\n",
              "      <td>Fa</td>\n",
              "      <td>Ex</td>\n",
              "      <td>Slab</td>\n",
              "      <td>NA</td>\n",
              "      <td>NA</td>\n",
              "      <td>Av</td>\n",
              "      <td>Unf</td>\n",
              "      <td>LwQ</td>\n",
              "      <td>Wall</td>\n",
              "      <td>Fa</td>\n",
              "      <td>Absent</td>\n",
              "      <td>FuseP</td>\n",
              "      <td>Fa</td>\n",
              "      <td>Min2</td>\n",
              "      <td>Fa</td>\n",
              "      <td>CarPort</td>\n",
              "      <td>NA</td>\n",
              "      <td>Gd</td>\n",
              "      <td>NA</td>\n",
              "      <td>Absent</td>\n",
              "      <td>MnPrv</td>\n",
              "      <td>Absent</td>\n",
              "      <td>ConLI</td>\n",
              "      <td>Family</td>\n",
              "    </tr>\n",
              "    <tr>\n",
              "      <th>4</th>\n",
              "      <td>120</td>\n",
              "      <td>RH</td>\n",
              "      <td>Absent</td>\n",
              "      <td>Absent</td>\n",
              "      <td>Absent</td>\n",
              "      <td>Absent</td>\n",
              "      <td>Absent</td>\n",
              "      <td>FR3</td>\n",
              "      <td>Absent</td>\n",
              "      <td>Somerst</td>\n",
              "      <td>RRAn</td>\n",
              "      <td>PosA</td>\n",
              "      <td>2fmCon</td>\n",
              "      <td>1.5Fin</td>\n",
              "      <td>Mansard</td>\n",
              "      <td>Tar&amp;Grv</td>\n",
              "      <td>WdShing</td>\n",
              "      <td>Plywood</td>\n",
              "      <td>Absent</td>\n",
              "      <td>Absent</td>\n",
              "      <td>Absent</td>\n",
              "      <td>Stone</td>\n",
              "      <td>Fa</td>\n",
              "      <td>Po</td>\n",
              "      <td>NA</td>\n",
              "      <td>BLQ</td>\n",
              "      <td>BLQ</td>\n",
              "      <td>OthW</td>\n",
              "      <td>Po</td>\n",
              "      <td>Absent</td>\n",
              "      <td>Mix</td>\n",
              "      <td>Absent</td>\n",
              "      <td>Mod</td>\n",
              "      <td>Ex</td>\n",
              "      <td>NA</td>\n",
              "      <td>Absent</td>\n",
              "      <td>Ex</td>\n",
              "      <td>Ex</td>\n",
              "      <td>Absent</td>\n",
              "      <td>MnWw</td>\n",
              "      <td>Absent</td>\n",
              "      <td>CWD</td>\n",
              "      <td>AdjLand</td>\n",
              "    </tr>\n",
              "  </tbody>\n",
              "</table>\n",
              "</div>"
            ],
            "text/plain": [
              "  MSSubClass MSZoning  Street   Alley  ...  Fence MiscFeature SaleType SaleCondition\n",
              "0         60       RL    Pave      NA  ...     NA          NA       WD        Normal\n",
              "1         20       RM    Grvl    Grvl  ...   GdWo        Shed      New       Abnorml\n",
              "2         70  C (all)  Absent    Pave  ...  GdPrv      Absent      COD       Partial\n",
              "3         45       FV  Absent  Absent  ...  MnPrv      Absent    ConLI        Family\n",
              "4        120       RH  Absent  Absent  ...   MnWw      Absent      CWD       AdjLand\n",
              "\n",
              "[5 rows x 43 columns]"
            ]
          },
          "metadata": {
            "tags": []
          },
          "execution_count": 599
        }
      ]
    },
    {
      "cell_type": "code",
      "metadata": {
        "id": "g37OwveEhAqa"
      },
      "source": [
        "metadata_prod_dict = {}\n",
        "max_prod_length = 0"
      ],
      "execution_count": 600,
      "outputs": []
    },
    {
      "cell_type": "code",
      "metadata": {
        "colab": {
          "base_uri": "https://localhost:8080/"
        },
        "id": "crEBP2TSiDON",
        "outputId": "5c54a958-7cd9-48ab-b48d-1488003dfcbe"
      },
      "source": [
        "for i in out_prod_df.columns:\n",
        "  if out_prod_df[i].dtype=='O':\n",
        "    metadata_prod_dict[i] = list(out_prod_df[i].unique())\n",
        "    print(metadata_prod_dict[i])\n",
        "    if len(metadata_prod_dict[i]) > max_prod_length:\n",
        "      max_prod_length = len(metadata_prod_dict[i])"
      ],
      "execution_count": 601,
      "outputs": [
        {
          "output_type": "stream",
          "text": [
            "['20', '60', '120', '160', '80', '30', '50', '190', '45', '70', '75', '90', '85', '180', '40']\n",
            "['RH', 'RL', 'RM', 'FV', 'C (all)']\n",
            "['Pave', 'Grvl']\n",
            "['NA', 'Pave', 'Grvl']\n",
            "['Reg', 'IR1', 'IR2', 'IR3']\n",
            "['Lvl', 'HLS', 'Bnk', 'Low']\n",
            "['AllPub']\n",
            "['Inside', 'Corner', 'FR2', 'CulDSac', 'FR3']\n",
            "['Gtl', 'Mod', 'Sev']\n",
            "['NAmes', 'Gilbert', 'StoneBr', 'BrDale', 'NPkVill', 'NridgHt', 'Blmngtn', 'NoRidge', 'Somerst', 'SawyerW', 'Sawyer', 'NWAmes', 'OldTown', 'BrkSide', 'ClearCr', 'SWISU', 'Edwards', 'CollgCr', 'Crawfor', 'Blueste', 'IDOTRR', 'Mitchel', 'Timber', 'MeadowV', 'Veenker']\n",
            "['Feedr', 'Norm', 'PosN', 'RRNe', 'Artery', 'RRNn', 'PosA', 'RRAn', 'RRAe']\n",
            "['Norm', 'Feedr', 'PosA', 'PosN', 'Artery']\n",
            "['1Fam', 'TwnhsE', 'Twnhs', '2fmCon', 'Duplex']\n",
            "['1Story', '2Story', 'SLvl', '1.5Fin', '2.5Unf', 'SFoyer', '1.5Unf']\n",
            "['Gable', 'Hip', 'Gambrel', 'Flat', 'Mansard', 'Shed']\n",
            "['CompShg', 'Tar&Grv', 'WdShake', 'WdShngl']\n",
            "['VinylSd', 'HdBoard', 'Plywood', 'MetalSd', 'CemntBd', 'Wd Sdng', 'WdShing', 'BrkFace', 'AsbShng', 'BrkComm', 'Stucco', 'Other', 'CBlock']\n",
            "['VinylSd', 'HdBoard', 'Plywood', 'MetalSd', 'Brk Cmn', 'CmentBd', 'Wd Sdng', 'ImStucc', 'Wd Shng', 'AsbShng', 'Stucco', 'BrkFace', 'CBlock', 'Other']\n",
            "['None', 'BrkFace', 'Stone', 'BrkCmn']\n",
            "['TA', 'Gd', 'Ex', 'Fa']\n",
            "['TA', 'Fa', 'Gd', 'Ex', 'Po']\n",
            "['CBlock', 'PConc', 'BrkTil', 'Stone', 'Slab', 'Wood']\n",
            "['TA', 'Gd', 'Ex', 'Fa', 'NA']\n",
            "['TA', 'Fa', 'Gd', 'NA']\n",
            "['No', 'Gd', 'Mn', 'Av', 'NA']\n",
            "['Rec', 'GLQ', 'ALQ', 'Unf', 'BLQ', 'LwQ', 'NA']\n",
            "['LwQ', 'Unf', 'Rec', 'BLQ', 'GLQ', 'ALQ', 'NA']\n",
            "['GasA', 'GasW', 'Wall']\n",
            "['TA', 'Gd', 'Ex', 'Fa', 'Po']\n",
            "['Y', 'N']\n",
            "['SBrkr', 'FuseA', 'FuseF', 'FuseP']\n",
            "['TA', 'Gd', 'Ex', 'Fa']\n",
            "['Typ', 'Min2', 'Min1', 'Mod', 'Maj2', 'Maj1']\n",
            "['NA', 'TA', 'Gd', 'Po', 'Fa', 'Ex']\n",
            "['Attchd', 'Detchd', 'BuiltIn', 'Basment', 'NA', '2Types', 'CarPort']\n",
            "['Unf', 'Fin', 'RFn', 'NA']\n",
            "['TA', 'NA', 'Fa', 'Gd', 'Po']\n",
            "['TA', 'NA', 'Fa', 'Gd', 'Po', 'Ex']\n",
            "['Y', 'N', 'P']\n",
            "['MnPrv', 'NA', 'GdPrv', 'GdWo', 'MnWw']\n",
            "['NA', 'Shed']\n",
            "['WD', 'COD', 'New', 'ConLD', 'Con', 'Oth', 'ConLw', 'ConLI', 'CWD']\n",
            "['Normal', 'Partial', 'Abnorml', 'Family', 'Alloca', 'AdjLand']\n"
          ],
          "name": "stdout"
        }
      ]
    },
    {
      "cell_type": "code",
      "metadata": {
        "id": "QYqVT_2UiH8u"
      },
      "source": [
        "for i in metadata_prod_dict.keys():\n",
        "  padding = ['Absent' for j in range(max_prod_length-len(metadata_prod_dict[i]))]\n",
        "  metadata_prod_dict[i].extend(padding)"
      ],
      "execution_count": 602,
      "outputs": []
    },
    {
      "cell_type": "code",
      "metadata": {
        "id": "HaCCMVwHiKYE"
      },
      "source": [
        "metadata_prod_df = pd.DataFrame(data=metadata_prod_dict)"
      ],
      "execution_count": 603,
      "outputs": []
    },
    {
      "cell_type": "code",
      "metadata": {
        "colab": {
          "base_uri": "https://localhost:8080/",
          "height": 220
        },
        "id": "Kq0R83TSihfU",
        "outputId": "df28b2ac-8b46-496e-8f18-296eea78451f"
      },
      "source": [
        "metadata_prod_df.head()"
      ],
      "execution_count": 604,
      "outputs": [
        {
          "output_type": "execute_result",
          "data": {
            "text/html": [
              "<div>\n",
              "<style scoped>\n",
              "    .dataframe tbody tr th:only-of-type {\n",
              "        vertical-align: middle;\n",
              "    }\n",
              "\n",
              "    .dataframe tbody tr th {\n",
              "        vertical-align: top;\n",
              "    }\n",
              "\n",
              "    .dataframe thead th {\n",
              "        text-align: right;\n",
              "    }\n",
              "</style>\n",
              "<table border=\"1\" class=\"dataframe\">\n",
              "  <thead>\n",
              "    <tr style=\"text-align: right;\">\n",
              "      <th></th>\n",
              "      <th>MSSubClass</th>\n",
              "      <th>MSZoning</th>\n",
              "      <th>Street</th>\n",
              "      <th>Alley</th>\n",
              "      <th>LotShape</th>\n",
              "      <th>LandContour</th>\n",
              "      <th>Utilities</th>\n",
              "      <th>LotConfig</th>\n",
              "      <th>LandSlope</th>\n",
              "      <th>Neighborhood</th>\n",
              "      <th>Condition1</th>\n",
              "      <th>Condition2</th>\n",
              "      <th>BldgType</th>\n",
              "      <th>HouseStyle</th>\n",
              "      <th>RoofStyle</th>\n",
              "      <th>RoofMatl</th>\n",
              "      <th>Exterior1st</th>\n",
              "      <th>Exterior2nd</th>\n",
              "      <th>MasVnrType</th>\n",
              "      <th>ExterQual</th>\n",
              "      <th>ExterCond</th>\n",
              "      <th>Foundation</th>\n",
              "      <th>BsmtQual</th>\n",
              "      <th>BsmtCond</th>\n",
              "      <th>BsmtExposure</th>\n",
              "      <th>BsmtFinType1</th>\n",
              "      <th>BsmtFinType2</th>\n",
              "      <th>Heating</th>\n",
              "      <th>HeatingQC</th>\n",
              "      <th>CentralAir</th>\n",
              "      <th>Electrical</th>\n",
              "      <th>KitchenQual</th>\n",
              "      <th>Functional</th>\n",
              "      <th>FireplaceQu</th>\n",
              "      <th>GarageType</th>\n",
              "      <th>GarageFinish</th>\n",
              "      <th>GarageQual</th>\n",
              "      <th>GarageCond</th>\n",
              "      <th>PavedDrive</th>\n",
              "      <th>Fence</th>\n",
              "      <th>MiscFeature</th>\n",
              "      <th>SaleType</th>\n",
              "      <th>SaleCondition</th>\n",
              "    </tr>\n",
              "  </thead>\n",
              "  <tbody>\n",
              "    <tr>\n",
              "      <th>0</th>\n",
              "      <td>20</td>\n",
              "      <td>RH</td>\n",
              "      <td>Pave</td>\n",
              "      <td>NA</td>\n",
              "      <td>Reg</td>\n",
              "      <td>Lvl</td>\n",
              "      <td>AllPub</td>\n",
              "      <td>Inside</td>\n",
              "      <td>Gtl</td>\n",
              "      <td>NAmes</td>\n",
              "      <td>Feedr</td>\n",
              "      <td>Norm</td>\n",
              "      <td>1Fam</td>\n",
              "      <td>1Story</td>\n",
              "      <td>Gable</td>\n",
              "      <td>CompShg</td>\n",
              "      <td>VinylSd</td>\n",
              "      <td>VinylSd</td>\n",
              "      <td>None</td>\n",
              "      <td>TA</td>\n",
              "      <td>TA</td>\n",
              "      <td>CBlock</td>\n",
              "      <td>TA</td>\n",
              "      <td>TA</td>\n",
              "      <td>No</td>\n",
              "      <td>Rec</td>\n",
              "      <td>LwQ</td>\n",
              "      <td>GasA</td>\n",
              "      <td>TA</td>\n",
              "      <td>Y</td>\n",
              "      <td>SBrkr</td>\n",
              "      <td>TA</td>\n",
              "      <td>Typ</td>\n",
              "      <td>NA</td>\n",
              "      <td>Attchd</td>\n",
              "      <td>Unf</td>\n",
              "      <td>TA</td>\n",
              "      <td>TA</td>\n",
              "      <td>Y</td>\n",
              "      <td>MnPrv</td>\n",
              "      <td>NA</td>\n",
              "      <td>WD</td>\n",
              "      <td>Normal</td>\n",
              "    </tr>\n",
              "    <tr>\n",
              "      <th>1</th>\n",
              "      <td>60</td>\n",
              "      <td>RL</td>\n",
              "      <td>Grvl</td>\n",
              "      <td>Pave</td>\n",
              "      <td>IR1</td>\n",
              "      <td>HLS</td>\n",
              "      <td>Absent</td>\n",
              "      <td>Corner</td>\n",
              "      <td>Mod</td>\n",
              "      <td>Gilbert</td>\n",
              "      <td>Norm</td>\n",
              "      <td>Feedr</td>\n",
              "      <td>TwnhsE</td>\n",
              "      <td>2Story</td>\n",
              "      <td>Hip</td>\n",
              "      <td>Tar&amp;Grv</td>\n",
              "      <td>HdBoard</td>\n",
              "      <td>HdBoard</td>\n",
              "      <td>BrkFace</td>\n",
              "      <td>Gd</td>\n",
              "      <td>Fa</td>\n",
              "      <td>PConc</td>\n",
              "      <td>Gd</td>\n",
              "      <td>Fa</td>\n",
              "      <td>Gd</td>\n",
              "      <td>GLQ</td>\n",
              "      <td>Unf</td>\n",
              "      <td>GasW</td>\n",
              "      <td>Gd</td>\n",
              "      <td>N</td>\n",
              "      <td>FuseA</td>\n",
              "      <td>Gd</td>\n",
              "      <td>Min2</td>\n",
              "      <td>TA</td>\n",
              "      <td>Detchd</td>\n",
              "      <td>Fin</td>\n",
              "      <td>NA</td>\n",
              "      <td>NA</td>\n",
              "      <td>N</td>\n",
              "      <td>NA</td>\n",
              "      <td>Shed</td>\n",
              "      <td>COD</td>\n",
              "      <td>Partial</td>\n",
              "    </tr>\n",
              "    <tr>\n",
              "      <th>2</th>\n",
              "      <td>120</td>\n",
              "      <td>RM</td>\n",
              "      <td>Absent</td>\n",
              "      <td>Grvl</td>\n",
              "      <td>IR2</td>\n",
              "      <td>Bnk</td>\n",
              "      <td>Absent</td>\n",
              "      <td>FR2</td>\n",
              "      <td>Sev</td>\n",
              "      <td>StoneBr</td>\n",
              "      <td>PosN</td>\n",
              "      <td>PosA</td>\n",
              "      <td>Twnhs</td>\n",
              "      <td>SLvl</td>\n",
              "      <td>Gambrel</td>\n",
              "      <td>WdShake</td>\n",
              "      <td>Plywood</td>\n",
              "      <td>Plywood</td>\n",
              "      <td>Stone</td>\n",
              "      <td>Ex</td>\n",
              "      <td>Gd</td>\n",
              "      <td>BrkTil</td>\n",
              "      <td>Ex</td>\n",
              "      <td>Gd</td>\n",
              "      <td>Mn</td>\n",
              "      <td>ALQ</td>\n",
              "      <td>Rec</td>\n",
              "      <td>Wall</td>\n",
              "      <td>Ex</td>\n",
              "      <td>Absent</td>\n",
              "      <td>FuseF</td>\n",
              "      <td>Ex</td>\n",
              "      <td>Min1</td>\n",
              "      <td>Gd</td>\n",
              "      <td>BuiltIn</td>\n",
              "      <td>RFn</td>\n",
              "      <td>Fa</td>\n",
              "      <td>Fa</td>\n",
              "      <td>P</td>\n",
              "      <td>GdPrv</td>\n",
              "      <td>Absent</td>\n",
              "      <td>New</td>\n",
              "      <td>Abnorml</td>\n",
              "    </tr>\n",
              "    <tr>\n",
              "      <th>3</th>\n",
              "      <td>160</td>\n",
              "      <td>FV</td>\n",
              "      <td>Absent</td>\n",
              "      <td>Absent</td>\n",
              "      <td>IR3</td>\n",
              "      <td>Low</td>\n",
              "      <td>Absent</td>\n",
              "      <td>CulDSac</td>\n",
              "      <td>Absent</td>\n",
              "      <td>BrDale</td>\n",
              "      <td>RRNe</td>\n",
              "      <td>PosN</td>\n",
              "      <td>2fmCon</td>\n",
              "      <td>1.5Fin</td>\n",
              "      <td>Flat</td>\n",
              "      <td>WdShngl</td>\n",
              "      <td>MetalSd</td>\n",
              "      <td>MetalSd</td>\n",
              "      <td>BrkCmn</td>\n",
              "      <td>Fa</td>\n",
              "      <td>Ex</td>\n",
              "      <td>Stone</td>\n",
              "      <td>Fa</td>\n",
              "      <td>NA</td>\n",
              "      <td>Av</td>\n",
              "      <td>Unf</td>\n",
              "      <td>BLQ</td>\n",
              "      <td>Absent</td>\n",
              "      <td>Fa</td>\n",
              "      <td>Absent</td>\n",
              "      <td>FuseP</td>\n",
              "      <td>Fa</td>\n",
              "      <td>Mod</td>\n",
              "      <td>Po</td>\n",
              "      <td>Basment</td>\n",
              "      <td>NA</td>\n",
              "      <td>Gd</td>\n",
              "      <td>Gd</td>\n",
              "      <td>Absent</td>\n",
              "      <td>GdWo</td>\n",
              "      <td>Absent</td>\n",
              "      <td>ConLD</td>\n",
              "      <td>Family</td>\n",
              "    </tr>\n",
              "    <tr>\n",
              "      <th>4</th>\n",
              "      <td>80</td>\n",
              "      <td>C (all)</td>\n",
              "      <td>Absent</td>\n",
              "      <td>Absent</td>\n",
              "      <td>Absent</td>\n",
              "      <td>Absent</td>\n",
              "      <td>Absent</td>\n",
              "      <td>FR3</td>\n",
              "      <td>Absent</td>\n",
              "      <td>NPkVill</td>\n",
              "      <td>Artery</td>\n",
              "      <td>Artery</td>\n",
              "      <td>Duplex</td>\n",
              "      <td>2.5Unf</td>\n",
              "      <td>Mansard</td>\n",
              "      <td>Absent</td>\n",
              "      <td>CemntBd</td>\n",
              "      <td>Brk Cmn</td>\n",
              "      <td>Absent</td>\n",
              "      <td>Absent</td>\n",
              "      <td>Po</td>\n",
              "      <td>Slab</td>\n",
              "      <td>NA</td>\n",
              "      <td>Absent</td>\n",
              "      <td>NA</td>\n",
              "      <td>BLQ</td>\n",
              "      <td>GLQ</td>\n",
              "      <td>Absent</td>\n",
              "      <td>Po</td>\n",
              "      <td>Absent</td>\n",
              "      <td>Absent</td>\n",
              "      <td>Absent</td>\n",
              "      <td>Maj2</td>\n",
              "      <td>Fa</td>\n",
              "      <td>NA</td>\n",
              "      <td>Absent</td>\n",
              "      <td>Po</td>\n",
              "      <td>Po</td>\n",
              "      <td>Absent</td>\n",
              "      <td>MnWw</td>\n",
              "      <td>Absent</td>\n",
              "      <td>Con</td>\n",
              "      <td>Alloca</td>\n",
              "    </tr>\n",
              "  </tbody>\n",
              "</table>\n",
              "</div>"
            ],
            "text/plain": [
              "  MSSubClass MSZoning  Street   Alley  ...  Fence MiscFeature SaleType SaleCondition\n",
              "0         20       RH    Pave      NA  ...  MnPrv          NA       WD        Normal\n",
              "1         60       RL    Grvl    Pave  ...     NA        Shed      COD       Partial\n",
              "2        120       RM  Absent    Grvl  ...  GdPrv      Absent      New       Abnorml\n",
              "3        160       FV  Absent  Absent  ...   GdWo      Absent    ConLD        Family\n",
              "4         80  C (all)  Absent  Absent  ...   MnWw      Absent      Con        Alloca\n",
              "\n",
              "[5 rows x 43 columns]"
            ]
          },
          "metadata": {
            "tags": []
          },
          "execution_count": 604
        }
      ]
    },
    {
      "cell_type": "code",
      "metadata": {
        "colab": {
          "base_uri": "https://localhost:8080/"
        },
        "id": "x15gcS14imdx",
        "outputId": "cb9f0551-1120-415b-90c5-9116ef5dd1b6"
      },
      "source": [
        "metadata_df[~metadata_df.MSSubClass.isin(metadata_prod_df.MSSubClass)]['MSSubClass']"
      ],
      "execution_count": 605,
      "outputs": [
        {
          "output_type": "execute_result",
          "data": {
            "text/plain": [
              "Series([], Name: MSSubClass, dtype: object)"
            ]
          },
          "metadata": {
            "tags": []
          },
          "execution_count": 605
        }
      ]
    },
    {
      "cell_type": "code",
      "metadata": {
        "colab": {
          "base_uri": "https://localhost:8080/"
        },
        "id": "IJ-jnBf0kSDA",
        "outputId": "56b1feb1-cabf-43f8-84b3-7ab13f6001ca"
      },
      "source": [
        "metadata_df[~metadata_df['MSSubClass'].isin(metadata_prod_df['MSSubClass'])]['MSSubClass']"
      ],
      "execution_count": 606,
      "outputs": [
        {
          "output_type": "execute_result",
          "data": {
            "text/plain": [
              "Series([], Name: MSSubClass, dtype: object)"
            ]
          },
          "metadata": {
            "tags": []
          },
          "execution_count": 606
        }
      ]
    },
    {
      "cell_type": "code",
      "metadata": {
        "colab": {
          "base_uri": "https://localhost:8080/"
        },
        "id": "DFaZJu1lkEr4",
        "outputId": "132e263b-109a-45ee-b6ef-4d73c4f6b980"
      },
      "source": [
        "#Train Metadata Minus Prod Metadata\n",
        "for i in metadata_df.columns:\n",
        "  s = metadata_df[~metadata_df[i].isin(metadata_prod_df[i])][i]\n",
        "  if s.empty==False:\n",
        "    print(i,\" ---->> \",s.values)"
      ],
      "execution_count": 607,
      "outputs": [
        {
          "output_type": "stream",
          "text": [
            "Utilities  ---->>  ['NoSeWa']\n",
            "Condition2  ---->>  ['RRNn']\n",
            "HouseStyle  ---->>  ['2.5Fin']\n",
            "RoofMatl  ---->>  ['Membran']\n",
            "Exterior1st  ---->>  ['Stone' 'ImStucc']\n",
            "Exterior2nd  ---->>  ['AsphShn' 'Stone']\n",
            "BsmtCond  ---->>  ['Po']\n",
            "Heating  ---->>  ['Grav' 'OthW' 'Floor']\n",
            "Electrical  ---->>  ['Mix']\n",
            "Functional  ---->>  ['Sev']\n",
            "GarageQual  ---->>  ['Ex']\n"
          ],
          "name": "stdout"
        }
      ]
    },
    {
      "cell_type": "code",
      "metadata": {
        "colab": {
          "base_uri": "https://localhost:8080/"
        },
        "id": "BgSrbYIbmjih",
        "outputId": "c9b979a2-da0c-4e40-9911-39daac67bb99"
      },
      "source": [
        "cat_prod_missing_in_train = {}\n",
        "#Prod Metadata Minus Train Metadata\n",
        "for i in metadata_prod_df.columns:\n",
        "  s = metadata_prod_df[~metadata_prod_df[i].isin(metadata_df[i])][i]\n",
        "  if s.empty==False:\n",
        "    print(i,\" ---->> \",s.values)\n",
        "    cat_prod_missing_in_train[i] = [element for element in s.values]"
      ],
      "execution_count": 608,
      "outputs": [
        {
          "output_type": "stream",
          "text": [
            "Condition2  ---->>  ['Artery']\n",
            "Exterior1st  ---->>  ['Other']\n",
            "ExterCond  ---->>  ['Po']\n"
          ],
          "name": "stdout"
        }
      ]
    },
    {
      "cell_type": "code",
      "metadata": {
        "colab": {
          "base_uri": "https://localhost:8080/"
        },
        "id": "0iE-vTXiungi",
        "outputId": "f0e426a4-60ff-4132-d5f4-fba2152c3eb9"
      },
      "source": [
        "cat_prod_missing_in_train"
      ],
      "execution_count": 609,
      "outputs": [
        {
          "output_type": "execute_result",
          "data": {
            "text/plain": [
              "{'Condition2': ['Artery'], 'ExterCond': ['Po'], 'Exterior1st': ['Other']}"
            ]
          },
          "metadata": {
            "tags": []
          },
          "execution_count": 609
        }
      ]
    },
    {
      "cell_type": "markdown",
      "metadata": {
        "id": "zg57-F3P1dVf"
      },
      "source": [
        "__After finding minus of categorical values for each column we need to remove additional rows from prod data before undergoing dummies. Addition of completely empty dummy columns for values missing in prod data has to be done after dummies.__"
      ]
    },
    {
      "cell_type": "markdown",
      "metadata": {
        "id": "geUJShee7D_M"
      },
      "source": [
        "Dataframe _out_prod_df_ needs to be treated by removing those records that have some categorical value that was absent in train data (_out_df_)"
      ]
    },
    {
      "cell_type": "code",
      "metadata": {
        "colab": {
          "base_uri": "https://localhost:8080/"
        },
        "id": "ijCRTV9KHOsJ",
        "outputId": "3cb45a42-010d-4b6f-98f3-524324a76940"
      },
      "source": [
        "out_prod_df.shape"
      ],
      "execution_count": 610,
      "outputs": [
        {
          "output_type": "execute_result",
          "data": {
            "text/plain": [
              "(1318, 76)"
            ]
          },
          "metadata": {
            "tags": []
          },
          "execution_count": 610
        }
      ]
    },
    {
      "cell_type": "code",
      "metadata": {
        "colab": {
          "base_uri": "https://localhost:8080/"
        },
        "id": "mpGVd7Bz9e9I",
        "outputId": "43cf73da-d131-43c9-c6f8-09c660491a2b"
      },
      "source": [
        "for i in cat_prod_missing_in_train.keys():\n",
        "  for j in range(len(cat_prod_missing_in_train[i])):\n",
        "    print(f\"Value '{cat_prod_missing_in_train[i][j]}' is present in prod data but was absent from train data for column '{i}'\")\n",
        "    print(out_prod_df[out_prod_df[i]==cat_prod_missing_in_train[i][j]][out_prod_df.columns])\n",
        "    out_prod_df = out_prod_df.loc[~(out_prod_df[i]==cat_prod_missing_in_train[i][j]),:]"
      ],
      "execution_count": 611,
      "outputs": [
        {
          "output_type": "stream",
          "text": [
            "Value 'Artery' is present in prod data but was absent from train data for column 'Condition2'\n",
            "    MSSubClass MSZoning  LotFrontage  ...  YrSold SaleType SaleCondition\n",
            "650         50       RM         54.0  ...    2008       WD       Abnorml\n",
            "778         20       RL         77.0  ...    2008       WD       Abnorml\n",
            "995         50       RM         55.0  ...    2007       WD        Normal\n",
            "\n",
            "[3 rows x 76 columns]\n",
            "Value 'Other' is present in prod data but was absent from train data for column 'Exterior1st'\n",
            "    MSSubClass MSZoning  LotFrontage  ...  YrSold SaleType SaleCondition\n",
            "691         30       RL         85.0  ...    2008       WD        Normal\n",
            "\n",
            "[1 rows x 76 columns]\n",
            "Value 'Po' is present in prod data but was absent from train data for column 'ExterCond'\n",
            "    MSSubClass MSZoning  LotFrontage  ...  YrSold SaleType SaleCondition\n",
            "756         20       RL         80.0  ...    2008       WD       Abnorml\n",
            "\n",
            "[1 rows x 76 columns]\n"
          ],
          "name": "stdout"
        }
      ]
    },
    {
      "cell_type": "code",
      "metadata": {
        "colab": {
          "base_uri": "https://localhost:8080/"
        },
        "id": "XvUocC0EIuFb",
        "outputId": "1d05ce8b-3cfc-4b2c-e481-606fd97df58b"
      },
      "source": [
        "out_prod_df.shape"
      ],
      "execution_count": 612,
      "outputs": [
        {
          "output_type": "execute_result",
          "data": {
            "text/plain": [
              "(1313, 76)"
            ]
          },
          "metadata": {
            "tags": []
          },
          "execution_count": 612
        }
      ]
    },
    {
      "cell_type": "code",
      "metadata": {
        "colab": {
          "base_uri": "https://localhost:8080/"
        },
        "id": "gqytG9kAy3db",
        "outputId": "1e2ac5a7-c1d1-42f2-faef-8f01ca92b11d"
      },
      "source": [
        "#this code is just for exploration - no functionality added\n",
        "for i in cat_prod_missing_in_train.keys():\n",
        "  print(i)\n",
        "  for j in range(len(cat_prod_missing_in_train[i])):\n",
        "    col = '_'.join([i,cat_prod_missing_in_train[i][j]])\n",
        "    print(col)"
      ],
      "execution_count": 613,
      "outputs": [
        {
          "output_type": "stream",
          "text": [
            "Condition2\n",
            "Condition2_Artery\n",
            "Exterior1st\n",
            "Exterior1st_Other\n",
            "ExterCond\n",
            "ExterCond_Po\n"
          ],
          "name": "stdout"
        }
      ]
    },
    {
      "cell_type": "markdown",
      "metadata": {
        "id": "XD15bEYF2ujh"
      },
      "source": [
        "After get_dummies() if we directly compare columns between train and prod data then we easily get the set minus operation results. However the idea is to do all sorts of cleaning at the beginning and not wait till the point of get_dummies(). Here below comparison helps us to verify the results of our code."
      ]
    },
    {
      "cell_type": "code",
      "metadata": {
        "colab": {
          "base_uri": "https://localhost:8080/",
          "height": 51
        },
        "id": "UfmUcVPBqueN",
        "outputId": "06a9ec00-b06f-4b81-dbfe-198974c419ae"
      },
      "source": [
        "'''\n",
        "[item for item in X.columns if item not in X_prod.columns]\n",
        "['Utilities_NoSeWa',\n",
        " 'Condition2_RRNn',\n",
        " 'HouseStyle_2.5Fin',\n",
        " 'RoofMatl_Membran',\n",
        " 'Exterior1st_ImStucc',\n",
        " 'Exterior1st_Stone',\n",
        " 'Exterior2nd_AsphShn',\n",
        " 'Exterior2nd_Stone',\n",
        " 'BsmtCond_Po',\n",
        " 'Heating_GasA',\n",
        " 'Heating_Grav',\n",
        " 'Heating_OthW',\n",
        " 'Electrical_Mix',\n",
        " 'Functional_Sev',\n",
        " 'GarageQual_Fa']\n",
        " '''"
      ],
      "execution_count": 614,
      "outputs": [
        {
          "output_type": "execute_result",
          "data": {
            "application/vnd.google.colaboratory.intrinsic+json": {
              "type": "string"
            },
            "text/plain": [
              "\"\\n[item for item in X.columns if item not in X_prod.columns]\\n['Utilities_NoSeWa',\\n 'Condition2_RRNn',\\n 'HouseStyle_2.5Fin',\\n 'RoofMatl_Membran',\\n 'Exterior1st_ImStucc',\\n 'Exterior1st_Stone',\\n 'Exterior2nd_AsphShn',\\n 'Exterior2nd_Stone',\\n 'BsmtCond_Po',\\n 'Heating_GasA',\\n 'Heating_Grav',\\n 'Heating_OthW',\\n 'Electrical_Mix',\\n 'Functional_Sev',\\n 'GarageQual_Fa']\\n \""
            ]
          },
          "metadata": {
            "tags": []
          },
          "execution_count": 614
        }
      ]
    },
    {
      "cell_type": "code",
      "metadata": {
        "colab": {
          "base_uri": "https://localhost:8080/",
          "height": 35
        },
        "id": "-YhqYFfpsWvw",
        "outputId": "bf8b052a-51df-4b7d-9256-fe99733f92dd"
      },
      "source": [
        "'''\n",
        "[item for item in X_prod.columns if item not in X.columns]\n",
        "['Condition2_Feedr', 'Exterior1st_Other', 'ExterCond_Po']\n",
        "'''"
      ],
      "execution_count": 615,
      "outputs": [
        {
          "output_type": "execute_result",
          "data": {
            "application/vnd.google.colaboratory.intrinsic+json": {
              "type": "string"
            },
            "text/plain": [
              "\"\\n[item for item in X_prod.columns if item not in X.columns]\\n['Condition2_Feedr', 'Exterior1st_Other', 'ExterCond_Po']\\n\""
            ]
          },
          "metadata": {
            "tags": []
          },
          "execution_count": 615
        }
      ]
    },
    {
      "cell_type": "markdown",
      "metadata": {
        "id": "3suidgUVM110"
      },
      "source": [
        "After removal of extra records from prod data, we do get_dummies(). Then we check if the set minus operations lead to expected result or some other common categorical value got removed from prod data. If all is good, then we proceed with addition of new dummy columns for categorical values absent from prod data."
      ]
    },
    {
      "cell_type": "code",
      "metadata": {
        "id": "cYrAoutFNPb1"
      },
      "source": [
        "data_df = pd.get_dummies(out_prod_df, drop_first=True)"
      ],
      "execution_count": 616,
      "outputs": []
    },
    {
      "cell_type": "code",
      "metadata": {
        "colab": {
          "base_uri": "https://localhost:8080/"
        },
        "id": "Jw3hYTQoNVfw",
        "outputId": "8dfc09a5-5d32-41bd-9527-75a754e6241c"
      },
      "source": [
        "X_prod = data_df.copy()\n",
        "print(X_prod.shape)"
      ],
      "execution_count": 617,
      "outputs": [
        {
          "output_type": "stream",
          "text": [
            "(1313, 239)\n"
          ],
          "name": "stdout"
        }
      ]
    },
    {
      "cell_type": "code",
      "metadata": {
        "colab": {
          "base_uri": "https://localhost:8080/"
        },
        "id": "nkkF6Yw2NmeA",
        "outputId": "04033d12-efac-4503-f8a1-c4f80e0b1c32"
      },
      "source": [
        "columns_in_train_not_in_prod = [item for item in X.columns if item not in X_prod.columns]\n",
        "columns_in_train_not_in_prod"
      ],
      "execution_count": 618,
      "outputs": [
        {
          "output_type": "execute_result",
          "data": {
            "text/plain": [
              "['Utilities_NoSeWa',\n",
              " 'Condition2_RRNn',\n",
              " 'HouseStyle_2.5Fin',\n",
              " 'RoofMatl_Membran',\n",
              " 'Exterior1st_ImStucc',\n",
              " 'Exterior1st_Stone',\n",
              " 'Exterior2nd_AsphShn',\n",
              " 'Exterior2nd_Other',\n",
              " 'Exterior2nd_Stone',\n",
              " 'BsmtCond_Po',\n",
              " 'Heating_GasA',\n",
              " 'Heating_Grav',\n",
              " 'Heating_OthW',\n",
              " 'Heating_Wall',\n",
              " 'Electrical_Mix',\n",
              " 'Functional_Sev',\n",
              " 'GarageQual_Fa']"
            ]
          },
          "metadata": {
            "tags": []
          },
          "execution_count": 618
        }
      ]
    },
    {
      "cell_type": "code",
      "metadata": {
        "colab": {
          "base_uri": "https://localhost:8080/"
        },
        "id": "NwtiMf78Nwk2",
        "outputId": "f01e3ef1-f4cf-4ea5-d241-d6d5cdc3b3a6"
      },
      "source": [
        "[item for item in X_prod.columns if item not in X.columns]"
      ],
      "execution_count": 619,
      "outputs": [
        {
          "output_type": "execute_result",
          "data": {
            "text/plain": [
              "[]"
            ]
          },
          "metadata": {
            "tags": []
          },
          "execution_count": 619
        }
      ]
    },
    {
      "cell_type": "code",
      "metadata": {
        "colab": {
          "base_uri": "https://localhost:8080/",
          "height": 236
        },
        "id": "BD0ow4GuSCh3",
        "outputId": "2ad026dc-6ca9-401a-c209-c12ab749772c"
      },
      "source": [
        "add_column_df = pd.DataFrame(np.zeros((X_prod.shape[0],len(columns_in_train_not_in_prod))), columns=columns_in_train_not_in_prod)\n",
        "print(add_column_df.shape)\n",
        "add_column_df.head()"
      ],
      "execution_count": 620,
      "outputs": [
        {
          "output_type": "stream",
          "text": [
            "(1313, 17)\n"
          ],
          "name": "stdout"
        },
        {
          "output_type": "execute_result",
          "data": {
            "text/html": [
              "<div>\n",
              "<style scoped>\n",
              "    .dataframe tbody tr th:only-of-type {\n",
              "        vertical-align: middle;\n",
              "    }\n",
              "\n",
              "    .dataframe tbody tr th {\n",
              "        vertical-align: top;\n",
              "    }\n",
              "\n",
              "    .dataframe thead th {\n",
              "        text-align: right;\n",
              "    }\n",
              "</style>\n",
              "<table border=\"1\" class=\"dataframe\">\n",
              "  <thead>\n",
              "    <tr style=\"text-align: right;\">\n",
              "      <th></th>\n",
              "      <th>Utilities_NoSeWa</th>\n",
              "      <th>Condition2_RRNn</th>\n",
              "      <th>HouseStyle_2.5Fin</th>\n",
              "      <th>RoofMatl_Membran</th>\n",
              "      <th>Exterior1st_ImStucc</th>\n",
              "      <th>Exterior1st_Stone</th>\n",
              "      <th>Exterior2nd_AsphShn</th>\n",
              "      <th>Exterior2nd_Other</th>\n",
              "      <th>Exterior2nd_Stone</th>\n",
              "      <th>BsmtCond_Po</th>\n",
              "      <th>Heating_GasA</th>\n",
              "      <th>Heating_Grav</th>\n",
              "      <th>Heating_OthW</th>\n",
              "      <th>Heating_Wall</th>\n",
              "      <th>Electrical_Mix</th>\n",
              "      <th>Functional_Sev</th>\n",
              "      <th>GarageQual_Fa</th>\n",
              "    </tr>\n",
              "  </thead>\n",
              "  <tbody>\n",
              "    <tr>\n",
              "      <th>0</th>\n",
              "      <td>0.0</td>\n",
              "      <td>0.0</td>\n",
              "      <td>0.0</td>\n",
              "      <td>0.0</td>\n",
              "      <td>0.0</td>\n",
              "      <td>0.0</td>\n",
              "      <td>0.0</td>\n",
              "      <td>0.0</td>\n",
              "      <td>0.0</td>\n",
              "      <td>0.0</td>\n",
              "      <td>0.0</td>\n",
              "      <td>0.0</td>\n",
              "      <td>0.0</td>\n",
              "      <td>0.0</td>\n",
              "      <td>0.0</td>\n",
              "      <td>0.0</td>\n",
              "      <td>0.0</td>\n",
              "    </tr>\n",
              "    <tr>\n",
              "      <th>1</th>\n",
              "      <td>0.0</td>\n",
              "      <td>0.0</td>\n",
              "      <td>0.0</td>\n",
              "      <td>0.0</td>\n",
              "      <td>0.0</td>\n",
              "      <td>0.0</td>\n",
              "      <td>0.0</td>\n",
              "      <td>0.0</td>\n",
              "      <td>0.0</td>\n",
              "      <td>0.0</td>\n",
              "      <td>0.0</td>\n",
              "      <td>0.0</td>\n",
              "      <td>0.0</td>\n",
              "      <td>0.0</td>\n",
              "      <td>0.0</td>\n",
              "      <td>0.0</td>\n",
              "      <td>0.0</td>\n",
              "    </tr>\n",
              "    <tr>\n",
              "      <th>2</th>\n",
              "      <td>0.0</td>\n",
              "      <td>0.0</td>\n",
              "      <td>0.0</td>\n",
              "      <td>0.0</td>\n",
              "      <td>0.0</td>\n",
              "      <td>0.0</td>\n",
              "      <td>0.0</td>\n",
              "      <td>0.0</td>\n",
              "      <td>0.0</td>\n",
              "      <td>0.0</td>\n",
              "      <td>0.0</td>\n",
              "      <td>0.0</td>\n",
              "      <td>0.0</td>\n",
              "      <td>0.0</td>\n",
              "      <td>0.0</td>\n",
              "      <td>0.0</td>\n",
              "      <td>0.0</td>\n",
              "    </tr>\n",
              "    <tr>\n",
              "      <th>3</th>\n",
              "      <td>0.0</td>\n",
              "      <td>0.0</td>\n",
              "      <td>0.0</td>\n",
              "      <td>0.0</td>\n",
              "      <td>0.0</td>\n",
              "      <td>0.0</td>\n",
              "      <td>0.0</td>\n",
              "      <td>0.0</td>\n",
              "      <td>0.0</td>\n",
              "      <td>0.0</td>\n",
              "      <td>0.0</td>\n",
              "      <td>0.0</td>\n",
              "      <td>0.0</td>\n",
              "      <td>0.0</td>\n",
              "      <td>0.0</td>\n",
              "      <td>0.0</td>\n",
              "      <td>0.0</td>\n",
              "    </tr>\n",
              "    <tr>\n",
              "      <th>4</th>\n",
              "      <td>0.0</td>\n",
              "      <td>0.0</td>\n",
              "      <td>0.0</td>\n",
              "      <td>0.0</td>\n",
              "      <td>0.0</td>\n",
              "      <td>0.0</td>\n",
              "      <td>0.0</td>\n",
              "      <td>0.0</td>\n",
              "      <td>0.0</td>\n",
              "      <td>0.0</td>\n",
              "      <td>0.0</td>\n",
              "      <td>0.0</td>\n",
              "      <td>0.0</td>\n",
              "      <td>0.0</td>\n",
              "      <td>0.0</td>\n",
              "      <td>0.0</td>\n",
              "      <td>0.0</td>\n",
              "    </tr>\n",
              "  </tbody>\n",
              "</table>\n",
              "</div>"
            ],
            "text/plain": [
              "   Utilities_NoSeWa  Condition2_RRNn  ...  Functional_Sev  GarageQual_Fa\n",
              "0               0.0              0.0  ...             0.0            0.0\n",
              "1               0.0              0.0  ...             0.0            0.0\n",
              "2               0.0              0.0  ...             0.0            0.0\n",
              "3               0.0              0.0  ...             0.0            0.0\n",
              "4               0.0              0.0  ...             0.0            0.0\n",
              "\n",
              "[5 rows x 17 columns]"
            ]
          },
          "metadata": {
            "tags": []
          },
          "execution_count": 620
        }
      ]
    },
    {
      "cell_type": "code",
      "metadata": {
        "colab": {
          "base_uri": "https://localhost:8080/",
          "height": 428
        },
        "id": "3C4GajZlUvxi",
        "outputId": "a76cbc41-c239-4d6d-8a92-487495a2b9a5"
      },
      "source": [
        "#prod data after outlier and extra categorical value removal (rows removed) had indexes not in sequential order. This could give issue when concating, so we reindex\n",
        "X_prod.reset_index(inplace=True)\n",
        "X_prod"
      ],
      "execution_count": 621,
      "outputs": [
        {
          "output_type": "execute_result",
          "data": {
            "text/html": [
              "<div>\n",
              "<style scoped>\n",
              "    .dataframe tbody tr th:only-of-type {\n",
              "        vertical-align: middle;\n",
              "    }\n",
              "\n",
              "    .dataframe tbody tr th {\n",
              "        vertical-align: top;\n",
              "    }\n",
              "\n",
              "    .dataframe thead th {\n",
              "        text-align: right;\n",
              "    }\n",
              "</style>\n",
              "<table border=\"1\" class=\"dataframe\">\n",
              "  <thead>\n",
              "    <tr style=\"text-align: right;\">\n",
              "      <th></th>\n",
              "      <th>index</th>\n",
              "      <th>LotFrontage</th>\n",
              "      <th>LotArea</th>\n",
              "      <th>OverallQual</th>\n",
              "      <th>OverallCond</th>\n",
              "      <th>YearBuilt</th>\n",
              "      <th>YearRemodAdd</th>\n",
              "      <th>MasVnrArea</th>\n",
              "      <th>BsmtFinSF1</th>\n",
              "      <th>BsmtFinSF2</th>\n",
              "      <th>BsmtUnfSF</th>\n",
              "      <th>1stFlrSF</th>\n",
              "      <th>2ndFlrSF</th>\n",
              "      <th>LowQualFinSF</th>\n",
              "      <th>GrLivArea</th>\n",
              "      <th>BsmtFullBath</th>\n",
              "      <th>BsmtHalfBath</th>\n",
              "      <th>FullBath</th>\n",
              "      <th>HalfBath</th>\n",
              "      <th>BedroomAbvGr</th>\n",
              "      <th>KitchenAbvGr</th>\n",
              "      <th>TotRmsAbvGrd</th>\n",
              "      <th>Fireplaces</th>\n",
              "      <th>GarageYrBlt</th>\n",
              "      <th>GarageCars</th>\n",
              "      <th>GarageArea</th>\n",
              "      <th>WoodDeckSF</th>\n",
              "      <th>OpenPorchSF</th>\n",
              "      <th>EnclosedPorch</th>\n",
              "      <th>3SsnPorch</th>\n",
              "      <th>ScreenPorch</th>\n",
              "      <th>MiscVal</th>\n",
              "      <th>MoSold</th>\n",
              "      <th>YrSold</th>\n",
              "      <th>MSSubClass_160</th>\n",
              "      <th>MSSubClass_180</th>\n",
              "      <th>MSSubClass_190</th>\n",
              "      <th>MSSubClass_20</th>\n",
              "      <th>MSSubClass_30</th>\n",
              "      <th>MSSubClass_40</th>\n",
              "      <th>...</th>\n",
              "      <th>FireplaceQu_Po</th>\n",
              "      <th>FireplaceQu_TA</th>\n",
              "      <th>GarageType_Attchd</th>\n",
              "      <th>GarageType_Basment</th>\n",
              "      <th>GarageType_BuiltIn</th>\n",
              "      <th>GarageType_CarPort</th>\n",
              "      <th>GarageType_Detchd</th>\n",
              "      <th>GarageType_NA</th>\n",
              "      <th>GarageFinish_NA</th>\n",
              "      <th>GarageFinish_RFn</th>\n",
              "      <th>GarageFinish_Unf</th>\n",
              "      <th>GarageQual_Gd</th>\n",
              "      <th>GarageQual_NA</th>\n",
              "      <th>GarageQual_Po</th>\n",
              "      <th>GarageQual_TA</th>\n",
              "      <th>GarageCond_Fa</th>\n",
              "      <th>GarageCond_Gd</th>\n",
              "      <th>GarageCond_NA</th>\n",
              "      <th>GarageCond_Po</th>\n",
              "      <th>GarageCond_TA</th>\n",
              "      <th>PavedDrive_P</th>\n",
              "      <th>PavedDrive_Y</th>\n",
              "      <th>Fence_GdWo</th>\n",
              "      <th>Fence_MnPrv</th>\n",
              "      <th>Fence_MnWw</th>\n",
              "      <th>Fence_NA</th>\n",
              "      <th>MiscFeature_Shed</th>\n",
              "      <th>SaleType_CWD</th>\n",
              "      <th>SaleType_Con</th>\n",
              "      <th>SaleType_ConLD</th>\n",
              "      <th>SaleType_ConLI</th>\n",
              "      <th>SaleType_ConLw</th>\n",
              "      <th>SaleType_New</th>\n",
              "      <th>SaleType_Oth</th>\n",
              "      <th>SaleType_WD</th>\n",
              "      <th>SaleCondition_AdjLand</th>\n",
              "      <th>SaleCondition_Alloca</th>\n",
              "      <th>SaleCondition_Family</th>\n",
              "      <th>SaleCondition_Normal</th>\n",
              "      <th>SaleCondition_Partial</th>\n",
              "    </tr>\n",
              "  </thead>\n",
              "  <tbody>\n",
              "    <tr>\n",
              "      <th>0</th>\n",
              "      <td>0</td>\n",
              "      <td>80.0</td>\n",
              "      <td>11622</td>\n",
              "      <td>5</td>\n",
              "      <td>6</td>\n",
              "      <td>1961</td>\n",
              "      <td>1961</td>\n",
              "      <td>0.0</td>\n",
              "      <td>468.0</td>\n",
              "      <td>144.0</td>\n",
              "      <td>270.0</td>\n",
              "      <td>896</td>\n",
              "      <td>0</td>\n",
              "      <td>0</td>\n",
              "      <td>896</td>\n",
              "      <td>0.0</td>\n",
              "      <td>0.0</td>\n",
              "      <td>1</td>\n",
              "      <td>0</td>\n",
              "      <td>2</td>\n",
              "      <td>1</td>\n",
              "      <td>5</td>\n",
              "      <td>0</td>\n",
              "      <td>1961</td>\n",
              "      <td>1.0</td>\n",
              "      <td>730.0</td>\n",
              "      <td>140</td>\n",
              "      <td>0</td>\n",
              "      <td>0</td>\n",
              "      <td>0</td>\n",
              "      <td>120</td>\n",
              "      <td>0</td>\n",
              "      <td>6</td>\n",
              "      <td>2010</td>\n",
              "      <td>0</td>\n",
              "      <td>0</td>\n",
              "      <td>0</td>\n",
              "      <td>1</td>\n",
              "      <td>0</td>\n",
              "      <td>0</td>\n",
              "      <td>...</td>\n",
              "      <td>0</td>\n",
              "      <td>0</td>\n",
              "      <td>1</td>\n",
              "      <td>0</td>\n",
              "      <td>0</td>\n",
              "      <td>0</td>\n",
              "      <td>0</td>\n",
              "      <td>0</td>\n",
              "      <td>0</td>\n",
              "      <td>0</td>\n",
              "      <td>1</td>\n",
              "      <td>0</td>\n",
              "      <td>0</td>\n",
              "      <td>0</td>\n",
              "      <td>1</td>\n",
              "      <td>0</td>\n",
              "      <td>0</td>\n",
              "      <td>0</td>\n",
              "      <td>0</td>\n",
              "      <td>1</td>\n",
              "      <td>0</td>\n",
              "      <td>1</td>\n",
              "      <td>0</td>\n",
              "      <td>1</td>\n",
              "      <td>0</td>\n",
              "      <td>0</td>\n",
              "      <td>0</td>\n",
              "      <td>0</td>\n",
              "      <td>0</td>\n",
              "      <td>0</td>\n",
              "      <td>0</td>\n",
              "      <td>0</td>\n",
              "      <td>0</td>\n",
              "      <td>0</td>\n",
              "      <td>1</td>\n",
              "      <td>0</td>\n",
              "      <td>0</td>\n",
              "      <td>0</td>\n",
              "      <td>1</td>\n",
              "      <td>0</td>\n",
              "    </tr>\n",
              "    <tr>\n",
              "      <th>1</th>\n",
              "      <td>2</td>\n",
              "      <td>74.0</td>\n",
              "      <td>13830</td>\n",
              "      <td>5</td>\n",
              "      <td>5</td>\n",
              "      <td>1997</td>\n",
              "      <td>1998</td>\n",
              "      <td>0.0</td>\n",
              "      <td>791.0</td>\n",
              "      <td>0.0</td>\n",
              "      <td>137.0</td>\n",
              "      <td>928</td>\n",
              "      <td>701</td>\n",
              "      <td>0</td>\n",
              "      <td>1629</td>\n",
              "      <td>0.0</td>\n",
              "      <td>0.0</td>\n",
              "      <td>2</td>\n",
              "      <td>1</td>\n",
              "      <td>3</td>\n",
              "      <td>1</td>\n",
              "      <td>6</td>\n",
              "      <td>1</td>\n",
              "      <td>1997</td>\n",
              "      <td>2.0</td>\n",
              "      <td>482.0</td>\n",
              "      <td>212</td>\n",
              "      <td>34</td>\n",
              "      <td>0</td>\n",
              "      <td>0</td>\n",
              "      <td>0</td>\n",
              "      <td>0</td>\n",
              "      <td>3</td>\n",
              "      <td>2010</td>\n",
              "      <td>0</td>\n",
              "      <td>0</td>\n",
              "      <td>0</td>\n",
              "      <td>0</td>\n",
              "      <td>0</td>\n",
              "      <td>0</td>\n",
              "      <td>...</td>\n",
              "      <td>0</td>\n",
              "      <td>1</td>\n",
              "      <td>1</td>\n",
              "      <td>0</td>\n",
              "      <td>0</td>\n",
              "      <td>0</td>\n",
              "      <td>0</td>\n",
              "      <td>0</td>\n",
              "      <td>0</td>\n",
              "      <td>0</td>\n",
              "      <td>0</td>\n",
              "      <td>0</td>\n",
              "      <td>0</td>\n",
              "      <td>0</td>\n",
              "      <td>1</td>\n",
              "      <td>0</td>\n",
              "      <td>0</td>\n",
              "      <td>0</td>\n",
              "      <td>0</td>\n",
              "      <td>1</td>\n",
              "      <td>0</td>\n",
              "      <td>1</td>\n",
              "      <td>0</td>\n",
              "      <td>1</td>\n",
              "      <td>0</td>\n",
              "      <td>0</td>\n",
              "      <td>0</td>\n",
              "      <td>0</td>\n",
              "      <td>0</td>\n",
              "      <td>0</td>\n",
              "      <td>0</td>\n",
              "      <td>0</td>\n",
              "      <td>0</td>\n",
              "      <td>0</td>\n",
              "      <td>1</td>\n",
              "      <td>0</td>\n",
              "      <td>0</td>\n",
              "      <td>0</td>\n",
              "      <td>1</td>\n",
              "      <td>0</td>\n",
              "    </tr>\n",
              "    <tr>\n",
              "      <th>2</th>\n",
              "      <td>3</td>\n",
              "      <td>78.0</td>\n",
              "      <td>9978</td>\n",
              "      <td>6</td>\n",
              "      <td>6</td>\n",
              "      <td>1998</td>\n",
              "      <td>1998</td>\n",
              "      <td>20.0</td>\n",
              "      <td>602.0</td>\n",
              "      <td>0.0</td>\n",
              "      <td>324.0</td>\n",
              "      <td>926</td>\n",
              "      <td>678</td>\n",
              "      <td>0</td>\n",
              "      <td>1604</td>\n",
              "      <td>0.0</td>\n",
              "      <td>0.0</td>\n",
              "      <td>2</td>\n",
              "      <td>1</td>\n",
              "      <td>3</td>\n",
              "      <td>1</td>\n",
              "      <td>7</td>\n",
              "      <td>1</td>\n",
              "      <td>1998</td>\n",
              "      <td>2.0</td>\n",
              "      <td>470.0</td>\n",
              "      <td>360</td>\n",
              "      <td>36</td>\n",
              "      <td>0</td>\n",
              "      <td>0</td>\n",
              "      <td>0</td>\n",
              "      <td>0</td>\n",
              "      <td>6</td>\n",
              "      <td>2010</td>\n",
              "      <td>0</td>\n",
              "      <td>0</td>\n",
              "      <td>0</td>\n",
              "      <td>0</td>\n",
              "      <td>0</td>\n",
              "      <td>0</td>\n",
              "      <td>...</td>\n",
              "      <td>0</td>\n",
              "      <td>0</td>\n",
              "      <td>1</td>\n",
              "      <td>0</td>\n",
              "      <td>0</td>\n",
              "      <td>0</td>\n",
              "      <td>0</td>\n",
              "      <td>0</td>\n",
              "      <td>0</td>\n",
              "      <td>0</td>\n",
              "      <td>0</td>\n",
              "      <td>0</td>\n",
              "      <td>0</td>\n",
              "      <td>0</td>\n",
              "      <td>1</td>\n",
              "      <td>0</td>\n",
              "      <td>0</td>\n",
              "      <td>0</td>\n",
              "      <td>0</td>\n",
              "      <td>1</td>\n",
              "      <td>0</td>\n",
              "      <td>1</td>\n",
              "      <td>0</td>\n",
              "      <td>0</td>\n",
              "      <td>0</td>\n",
              "      <td>1</td>\n",
              "      <td>0</td>\n",
              "      <td>0</td>\n",
              "      <td>0</td>\n",
              "      <td>0</td>\n",
              "      <td>0</td>\n",
              "      <td>0</td>\n",
              "      <td>0</td>\n",
              "      <td>0</td>\n",
              "      <td>1</td>\n",
              "      <td>0</td>\n",
              "      <td>0</td>\n",
              "      <td>0</td>\n",
              "      <td>1</td>\n",
              "      <td>0</td>\n",
              "    </tr>\n",
              "    <tr>\n",
              "      <th>3</th>\n",
              "      <td>4</td>\n",
              "      <td>43.0</td>\n",
              "      <td>5005</td>\n",
              "      <td>8</td>\n",
              "      <td>5</td>\n",
              "      <td>1992</td>\n",
              "      <td>1992</td>\n",
              "      <td>0.0</td>\n",
              "      <td>263.0</td>\n",
              "      <td>0.0</td>\n",
              "      <td>1017.0</td>\n",
              "      <td>1280</td>\n",
              "      <td>0</td>\n",
              "      <td>0</td>\n",
              "      <td>1280</td>\n",
              "      <td>0.0</td>\n",
              "      <td>0.0</td>\n",
              "      <td>2</td>\n",
              "      <td>0</td>\n",
              "      <td>2</td>\n",
              "      <td>1</td>\n",
              "      <td>5</td>\n",
              "      <td>0</td>\n",
              "      <td>1992</td>\n",
              "      <td>2.0</td>\n",
              "      <td>506.0</td>\n",
              "      <td>0</td>\n",
              "      <td>82</td>\n",
              "      <td>0</td>\n",
              "      <td>0</td>\n",
              "      <td>144</td>\n",
              "      <td>0</td>\n",
              "      <td>1</td>\n",
              "      <td>2010</td>\n",
              "      <td>0</td>\n",
              "      <td>0</td>\n",
              "      <td>0</td>\n",
              "      <td>0</td>\n",
              "      <td>0</td>\n",
              "      <td>0</td>\n",
              "      <td>...</td>\n",
              "      <td>0</td>\n",
              "      <td>0</td>\n",
              "      <td>1</td>\n",
              "      <td>0</td>\n",
              "      <td>0</td>\n",
              "      <td>0</td>\n",
              "      <td>0</td>\n",
              "      <td>0</td>\n",
              "      <td>0</td>\n",
              "      <td>1</td>\n",
              "      <td>0</td>\n",
              "      <td>0</td>\n",
              "      <td>0</td>\n",
              "      <td>0</td>\n",
              "      <td>1</td>\n",
              "      <td>0</td>\n",
              "      <td>0</td>\n",
              "      <td>0</td>\n",
              "      <td>0</td>\n",
              "      <td>1</td>\n",
              "      <td>0</td>\n",
              "      <td>1</td>\n",
              "      <td>0</td>\n",
              "      <td>0</td>\n",
              "      <td>0</td>\n",
              "      <td>1</td>\n",
              "      <td>0</td>\n",
              "      <td>0</td>\n",
              "      <td>0</td>\n",
              "      <td>0</td>\n",
              "      <td>0</td>\n",
              "      <td>0</td>\n",
              "      <td>0</td>\n",
              "      <td>0</td>\n",
              "      <td>1</td>\n",
              "      <td>0</td>\n",
              "      <td>0</td>\n",
              "      <td>0</td>\n",
              "      <td>1</td>\n",
              "      <td>0</td>\n",
              "    </tr>\n",
              "    <tr>\n",
              "      <th>4</th>\n",
              "      <td>5</td>\n",
              "      <td>75.0</td>\n",
              "      <td>10000</td>\n",
              "      <td>6</td>\n",
              "      <td>5</td>\n",
              "      <td>1993</td>\n",
              "      <td>1994</td>\n",
              "      <td>0.0</td>\n",
              "      <td>0.0</td>\n",
              "      <td>0.0</td>\n",
              "      <td>763.0</td>\n",
              "      <td>763</td>\n",
              "      <td>892</td>\n",
              "      <td>0</td>\n",
              "      <td>1655</td>\n",
              "      <td>0.0</td>\n",
              "      <td>0.0</td>\n",
              "      <td>2</td>\n",
              "      <td>1</td>\n",
              "      <td>3</td>\n",
              "      <td>1</td>\n",
              "      <td>7</td>\n",
              "      <td>1</td>\n",
              "      <td>1993</td>\n",
              "      <td>2.0</td>\n",
              "      <td>440.0</td>\n",
              "      <td>157</td>\n",
              "      <td>84</td>\n",
              "      <td>0</td>\n",
              "      <td>0</td>\n",
              "      <td>0</td>\n",
              "      <td>0</td>\n",
              "      <td>4</td>\n",
              "      <td>2010</td>\n",
              "      <td>0</td>\n",
              "      <td>0</td>\n",
              "      <td>0</td>\n",
              "      <td>0</td>\n",
              "      <td>0</td>\n",
              "      <td>0</td>\n",
              "      <td>...</td>\n",
              "      <td>0</td>\n",
              "      <td>1</td>\n",
              "      <td>1</td>\n",
              "      <td>0</td>\n",
              "      <td>0</td>\n",
              "      <td>0</td>\n",
              "      <td>0</td>\n",
              "      <td>0</td>\n",
              "      <td>0</td>\n",
              "      <td>0</td>\n",
              "      <td>0</td>\n",
              "      <td>0</td>\n",
              "      <td>0</td>\n",
              "      <td>0</td>\n",
              "      <td>1</td>\n",
              "      <td>0</td>\n",
              "      <td>0</td>\n",
              "      <td>0</td>\n",
              "      <td>0</td>\n",
              "      <td>1</td>\n",
              "      <td>0</td>\n",
              "      <td>1</td>\n",
              "      <td>0</td>\n",
              "      <td>0</td>\n",
              "      <td>0</td>\n",
              "      <td>1</td>\n",
              "      <td>0</td>\n",
              "      <td>0</td>\n",
              "      <td>0</td>\n",
              "      <td>0</td>\n",
              "      <td>0</td>\n",
              "      <td>0</td>\n",
              "      <td>0</td>\n",
              "      <td>0</td>\n",
              "      <td>1</td>\n",
              "      <td>0</td>\n",
              "      <td>0</td>\n",
              "      <td>0</td>\n",
              "      <td>1</td>\n",
              "      <td>0</td>\n",
              "    </tr>\n",
              "    <tr>\n",
              "      <th>...</th>\n",
              "      <td>...</td>\n",
              "      <td>...</td>\n",
              "      <td>...</td>\n",
              "      <td>...</td>\n",
              "      <td>...</td>\n",
              "      <td>...</td>\n",
              "      <td>...</td>\n",
              "      <td>...</td>\n",
              "      <td>...</td>\n",
              "      <td>...</td>\n",
              "      <td>...</td>\n",
              "      <td>...</td>\n",
              "      <td>...</td>\n",
              "      <td>...</td>\n",
              "      <td>...</td>\n",
              "      <td>...</td>\n",
              "      <td>...</td>\n",
              "      <td>...</td>\n",
              "      <td>...</td>\n",
              "      <td>...</td>\n",
              "      <td>...</td>\n",
              "      <td>...</td>\n",
              "      <td>...</td>\n",
              "      <td>...</td>\n",
              "      <td>...</td>\n",
              "      <td>...</td>\n",
              "      <td>...</td>\n",
              "      <td>...</td>\n",
              "      <td>...</td>\n",
              "      <td>...</td>\n",
              "      <td>...</td>\n",
              "      <td>...</td>\n",
              "      <td>...</td>\n",
              "      <td>...</td>\n",
              "      <td>...</td>\n",
              "      <td>...</td>\n",
              "      <td>...</td>\n",
              "      <td>...</td>\n",
              "      <td>...</td>\n",
              "      <td>...</td>\n",
              "      <td>...</td>\n",
              "      <td>...</td>\n",
              "      <td>...</td>\n",
              "      <td>...</td>\n",
              "      <td>...</td>\n",
              "      <td>...</td>\n",
              "      <td>...</td>\n",
              "      <td>...</td>\n",
              "      <td>...</td>\n",
              "      <td>...</td>\n",
              "      <td>...</td>\n",
              "      <td>...</td>\n",
              "      <td>...</td>\n",
              "      <td>...</td>\n",
              "      <td>...</td>\n",
              "      <td>...</td>\n",
              "      <td>...</td>\n",
              "      <td>...</td>\n",
              "      <td>...</td>\n",
              "      <td>...</td>\n",
              "      <td>...</td>\n",
              "      <td>...</td>\n",
              "      <td>...</td>\n",
              "      <td>...</td>\n",
              "      <td>...</td>\n",
              "      <td>...</td>\n",
              "      <td>...</td>\n",
              "      <td>...</td>\n",
              "      <td>...</td>\n",
              "      <td>...</td>\n",
              "      <td>...</td>\n",
              "      <td>...</td>\n",
              "      <td>...</td>\n",
              "      <td>...</td>\n",
              "      <td>...</td>\n",
              "      <td>...</td>\n",
              "      <td>...</td>\n",
              "      <td>...</td>\n",
              "      <td>...</td>\n",
              "      <td>...</td>\n",
              "      <td>...</td>\n",
              "    </tr>\n",
              "    <tr>\n",
              "      <th>1308</th>\n",
              "      <td>1453</td>\n",
              "      <td>21.0</td>\n",
              "      <td>1526</td>\n",
              "      <td>4</td>\n",
              "      <td>5</td>\n",
              "      <td>1970</td>\n",
              "      <td>1970</td>\n",
              "      <td>0.0</td>\n",
              "      <td>0.0</td>\n",
              "      <td>0.0</td>\n",
              "      <td>546.0</td>\n",
              "      <td>546</td>\n",
              "      <td>546</td>\n",
              "      <td>0</td>\n",
              "      <td>1092</td>\n",
              "      <td>0.0</td>\n",
              "      <td>0.0</td>\n",
              "      <td>1</td>\n",
              "      <td>1</td>\n",
              "      <td>3</td>\n",
              "      <td>1</td>\n",
              "      <td>5</td>\n",
              "      <td>0</td>\n",
              "      <td>0</td>\n",
              "      <td>0.0</td>\n",
              "      <td>0.0</td>\n",
              "      <td>0</td>\n",
              "      <td>34</td>\n",
              "      <td>0</td>\n",
              "      <td>0</td>\n",
              "      <td>0</td>\n",
              "      <td>0</td>\n",
              "      <td>6</td>\n",
              "      <td>2006</td>\n",
              "      <td>1</td>\n",
              "      <td>0</td>\n",
              "      <td>0</td>\n",
              "      <td>0</td>\n",
              "      <td>0</td>\n",
              "      <td>0</td>\n",
              "      <td>...</td>\n",
              "      <td>0</td>\n",
              "      <td>0</td>\n",
              "      <td>0</td>\n",
              "      <td>0</td>\n",
              "      <td>0</td>\n",
              "      <td>0</td>\n",
              "      <td>0</td>\n",
              "      <td>1</td>\n",
              "      <td>1</td>\n",
              "      <td>0</td>\n",
              "      <td>0</td>\n",
              "      <td>0</td>\n",
              "      <td>1</td>\n",
              "      <td>0</td>\n",
              "      <td>0</td>\n",
              "      <td>0</td>\n",
              "      <td>0</td>\n",
              "      <td>1</td>\n",
              "      <td>0</td>\n",
              "      <td>0</td>\n",
              "      <td>0</td>\n",
              "      <td>1</td>\n",
              "      <td>0</td>\n",
              "      <td>0</td>\n",
              "      <td>0</td>\n",
              "      <td>0</td>\n",
              "      <td>0</td>\n",
              "      <td>0</td>\n",
              "      <td>0</td>\n",
              "      <td>0</td>\n",
              "      <td>0</td>\n",
              "      <td>0</td>\n",
              "      <td>0</td>\n",
              "      <td>0</td>\n",
              "      <td>1</td>\n",
              "      <td>0</td>\n",
              "      <td>0</td>\n",
              "      <td>0</td>\n",
              "      <td>1</td>\n",
              "      <td>0</td>\n",
              "    </tr>\n",
              "    <tr>\n",
              "      <th>1309</th>\n",
              "      <td>1454</td>\n",
              "      <td>21.0</td>\n",
              "      <td>1936</td>\n",
              "      <td>4</td>\n",
              "      <td>7</td>\n",
              "      <td>1970</td>\n",
              "      <td>1970</td>\n",
              "      <td>0.0</td>\n",
              "      <td>0.0</td>\n",
              "      <td>0.0</td>\n",
              "      <td>546.0</td>\n",
              "      <td>546</td>\n",
              "      <td>546</td>\n",
              "      <td>0</td>\n",
              "      <td>1092</td>\n",
              "      <td>0.0</td>\n",
              "      <td>0.0</td>\n",
              "      <td>1</td>\n",
              "      <td>1</td>\n",
              "      <td>3</td>\n",
              "      <td>1</td>\n",
              "      <td>5</td>\n",
              "      <td>0</td>\n",
              "      <td>0</td>\n",
              "      <td>0.0</td>\n",
              "      <td>0.0</td>\n",
              "      <td>0</td>\n",
              "      <td>0</td>\n",
              "      <td>0</td>\n",
              "      <td>0</td>\n",
              "      <td>0</td>\n",
              "      <td>0</td>\n",
              "      <td>6</td>\n",
              "      <td>2006</td>\n",
              "      <td>1</td>\n",
              "      <td>0</td>\n",
              "      <td>0</td>\n",
              "      <td>0</td>\n",
              "      <td>0</td>\n",
              "      <td>0</td>\n",
              "      <td>...</td>\n",
              "      <td>0</td>\n",
              "      <td>0</td>\n",
              "      <td>0</td>\n",
              "      <td>0</td>\n",
              "      <td>0</td>\n",
              "      <td>0</td>\n",
              "      <td>0</td>\n",
              "      <td>1</td>\n",
              "      <td>1</td>\n",
              "      <td>0</td>\n",
              "      <td>0</td>\n",
              "      <td>0</td>\n",
              "      <td>1</td>\n",
              "      <td>0</td>\n",
              "      <td>0</td>\n",
              "      <td>0</td>\n",
              "      <td>0</td>\n",
              "      <td>1</td>\n",
              "      <td>0</td>\n",
              "      <td>0</td>\n",
              "      <td>0</td>\n",
              "      <td>1</td>\n",
              "      <td>0</td>\n",
              "      <td>0</td>\n",
              "      <td>0</td>\n",
              "      <td>1</td>\n",
              "      <td>0</td>\n",
              "      <td>0</td>\n",
              "      <td>0</td>\n",
              "      <td>0</td>\n",
              "      <td>0</td>\n",
              "      <td>0</td>\n",
              "      <td>0</td>\n",
              "      <td>0</td>\n",
              "      <td>1</td>\n",
              "      <td>0</td>\n",
              "      <td>0</td>\n",
              "      <td>0</td>\n",
              "      <td>1</td>\n",
              "      <td>0</td>\n",
              "    </tr>\n",
              "    <tr>\n",
              "      <th>1310</th>\n",
              "      <td>1455</td>\n",
              "      <td>21.0</td>\n",
              "      <td>1894</td>\n",
              "      <td>4</td>\n",
              "      <td>5</td>\n",
              "      <td>1970</td>\n",
              "      <td>1970</td>\n",
              "      <td>0.0</td>\n",
              "      <td>252.0</td>\n",
              "      <td>0.0</td>\n",
              "      <td>294.0</td>\n",
              "      <td>546</td>\n",
              "      <td>546</td>\n",
              "      <td>0</td>\n",
              "      <td>1092</td>\n",
              "      <td>0.0</td>\n",
              "      <td>0.0</td>\n",
              "      <td>1</td>\n",
              "      <td>1</td>\n",
              "      <td>3</td>\n",
              "      <td>1</td>\n",
              "      <td>6</td>\n",
              "      <td>0</td>\n",
              "      <td>1970</td>\n",
              "      <td>1.0</td>\n",
              "      <td>286.0</td>\n",
              "      <td>0</td>\n",
              "      <td>24</td>\n",
              "      <td>0</td>\n",
              "      <td>0</td>\n",
              "      <td>0</td>\n",
              "      <td>0</td>\n",
              "      <td>4</td>\n",
              "      <td>2006</td>\n",
              "      <td>1</td>\n",
              "      <td>0</td>\n",
              "      <td>0</td>\n",
              "      <td>0</td>\n",
              "      <td>0</td>\n",
              "      <td>0</td>\n",
              "      <td>...</td>\n",
              "      <td>0</td>\n",
              "      <td>0</td>\n",
              "      <td>0</td>\n",
              "      <td>0</td>\n",
              "      <td>0</td>\n",
              "      <td>1</td>\n",
              "      <td>0</td>\n",
              "      <td>0</td>\n",
              "      <td>0</td>\n",
              "      <td>0</td>\n",
              "      <td>1</td>\n",
              "      <td>0</td>\n",
              "      <td>0</td>\n",
              "      <td>0</td>\n",
              "      <td>1</td>\n",
              "      <td>0</td>\n",
              "      <td>0</td>\n",
              "      <td>0</td>\n",
              "      <td>0</td>\n",
              "      <td>1</td>\n",
              "      <td>0</td>\n",
              "      <td>1</td>\n",
              "      <td>0</td>\n",
              "      <td>0</td>\n",
              "      <td>0</td>\n",
              "      <td>1</td>\n",
              "      <td>0</td>\n",
              "      <td>0</td>\n",
              "      <td>0</td>\n",
              "      <td>0</td>\n",
              "      <td>0</td>\n",
              "      <td>0</td>\n",
              "      <td>0</td>\n",
              "      <td>0</td>\n",
              "      <td>1</td>\n",
              "      <td>0</td>\n",
              "      <td>0</td>\n",
              "      <td>0</td>\n",
              "      <td>0</td>\n",
              "      <td>0</td>\n",
              "    </tr>\n",
              "    <tr>\n",
              "      <th>1311</th>\n",
              "      <td>1456</td>\n",
              "      <td>160.0</td>\n",
              "      <td>20000</td>\n",
              "      <td>5</td>\n",
              "      <td>7</td>\n",
              "      <td>1960</td>\n",
              "      <td>1996</td>\n",
              "      <td>0.0</td>\n",
              "      <td>1224.0</td>\n",
              "      <td>0.0</td>\n",
              "      <td>0.0</td>\n",
              "      <td>1224</td>\n",
              "      <td>0</td>\n",
              "      <td>0</td>\n",
              "      <td>1224</td>\n",
              "      <td>1.0</td>\n",
              "      <td>0.0</td>\n",
              "      <td>1</td>\n",
              "      <td>0</td>\n",
              "      <td>4</td>\n",
              "      <td>1</td>\n",
              "      <td>7</td>\n",
              "      <td>1</td>\n",
              "      <td>1960</td>\n",
              "      <td>2.0</td>\n",
              "      <td>576.0</td>\n",
              "      <td>474</td>\n",
              "      <td>0</td>\n",
              "      <td>0</td>\n",
              "      <td>0</td>\n",
              "      <td>0</td>\n",
              "      <td>0</td>\n",
              "      <td>9</td>\n",
              "      <td>2006</td>\n",
              "      <td>0</td>\n",
              "      <td>0</td>\n",
              "      <td>0</td>\n",
              "      <td>1</td>\n",
              "      <td>0</td>\n",
              "      <td>0</td>\n",
              "      <td>...</td>\n",
              "      <td>0</td>\n",
              "      <td>1</td>\n",
              "      <td>0</td>\n",
              "      <td>0</td>\n",
              "      <td>0</td>\n",
              "      <td>0</td>\n",
              "      <td>1</td>\n",
              "      <td>0</td>\n",
              "      <td>0</td>\n",
              "      <td>0</td>\n",
              "      <td>1</td>\n",
              "      <td>0</td>\n",
              "      <td>0</td>\n",
              "      <td>0</td>\n",
              "      <td>1</td>\n",
              "      <td>0</td>\n",
              "      <td>0</td>\n",
              "      <td>0</td>\n",
              "      <td>0</td>\n",
              "      <td>1</td>\n",
              "      <td>0</td>\n",
              "      <td>1</td>\n",
              "      <td>0</td>\n",
              "      <td>0</td>\n",
              "      <td>0</td>\n",
              "      <td>1</td>\n",
              "      <td>0</td>\n",
              "      <td>0</td>\n",
              "      <td>0</td>\n",
              "      <td>0</td>\n",
              "      <td>0</td>\n",
              "      <td>0</td>\n",
              "      <td>0</td>\n",
              "      <td>0</td>\n",
              "      <td>1</td>\n",
              "      <td>0</td>\n",
              "      <td>0</td>\n",
              "      <td>0</td>\n",
              "      <td>0</td>\n",
              "      <td>0</td>\n",
              "    </tr>\n",
              "    <tr>\n",
              "      <th>1312</th>\n",
              "      <td>1458</td>\n",
              "      <td>74.0</td>\n",
              "      <td>9627</td>\n",
              "      <td>7</td>\n",
              "      <td>5</td>\n",
              "      <td>1993</td>\n",
              "      <td>1994</td>\n",
              "      <td>94.0</td>\n",
              "      <td>758.0</td>\n",
              "      <td>0.0</td>\n",
              "      <td>238.0</td>\n",
              "      <td>996</td>\n",
              "      <td>1004</td>\n",
              "      <td>0</td>\n",
              "      <td>2000</td>\n",
              "      <td>0.0</td>\n",
              "      <td>0.0</td>\n",
              "      <td>2</td>\n",
              "      <td>1</td>\n",
              "      <td>3</td>\n",
              "      <td>1</td>\n",
              "      <td>9</td>\n",
              "      <td>1</td>\n",
              "      <td>1993</td>\n",
              "      <td>3.0</td>\n",
              "      <td>650.0</td>\n",
              "      <td>190</td>\n",
              "      <td>48</td>\n",
              "      <td>0</td>\n",
              "      <td>0</td>\n",
              "      <td>0</td>\n",
              "      <td>0</td>\n",
              "      <td>11</td>\n",
              "      <td>2006</td>\n",
              "      <td>0</td>\n",
              "      <td>0</td>\n",
              "      <td>0</td>\n",
              "      <td>0</td>\n",
              "      <td>0</td>\n",
              "      <td>0</td>\n",
              "      <td>...</td>\n",
              "      <td>0</td>\n",
              "      <td>1</td>\n",
              "      <td>1</td>\n",
              "      <td>0</td>\n",
              "      <td>0</td>\n",
              "      <td>0</td>\n",
              "      <td>0</td>\n",
              "      <td>0</td>\n",
              "      <td>0</td>\n",
              "      <td>0</td>\n",
              "      <td>0</td>\n",
              "      <td>0</td>\n",
              "      <td>0</td>\n",
              "      <td>0</td>\n",
              "      <td>1</td>\n",
              "      <td>0</td>\n",
              "      <td>0</td>\n",
              "      <td>0</td>\n",
              "      <td>0</td>\n",
              "      <td>1</td>\n",
              "      <td>0</td>\n",
              "      <td>1</td>\n",
              "      <td>0</td>\n",
              "      <td>0</td>\n",
              "      <td>0</td>\n",
              "      <td>1</td>\n",
              "      <td>0</td>\n",
              "      <td>0</td>\n",
              "      <td>0</td>\n",
              "      <td>0</td>\n",
              "      <td>0</td>\n",
              "      <td>0</td>\n",
              "      <td>0</td>\n",
              "      <td>0</td>\n",
              "      <td>1</td>\n",
              "      <td>0</td>\n",
              "      <td>0</td>\n",
              "      <td>0</td>\n",
              "      <td>1</td>\n",
              "      <td>0</td>\n",
              "    </tr>\n",
              "  </tbody>\n",
              "</table>\n",
              "<p>1313 rows × 240 columns</p>\n",
              "</div>"
            ],
            "text/plain": [
              "      index  LotFrontage  ...  SaleCondition_Normal  SaleCondition_Partial\n",
              "0         0         80.0  ...                     1                      0\n",
              "1         2         74.0  ...                     1                      0\n",
              "2         3         78.0  ...                     1                      0\n",
              "3         4         43.0  ...                     1                      0\n",
              "4         5         75.0  ...                     1                      0\n",
              "...     ...          ...  ...                   ...                    ...\n",
              "1308   1453         21.0  ...                     1                      0\n",
              "1309   1454         21.0  ...                     1                      0\n",
              "1310   1455         21.0  ...                     0                      0\n",
              "1311   1456        160.0  ...                     0                      0\n",
              "1312   1458         74.0  ...                     1                      0\n",
              "\n",
              "[1313 rows x 240 columns]"
            ]
          },
          "metadata": {
            "tags": []
          },
          "execution_count": 621
        }
      ]
    },
    {
      "cell_type": "code",
      "metadata": {
        "colab": {
          "base_uri": "https://localhost:8080/"
        },
        "id": "qlI8aCj6-Wmc",
        "outputId": "fcd55657-4244-4ca8-921d-060d630f1c5d"
      },
      "source": [
        "X_prod.drop(['index'], axis=1, inplace=True)\n",
        "X_prod.shape"
      ],
      "execution_count": 622,
      "outputs": [
        {
          "output_type": "execute_result",
          "data": {
            "text/plain": [
              "(1313, 239)"
            ]
          },
          "metadata": {
            "tags": []
          },
          "execution_count": 622
        }
      ]
    },
    {
      "cell_type": "code",
      "metadata": {
        "colab": {
          "base_uri": "https://localhost:8080/",
          "height": 263
        },
        "id": "XJMaYkfbW3h2",
        "outputId": "35da2c2e-d974-46eb-a7ed-ad8564ed6200"
      },
      "source": [
        "#We use concat() to add all the freshly created columns (for missing categorical value in prod data) to the existing prod data\n",
        "X_prod_final = pd.concat([X_prod, add_column_df], axis=1)\n",
        "\n",
        "print(X_prod_final.shape)\n",
        "X_prod_final.head()"
      ],
      "execution_count": 623,
      "outputs": [
        {
          "output_type": "stream",
          "text": [
            "(1313, 256)\n"
          ],
          "name": "stdout"
        },
        {
          "output_type": "execute_result",
          "data": {
            "text/html": [
              "<div>\n",
              "<style scoped>\n",
              "    .dataframe tbody tr th:only-of-type {\n",
              "        vertical-align: middle;\n",
              "    }\n",
              "\n",
              "    .dataframe tbody tr th {\n",
              "        vertical-align: top;\n",
              "    }\n",
              "\n",
              "    .dataframe thead th {\n",
              "        text-align: right;\n",
              "    }\n",
              "</style>\n",
              "<table border=\"1\" class=\"dataframe\">\n",
              "  <thead>\n",
              "    <tr style=\"text-align: right;\">\n",
              "      <th></th>\n",
              "      <th>LotFrontage</th>\n",
              "      <th>LotArea</th>\n",
              "      <th>OverallQual</th>\n",
              "      <th>OverallCond</th>\n",
              "      <th>YearBuilt</th>\n",
              "      <th>YearRemodAdd</th>\n",
              "      <th>MasVnrArea</th>\n",
              "      <th>BsmtFinSF1</th>\n",
              "      <th>BsmtFinSF2</th>\n",
              "      <th>BsmtUnfSF</th>\n",
              "      <th>1stFlrSF</th>\n",
              "      <th>2ndFlrSF</th>\n",
              "      <th>LowQualFinSF</th>\n",
              "      <th>GrLivArea</th>\n",
              "      <th>BsmtFullBath</th>\n",
              "      <th>BsmtHalfBath</th>\n",
              "      <th>FullBath</th>\n",
              "      <th>HalfBath</th>\n",
              "      <th>BedroomAbvGr</th>\n",
              "      <th>KitchenAbvGr</th>\n",
              "      <th>TotRmsAbvGrd</th>\n",
              "      <th>Fireplaces</th>\n",
              "      <th>GarageYrBlt</th>\n",
              "      <th>GarageCars</th>\n",
              "      <th>GarageArea</th>\n",
              "      <th>WoodDeckSF</th>\n",
              "      <th>OpenPorchSF</th>\n",
              "      <th>EnclosedPorch</th>\n",
              "      <th>3SsnPorch</th>\n",
              "      <th>ScreenPorch</th>\n",
              "      <th>MiscVal</th>\n",
              "      <th>MoSold</th>\n",
              "      <th>YrSold</th>\n",
              "      <th>MSSubClass_160</th>\n",
              "      <th>MSSubClass_180</th>\n",
              "      <th>MSSubClass_190</th>\n",
              "      <th>MSSubClass_20</th>\n",
              "      <th>MSSubClass_30</th>\n",
              "      <th>MSSubClass_40</th>\n",
              "      <th>MSSubClass_45</th>\n",
              "      <th>...</th>\n",
              "      <th>GarageCond_NA</th>\n",
              "      <th>GarageCond_Po</th>\n",
              "      <th>GarageCond_TA</th>\n",
              "      <th>PavedDrive_P</th>\n",
              "      <th>PavedDrive_Y</th>\n",
              "      <th>Fence_GdWo</th>\n",
              "      <th>Fence_MnPrv</th>\n",
              "      <th>Fence_MnWw</th>\n",
              "      <th>Fence_NA</th>\n",
              "      <th>MiscFeature_Shed</th>\n",
              "      <th>SaleType_CWD</th>\n",
              "      <th>SaleType_Con</th>\n",
              "      <th>SaleType_ConLD</th>\n",
              "      <th>SaleType_ConLI</th>\n",
              "      <th>SaleType_ConLw</th>\n",
              "      <th>SaleType_New</th>\n",
              "      <th>SaleType_Oth</th>\n",
              "      <th>SaleType_WD</th>\n",
              "      <th>SaleCondition_AdjLand</th>\n",
              "      <th>SaleCondition_Alloca</th>\n",
              "      <th>SaleCondition_Family</th>\n",
              "      <th>SaleCondition_Normal</th>\n",
              "      <th>SaleCondition_Partial</th>\n",
              "      <th>Utilities_NoSeWa</th>\n",
              "      <th>Condition2_RRNn</th>\n",
              "      <th>HouseStyle_2.5Fin</th>\n",
              "      <th>RoofMatl_Membran</th>\n",
              "      <th>Exterior1st_ImStucc</th>\n",
              "      <th>Exterior1st_Stone</th>\n",
              "      <th>Exterior2nd_AsphShn</th>\n",
              "      <th>Exterior2nd_Other</th>\n",
              "      <th>Exterior2nd_Stone</th>\n",
              "      <th>BsmtCond_Po</th>\n",
              "      <th>Heating_GasA</th>\n",
              "      <th>Heating_Grav</th>\n",
              "      <th>Heating_OthW</th>\n",
              "      <th>Heating_Wall</th>\n",
              "      <th>Electrical_Mix</th>\n",
              "      <th>Functional_Sev</th>\n",
              "      <th>GarageQual_Fa</th>\n",
              "    </tr>\n",
              "  </thead>\n",
              "  <tbody>\n",
              "    <tr>\n",
              "      <th>0</th>\n",
              "      <td>80.0</td>\n",
              "      <td>11622</td>\n",
              "      <td>5</td>\n",
              "      <td>6</td>\n",
              "      <td>1961</td>\n",
              "      <td>1961</td>\n",
              "      <td>0.0</td>\n",
              "      <td>468.0</td>\n",
              "      <td>144.0</td>\n",
              "      <td>270.0</td>\n",
              "      <td>896</td>\n",
              "      <td>0</td>\n",
              "      <td>0</td>\n",
              "      <td>896</td>\n",
              "      <td>0.0</td>\n",
              "      <td>0.0</td>\n",
              "      <td>1</td>\n",
              "      <td>0</td>\n",
              "      <td>2</td>\n",
              "      <td>1</td>\n",
              "      <td>5</td>\n",
              "      <td>0</td>\n",
              "      <td>1961</td>\n",
              "      <td>1.0</td>\n",
              "      <td>730.0</td>\n",
              "      <td>140</td>\n",
              "      <td>0</td>\n",
              "      <td>0</td>\n",
              "      <td>0</td>\n",
              "      <td>120</td>\n",
              "      <td>0</td>\n",
              "      <td>6</td>\n",
              "      <td>2010</td>\n",
              "      <td>0</td>\n",
              "      <td>0</td>\n",
              "      <td>0</td>\n",
              "      <td>1</td>\n",
              "      <td>0</td>\n",
              "      <td>0</td>\n",
              "      <td>0</td>\n",
              "      <td>...</td>\n",
              "      <td>0</td>\n",
              "      <td>0</td>\n",
              "      <td>1</td>\n",
              "      <td>0</td>\n",
              "      <td>1</td>\n",
              "      <td>0</td>\n",
              "      <td>1</td>\n",
              "      <td>0</td>\n",
              "      <td>0</td>\n",
              "      <td>0</td>\n",
              "      <td>0</td>\n",
              "      <td>0</td>\n",
              "      <td>0</td>\n",
              "      <td>0</td>\n",
              "      <td>0</td>\n",
              "      <td>0</td>\n",
              "      <td>0</td>\n",
              "      <td>1</td>\n",
              "      <td>0</td>\n",
              "      <td>0</td>\n",
              "      <td>0</td>\n",
              "      <td>1</td>\n",
              "      <td>0</td>\n",
              "      <td>0.0</td>\n",
              "      <td>0.0</td>\n",
              "      <td>0.0</td>\n",
              "      <td>0.0</td>\n",
              "      <td>0.0</td>\n",
              "      <td>0.0</td>\n",
              "      <td>0.0</td>\n",
              "      <td>0.0</td>\n",
              "      <td>0.0</td>\n",
              "      <td>0.0</td>\n",
              "      <td>0.0</td>\n",
              "      <td>0.0</td>\n",
              "      <td>0.0</td>\n",
              "      <td>0.0</td>\n",
              "      <td>0.0</td>\n",
              "      <td>0.0</td>\n",
              "      <td>0.0</td>\n",
              "    </tr>\n",
              "    <tr>\n",
              "      <th>1</th>\n",
              "      <td>74.0</td>\n",
              "      <td>13830</td>\n",
              "      <td>5</td>\n",
              "      <td>5</td>\n",
              "      <td>1997</td>\n",
              "      <td>1998</td>\n",
              "      <td>0.0</td>\n",
              "      <td>791.0</td>\n",
              "      <td>0.0</td>\n",
              "      <td>137.0</td>\n",
              "      <td>928</td>\n",
              "      <td>701</td>\n",
              "      <td>0</td>\n",
              "      <td>1629</td>\n",
              "      <td>0.0</td>\n",
              "      <td>0.0</td>\n",
              "      <td>2</td>\n",
              "      <td>1</td>\n",
              "      <td>3</td>\n",
              "      <td>1</td>\n",
              "      <td>6</td>\n",
              "      <td>1</td>\n",
              "      <td>1997</td>\n",
              "      <td>2.0</td>\n",
              "      <td>482.0</td>\n",
              "      <td>212</td>\n",
              "      <td>34</td>\n",
              "      <td>0</td>\n",
              "      <td>0</td>\n",
              "      <td>0</td>\n",
              "      <td>0</td>\n",
              "      <td>3</td>\n",
              "      <td>2010</td>\n",
              "      <td>0</td>\n",
              "      <td>0</td>\n",
              "      <td>0</td>\n",
              "      <td>0</td>\n",
              "      <td>0</td>\n",
              "      <td>0</td>\n",
              "      <td>0</td>\n",
              "      <td>...</td>\n",
              "      <td>0</td>\n",
              "      <td>0</td>\n",
              "      <td>1</td>\n",
              "      <td>0</td>\n",
              "      <td>1</td>\n",
              "      <td>0</td>\n",
              "      <td>1</td>\n",
              "      <td>0</td>\n",
              "      <td>0</td>\n",
              "      <td>0</td>\n",
              "      <td>0</td>\n",
              "      <td>0</td>\n",
              "      <td>0</td>\n",
              "      <td>0</td>\n",
              "      <td>0</td>\n",
              "      <td>0</td>\n",
              "      <td>0</td>\n",
              "      <td>1</td>\n",
              "      <td>0</td>\n",
              "      <td>0</td>\n",
              "      <td>0</td>\n",
              "      <td>1</td>\n",
              "      <td>0</td>\n",
              "      <td>0.0</td>\n",
              "      <td>0.0</td>\n",
              "      <td>0.0</td>\n",
              "      <td>0.0</td>\n",
              "      <td>0.0</td>\n",
              "      <td>0.0</td>\n",
              "      <td>0.0</td>\n",
              "      <td>0.0</td>\n",
              "      <td>0.0</td>\n",
              "      <td>0.0</td>\n",
              "      <td>0.0</td>\n",
              "      <td>0.0</td>\n",
              "      <td>0.0</td>\n",
              "      <td>0.0</td>\n",
              "      <td>0.0</td>\n",
              "      <td>0.0</td>\n",
              "      <td>0.0</td>\n",
              "    </tr>\n",
              "    <tr>\n",
              "      <th>2</th>\n",
              "      <td>78.0</td>\n",
              "      <td>9978</td>\n",
              "      <td>6</td>\n",
              "      <td>6</td>\n",
              "      <td>1998</td>\n",
              "      <td>1998</td>\n",
              "      <td>20.0</td>\n",
              "      <td>602.0</td>\n",
              "      <td>0.0</td>\n",
              "      <td>324.0</td>\n",
              "      <td>926</td>\n",
              "      <td>678</td>\n",
              "      <td>0</td>\n",
              "      <td>1604</td>\n",
              "      <td>0.0</td>\n",
              "      <td>0.0</td>\n",
              "      <td>2</td>\n",
              "      <td>1</td>\n",
              "      <td>3</td>\n",
              "      <td>1</td>\n",
              "      <td>7</td>\n",
              "      <td>1</td>\n",
              "      <td>1998</td>\n",
              "      <td>2.0</td>\n",
              "      <td>470.0</td>\n",
              "      <td>360</td>\n",
              "      <td>36</td>\n",
              "      <td>0</td>\n",
              "      <td>0</td>\n",
              "      <td>0</td>\n",
              "      <td>0</td>\n",
              "      <td>6</td>\n",
              "      <td>2010</td>\n",
              "      <td>0</td>\n",
              "      <td>0</td>\n",
              "      <td>0</td>\n",
              "      <td>0</td>\n",
              "      <td>0</td>\n",
              "      <td>0</td>\n",
              "      <td>0</td>\n",
              "      <td>...</td>\n",
              "      <td>0</td>\n",
              "      <td>0</td>\n",
              "      <td>1</td>\n",
              "      <td>0</td>\n",
              "      <td>1</td>\n",
              "      <td>0</td>\n",
              "      <td>0</td>\n",
              "      <td>0</td>\n",
              "      <td>1</td>\n",
              "      <td>0</td>\n",
              "      <td>0</td>\n",
              "      <td>0</td>\n",
              "      <td>0</td>\n",
              "      <td>0</td>\n",
              "      <td>0</td>\n",
              "      <td>0</td>\n",
              "      <td>0</td>\n",
              "      <td>1</td>\n",
              "      <td>0</td>\n",
              "      <td>0</td>\n",
              "      <td>0</td>\n",
              "      <td>1</td>\n",
              "      <td>0</td>\n",
              "      <td>0.0</td>\n",
              "      <td>0.0</td>\n",
              "      <td>0.0</td>\n",
              "      <td>0.0</td>\n",
              "      <td>0.0</td>\n",
              "      <td>0.0</td>\n",
              "      <td>0.0</td>\n",
              "      <td>0.0</td>\n",
              "      <td>0.0</td>\n",
              "      <td>0.0</td>\n",
              "      <td>0.0</td>\n",
              "      <td>0.0</td>\n",
              "      <td>0.0</td>\n",
              "      <td>0.0</td>\n",
              "      <td>0.0</td>\n",
              "      <td>0.0</td>\n",
              "      <td>0.0</td>\n",
              "    </tr>\n",
              "    <tr>\n",
              "      <th>3</th>\n",
              "      <td>43.0</td>\n",
              "      <td>5005</td>\n",
              "      <td>8</td>\n",
              "      <td>5</td>\n",
              "      <td>1992</td>\n",
              "      <td>1992</td>\n",
              "      <td>0.0</td>\n",
              "      <td>263.0</td>\n",
              "      <td>0.0</td>\n",
              "      <td>1017.0</td>\n",
              "      <td>1280</td>\n",
              "      <td>0</td>\n",
              "      <td>0</td>\n",
              "      <td>1280</td>\n",
              "      <td>0.0</td>\n",
              "      <td>0.0</td>\n",
              "      <td>2</td>\n",
              "      <td>0</td>\n",
              "      <td>2</td>\n",
              "      <td>1</td>\n",
              "      <td>5</td>\n",
              "      <td>0</td>\n",
              "      <td>1992</td>\n",
              "      <td>2.0</td>\n",
              "      <td>506.0</td>\n",
              "      <td>0</td>\n",
              "      <td>82</td>\n",
              "      <td>0</td>\n",
              "      <td>0</td>\n",
              "      <td>144</td>\n",
              "      <td>0</td>\n",
              "      <td>1</td>\n",
              "      <td>2010</td>\n",
              "      <td>0</td>\n",
              "      <td>0</td>\n",
              "      <td>0</td>\n",
              "      <td>0</td>\n",
              "      <td>0</td>\n",
              "      <td>0</td>\n",
              "      <td>0</td>\n",
              "      <td>...</td>\n",
              "      <td>0</td>\n",
              "      <td>0</td>\n",
              "      <td>1</td>\n",
              "      <td>0</td>\n",
              "      <td>1</td>\n",
              "      <td>0</td>\n",
              "      <td>0</td>\n",
              "      <td>0</td>\n",
              "      <td>1</td>\n",
              "      <td>0</td>\n",
              "      <td>0</td>\n",
              "      <td>0</td>\n",
              "      <td>0</td>\n",
              "      <td>0</td>\n",
              "      <td>0</td>\n",
              "      <td>0</td>\n",
              "      <td>0</td>\n",
              "      <td>1</td>\n",
              "      <td>0</td>\n",
              "      <td>0</td>\n",
              "      <td>0</td>\n",
              "      <td>1</td>\n",
              "      <td>0</td>\n",
              "      <td>0.0</td>\n",
              "      <td>0.0</td>\n",
              "      <td>0.0</td>\n",
              "      <td>0.0</td>\n",
              "      <td>0.0</td>\n",
              "      <td>0.0</td>\n",
              "      <td>0.0</td>\n",
              "      <td>0.0</td>\n",
              "      <td>0.0</td>\n",
              "      <td>0.0</td>\n",
              "      <td>0.0</td>\n",
              "      <td>0.0</td>\n",
              "      <td>0.0</td>\n",
              "      <td>0.0</td>\n",
              "      <td>0.0</td>\n",
              "      <td>0.0</td>\n",
              "      <td>0.0</td>\n",
              "    </tr>\n",
              "    <tr>\n",
              "      <th>4</th>\n",
              "      <td>75.0</td>\n",
              "      <td>10000</td>\n",
              "      <td>6</td>\n",
              "      <td>5</td>\n",
              "      <td>1993</td>\n",
              "      <td>1994</td>\n",
              "      <td>0.0</td>\n",
              "      <td>0.0</td>\n",
              "      <td>0.0</td>\n",
              "      <td>763.0</td>\n",
              "      <td>763</td>\n",
              "      <td>892</td>\n",
              "      <td>0</td>\n",
              "      <td>1655</td>\n",
              "      <td>0.0</td>\n",
              "      <td>0.0</td>\n",
              "      <td>2</td>\n",
              "      <td>1</td>\n",
              "      <td>3</td>\n",
              "      <td>1</td>\n",
              "      <td>7</td>\n",
              "      <td>1</td>\n",
              "      <td>1993</td>\n",
              "      <td>2.0</td>\n",
              "      <td>440.0</td>\n",
              "      <td>157</td>\n",
              "      <td>84</td>\n",
              "      <td>0</td>\n",
              "      <td>0</td>\n",
              "      <td>0</td>\n",
              "      <td>0</td>\n",
              "      <td>4</td>\n",
              "      <td>2010</td>\n",
              "      <td>0</td>\n",
              "      <td>0</td>\n",
              "      <td>0</td>\n",
              "      <td>0</td>\n",
              "      <td>0</td>\n",
              "      <td>0</td>\n",
              "      <td>0</td>\n",
              "      <td>...</td>\n",
              "      <td>0</td>\n",
              "      <td>0</td>\n",
              "      <td>1</td>\n",
              "      <td>0</td>\n",
              "      <td>1</td>\n",
              "      <td>0</td>\n",
              "      <td>0</td>\n",
              "      <td>0</td>\n",
              "      <td>1</td>\n",
              "      <td>0</td>\n",
              "      <td>0</td>\n",
              "      <td>0</td>\n",
              "      <td>0</td>\n",
              "      <td>0</td>\n",
              "      <td>0</td>\n",
              "      <td>0</td>\n",
              "      <td>0</td>\n",
              "      <td>1</td>\n",
              "      <td>0</td>\n",
              "      <td>0</td>\n",
              "      <td>0</td>\n",
              "      <td>1</td>\n",
              "      <td>0</td>\n",
              "      <td>0.0</td>\n",
              "      <td>0.0</td>\n",
              "      <td>0.0</td>\n",
              "      <td>0.0</td>\n",
              "      <td>0.0</td>\n",
              "      <td>0.0</td>\n",
              "      <td>0.0</td>\n",
              "      <td>0.0</td>\n",
              "      <td>0.0</td>\n",
              "      <td>0.0</td>\n",
              "      <td>0.0</td>\n",
              "      <td>0.0</td>\n",
              "      <td>0.0</td>\n",
              "      <td>0.0</td>\n",
              "      <td>0.0</td>\n",
              "      <td>0.0</td>\n",
              "      <td>0.0</td>\n",
              "    </tr>\n",
              "  </tbody>\n",
              "</table>\n",
              "<p>5 rows × 256 columns</p>\n",
              "</div>"
            ],
            "text/plain": [
              "   LotFrontage  LotArea  ...  Functional_Sev  GarageQual_Fa\n",
              "0         80.0    11622  ...             0.0            0.0\n",
              "1         74.0    13830  ...             0.0            0.0\n",
              "2         78.0     9978  ...             0.0            0.0\n",
              "3         43.0     5005  ...             0.0            0.0\n",
              "4         75.0    10000  ...             0.0            0.0\n",
              "\n",
              "[5 rows x 256 columns]"
            ]
          },
          "metadata": {
            "tags": []
          },
          "execution_count": 623
        }
      ]
    },
    {
      "cell_type": "markdown",
      "metadata": {
        "id": "1eJKiBo6Xyx9"
      },
      "source": [
        "__We need to arrange the columns correctly__"
      ]
    },
    {
      "cell_type": "code",
      "metadata": {
        "id": "6X2zMWg1JROE"
      },
      "source": [
        "#Fetch list of columns for train data X\n",
        "X_list = X.columns.tolist()"
      ],
      "execution_count": 624,
      "outputs": []
    },
    {
      "cell_type": "code",
      "metadata": {
        "id": "kz7kcc3-K0dW"
      },
      "source": [
        "#Rearrange columns in prod data, i.e. X_prod_final according to the column ordering of train data X\n",
        "X_prod_final = X_prod_final[X_list]"
      ],
      "execution_count": 625,
      "outputs": []
    },
    {
      "cell_type": "code",
      "metadata": {
        "id": "GAj3HseAN40W"
      },
      "source": [
        "#Compare column order of train data X vs that of prod data X_prod_final - there should be no mismatch\n",
        "X_prod_final_list = X_prod_final.columns.to_list()\n",
        "for i in range(len(X.columns)):\n",
        "  if X_list[i] != X_prod_final_list[i]:\n",
        "    print(i)"
      ],
      "execution_count": 626,
      "outputs": []
    },
    {
      "cell_type": "code",
      "metadata": {
        "colab": {
          "base_uri": "https://localhost:8080/"
        },
        "id": "YqMVW09fQFhJ",
        "outputId": "8f97a5c5-b2c9-44db-d53c-439b149cbaad"
      },
      "source": [
        "X_prod_final.shape"
      ],
      "execution_count": 627,
      "outputs": [
        {
          "output_type": "execute_result",
          "data": {
            "text/plain": [
              "(1313, 256)"
            ]
          },
          "metadata": {
            "tags": []
          },
          "execution_count": 627
        }
      ]
    },
    {
      "cell_type": "code",
      "metadata": {
        "colab": {
          "base_uri": "https://localhost:8080/",
          "height": 247
        },
        "id": "jRQk-n2MMJih",
        "outputId": "13ba4281-48b9-44ba-819a-cfac27bb9cf7"
      },
      "source": [
        "X_prod_final.head()"
      ],
      "execution_count": 628,
      "outputs": [
        {
          "output_type": "execute_result",
          "data": {
            "text/html": [
              "<div>\n",
              "<style scoped>\n",
              "    .dataframe tbody tr th:only-of-type {\n",
              "        vertical-align: middle;\n",
              "    }\n",
              "\n",
              "    .dataframe tbody tr th {\n",
              "        vertical-align: top;\n",
              "    }\n",
              "\n",
              "    .dataframe thead th {\n",
              "        text-align: right;\n",
              "    }\n",
              "</style>\n",
              "<table border=\"1\" class=\"dataframe\">\n",
              "  <thead>\n",
              "    <tr style=\"text-align: right;\">\n",
              "      <th></th>\n",
              "      <th>LotFrontage</th>\n",
              "      <th>LotArea</th>\n",
              "      <th>OverallQual</th>\n",
              "      <th>OverallCond</th>\n",
              "      <th>YearBuilt</th>\n",
              "      <th>YearRemodAdd</th>\n",
              "      <th>MasVnrArea</th>\n",
              "      <th>BsmtFinSF1</th>\n",
              "      <th>BsmtFinSF2</th>\n",
              "      <th>BsmtUnfSF</th>\n",
              "      <th>1stFlrSF</th>\n",
              "      <th>2ndFlrSF</th>\n",
              "      <th>LowQualFinSF</th>\n",
              "      <th>GrLivArea</th>\n",
              "      <th>BsmtFullBath</th>\n",
              "      <th>BsmtHalfBath</th>\n",
              "      <th>FullBath</th>\n",
              "      <th>HalfBath</th>\n",
              "      <th>BedroomAbvGr</th>\n",
              "      <th>KitchenAbvGr</th>\n",
              "      <th>TotRmsAbvGrd</th>\n",
              "      <th>Fireplaces</th>\n",
              "      <th>GarageYrBlt</th>\n",
              "      <th>GarageCars</th>\n",
              "      <th>GarageArea</th>\n",
              "      <th>WoodDeckSF</th>\n",
              "      <th>OpenPorchSF</th>\n",
              "      <th>EnclosedPorch</th>\n",
              "      <th>3SsnPorch</th>\n",
              "      <th>ScreenPorch</th>\n",
              "      <th>MiscVal</th>\n",
              "      <th>MoSold</th>\n",
              "      <th>YrSold</th>\n",
              "      <th>MSSubClass_160</th>\n",
              "      <th>MSSubClass_180</th>\n",
              "      <th>MSSubClass_190</th>\n",
              "      <th>MSSubClass_20</th>\n",
              "      <th>MSSubClass_30</th>\n",
              "      <th>MSSubClass_40</th>\n",
              "      <th>MSSubClass_45</th>\n",
              "      <th>...</th>\n",
              "      <th>FireplaceQu_TA</th>\n",
              "      <th>GarageType_Attchd</th>\n",
              "      <th>GarageType_Basment</th>\n",
              "      <th>GarageType_BuiltIn</th>\n",
              "      <th>GarageType_CarPort</th>\n",
              "      <th>GarageType_Detchd</th>\n",
              "      <th>GarageType_NA</th>\n",
              "      <th>GarageFinish_NA</th>\n",
              "      <th>GarageFinish_RFn</th>\n",
              "      <th>GarageFinish_Unf</th>\n",
              "      <th>GarageQual_Fa</th>\n",
              "      <th>GarageQual_Gd</th>\n",
              "      <th>GarageQual_NA</th>\n",
              "      <th>GarageQual_Po</th>\n",
              "      <th>GarageQual_TA</th>\n",
              "      <th>GarageCond_Fa</th>\n",
              "      <th>GarageCond_Gd</th>\n",
              "      <th>GarageCond_NA</th>\n",
              "      <th>GarageCond_Po</th>\n",
              "      <th>GarageCond_TA</th>\n",
              "      <th>PavedDrive_P</th>\n",
              "      <th>PavedDrive_Y</th>\n",
              "      <th>Fence_GdWo</th>\n",
              "      <th>Fence_MnPrv</th>\n",
              "      <th>Fence_MnWw</th>\n",
              "      <th>Fence_NA</th>\n",
              "      <th>MiscFeature_Shed</th>\n",
              "      <th>SaleType_CWD</th>\n",
              "      <th>SaleType_Con</th>\n",
              "      <th>SaleType_ConLD</th>\n",
              "      <th>SaleType_ConLI</th>\n",
              "      <th>SaleType_ConLw</th>\n",
              "      <th>SaleType_New</th>\n",
              "      <th>SaleType_Oth</th>\n",
              "      <th>SaleType_WD</th>\n",
              "      <th>SaleCondition_AdjLand</th>\n",
              "      <th>SaleCondition_Alloca</th>\n",
              "      <th>SaleCondition_Family</th>\n",
              "      <th>SaleCondition_Normal</th>\n",
              "      <th>SaleCondition_Partial</th>\n",
              "    </tr>\n",
              "  </thead>\n",
              "  <tbody>\n",
              "    <tr>\n",
              "      <th>0</th>\n",
              "      <td>80.0</td>\n",
              "      <td>11622</td>\n",
              "      <td>5</td>\n",
              "      <td>6</td>\n",
              "      <td>1961</td>\n",
              "      <td>1961</td>\n",
              "      <td>0.0</td>\n",
              "      <td>468.0</td>\n",
              "      <td>144.0</td>\n",
              "      <td>270.0</td>\n",
              "      <td>896</td>\n",
              "      <td>0</td>\n",
              "      <td>0</td>\n",
              "      <td>896</td>\n",
              "      <td>0.0</td>\n",
              "      <td>0.0</td>\n",
              "      <td>1</td>\n",
              "      <td>0</td>\n",
              "      <td>2</td>\n",
              "      <td>1</td>\n",
              "      <td>5</td>\n",
              "      <td>0</td>\n",
              "      <td>1961</td>\n",
              "      <td>1.0</td>\n",
              "      <td>730.0</td>\n",
              "      <td>140</td>\n",
              "      <td>0</td>\n",
              "      <td>0</td>\n",
              "      <td>0</td>\n",
              "      <td>120</td>\n",
              "      <td>0</td>\n",
              "      <td>6</td>\n",
              "      <td>2010</td>\n",
              "      <td>0</td>\n",
              "      <td>0</td>\n",
              "      <td>0</td>\n",
              "      <td>1</td>\n",
              "      <td>0</td>\n",
              "      <td>0</td>\n",
              "      <td>0</td>\n",
              "      <td>...</td>\n",
              "      <td>0</td>\n",
              "      <td>1</td>\n",
              "      <td>0</td>\n",
              "      <td>0</td>\n",
              "      <td>0</td>\n",
              "      <td>0</td>\n",
              "      <td>0</td>\n",
              "      <td>0</td>\n",
              "      <td>0</td>\n",
              "      <td>1</td>\n",
              "      <td>0.0</td>\n",
              "      <td>0</td>\n",
              "      <td>0</td>\n",
              "      <td>0</td>\n",
              "      <td>1</td>\n",
              "      <td>0</td>\n",
              "      <td>0</td>\n",
              "      <td>0</td>\n",
              "      <td>0</td>\n",
              "      <td>1</td>\n",
              "      <td>0</td>\n",
              "      <td>1</td>\n",
              "      <td>0</td>\n",
              "      <td>1</td>\n",
              "      <td>0</td>\n",
              "      <td>0</td>\n",
              "      <td>0</td>\n",
              "      <td>0</td>\n",
              "      <td>0</td>\n",
              "      <td>0</td>\n",
              "      <td>0</td>\n",
              "      <td>0</td>\n",
              "      <td>0</td>\n",
              "      <td>0</td>\n",
              "      <td>1</td>\n",
              "      <td>0</td>\n",
              "      <td>0</td>\n",
              "      <td>0</td>\n",
              "      <td>1</td>\n",
              "      <td>0</td>\n",
              "    </tr>\n",
              "    <tr>\n",
              "      <th>1</th>\n",
              "      <td>74.0</td>\n",
              "      <td>13830</td>\n",
              "      <td>5</td>\n",
              "      <td>5</td>\n",
              "      <td>1997</td>\n",
              "      <td>1998</td>\n",
              "      <td>0.0</td>\n",
              "      <td>791.0</td>\n",
              "      <td>0.0</td>\n",
              "      <td>137.0</td>\n",
              "      <td>928</td>\n",
              "      <td>701</td>\n",
              "      <td>0</td>\n",
              "      <td>1629</td>\n",
              "      <td>0.0</td>\n",
              "      <td>0.0</td>\n",
              "      <td>2</td>\n",
              "      <td>1</td>\n",
              "      <td>3</td>\n",
              "      <td>1</td>\n",
              "      <td>6</td>\n",
              "      <td>1</td>\n",
              "      <td>1997</td>\n",
              "      <td>2.0</td>\n",
              "      <td>482.0</td>\n",
              "      <td>212</td>\n",
              "      <td>34</td>\n",
              "      <td>0</td>\n",
              "      <td>0</td>\n",
              "      <td>0</td>\n",
              "      <td>0</td>\n",
              "      <td>3</td>\n",
              "      <td>2010</td>\n",
              "      <td>0</td>\n",
              "      <td>0</td>\n",
              "      <td>0</td>\n",
              "      <td>0</td>\n",
              "      <td>0</td>\n",
              "      <td>0</td>\n",
              "      <td>0</td>\n",
              "      <td>...</td>\n",
              "      <td>1</td>\n",
              "      <td>1</td>\n",
              "      <td>0</td>\n",
              "      <td>0</td>\n",
              "      <td>0</td>\n",
              "      <td>0</td>\n",
              "      <td>0</td>\n",
              "      <td>0</td>\n",
              "      <td>0</td>\n",
              "      <td>0</td>\n",
              "      <td>0.0</td>\n",
              "      <td>0</td>\n",
              "      <td>0</td>\n",
              "      <td>0</td>\n",
              "      <td>1</td>\n",
              "      <td>0</td>\n",
              "      <td>0</td>\n",
              "      <td>0</td>\n",
              "      <td>0</td>\n",
              "      <td>1</td>\n",
              "      <td>0</td>\n",
              "      <td>1</td>\n",
              "      <td>0</td>\n",
              "      <td>1</td>\n",
              "      <td>0</td>\n",
              "      <td>0</td>\n",
              "      <td>0</td>\n",
              "      <td>0</td>\n",
              "      <td>0</td>\n",
              "      <td>0</td>\n",
              "      <td>0</td>\n",
              "      <td>0</td>\n",
              "      <td>0</td>\n",
              "      <td>0</td>\n",
              "      <td>1</td>\n",
              "      <td>0</td>\n",
              "      <td>0</td>\n",
              "      <td>0</td>\n",
              "      <td>1</td>\n",
              "      <td>0</td>\n",
              "    </tr>\n",
              "    <tr>\n",
              "      <th>2</th>\n",
              "      <td>78.0</td>\n",
              "      <td>9978</td>\n",
              "      <td>6</td>\n",
              "      <td>6</td>\n",
              "      <td>1998</td>\n",
              "      <td>1998</td>\n",
              "      <td>20.0</td>\n",
              "      <td>602.0</td>\n",
              "      <td>0.0</td>\n",
              "      <td>324.0</td>\n",
              "      <td>926</td>\n",
              "      <td>678</td>\n",
              "      <td>0</td>\n",
              "      <td>1604</td>\n",
              "      <td>0.0</td>\n",
              "      <td>0.0</td>\n",
              "      <td>2</td>\n",
              "      <td>1</td>\n",
              "      <td>3</td>\n",
              "      <td>1</td>\n",
              "      <td>7</td>\n",
              "      <td>1</td>\n",
              "      <td>1998</td>\n",
              "      <td>2.0</td>\n",
              "      <td>470.0</td>\n",
              "      <td>360</td>\n",
              "      <td>36</td>\n",
              "      <td>0</td>\n",
              "      <td>0</td>\n",
              "      <td>0</td>\n",
              "      <td>0</td>\n",
              "      <td>6</td>\n",
              "      <td>2010</td>\n",
              "      <td>0</td>\n",
              "      <td>0</td>\n",
              "      <td>0</td>\n",
              "      <td>0</td>\n",
              "      <td>0</td>\n",
              "      <td>0</td>\n",
              "      <td>0</td>\n",
              "      <td>...</td>\n",
              "      <td>0</td>\n",
              "      <td>1</td>\n",
              "      <td>0</td>\n",
              "      <td>0</td>\n",
              "      <td>0</td>\n",
              "      <td>0</td>\n",
              "      <td>0</td>\n",
              "      <td>0</td>\n",
              "      <td>0</td>\n",
              "      <td>0</td>\n",
              "      <td>0.0</td>\n",
              "      <td>0</td>\n",
              "      <td>0</td>\n",
              "      <td>0</td>\n",
              "      <td>1</td>\n",
              "      <td>0</td>\n",
              "      <td>0</td>\n",
              "      <td>0</td>\n",
              "      <td>0</td>\n",
              "      <td>1</td>\n",
              "      <td>0</td>\n",
              "      <td>1</td>\n",
              "      <td>0</td>\n",
              "      <td>0</td>\n",
              "      <td>0</td>\n",
              "      <td>1</td>\n",
              "      <td>0</td>\n",
              "      <td>0</td>\n",
              "      <td>0</td>\n",
              "      <td>0</td>\n",
              "      <td>0</td>\n",
              "      <td>0</td>\n",
              "      <td>0</td>\n",
              "      <td>0</td>\n",
              "      <td>1</td>\n",
              "      <td>0</td>\n",
              "      <td>0</td>\n",
              "      <td>0</td>\n",
              "      <td>1</td>\n",
              "      <td>0</td>\n",
              "    </tr>\n",
              "    <tr>\n",
              "      <th>3</th>\n",
              "      <td>43.0</td>\n",
              "      <td>5005</td>\n",
              "      <td>8</td>\n",
              "      <td>5</td>\n",
              "      <td>1992</td>\n",
              "      <td>1992</td>\n",
              "      <td>0.0</td>\n",
              "      <td>263.0</td>\n",
              "      <td>0.0</td>\n",
              "      <td>1017.0</td>\n",
              "      <td>1280</td>\n",
              "      <td>0</td>\n",
              "      <td>0</td>\n",
              "      <td>1280</td>\n",
              "      <td>0.0</td>\n",
              "      <td>0.0</td>\n",
              "      <td>2</td>\n",
              "      <td>0</td>\n",
              "      <td>2</td>\n",
              "      <td>1</td>\n",
              "      <td>5</td>\n",
              "      <td>0</td>\n",
              "      <td>1992</td>\n",
              "      <td>2.0</td>\n",
              "      <td>506.0</td>\n",
              "      <td>0</td>\n",
              "      <td>82</td>\n",
              "      <td>0</td>\n",
              "      <td>0</td>\n",
              "      <td>144</td>\n",
              "      <td>0</td>\n",
              "      <td>1</td>\n",
              "      <td>2010</td>\n",
              "      <td>0</td>\n",
              "      <td>0</td>\n",
              "      <td>0</td>\n",
              "      <td>0</td>\n",
              "      <td>0</td>\n",
              "      <td>0</td>\n",
              "      <td>0</td>\n",
              "      <td>...</td>\n",
              "      <td>0</td>\n",
              "      <td>1</td>\n",
              "      <td>0</td>\n",
              "      <td>0</td>\n",
              "      <td>0</td>\n",
              "      <td>0</td>\n",
              "      <td>0</td>\n",
              "      <td>0</td>\n",
              "      <td>1</td>\n",
              "      <td>0</td>\n",
              "      <td>0.0</td>\n",
              "      <td>0</td>\n",
              "      <td>0</td>\n",
              "      <td>0</td>\n",
              "      <td>1</td>\n",
              "      <td>0</td>\n",
              "      <td>0</td>\n",
              "      <td>0</td>\n",
              "      <td>0</td>\n",
              "      <td>1</td>\n",
              "      <td>0</td>\n",
              "      <td>1</td>\n",
              "      <td>0</td>\n",
              "      <td>0</td>\n",
              "      <td>0</td>\n",
              "      <td>1</td>\n",
              "      <td>0</td>\n",
              "      <td>0</td>\n",
              "      <td>0</td>\n",
              "      <td>0</td>\n",
              "      <td>0</td>\n",
              "      <td>0</td>\n",
              "      <td>0</td>\n",
              "      <td>0</td>\n",
              "      <td>1</td>\n",
              "      <td>0</td>\n",
              "      <td>0</td>\n",
              "      <td>0</td>\n",
              "      <td>1</td>\n",
              "      <td>0</td>\n",
              "    </tr>\n",
              "    <tr>\n",
              "      <th>4</th>\n",
              "      <td>75.0</td>\n",
              "      <td>10000</td>\n",
              "      <td>6</td>\n",
              "      <td>5</td>\n",
              "      <td>1993</td>\n",
              "      <td>1994</td>\n",
              "      <td>0.0</td>\n",
              "      <td>0.0</td>\n",
              "      <td>0.0</td>\n",
              "      <td>763.0</td>\n",
              "      <td>763</td>\n",
              "      <td>892</td>\n",
              "      <td>0</td>\n",
              "      <td>1655</td>\n",
              "      <td>0.0</td>\n",
              "      <td>0.0</td>\n",
              "      <td>2</td>\n",
              "      <td>1</td>\n",
              "      <td>3</td>\n",
              "      <td>1</td>\n",
              "      <td>7</td>\n",
              "      <td>1</td>\n",
              "      <td>1993</td>\n",
              "      <td>2.0</td>\n",
              "      <td>440.0</td>\n",
              "      <td>157</td>\n",
              "      <td>84</td>\n",
              "      <td>0</td>\n",
              "      <td>0</td>\n",
              "      <td>0</td>\n",
              "      <td>0</td>\n",
              "      <td>4</td>\n",
              "      <td>2010</td>\n",
              "      <td>0</td>\n",
              "      <td>0</td>\n",
              "      <td>0</td>\n",
              "      <td>0</td>\n",
              "      <td>0</td>\n",
              "      <td>0</td>\n",
              "      <td>0</td>\n",
              "      <td>...</td>\n",
              "      <td>1</td>\n",
              "      <td>1</td>\n",
              "      <td>0</td>\n",
              "      <td>0</td>\n",
              "      <td>0</td>\n",
              "      <td>0</td>\n",
              "      <td>0</td>\n",
              "      <td>0</td>\n",
              "      <td>0</td>\n",
              "      <td>0</td>\n",
              "      <td>0.0</td>\n",
              "      <td>0</td>\n",
              "      <td>0</td>\n",
              "      <td>0</td>\n",
              "      <td>1</td>\n",
              "      <td>0</td>\n",
              "      <td>0</td>\n",
              "      <td>0</td>\n",
              "      <td>0</td>\n",
              "      <td>1</td>\n",
              "      <td>0</td>\n",
              "      <td>1</td>\n",
              "      <td>0</td>\n",
              "      <td>0</td>\n",
              "      <td>0</td>\n",
              "      <td>1</td>\n",
              "      <td>0</td>\n",
              "      <td>0</td>\n",
              "      <td>0</td>\n",
              "      <td>0</td>\n",
              "      <td>0</td>\n",
              "      <td>0</td>\n",
              "      <td>0</td>\n",
              "      <td>0</td>\n",
              "      <td>1</td>\n",
              "      <td>0</td>\n",
              "      <td>0</td>\n",
              "      <td>0</td>\n",
              "      <td>1</td>\n",
              "      <td>0</td>\n",
              "    </tr>\n",
              "  </tbody>\n",
              "</table>\n",
              "<p>5 rows × 256 columns</p>\n",
              "</div>"
            ],
            "text/plain": [
              "   LotFrontage  LotArea  ...  SaleCondition_Normal  SaleCondition_Partial\n",
              "0         80.0    11622  ...                     1                      0\n",
              "1         74.0    13830  ...                     1                      0\n",
              "2         78.0     9978  ...                     1                      0\n",
              "3         43.0     5005  ...                     1                      0\n",
              "4         75.0    10000  ...                     1                      0\n",
              "\n",
              "[5 rows x 256 columns]"
            ]
          },
          "metadata": {
            "tags": []
          },
          "execution_count": 628
        }
      ]
    },
    {
      "cell_type": "markdown",
      "metadata": {
        "id": "2xARjtEQAMLw"
      },
      "source": [
        "Just before Prediction we apply Standard Scalar Transformation on the Independent Variables"
      ]
    },
    {
      "cell_type": "code",
      "metadata": {
        "id": "cHVn2sgzALuF",
        "colab": {
          "base_uri": "https://localhost:8080/",
          "height": 247
        },
        "outputId": "42c78faf-dbd0-4651-82f5-707edccf4dcd"
      },
      "source": [
        "from sklearn.preprocessing import StandardScaler\n",
        "X_prod_final = pd.DataFrame(StandardScaler().fit_transform(X_prod_final), columns=X_prod_final.columns)\n",
        "\n",
        "X_prod_final.head()\n"
      ],
      "execution_count": 629,
      "outputs": [
        {
          "output_type": "execute_result",
          "data": {
            "text/html": [
              "<div>\n",
              "<style scoped>\n",
              "    .dataframe tbody tr th:only-of-type {\n",
              "        vertical-align: middle;\n",
              "    }\n",
              "\n",
              "    .dataframe tbody tr th {\n",
              "        vertical-align: top;\n",
              "    }\n",
              "\n",
              "    .dataframe thead th {\n",
              "        text-align: right;\n",
              "    }\n",
              "</style>\n",
              "<table border=\"1\" class=\"dataframe\">\n",
              "  <thead>\n",
              "    <tr style=\"text-align: right;\">\n",
              "      <th></th>\n",
              "      <th>LotFrontage</th>\n",
              "      <th>LotArea</th>\n",
              "      <th>OverallQual</th>\n",
              "      <th>OverallCond</th>\n",
              "      <th>YearBuilt</th>\n",
              "      <th>YearRemodAdd</th>\n",
              "      <th>MasVnrArea</th>\n",
              "      <th>BsmtFinSF1</th>\n",
              "      <th>BsmtFinSF2</th>\n",
              "      <th>BsmtUnfSF</th>\n",
              "      <th>1stFlrSF</th>\n",
              "      <th>2ndFlrSF</th>\n",
              "      <th>LowQualFinSF</th>\n",
              "      <th>GrLivArea</th>\n",
              "      <th>BsmtFullBath</th>\n",
              "      <th>BsmtHalfBath</th>\n",
              "      <th>FullBath</th>\n",
              "      <th>HalfBath</th>\n",
              "      <th>BedroomAbvGr</th>\n",
              "      <th>KitchenAbvGr</th>\n",
              "      <th>TotRmsAbvGrd</th>\n",
              "      <th>Fireplaces</th>\n",
              "      <th>GarageYrBlt</th>\n",
              "      <th>GarageCars</th>\n",
              "      <th>GarageArea</th>\n",
              "      <th>WoodDeckSF</th>\n",
              "      <th>OpenPorchSF</th>\n",
              "      <th>EnclosedPorch</th>\n",
              "      <th>3SsnPorch</th>\n",
              "      <th>ScreenPorch</th>\n",
              "      <th>MiscVal</th>\n",
              "      <th>MoSold</th>\n",
              "      <th>YrSold</th>\n",
              "      <th>MSSubClass_160</th>\n",
              "      <th>MSSubClass_180</th>\n",
              "      <th>MSSubClass_190</th>\n",
              "      <th>MSSubClass_20</th>\n",
              "      <th>MSSubClass_30</th>\n",
              "      <th>MSSubClass_40</th>\n",
              "      <th>MSSubClass_45</th>\n",
              "      <th>...</th>\n",
              "      <th>FireplaceQu_TA</th>\n",
              "      <th>GarageType_Attchd</th>\n",
              "      <th>GarageType_Basment</th>\n",
              "      <th>GarageType_BuiltIn</th>\n",
              "      <th>GarageType_CarPort</th>\n",
              "      <th>GarageType_Detchd</th>\n",
              "      <th>GarageType_NA</th>\n",
              "      <th>GarageFinish_NA</th>\n",
              "      <th>GarageFinish_RFn</th>\n",
              "      <th>GarageFinish_Unf</th>\n",
              "      <th>GarageQual_Fa</th>\n",
              "      <th>GarageQual_Gd</th>\n",
              "      <th>GarageQual_NA</th>\n",
              "      <th>GarageQual_Po</th>\n",
              "      <th>GarageQual_TA</th>\n",
              "      <th>GarageCond_Fa</th>\n",
              "      <th>GarageCond_Gd</th>\n",
              "      <th>GarageCond_NA</th>\n",
              "      <th>GarageCond_Po</th>\n",
              "      <th>GarageCond_TA</th>\n",
              "      <th>PavedDrive_P</th>\n",
              "      <th>PavedDrive_Y</th>\n",
              "      <th>Fence_GdWo</th>\n",
              "      <th>Fence_MnPrv</th>\n",
              "      <th>Fence_MnWw</th>\n",
              "      <th>Fence_NA</th>\n",
              "      <th>MiscFeature_Shed</th>\n",
              "      <th>SaleType_CWD</th>\n",
              "      <th>SaleType_Con</th>\n",
              "      <th>SaleType_ConLD</th>\n",
              "      <th>SaleType_ConLI</th>\n",
              "      <th>SaleType_ConLw</th>\n",
              "      <th>SaleType_New</th>\n",
              "      <th>SaleType_Oth</th>\n",
              "      <th>SaleType_WD</th>\n",
              "      <th>SaleCondition_AdjLand</th>\n",
              "      <th>SaleCondition_Alloca</th>\n",
              "      <th>SaleCondition_Family</th>\n",
              "      <th>SaleCondition_Normal</th>\n",
              "      <th>SaleCondition_Partial</th>\n",
              "    </tr>\n",
              "  </thead>\n",
              "  <tbody>\n",
              "    <tr>\n",
              "      <th>0</th>\n",
              "      <td>0.503510</td>\n",
              "      <td>0.371540</td>\n",
              "      <td>-0.799212</td>\n",
              "      <td>0.406008</td>\n",
              "      <td>-0.384397</td>\n",
              "      <td>-1.118922</td>\n",
              "      <td>-0.580826</td>\n",
              "      <td>0.055579</td>\n",
              "      <td>0.514760</td>\n",
              "      <td>-0.669827</td>\n",
              "      <td>-0.647951</td>\n",
              "      <td>-0.783199</td>\n",
              "      <td>0.0</td>\n",
              "      <td>-1.210962</td>\n",
              "      <td>-0.843683</td>\n",
              "      <td>-0.253103</td>\n",
              "      <td>-1.015510</td>\n",
              "      <td>-0.789454</td>\n",
              "      <td>-1.059348</td>\n",
              "      <td>0.0</td>\n",
              "      <td>-0.921844</td>\n",
              "      <td>-0.929112</td>\n",
              "      <td>0.154802</td>\n",
              "      <td>-1.059229</td>\n",
              "      <td>1.184354</td>\n",
              "      <td>0.392565</td>\n",
              "      <td>-0.760004</td>\n",
              "      <td>-0.376257</td>\n",
              "      <td>0.0</td>\n",
              "      <td>1.739084</td>\n",
              "      <td>0.0</td>\n",
              "      <td>-0.020918</td>\n",
              "      <td>1.725918</td>\n",
              "      <td>-0.226365</td>\n",
              "      <td>-0.067754</td>\n",
              "      <td>-0.121174</td>\n",
              "      <td>1.254795</td>\n",
              "      <td>-0.233706</td>\n",
              "      <td>-0.039058</td>\n",
              "      <td>-0.067754</td>\n",
              "      <td>...</td>\n",
              "      <td>-0.501665</td>\n",
              "      <td>0.816237</td>\n",
              "      <td>-0.111068</td>\n",
              "      <td>-0.272888</td>\n",
              "      <td>-0.061827</td>\n",
              "      <td>-0.602866</td>\n",
              "      <td>-0.198968</td>\n",
              "      <td>-0.198968</td>\n",
              "      <td>-0.620501</td>\n",
              "      <td>1.170485</td>\n",
              "      <td>0.0</td>\n",
              "      <td>-0.083077</td>\n",
              "      <td>-0.198968</td>\n",
              "      <td>-0.039058</td>\n",
              "      <td>0.331497</td>\n",
              "      <td>-0.158052</td>\n",
              "      <td>-0.061827</td>\n",
              "      <td>-0.198968</td>\n",
              "      <td>-0.055279</td>\n",
              "      <td>0.274496</td>\n",
              "      <td>-0.150285</td>\n",
              "      <td>0.335726</td>\n",
              "      <td>-0.203069</td>\n",
              "      <td>2.733307</td>\n",
              "      <td>-0.027608</td>\n",
              "      <td>-1.998098</td>\n",
              "      <td>-0.027608</td>\n",
              "      <td>-0.078296</td>\n",
              "      <td>-0.039058</td>\n",
              "      <td>-0.1075</td>\n",
              "      <td>-0.047855</td>\n",
              "      <td>-0.047855</td>\n",
              "      <td>-0.306866</td>\n",
              "      <td>-0.047855</td>\n",
              "      <td>0.404978</td>\n",
              "      <td>-0.061827</td>\n",
              "      <td>-0.073211</td>\n",
              "      <td>-0.136452</td>\n",
              "      <td>0.452313</td>\n",
              "      <td>-0.311302</td>\n",
              "    </tr>\n",
              "    <tr>\n",
              "      <th>1</th>\n",
              "      <td>0.224443</td>\n",
              "      <td>0.814509</td>\n",
              "      <td>-0.799212</td>\n",
              "      <td>-0.516290</td>\n",
              "      <td>0.800453</td>\n",
              "      <td>0.641159</td>\n",
              "      <td>-0.580826</td>\n",
              "      <td>0.781024</td>\n",
              "      <td>-0.298254</td>\n",
              "      <td>-0.985076</td>\n",
              "      <td>-0.565739</td>\n",
              "      <td>0.902897</td>\n",
              "      <td>0.0</td>\n",
              "      <td>0.325202</td>\n",
              "      <td>-0.843683</td>\n",
              "      <td>-0.253103</td>\n",
              "      <td>0.831256</td>\n",
              "      <td>1.235064</td>\n",
              "      <td>0.261567</td>\n",
              "      <td>0.0</td>\n",
              "      <td>-0.203517</td>\n",
              "      <td>0.624931</td>\n",
              "      <td>0.248754</td>\n",
              "      <td>0.281916</td>\n",
              "      <td>0.010194</td>\n",
              "      <td>0.985372</td>\n",
              "      <td>-0.231768</td>\n",
              "      <td>-0.376257</td>\n",
              "      <td>0.0</td>\n",
              "      <td>-0.314333</td>\n",
              "      <td>0.0</td>\n",
              "      <td>-1.134354</td>\n",
              "      <td>1.725918</td>\n",
              "      <td>-0.226365</td>\n",
              "      <td>-0.067754</td>\n",
              "      <td>-0.121174</td>\n",
              "      <td>-0.796943</td>\n",
              "      <td>-0.233706</td>\n",
              "      <td>-0.039058</td>\n",
              "      <td>-0.067754</td>\n",
              "      <td>...</td>\n",
              "      <td>1.993360</td>\n",
              "      <td>0.816237</td>\n",
              "      <td>-0.111068</td>\n",
              "      <td>-0.272888</td>\n",
              "      <td>-0.061827</td>\n",
              "      <td>-0.602866</td>\n",
              "      <td>-0.198968</td>\n",
              "      <td>-0.198968</td>\n",
              "      <td>-0.620501</td>\n",
              "      <td>-0.854346</td>\n",
              "      <td>0.0</td>\n",
              "      <td>-0.083077</td>\n",
              "      <td>-0.198968</td>\n",
              "      <td>-0.039058</td>\n",
              "      <td>0.331497</td>\n",
              "      <td>-0.158052</td>\n",
              "      <td>-0.061827</td>\n",
              "      <td>-0.198968</td>\n",
              "      <td>-0.055279</td>\n",
              "      <td>0.274496</td>\n",
              "      <td>-0.150285</td>\n",
              "      <td>0.335726</td>\n",
              "      <td>-0.203069</td>\n",
              "      <td>2.733307</td>\n",
              "      <td>-0.027608</td>\n",
              "      <td>-1.998098</td>\n",
              "      <td>-0.027608</td>\n",
              "      <td>-0.078296</td>\n",
              "      <td>-0.039058</td>\n",
              "      <td>-0.1075</td>\n",
              "      <td>-0.047855</td>\n",
              "      <td>-0.047855</td>\n",
              "      <td>-0.306866</td>\n",
              "      <td>-0.047855</td>\n",
              "      <td>0.404978</td>\n",
              "      <td>-0.061827</td>\n",
              "      <td>-0.073211</td>\n",
              "      <td>-0.136452</td>\n",
              "      <td>0.452313</td>\n",
              "      <td>-0.311302</td>\n",
              "    </tr>\n",
              "    <tr>\n",
              "      <th>2</th>\n",
              "      <td>0.410488</td>\n",
              "      <td>0.041722</td>\n",
              "      <td>-0.105646</td>\n",
              "      <td>0.406008</td>\n",
              "      <td>0.833366</td>\n",
              "      <td>0.641159</td>\n",
              "      <td>-0.468759</td>\n",
              "      <td>0.356538</td>\n",
              "      <td>-0.298254</td>\n",
              "      <td>-0.541831</td>\n",
              "      <td>-0.570877</td>\n",
              "      <td>0.847576</td>\n",
              "      <td>0.0</td>\n",
              "      <td>0.272809</td>\n",
              "      <td>-0.843683</td>\n",
              "      <td>-0.253103</td>\n",
              "      <td>0.831256</td>\n",
              "      <td>1.235064</td>\n",
              "      <td>0.261567</td>\n",
              "      <td>0.0</td>\n",
              "      <td>0.514810</td>\n",
              "      <td>0.624931</td>\n",
              "      <td>0.251363</td>\n",
              "      <td>0.281916</td>\n",
              "      <td>-0.046620</td>\n",
              "      <td>2.203920</td>\n",
              "      <td>-0.200695</td>\n",
              "      <td>-0.376257</td>\n",
              "      <td>0.0</td>\n",
              "      <td>-0.314333</td>\n",
              "      <td>0.0</td>\n",
              "      <td>-0.020918</td>\n",
              "      <td>1.725918</td>\n",
              "      <td>-0.226365</td>\n",
              "      <td>-0.067754</td>\n",
              "      <td>-0.121174</td>\n",
              "      <td>-0.796943</td>\n",
              "      <td>-0.233706</td>\n",
              "      <td>-0.039058</td>\n",
              "      <td>-0.067754</td>\n",
              "      <td>...</td>\n",
              "      <td>-0.501665</td>\n",
              "      <td>0.816237</td>\n",
              "      <td>-0.111068</td>\n",
              "      <td>-0.272888</td>\n",
              "      <td>-0.061827</td>\n",
              "      <td>-0.602866</td>\n",
              "      <td>-0.198968</td>\n",
              "      <td>-0.198968</td>\n",
              "      <td>-0.620501</td>\n",
              "      <td>-0.854346</td>\n",
              "      <td>0.0</td>\n",
              "      <td>-0.083077</td>\n",
              "      <td>-0.198968</td>\n",
              "      <td>-0.039058</td>\n",
              "      <td>0.331497</td>\n",
              "      <td>-0.158052</td>\n",
              "      <td>-0.061827</td>\n",
              "      <td>-0.198968</td>\n",
              "      <td>-0.055279</td>\n",
              "      <td>0.274496</td>\n",
              "      <td>-0.150285</td>\n",
              "      <td>0.335726</td>\n",
              "      <td>-0.203069</td>\n",
              "      <td>-0.365857</td>\n",
              "      <td>-0.027608</td>\n",
              "      <td>0.500476</td>\n",
              "      <td>-0.027608</td>\n",
              "      <td>-0.078296</td>\n",
              "      <td>-0.039058</td>\n",
              "      <td>-0.1075</td>\n",
              "      <td>-0.047855</td>\n",
              "      <td>-0.047855</td>\n",
              "      <td>-0.306866</td>\n",
              "      <td>-0.047855</td>\n",
              "      <td>0.404978</td>\n",
              "      <td>-0.061827</td>\n",
              "      <td>-0.073211</td>\n",
              "      <td>-0.136452</td>\n",
              "      <td>0.452313</td>\n",
              "      <td>-0.311302</td>\n",
              "    </tr>\n",
              "    <tr>\n",
              "      <th>3</th>\n",
              "      <td>-1.217400</td>\n",
              "      <td>-0.955960</td>\n",
              "      <td>1.281487</td>\n",
              "      <td>-0.516290</td>\n",
              "      <td>0.635891</td>\n",
              "      <td>0.355741</td>\n",
              "      <td>-0.580826</td>\n",
              "      <td>-0.404842</td>\n",
              "      <td>-0.298254</td>\n",
              "      <td>1.100786</td>\n",
              "      <td>0.338589</td>\n",
              "      <td>-0.783199</td>\n",
              "      <td>0.0</td>\n",
              "      <td>-0.406205</td>\n",
              "      <td>-0.843683</td>\n",
              "      <td>-0.253103</td>\n",
              "      <td>0.831256</td>\n",
              "      <td>-0.789454</td>\n",
              "      <td>-1.059348</td>\n",
              "      <td>0.0</td>\n",
              "      <td>-0.921844</td>\n",
              "      <td>-0.929112</td>\n",
              "      <td>0.235705</td>\n",
              "      <td>0.281916</td>\n",
              "      <td>0.123822</td>\n",
              "      <td>-0.760116</td>\n",
              "      <td>0.513978</td>\n",
              "      <td>-0.376257</td>\n",
              "      <td>0.0</td>\n",
              "      <td>2.149768</td>\n",
              "      <td>0.0</td>\n",
              "      <td>-1.876645</td>\n",
              "      <td>1.725918</td>\n",
              "      <td>-0.226365</td>\n",
              "      <td>-0.067754</td>\n",
              "      <td>-0.121174</td>\n",
              "      <td>-0.796943</td>\n",
              "      <td>-0.233706</td>\n",
              "      <td>-0.039058</td>\n",
              "      <td>-0.067754</td>\n",
              "      <td>...</td>\n",
              "      <td>-0.501665</td>\n",
              "      <td>0.816237</td>\n",
              "      <td>-0.111068</td>\n",
              "      <td>-0.272888</td>\n",
              "      <td>-0.061827</td>\n",
              "      <td>-0.602866</td>\n",
              "      <td>-0.198968</td>\n",
              "      <td>-0.198968</td>\n",
              "      <td>1.611602</td>\n",
              "      <td>-0.854346</td>\n",
              "      <td>0.0</td>\n",
              "      <td>-0.083077</td>\n",
              "      <td>-0.198968</td>\n",
              "      <td>-0.039058</td>\n",
              "      <td>0.331497</td>\n",
              "      <td>-0.158052</td>\n",
              "      <td>-0.061827</td>\n",
              "      <td>-0.198968</td>\n",
              "      <td>-0.055279</td>\n",
              "      <td>0.274496</td>\n",
              "      <td>-0.150285</td>\n",
              "      <td>0.335726</td>\n",
              "      <td>-0.203069</td>\n",
              "      <td>-0.365857</td>\n",
              "      <td>-0.027608</td>\n",
              "      <td>0.500476</td>\n",
              "      <td>-0.027608</td>\n",
              "      <td>-0.078296</td>\n",
              "      <td>-0.039058</td>\n",
              "      <td>-0.1075</td>\n",
              "      <td>-0.047855</td>\n",
              "      <td>-0.047855</td>\n",
              "      <td>-0.306866</td>\n",
              "      <td>-0.047855</td>\n",
              "      <td>0.404978</td>\n",
              "      <td>-0.061827</td>\n",
              "      <td>-0.073211</td>\n",
              "      <td>-0.136452</td>\n",
              "      <td>0.452313</td>\n",
              "      <td>-0.311302</td>\n",
              "    </tr>\n",
              "    <tr>\n",
              "      <th>4</th>\n",
              "      <td>0.270954</td>\n",
              "      <td>0.046135</td>\n",
              "      <td>-0.105646</td>\n",
              "      <td>-0.516290</td>\n",
              "      <td>0.668803</td>\n",
              "      <td>0.450880</td>\n",
              "      <td>-0.580826</td>\n",
              "      <td>-0.995530</td>\n",
              "      <td>-0.298254</td>\n",
              "      <td>0.498730</td>\n",
              "      <td>-0.989643</td>\n",
              "      <td>1.362304</td>\n",
              "      <td>0.0</td>\n",
              "      <td>0.379691</td>\n",
              "      <td>-0.843683</td>\n",
              "      <td>-0.253103</td>\n",
              "      <td>0.831256</td>\n",
              "      <td>1.235064</td>\n",
              "      <td>0.261567</td>\n",
              "      <td>0.0</td>\n",
              "      <td>0.514810</td>\n",
              "      <td>0.624931</td>\n",
              "      <td>0.238315</td>\n",
              "      <td>0.281916</td>\n",
              "      <td>-0.188656</td>\n",
              "      <td>0.532533</td>\n",
              "      <td>0.545051</td>\n",
              "      <td>-0.376257</td>\n",
              "      <td>0.0</td>\n",
              "      <td>-0.314333</td>\n",
              "      <td>0.0</td>\n",
              "      <td>-0.763209</td>\n",
              "      <td>1.725918</td>\n",
              "      <td>-0.226365</td>\n",
              "      <td>-0.067754</td>\n",
              "      <td>-0.121174</td>\n",
              "      <td>-0.796943</td>\n",
              "      <td>-0.233706</td>\n",
              "      <td>-0.039058</td>\n",
              "      <td>-0.067754</td>\n",
              "      <td>...</td>\n",
              "      <td>1.993360</td>\n",
              "      <td>0.816237</td>\n",
              "      <td>-0.111068</td>\n",
              "      <td>-0.272888</td>\n",
              "      <td>-0.061827</td>\n",
              "      <td>-0.602866</td>\n",
              "      <td>-0.198968</td>\n",
              "      <td>-0.198968</td>\n",
              "      <td>-0.620501</td>\n",
              "      <td>-0.854346</td>\n",
              "      <td>0.0</td>\n",
              "      <td>-0.083077</td>\n",
              "      <td>-0.198968</td>\n",
              "      <td>-0.039058</td>\n",
              "      <td>0.331497</td>\n",
              "      <td>-0.158052</td>\n",
              "      <td>-0.061827</td>\n",
              "      <td>-0.198968</td>\n",
              "      <td>-0.055279</td>\n",
              "      <td>0.274496</td>\n",
              "      <td>-0.150285</td>\n",
              "      <td>0.335726</td>\n",
              "      <td>-0.203069</td>\n",
              "      <td>-0.365857</td>\n",
              "      <td>-0.027608</td>\n",
              "      <td>0.500476</td>\n",
              "      <td>-0.027608</td>\n",
              "      <td>-0.078296</td>\n",
              "      <td>-0.039058</td>\n",
              "      <td>-0.1075</td>\n",
              "      <td>-0.047855</td>\n",
              "      <td>-0.047855</td>\n",
              "      <td>-0.306866</td>\n",
              "      <td>-0.047855</td>\n",
              "      <td>0.404978</td>\n",
              "      <td>-0.061827</td>\n",
              "      <td>-0.073211</td>\n",
              "      <td>-0.136452</td>\n",
              "      <td>0.452313</td>\n",
              "      <td>-0.311302</td>\n",
              "    </tr>\n",
              "  </tbody>\n",
              "</table>\n",
              "<p>5 rows × 256 columns</p>\n",
              "</div>"
            ],
            "text/plain": [
              "   LotFrontage   LotArea  ...  SaleCondition_Normal  SaleCondition_Partial\n",
              "0     0.503510  0.371540  ...              0.452313              -0.311302\n",
              "1     0.224443  0.814509  ...              0.452313              -0.311302\n",
              "2     0.410488  0.041722  ...              0.452313              -0.311302\n",
              "3    -1.217400 -0.955960  ...              0.452313              -0.311302\n",
              "4     0.270954  0.046135  ...              0.452313              -0.311302\n",
              "\n",
              "[5 rows x 256 columns]"
            ]
          },
          "metadata": {
            "tags": []
          },
          "execution_count": 629
        }
      ]
    },
    {
      "cell_type": "markdown",
      "metadata": {
        "id": "wGyXkkFEQ7bh"
      },
      "source": [
        "__Prediction on Test Data based on the Model previously trained__"
      ]
    },
    {
      "cell_type": "markdown",
      "metadata": {
        "id": "Oaf0ZPBRRDG1"
      },
      "source": [
        "For the purpose of prediction we use the best model that we had trained. It is the one which had minimum score (RMSE). It is the blended model we created."
      ]
    },
    {
      "cell_type": "code",
      "metadata": {
        "colab": {
          "base_uri": "https://localhost:8080/"
        },
        "id": "4XT5AEOcSseW",
        "outputId": "0566de5e-9352-4368-ec47-108590da8eac"
      },
      "source": [
        "np.expm1(blended_predictions(X_prod_final))[:20]"
      ],
      "execution_count": 630,
      "outputs": [
        {
          "output_type": "execute_result",
          "data": {
            "text/plain": [
              "array([127321.78274862, 180427.32951991, 196534.33408489, 193998.0061009 ,\n",
              "       176772.7405045 , 166050.50738051, 186056.58724975, 121149.53735533,\n",
              "       193263.58038458,  95493.72560836,  98081.07913943, 149420.33198183,\n",
              "       125777.85075712, 389713.55962634, 254360.80267516, 298321.48256536,\n",
              "       284128.69095549, 536679.62827209, 333750.36014192, 209585.77471742])"
            ]
          },
          "metadata": {
            "tags": []
          },
          "execution_count": 630
        }
      ]
    },
    {
      "cell_type": "code",
      "metadata": {
        "colab": {
          "base_uri": "https://localhost:8080/"
        },
        "id": "68KkOD7AaJYe",
        "outputId": "97496a7a-782f-4120-9639-78ffdba398f8"
      },
      "source": [
        "np.expm1(blended_predictions(X_prod_final)).mean()"
      ],
      "execution_count": 631,
      "outputs": [
        {
          "output_type": "execute_result",
          "data": {
            "text/plain": [
              "182465.9001192554"
            ]
          },
          "metadata": {
            "tags": []
          },
          "execution_count": 631
        }
      ]
    },
    {
      "cell_type": "code",
      "metadata": {
        "colab": {
          "base_uri": "https://localhost:8080/"
        },
        "id": "xuAE-x60YC0p",
        "outputId": "3b4ca8d1-c568-4ca2-fc2b-0e6a628c6134"
      },
      "source": [
        "train_df['SalePrice'].mean()"
      ],
      "execution_count": 632,
      "outputs": [
        {
          "output_type": "execute_result",
          "data": {
            "text/plain": [
              "180921.19589041095"
            ]
          },
          "metadata": {
            "tags": []
          },
          "execution_count": 632
        }
      ]
    },
    {
      "cell_type": "code",
      "metadata": {
        "colab": {
          "base_uri": "https://localhost:8080/"
        },
        "id": "LKcT_ypyYvxW",
        "outputId": "305eb5ec-c88c-4c96-e89c-d2772cb38cc2"
      },
      "source": [
        "np.expm1(blended_predictions(X_prod_final)).std()"
      ],
      "execution_count": 633,
      "outputs": [
        {
          "output_type": "execute_result",
          "data": {
            "text/plain": [
              "78642.41665767824"
            ]
          },
          "metadata": {
            "tags": []
          },
          "execution_count": 633
        }
      ]
    },
    {
      "cell_type": "code",
      "metadata": {
        "colab": {
          "base_uri": "https://localhost:8080/"
        },
        "id": "qxP3mSmB9ANg",
        "outputId": "426ff853-eae9-469b-c847-0dcc2cc7d629"
      },
      "source": [
        "train_df['SalePrice'].std()"
      ],
      "execution_count": 634,
      "outputs": [
        {
          "output_type": "execute_result",
          "data": {
            "text/plain": [
              "79442.50288288663"
            ]
          },
          "metadata": {
            "tags": []
          },
          "execution_count": 634
        }
      ]
    },
    {
      "cell_type": "markdown",
      "metadata": {
        "id": "79LYVqv4_rrm"
      },
      "source": [
        "__Conclusion__\n",
        "\n",
        "*   The House Price Training data as well as the Test data (which we consider as production data or new data) both had a wide range of null values\n",
        "*   Missing value imputation was done after thorough data analysis of the column itself as well as related columns (from domain perspective)\n",
        "*   The dependent variable had a skewed distribution, meaning a log transformation was done to get it to a normal distribution\n",
        "*   Feature selection was minimal with occassional less significant column being dropped\n",
        "*   Extreme outliers were removed from both Train and Test\n",
        "*   Metadata validation was done rigorously for Test data based on that collected from Train data\n",
        "*   Categorical values coming first time in Test were not fed in to the model as it was completely unseen for the model. For categorical values in Train but absent from Test, dummy (empty) columns were added to make the Train data suitable for Prediction\n",
        "*   The Train data was split into further subsets for training and testing of the model. However the models built did not give good evaluation metric scores, implying that this generic data split was not good for the model learning.\n",
        "*   The approach hence taken, was applying Cross Validation with k=12 over the full Train data to train our models.\n",
        "*   Evaluation metric scores after Cross Validation were highest for algorithms like Ridge Regression, XG Boosted Regression, Gradient Boosted Regression and Random Forest Regression. However after creating a blended model using the better models we got significant rise in the metric score\n",
        "*   Finally we used this blended model (generally gives more stable predictions) to make predictions on the Test data\n",
        "*   There is no direct way to validate our final predictions on the Test (new) data. However when we compared the distribution (mean and standard deviation) of the dependent variable 'SalePrice', between Train and Test (our Predicted column) the values were quite close.\n",
        "\n"
      ]
    }
  ]
}